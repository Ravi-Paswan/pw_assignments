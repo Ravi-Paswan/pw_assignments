{
 "cells": [
  {
   "cell_type": "markdown",
   "id": "91fbc4c5-928f-45b1-8fda-ec4817a8512c",
   "metadata": {},
   "source": [
    "# Question 01"
   ]
  },
  {
   "cell_type": "code",
   "execution_count": 3,
   "id": "e0cd54fd-18c8-4646-8cf1-124985f21073",
   "metadata": {},
   "outputs": [
    {
     "name": "stdout",
     "output_type": "stream",
     "text": [
      "[('Virat Kohli', 24936), ('Jack Kallis', 25534), ('Ricky Ponting', 27483), ('Sachin Tendulkar', 34357)]\n"
     ]
    }
   ],
   "source": [
    "players = [('Sachin Tendulkar', 34357), ('Ricky Ponting', 27483), ('Jack Kallis', 25534), ('Virat Kohli', 24936)]\n",
    "\n",
    "sorted_players = sorted(players, key=lambda x: x[1])\n",
    "\n",
    "print(sorted_players)\n"
   ]
  },
  {
   "cell_type": "markdown",
   "id": "bb0a50ba-a993-4902-8140-94a08f4554f4",
   "metadata": {},
   "source": [
    "# Question 02"
   ]
  },
  {
   "cell_type": "code",
   "execution_count": 9,
   "id": "40a36bec-a2c0-46b5-a899-d20466e130fe",
   "metadata": {},
   "outputs": [
    {
     "name": "stdout",
     "output_type": "stream",
     "text": [
      "[1, 4, 9, 16, 25, 36, 49, 64, 81, 100]\n"
     ]
    }
   ],
   "source": [
    "given_list1 = [1, 2, 3, 4, 5, 6, 7, 8, 9, 10]\n",
    "square_list = list(map(lambda x:x**2,given_list))\n",
    "print(square_list)"
   ]
  },
  {
   "cell_type": "markdown",
   "id": "371e1cef-830e-48b1-8616-568def2842c9",
   "metadata": {},
   "source": [
    "# Question 03"
   ]
  },
  {
   "cell_type": "code",
   "execution_count": 10,
   "id": "8a6b9b01-9898-4d95-bab0-f7bfce4fa397",
   "metadata": {},
   "outputs": [
    {
     "name": "stdout",
     "output_type": "stream",
     "text": [
      "('1', '2', '3', '4', '5', '6', '7', '8', '9', '10')\n"
     ]
    }
   ],
   "source": [
    "given_string = [1, 2, 3, 4, 5, 6, 7, 8, 9, 10]\n",
    "converted_string = tuple(map(lambda x:str(x),given_string))\n",
    "print(converted_string)"
   ]
  },
  {
   "cell_type": "markdown",
   "id": "6dd693ce-577c-421b-8d85-a96621fc94c2",
   "metadata": {},
   "source": [
    "# Question 04"
   ]
  },
  {
   "cell_type": "code",
   "execution_count": 15,
   "id": "79ec5fcf-b7f0-4e1a-8341-e2de842ad9ab",
   "metadata": {},
   "outputs": [
    {
     "data": {
      "text/plain": [
       "15511210043330985984000000"
      ]
     },
     "execution_count": 15,
     "metadata": {},
     "output_type": "execute_result"
    }
   ],
   "source": [
    "from functools import reduce\n",
    "given_list2 = [x for x in range(1,26)]\n",
    "product = reduce(lambda x,y:x*y,given_list2)\n",
    "product"
   ]
  },
  {
   "cell_type": "markdown",
   "id": "21e552a5-3fec-48ba-9fd8-347cdc9600a2",
   "metadata": {},
   "source": [
    "# Question 05"
   ]
  },
  {
   "cell_type": "code",
   "execution_count": 17,
   "id": "d3c44dab-09d9-4445-a3f7-6e68cabcfc2f",
   "metadata": {},
   "outputs": [
    {
     "data": {
      "text/plain": [
       "[6, 60, 90, 120]"
      ]
     },
     "execution_count": 17,
     "metadata": {},
     "output_type": "execute_result"
    }
   ],
   "source": [
    "given_list3 = [2, 3, 6, 9, 27, 60, 90, 120, 55, 46]\n",
    "filterd_list = list(filter(lambda x:x%2==0 and x%3==0,given_list3))\n",
    "filterd_list"
   ]
  },
  {
   "cell_type": "markdown",
   "id": "445910eb-2b73-4d9b-a4e2-6ba6d36e1d97",
   "metadata": {},
   "source": [
    "# Questiion 06"
   ]
  },
  {
   "cell_type": "code",
   "execution_count": null,
   "id": "562d8baa-d10d-402d-968b-6ffafdc769cc",
   "metadata": {},
   "outputs": [],
   "source": [
    "given_list = ['python', 'php', 'aba', 'radar', 'level']\n",
    "\n",
    "palindromes = list(filter(lambda x: x == x[::-1], strings))\n",
    "\n",
    "print(palindromes)\n"
   ]
  }
 ],
 "metadata": {
  "kernelspec": {
   "display_name": "Python 3 (ipykernel)",
   "language": "python",
   "name": "python3"
  },
  "language_info": {
   "codemirror_mode": {
    "name": "ipython",
    "version": 3
   },
   "file_extension": ".py",
   "mimetype": "text/x-python",
   "name": "python",
   "nbconvert_exporter": "python",
   "pygments_lexer": "ipython3",
   "version": "3.10.8"
  }
 },
 "nbformat": 4,
 "nbformat_minor": 5
}
