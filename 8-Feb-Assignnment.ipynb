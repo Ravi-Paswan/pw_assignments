{
 "cells": [
  {
   "cell_type": "markdown",
   "id": "c85ba370-64b5-4e33-9bbd-ae839b16c52a",
   "metadata": {},
   "source": [
    "# Question 01"
   ]
  },
  {
   "cell_type": "markdown",
   "id": "2ac3965a-fcfc-4781-ab1b-416961cdfdb3",
   "metadata": {},
   "source": [
    "Abstraction in Python, like in other object-oriented programming languages, is the process of hiding complex implementation details of a class and exposing only the essential features of an object to the outside world. This makes the code more understandable, maintainable, and flexible.\n",
    "\n",
    "Here is an example of Abstraction in Python:"
   ]
  },
  {
   "cell_type": "code",
   "execution_count": 1,
   "id": "de414cf1-faad-496a-809f-3b5f81813526",
   "metadata": {},
   "outputs": [
    {
     "name": "stdout",
     "output_type": "stream",
     "text": [
      "Dog is walking\n",
      "Bird is flying\n"
     ]
    }
   ],
   "source": [
    "from abc import ABC, abstractmethod\n",
    "\n",
    "class Animal(ABC):\n",
    "    @abstractmethod\n",
    "    def move(self):\n",
    "        pass\n",
    "\n",
    "class Dog(Animal):\n",
    "    def move(self):\n",
    "        print(\"Dog is walking\")\n",
    "\n",
    "class Bird(Animal):\n",
    "    def move(self):\n",
    "        print(\"Bird is flying\")\n",
    "\n",
    "dog = Dog()\n",
    "dog.move()   # output: Dog is walking\n",
    "\n",
    "bird = Bird()\n",
    "bird.move()  # output: Bird is flying\n"
   ]
  },
  {
   "cell_type": "markdown",
   "id": "7dfbcd46-0663-4cf0-a665-5294cc9121c4",
   "metadata": {},
   "source": [
    "In this example, we have a base abstract class Animal that has an abstract method move(). The abstractmethod decorator makes it mandatory for the subclasses to implement the move() method.\n",
    "\n",
    "We have two subclasses, Dog and Bird, which inherit from the Animal class and implement the move() method. The implementation of the move() method is different for each subclass, which reflects the essential features of each animal.\n",
    "\n",
    "In the main program, we create instances of the Dog and Bird classes and call their move() method. The output shows that the move() method is called with the appropriate implementation for each subclass.\n",
    "\n",
    "This example demonstrates the concept of Abstraction in Python. The implementation details of the move() method are hidden from the outside world, and we only use the essential features of the Dog and Bird classes, i.e., their ability to move in their unique way.\n",
    "\n",
    "\n",
    "\n"
   ]
  },
  {
   "cell_type": "markdown",
   "id": "69c41272-b245-476a-9d5c-d303d01441d7",
   "metadata": {},
   "source": [
    "# Question 02"
   ]
  },
  {
   "cell_type": "markdown",
   "id": "36b3cebc-be02-448c-ab8d-327d3d8de6a7",
   "metadata": {},
   "source": [
    "Abstraction and Encapsulation are two fundamental concepts of Object-Oriented Programming (OOPs). While both concepts are related to data hiding, they have different purposes and approaches.\n",
    "\n",
    "Encapsulation refers to the practice of hiding the internal details of an object and providing a public interface for accessing and manipulating the object's data. It's achieved through access modifiers such as private, public, and protected. Encapsulation provides better security and control over the object's data and behavior, making it easier to maintain and modify the code.\n",
    "\n",
    "Abstraction, on the other hand, refers to the practice of hiding the complexity of an object and exposing only the essential features to the outside world. It's achieved through abstract classes and interfaces. Abstraction provides a way to reduce complexity, increase flexibility, and create reusable code.\n",
    "\n",
    "Here's an example of Encapsulation and Abstraction in Python:"
   ]
  },
  {
   "cell_type": "code",
   "execution_count": 2,
   "id": "d9f93f0c-2b19-441f-9c9e-c16ad08bf7c2",
   "metadata": {},
   "outputs": [
    {
     "name": "stdout",
     "output_type": "stream",
     "text": [
      "1300\n",
      "13.0\n"
     ]
    }
   ],
   "source": [
    "class BankAccount:\n",
    "    def __init__(self, account_number, balance):\n",
    "        self.__account_number = account_number\n",
    "        self.__balance = balance\n",
    "\n",
    "    def deposit(self, amount):\n",
    "        self.__balance += amount\n",
    "\n",
    "    def withdraw(self, amount):\n",
    "        if amount <= self.__balance:\n",
    "            self.__balance -= amount\n",
    "        else:\n",
    "            print(\"Insufficient balance\")\n",
    "\n",
    "    def get_balance(self):\n",
    "        return self.__balance\n",
    "\n",
    "class SavingsAccount(BankAccount):\n",
    "    def __init__(self, account_number, balance, interest_rate):\n",
    "        super().__init__(account_number, balance)\n",
    "        self.__interest_rate = interest_rate\n",
    "\n",
    "    def calculate_interest(self):\n",
    "        return self.get_balance() * self.__interest_rate\n",
    "\n",
    "savings_account = SavingsAccount(\"1234\", 1000, 0.01)\n",
    "savings_account.deposit(500)\n",
    "savings_account.withdraw(200)\n",
    "print(savings_account.get_balance())\n",
    "print(savings_account.calculate_interest())\n"
   ]
  },
  {
   "cell_type": "markdown",
   "id": "5cefe977-2e95-4132-bf98-e5a7fb6c621f",
   "metadata": {},
   "source": [
    "In this example, we have a BankAccount class that represents a bank account. The attributes account_number and balance are declared private using double underscores to achieve encapsulation. The methods deposit(), withdraw(), and get_balance() provide a public interface for accessing and manipulating the object's data.\n",
    "\n",
    "We also have a subclass SavingsAccount that inherits from the BankAccount class and has an additional attribute interest_rate. The calculate_interest() method provides a public interface to calculate the interest rate.\n",
    "\n",
    "The use of private attributes in the BankAccount class ensures that the internal details of the object are hidden from the outside world. The use of inheritance, abstract classes, and interfaces in the SavingsAccount class provides a way to reduce complexity and create reusable code, achieving abstraction.\n",
    "\n",
    "In summary, Encapsulation and Abstraction are both essential concepts in OOPs that help in creating better and maintainable code. Encapsulation provides better security and control over the object's data and behavior, while Abstraction provides a way to reduce complexity, increase flexibility, and create reusable code."
   ]
  },
  {
   "cell_type": "markdown",
   "id": "d07ab0d7-e0c5-4789-9109-3cec6e03da31",
   "metadata": {},
   "source": [
    "# Question 03"
   ]
  },
  {
   "cell_type": "markdown",
   "id": "ff55ad94-7ff6-4517-a94b-1ce213301768",
   "metadata": {},
   "source": [
    "The abc module in Python stands for Abstract Base Classes. It provides a way to define abstract classes and interfaces that enforce certain method signatures in the concrete subclasses. Abstract classes are classes that cannot be instantiated but serve as a blueprint for other classes to inherit from.\n",
    "\n",
    "The abc module is used for two main purposes:\n",
    "\n",
    "To define abstract classes: Abstract classes define an interface or a set of methods that should be implemented by its subclasses. The abc module provides the ABC class that can be used as a base class for defining abstract classes.\n",
    "\n",
    "To define interfaces: An interface defines a set of method signatures that should be implemented by the classes that use the interface. The abc module provides the ABC class and the @abstractmethod decorator that can be used to define interfaces.\n",
    "\n",
    "Here is an example of how the abc module can be used to define an abstract class:"
   ]
  },
  {
   "cell_type": "code",
   "execution_count": 5,
   "id": "e7029c97-39bc-43bb-aece-16ef253b87ad",
   "metadata": {},
   "outputs": [
    {
     "ename": "TypeError",
     "evalue": "Can't instantiate abstract class Vehicle with abstract method move",
     "output_type": "error",
     "traceback": [
      "\u001b[0;31m---------------------------------------------------------------------------\u001b[0m",
      "\u001b[0;31mTypeError\u001b[0m                                 Traceback (most recent call last)",
      "Cell \u001b[0;32mIn[5], line 16\u001b[0m\n\u001b[1;32m     13\u001b[0m     \u001b[38;5;28;01mdef\u001b[39;00m \u001b[38;5;21mmove\u001b[39m(\u001b[38;5;28mself\u001b[39m):\n\u001b[1;32m     14\u001b[0m         \u001b[38;5;28mprint\u001b[39m(\u001b[38;5;124m\"\u001b[39m\u001b[38;5;124mBike is moving on road\u001b[39m\u001b[38;5;124m\"\u001b[39m)\n\u001b[0;32m---> 16\u001b[0m vehicle \u001b[38;5;241m=\u001b[39m \u001b[43mVehicle\u001b[49m\u001b[43m(\u001b[49m\u001b[43m)\u001b[49m \u001b[38;5;66;03m# Throws TypeError as it cannot be instantiated\u001b[39;00m\n\u001b[1;32m     17\u001b[0m car \u001b[38;5;241m=\u001b[39m Car()\n\u001b[1;32m     18\u001b[0m car\u001b[38;5;241m.\u001b[39mmove() \u001b[38;5;66;03m# Output: Car is moving on road\u001b[39;00m\n",
      "\u001b[0;31mTypeError\u001b[0m: Can't instantiate abstract class Vehicle with abstract method move"
     ]
    }
   ],
   "source": [
    "from abc import ABC, abstractmethod\n",
    "\n",
    "class Vehicle(ABC):\n",
    "    @abstractmethod\n",
    "    def move(self):\n",
    "        pass\n",
    "\n",
    "class Car(Vehicle):\n",
    "    def move(self):\n",
    "        print(\"Car is moving on road\")\n",
    "\n",
    "class Bike(Vehicle):\n",
    "    def move(self):\n",
    "        print(\"Bike is moving on road\")\n",
    "\n",
    "vehicle = Vehicle() # Throws TypeError as it cannot be instantiated\n",
    "car = Car()\n",
    "car.move() # Output: Car is moving on road\n",
    "\n",
    "bike = Bike()\n",
    "bike.move() # Output: Bike is moving on road"
   ]
  },
  {
   "cell_type": "markdown",
   "id": "71fa486f-fe92-46e5-8e8a-e772e10bc560",
   "metadata": {},
   "source": [
    "# Qo 4 "
   ]
  },
  {
   "cell_type": "markdown",
   "id": "484307e5-8e0d-408d-be67-e5c003716e08",
   "metadata": {},
   "source": [
    "### How can we achieve data abstraction?"
   ]
  },
  {
   "cell_type": "markdown",
   "id": "b4335ef4-67c3-46f4-ba91-affa1407f2fc",
   "metadata": {},
   "source": [
    "In object-oriented programming, data abstraction can be achieved through the use of classes and encapsulation. Here are the steps to achieve data abstraction:\n",
    "\n",
    "1. Identify the essential data: Determine the important data that needs to be represented and manipulated by the class. These data elements will define the attributes or properties of the class.\n",
    "\n",
    "2. Create a class: Define a class that represents the abstraction of the data. The class should encapsulate the data and related operations within its methods.\n",
    "\n",
    "3. Define public interfaces: Identify the operations or methods that will allow external entities to interact with the data. These methods serve as the public interface of the class, through which data can be accessed and manipulated.\n",
    "\n",
    "4. Hide implementation details: Encapsulate the internal data and operations of the class, hiding the implementation details from external entities. This is done by using access modifiers, such as private or protected, to restrict direct access to internal data and methods.\n",
    "\n",
    "5. Provide accessors and mutators: To interact with the hidden data, provide appropriate methods called accessors (also known as getters) and mutators (also known as setters). Accessors allow retrieving the values of the data, while mutators enable modifying the data.\n",
    "\n",
    "6. Use the class: Utilize the class by creating objects and using its public interface to access and manipulate the data. External entities only need to interact with the public methods, without being concerned about the underlying implementation.\n",
    "\n",
    "By following these steps, data abstraction can be achieved, allowing for a clear separation between the external view of the data and its internal representation. This separation enhances modularity, reduces complexity, and promotes code reusability. It also provides a well-defined interface for working with the data, making the code easier to understand and maintain."
   ]
  },
  {
   "cell_type": "markdown",
   "id": "cdedb306-bf9d-4c76-b7b0-8545e92e47f2",
   "metadata": {},
   "source": [
    "# Qo 05"
   ]
  },
  {
   "cell_type": "markdown",
   "id": "139dd56b-5ce3-4bbb-9114-73295a589a37",
   "metadata": {},
   "source": [
    "### Can we create an instance of an abstract class? Explain your answer."
   ]
  },
  {
   "cell_type": "markdown",
   "id": "b535bc53-4466-44e8-9381-22614837045f",
   "metadata": {},
   "source": [
    "No, we cannot create an instance of an abstract class. An abstract class is a class that is declared with the intention of being inherited by other classes, but it cannot be instantiated on its own. It serves as a blueprint or template for its subclasses.\n",
    "\n",
    "The purpose of an abstract class is to define common attributes and behaviors that subclasses should have, while leaving the implementation details to the subclasses. It often contains abstract methods, which are declared but not implemented in the abstract class. Subclasses must provide the implementation for these abstract methods.\n",
    "\n",
    "Attempting to create an instance of an abstract class directly will result in a compilation error or runtime error, depending on the programming language. The reason behind this restriction is that abstract classes are incomplete by design. They exist to be extended and specialized by subclasses, providing a framework for defining a family of related classes.\n",
    "\n",
    "Instead of creating an instance of an abstract class, we need to create an instance of one of its concrete subclasses that provides the implementation for all the abstract methods. This way, we can utilize the defined behaviors and attributes of the abstract class through its concrete subclass objects.\n",
    "\n",
    "In summary, abstract classes cannot be instantiated because they are incomplete and serve as templates for subclasses. Instances can only be created from concrete subclasses that extend the abstract class and provide the necessary implementations."
   ]
  },
  {
   "cell_type": "code",
   "execution_count": null,
   "id": "21c7179d-f5aa-4dc3-81d4-711821b808ea",
   "metadata": {},
   "outputs": [],
   "source": []
  }
 ],
 "metadata": {
  "kernelspec": {
   "display_name": "Python 3 (ipykernel)",
   "language": "python",
   "name": "python3"
  },
  "language_info": {
   "codemirror_mode": {
    "name": "ipython",
    "version": 3
   },
   "file_extension": ".py",
   "mimetype": "text/x-python",
   "name": "python",
   "nbconvert_exporter": "python",
   "pygments_lexer": "ipython3",
   "version": "3.10.8"
  }
 },
 "nbformat": 4,
 "nbformat_minor": 5
}
