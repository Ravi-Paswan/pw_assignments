{
 "cells": [
  {
   "cell_type": "markdown",
   "id": "6bc40307-b15e-42d3-8c47-523221616c08",
   "metadata": {},
   "source": [
    "# Qo 01"
   ]
  },
  {
   "cell_type": "code",
   "execution_count": 1,
   "id": "7bf988ac-cb48-4a06-8cc2-59d825ac2276",
   "metadata": {},
   "outputs": [],
   "source": [
    "def convert_to_2d_array(original, m, n):\n",
    "    if m * n != len(original):\n",
    "        return []\n",
    "\n",
    "    result = [[0] * n for _ in range(m)]\n",
    "    for i in range(len(original)):\n",
    "        row = i // n\n",
    "        col = i % n\n",
    "        result[row][col] = original[i]\n",
    "\n",
    "    return result\n",
    "\n"
   ]
  },
  {
   "cell_type": "code",
   "execution_count": 2,
   "id": "b9dc5085-6128-4f2b-9b14-c2bbd990cec0",
   "metadata": {},
   "outputs": [
    {
     "data": {
      "text/plain": [
       "[[1, 2], [3, 4]]"
      ]
     },
     "execution_count": 2,
     "metadata": {},
     "output_type": "execute_result"
    }
   ],
   "source": [
    "original = [1,2,3,4]\n",
    "m = 2\n",
    "n = 2\n",
    "convert_to_2d_array(original,m,n)"
   ]
  },
  {
   "cell_type": "markdown",
   "id": "91ae962a-3e65-4519-8414-b8df110f99d8",
   "metadata": {},
   "source": [
    "# Qo 02"
   ]
  },
  {
   "cell_type": "code",
   "execution_count": 3,
   "id": "444ee1e4-1e89-4c9a-8709-ea9736688b1a",
   "metadata": {},
   "outputs": [],
   "source": [
    "import math\n",
    "\n",
    "def arrange_coins(n):\n",
    "    k = int(math.sqrt(2 * n))\n",
    "    if k * (k + 1) / 2 <= n:\n",
    "        return k\n",
    "    return k - 1\n"
   ]
  },
  {
   "cell_type": "code",
   "execution_count": 4,
   "id": "2a32c30f-257d-4e0c-8fbc-6affff663f28",
   "metadata": {},
   "outputs": [
    {
     "data": {
      "text/plain": [
       "2"
      ]
     },
     "execution_count": 4,
     "metadata": {},
     "output_type": "execute_result"
    }
   ],
   "source": [
    "arrange_coins(5)"
   ]
  },
  {
   "cell_type": "markdown",
   "id": "a640c006-7203-43cb-b5f5-6f06c2731117",
   "metadata": {},
   "source": [
    "# Qo 03"
   ]
  },
  {
   "cell_type": "code",
   "execution_count": 5,
   "id": "36c06dc1-9be2-4ee6-9854-c369c659c072",
   "metadata": {},
   "outputs": [],
   "source": [
    "def sorted_squares(nums):\n",
    "    n = len(nums)\n",
    "    result = [0] * n\n",
    "    left = 0\n",
    "    right = n - 1\n",
    "    index = n - 1\n",
    "\n",
    "    while left <= right:\n",
    "        if abs(nums[left]) > abs(nums[right]):\n",
    "            result[index] = nums[left] * nums[left]\n",
    "            left += 1\n",
    "        else:\n",
    "            result[index] = nums[right] * nums[right]\n",
    "            right -= 1\n",
    "        index -= 1\n",
    "\n",
    "    return result\n"
   ]
  },
  {
   "cell_type": "code",
   "execution_count": 6,
   "id": "d16aa1c1-6b86-45ec-8437-5a877953df37",
   "metadata": {},
   "outputs": [
    {
     "data": {
      "text/plain": [
       "[0, 1, 9, 16, 100]"
      ]
     },
     "execution_count": 6,
     "metadata": {},
     "output_type": "execute_result"
    }
   ],
   "source": [
    "nums = [-4,-1,0,3,10]\n",
    "sorted_squares(nums)"
   ]
  },
  {
   "cell_type": "markdown",
   "id": "45787646-9ac4-4153-bb70-5ce2f450ff63",
   "metadata": {},
   "source": [
    "# Qo 04"
   ]
  },
  {
   "cell_type": "code",
   "execution_count": 7,
   "id": "2fdcc393-afce-4585-ba1b-d45c81b37528",
   "metadata": {},
   "outputs": [],
   "source": [
    "def find_missing_numbers(nums1, nums2):\n",
    "    set1 = set(nums1)\n",
    "    set2 = set(nums2)\n",
    "\n",
    "    distinct_nums1 = set1 - set2\n",
    "    distinct_nums2 = set2 - set1\n",
    "\n",
    "    return [list(distinct_nums1), list(distinct_nums2)]\n"
   ]
  },
  {
   "cell_type": "code",
   "execution_count": 8,
   "id": "460f139c-0e35-4f94-84d9-79fb8a194d74",
   "metadata": {},
   "outputs": [
    {
     "data": {
      "text/plain": [
       "[[1, 3], [4, 6]]"
      ]
     },
     "execution_count": 8,
     "metadata": {},
     "output_type": "execute_result"
    }
   ],
   "source": [
    "nums1 = [1,2,3]\n",
    "nums2 = [2,4,6]\n",
    "find_missing_numbers(nums1,nums2)"
   ]
  },
  {
   "cell_type": "markdown",
   "id": "21626b1a-785c-40ec-a76d-1b32db5087ab",
   "metadata": {},
   "source": [
    "# Qo 05"
   ]
  },
  {
   "cell_type": "code",
   "execution_count": 9,
   "id": "4102d651-6f38-45f6-9723-b2345298bb69",
   "metadata": {},
   "outputs": [],
   "source": [
    "def distance_value(arr1, arr2, d):\n",
    "    count = 0\n",
    "\n",
    "    for num1 in arr1:\n",
    "        for num2 in arr2:\n",
    "            if abs(num1 - num2) <= d:\n",
    "                break\n",
    "        else:\n",
    "            count += 1\n",
    "\n",
    "    return count\n"
   ]
  },
  {
   "cell_type": "code",
   "execution_count": 11,
   "id": "7c1d0e09-262c-4e38-b220-d73963dfe222",
   "metadata": {},
   "outputs": [
    {
     "data": {
      "text/plain": [
       "2"
      ]
     },
     "execution_count": 11,
     "metadata": {},
     "output_type": "execute_result"
    }
   ],
   "source": [
    "arr1 = [4,5,8] \n",
    "arr2 = [10,9,1,8]\n",
    "d = 2\n",
    "distance_value(arr1,arr2,d)"
   ]
  },
  {
   "cell_type": "markdown",
   "id": "9490d83e-f94b-4bff-bae8-1fd57bb5ee48",
   "metadata": {},
   "source": [
    "# Qo 06"
   ]
  },
  {
   "cell_type": "code",
   "execution_count": 12,
   "id": "4228379f-15f2-4da6-931d-152d8bb982d2",
   "metadata": {},
   "outputs": [],
   "source": [
    "def findDuplicates(nums):\n",
    "    result = []\n",
    "\n",
    "    for num in nums:\n",
    "        if nums[abs(num) - 1] > 0:\n",
    "            nums[abs(num) - 1] = -nums[abs(num) - 1]\n",
    "        else:\n",
    "            result.append(abs(num))\n",
    "\n",
    "    return result\n"
   ]
  },
  {
   "cell_type": "code",
   "execution_count": 14,
   "id": "edc5bfcf-aa04-499d-b4aa-1922c1d9a097",
   "metadata": {},
   "outputs": [
    {
     "data": {
      "text/plain": [
       "[2, 3]"
      ]
     },
     "execution_count": 14,
     "metadata": {},
     "output_type": "execute_result"
    }
   ],
   "source": [
    "nums =  [4,3,2,7,8,2,3,1]\n",
    "findDuplicates(nums)"
   ]
  },
  {
   "cell_type": "markdown",
   "id": "84b75c80-9290-48ea-829c-0f4a019e724a",
   "metadata": {},
   "source": [
    "# Qo 07"
   ]
  },
  {
   "cell_type": "code",
   "execution_count": 15,
   "id": "0b85adaf-abb0-4feb-8672-3f1107fc9090",
   "metadata": {},
   "outputs": [],
   "source": [
    "def findMin(nums):\n",
    "    left = 0\n",
    "    right = len(nums) - 1\n",
    "\n",
    "    while left < right:\n",
    "        mid = left + (right - left) // 2\n",
    "\n",
    "        if nums[mid] > nums[right]:\n",
    "            left = mid + 1\n",
    "        else:\n",
    "            right = mid\n",
    "\n",
    "    return nums[left]\n"
   ]
  },
  {
   "cell_type": "code",
   "execution_count": 16,
   "id": "0b6bb80c-3042-40e0-8efe-4faf0f6d43bc",
   "metadata": {},
   "outputs": [
    {
     "data": {
      "text/plain": [
       "1"
      ]
     },
     "execution_count": 16,
     "metadata": {},
     "output_type": "execute_result"
    }
   ],
   "source": [
    "nums = [3,4,5,1,2]\n",
    "findMin(nums)"
   ]
  },
  {
   "cell_type": "markdown",
   "id": "c9f92016-75e3-4b96-b295-ee5e0dad2c9a",
   "metadata": {},
   "source": [
    "# Qo 08"
   ]
  },
  {
   "cell_type": "code",
   "execution_count": 17,
   "id": "620ad5c3-518c-4e46-a338-d17defe39322",
   "metadata": {},
   "outputs": [],
   "source": [
    "def findOriginalArray(changed):\n",
    "    count = {}\n",
    "    \n",
    "    for num in changed:\n",
    "        count[num] = count.get(num, 0) + 1\n",
    "    \n",
    "    original = []\n",
    "    \n",
    "    for num in changed:\n",
    "        if count.get(num, 0) == 0:\n",
    "            continue\n",
    "        \n",
    "        if count.get(2*num, 0) == 0:\n",
    "            return []\n",
    "        \n",
    "        count[num] -= 1\n",
    "        count[2*num] -= 1\n",
    "        original.append(num)\n",
    "    \n",
    "    return original\n"
   ]
  },
  {
   "cell_type": "code",
   "execution_count": 18,
   "id": "0d3069d6-a85c-4803-849e-3cdfa04ac13b",
   "metadata": {},
   "outputs": [
    {
     "data": {
      "text/plain": [
       "[1, 3, 4]"
      ]
     },
     "execution_count": 18,
     "metadata": {},
     "output_type": "execute_result"
    }
   ],
   "source": [
    "changed = [1,3,4,2,6,8]\n",
    "findOriginalArray(changed)"
   ]
  },
  {
   "cell_type": "code",
   "execution_count": null,
   "id": "42a92743-57ff-4b23-8dfa-4f5d72682433",
   "metadata": {},
   "outputs": [],
   "source": []
  }
 ],
 "metadata": {
  "kernelspec": {
   "display_name": "Python 3 (ipykernel)",
   "language": "python",
   "name": "python3"
  },
  "language_info": {
   "codemirror_mode": {
    "name": "ipython",
    "version": 3
   },
   "file_extension": ".py",
   "mimetype": "text/x-python",
   "name": "python",
   "nbconvert_exporter": "python",
   "pygments_lexer": "ipython3",
   "version": "3.10.8"
  }
 },
 "nbformat": 4,
 "nbformat_minor": 5
}
