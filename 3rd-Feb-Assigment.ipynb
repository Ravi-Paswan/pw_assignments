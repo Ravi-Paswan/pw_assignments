{
 "cells": [
  {
   "cell_type": "markdown",
   "id": "551b5825-b889-4ef4-b4fe-b95b9bdeb25a",
   "metadata": {},
   "source": [
    "# Question 01"
   ]
  },
  {
   "cell_type": "markdown",
   "id": "8059baf4-2fcb-4543-be9c-ad29db366b45",
   "metadata": {},
   "source": [
    "* def keyword is used to create a function in python"
   ]
  },
  {
   "cell_type": "code",
   "execution_count": 2,
   "id": "fa9fb91f-1049-417e-84ce-bb1dfefc260e",
   "metadata": {},
   "outputs": [],
   "source": [
    "def odd_number_list():\n",
    "    my_list = []\n",
    "    for i in range (1,26):\n",
    "        if i%2!=0:\n",
    "            my_list.append(i)\n",
    "    return my_list"
   ]
  },
  {
   "cell_type": "code",
   "execution_count": 4,
   "id": "55c8fe08-2aae-4800-a499-57450c82e511",
   "metadata": {},
   "outputs": [
    {
     "data": {
      "text/plain": [
       "[1, 3, 5, 7, 9, 11, 13, 15, 17, 19, 21, 23, 25]"
      ]
     },
     "execution_count": 4,
     "metadata": {},
     "output_type": "execute_result"
    }
   ],
   "source": [
    "new_list = odd_number_list()\n",
    "new_list"
   ]
  },
  {
   "cell_type": "markdown",
   "id": "289a8bfc-2d93-439b-ac40-fc5a64d81119",
   "metadata": {},
   "source": [
    "# Question 02"
   ]
  },
  {
   "cell_type": "markdown",
   "id": "66623142-64db-4b2b-bb84-9dc9259105a5",
   "metadata": {},
   "source": [
    "* *args : The special syntax *args in function\n",
    "definitions in python is used to pass a\n",
    "variable number of arguments to a function.\n",
    "It is used to pass a non-key worded, \n",
    "variable-length argument list.\n",
    "\n",
    "* **kwargs : The special syntax **kwargs in\n",
    "function definitions in python is used to \n",
    "pass a keyworded, variable-length argument\n",
    "list. We use the name kwargs with the \n",
    "double star. The reason is that the double\n",
    "star allows us to pass through keyword \n",
    "arguments (and any number of them)."
   ]
  },
  {
   "cell_type": "code",
   "execution_count": 6,
   "id": "859d48cf-a35e-4c8d-b3c1-2bfa327bc530",
   "metadata": {},
   "outputs": [
    {
     "name": "stdout",
     "output_type": "stream",
     "text": [
      "('Ravi', 'Paswan', 2, 3)\n"
     ]
    }
   ],
   "source": [
    "#Function with *args\n",
    "def func_1(*args):\n",
    "    print(args)\n",
    "\n",
    "func_1(\"Ravi\",\"Paswan\",2,3)"
   ]
  },
  {
   "cell_type": "code",
   "execution_count": 9,
   "id": "d70f4288-733a-4cc9-8461-d67449af4a38",
   "metadata": {},
   "outputs": [
    {
     "name": "stdout",
     "output_type": "stream",
     "text": [
      "first == Ravi\n",
      "mid == 3\n",
      "last == Paswan\n"
     ]
    }
   ],
   "source": [
    "# function with **kwargs\n",
    "def func_2(**kwargs):\n",
    "    for key, value in kwargs.items():\n",
    "        print(\"%s == %s\" % (key, value))\n",
    " \n",
    " \n",
    "func_2(first='Ravi', mid=3, last='Paswan')"
   ]
  },
  {
   "cell_type": "markdown",
   "id": "c91286fd-6f71-4d3b-bb4c-69fe287d43ab",
   "metadata": {},
   "source": [
    "# Question 03"
   ]
  },
  {
   "cell_type": "markdown",
   "id": "bb5cd222-aa82-42cf-b583-08d9c7dda19c",
   "metadata": {},
   "source": [
    "* Iterator in Python is an object that is \n",
    "used to iterate over iterable objects like \n",
    "lists, tuples, dicts, and sets. The \n",
    "iterator object is initialized using the \n",
    "iter() method. It uses the next() method \n",
    "for iteration."
   ]
  },
  {
   "cell_type": "code",
   "execution_count": 10,
   "id": "e21dff24-760c-4452-b713-75fa937f0062",
   "metadata": {},
   "outputs": [],
   "source": [
    "given_list = [2, 4, 6, 8, 10, 12, 14,\n",
    "16, 18, 20]"
   ]
  },
  {
   "cell_type": "code",
   "execution_count": 12,
   "id": "64ac0798-73d0-4208-ace1-ab038b5378aa",
   "metadata": {},
   "outputs": [
    {
     "name": "stdout",
     "output_type": "stream",
     "text": [
      "2\n",
      "4\n",
      "6\n",
      "8\n",
      "10\n"
     ]
    }
   ],
   "source": [
    "new_list = iter(given_list)\n",
    "for i in range(5):\n",
    "    print(next(new_list))"
   ]
  },
  {
   "cell_type": "markdown",
   "id": "54e3e8ef-fe87-4402-b9c6-4f4ea17d72cb",
   "metadata": {},
   "source": [
    "# Question 04"
   ]
  },
  {
   "cell_type": "markdown",
   "id": "727ed1ab-37f3-4c93-9d9a-c47b500ae056",
   "metadata": {},
   "source": [
    "* A generator-function is defined like a normal function, but whenever it needs to generate a value, it does so with the yield keyword rather than return. If the body of a def contains yield, the function automatically becomes a generator function.\n",
    "\n",
    "* The yield statement suspends a function’s execution and sends a value back to the caller, but retains enough state to enable the function to resume where it left off. When the function resumes, it continues execution immediately after the last yield run. This allows its code to produce a series of values over time, rather than computing them at once and sending them back like a list."
   ]
  },
  {
   "cell_type": "code",
   "execution_count": 13,
   "id": "1f28b9fd-1715-49a2-bf04-653a7594aafc",
   "metadata": {},
   "outputs": [],
   "source": [
    "def my_gen():\n",
    "    yield 1\n",
    "    yield 2\n",
    "    yield 3"
   ]
  },
  {
   "cell_type": "code",
   "execution_count": 17,
   "id": "ab2140be-3861-44cc-993b-9e755e1eb6a9",
   "metadata": {},
   "outputs": [
    {
     "name": "stdout",
     "output_type": "stream",
     "text": [
      "1\n",
      "2\n",
      "3\n"
     ]
    }
   ],
   "source": [
    "for i in my_gen():\n",
    "    print(i)"
   ]
  },
  {
   "cell_type": "markdown",
   "id": "55eb95a4-2a47-4344-b6a6-6275691c3a90",
   "metadata": {},
   "source": [
    "# Question 05"
   ]
  },
  {
   "cell_type": "code",
   "execution_count": 19,
   "id": "e93b6a6b-ac28-42fc-b7dc-815707168758",
   "metadata": {},
   "outputs": [],
   "source": [
    "# genrator function to genrate prime numbers\n",
    "def generate_primes(n):\n",
    "    primes = []\n",
    "    for num in range(2, n+1):\n",
    "        for i in range(2, int(num/2)+1):\n",
    "            if (num % i) == 0:\n",
    "                break\n",
    "        else:\n",
    "            yield num"
   ]
  },
  {
   "cell_type": "code",
   "execution_count": 21,
   "id": "7f7d4748-f19a-49d8-af14-62d020a99ef9",
   "metadata": {},
   "outputs": [
    {
     "name": "stdout",
     "output_type": "stream",
     "text": [
      "2\n",
      "3\n",
      "5\n",
      "7\n",
      "11\n",
      "13\n",
      "17\n",
      "19\n",
      "23\n",
      "29\n",
      "31\n",
      "37\n",
      "41\n",
      "43\n",
      "47\n",
      "53\n",
      "59\n",
      "61\n",
      "67\n",
      "71\n"
     ]
    }
   ],
   "source": [
    "prime_numbers = generate_primes(1000)\n",
    "for i in range(20):\n",
    "    print(next(prime_numbers))"
   ]
  },
  {
   "cell_type": "markdown",
   "id": "bdc71fd7-e91c-44d5-9e9e-1219e472680f",
   "metadata": {},
   "source": [
    "# Question 06"
   ]
  },
  {
   "cell_type": "code",
   "execution_count": 23,
   "id": "8182c670-7722-48c4-922f-4a434701106c",
   "metadata": {},
   "outputs": [],
   "source": [
    "def fib_num():\n",
    "    a,b = 0,1\n",
    "    while True:\n",
    "        yield a\n",
    "        a,b = b,a+b"
   ]
  },
  {
   "cell_type": "code",
   "execution_count": 25,
   "id": "9ea9f8d2-36b0-46f1-a97f-83ae34720f38",
   "metadata": {},
   "outputs": [
    {
     "name": "stdout",
     "output_type": "stream",
     "text": [
      "0\n",
      "1\n",
      "1\n",
      "2\n",
      "3\n",
      "5\n",
      "8\n",
      "13\n",
      "21\n",
      "34\n"
     ]
    }
   ],
   "source": [
    "fun_2 = fib_num()\n",
    "for i in range(10):\n",
    "    print(next(fun_2))"
   ]
  },
  {
   "cell_type": "markdown",
   "id": "e83f92d5-d2b6-4990-b536-4eef8ef6f79c",
   "metadata": {},
   "source": [
    "# Question 07"
   ]
  },
  {
   "cell_type": "code",
   "execution_count": 26,
   "id": "3ba9ba10-02f3-433f-a96f-5e1331926f36",
   "metadata": {},
   "outputs": [
    {
     "data": {
      "text/plain": [
       "['p', 'w', 's', 'k', 'i', 'l', 'l', 's']"
      ]
     },
     "execution_count": 26,
     "metadata": {},
     "output_type": "execute_result"
    }
   ],
   "source": [
    "s1 = \"pwskills\"\n",
    "s2 = [i for i in s1]\n",
    "s2"
   ]
  },
  {
   "cell_type": "markdown",
   "id": "33bd40b1-217d-4c77-80ba-b5d8bdfdf873",
   "metadata": {},
   "source": [
    "# Question 08"
   ]
  },
  {
   "cell_type": "code",
   "execution_count": 1,
   "id": "8d192d03-81a0-4ec7-8e0f-38c4f16f3cd3",
   "metadata": {},
   "outputs": [],
   "source": [
    "def check_palindrome(n):\n",
    "    n_list = list(str(n))\n",
    "    l = len(n_list)\n",
    "    i=0\n",
    "    while i<l:\n",
    "        if n_list[0+i] == n_list[-1-i]:\n",
    "            i+=1\n",
    "            pass\n",
    "        else:\n",
    "            return False\n",
    "    return True\n",
    "       "
   ]
  },
  {
   "cell_type": "code",
   "execution_count": 7,
   "id": "c7550719-ab47-4089-9c0c-62691e0baaae",
   "metadata": {},
   "outputs": [
    {
     "name": "stdout",
     "output_type": "stream",
     "text": [
      "False\n"
     ]
    }
   ],
   "source": [
    "print(check_palindrome(12314))"
   ]
  },
  {
   "cell_type": "markdown",
   "id": "8e7b3cf3-274d-4ec4-9e70-6d2767094cc2",
   "metadata": {},
   "source": [
    "# Question 09"
   ]
  },
  {
   "cell_type": "code",
   "execution_count": 12,
   "id": "c8cf9320-a57f-49da-85f5-4fdb64de0639",
   "metadata": {},
   "outputs": [],
   "source": [
    "list_1 = [i for i in range(1,101)]"
   ]
  },
  {
   "cell_type": "code",
   "execution_count": 14,
   "id": "949e9f5f-9029-4544-b95c-9d3ad437aa51",
   "metadata": {},
   "outputs": [],
   "source": [
    "list_2 = [i for i in list_1 if i%2!=0]"
   ]
  },
  {
   "cell_type": "code",
   "execution_count": 15,
   "id": "8c1a6175-82f0-4d93-9c07-d3e9b3f52711",
   "metadata": {},
   "outputs": [
    {
     "data": {
      "text/plain": [
       "[1,\n",
       " 3,\n",
       " 5,\n",
       " 7,\n",
       " 9,\n",
       " 11,\n",
       " 13,\n",
       " 15,\n",
       " 17,\n",
       " 19,\n",
       " 21,\n",
       " 23,\n",
       " 25,\n",
       " 27,\n",
       " 29,\n",
       " 31,\n",
       " 33,\n",
       " 35,\n",
       " 37,\n",
       " 39,\n",
       " 41,\n",
       " 43,\n",
       " 45,\n",
       " 47,\n",
       " 49,\n",
       " 51,\n",
       " 53,\n",
       " 55,\n",
       " 57,\n",
       " 59,\n",
       " 61,\n",
       " 63,\n",
       " 65,\n",
       " 67,\n",
       " 69,\n",
       " 71,\n",
       " 73,\n",
       " 75,\n",
       " 77,\n",
       " 79,\n",
       " 81,\n",
       " 83,\n",
       " 85,\n",
       " 87,\n",
       " 89,\n",
       " 91,\n",
       " 93,\n",
       " 95,\n",
       " 97,\n",
       " 99]"
      ]
     },
     "execution_count": 15,
     "metadata": {},
     "output_type": "execute_result"
    }
   ],
   "source": [
    "list_2"
   ]
  },
  {
   "cell_type": "code",
   "execution_count": null,
   "id": "2d1b02e6-448c-42cc-b037-d949d2a3d26e",
   "metadata": {},
   "outputs": [],
   "source": []
  }
 ],
 "metadata": {
  "kernelspec": {
   "display_name": "Python 3 (ipykernel)",
   "language": "python",
   "name": "python3"
  },
  "language_info": {
   "codemirror_mode": {
    "name": "ipython",
    "version": 3
   },
   "file_extension": ".py",
   "mimetype": "text/x-python",
   "name": "python",
   "nbconvert_exporter": "python",
   "pygments_lexer": "ipython3",
   "version": "3.10.8"
  }
 },
 "nbformat": 4,
 "nbformat_minor": 5
}
