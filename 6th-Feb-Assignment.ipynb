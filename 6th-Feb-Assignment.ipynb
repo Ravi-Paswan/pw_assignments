{
 "cells": [
  {
   "cell_type": "markdown",
   "id": "a915f09d-8375-4486-9e23-fb2e0a94a687",
   "metadata": {},
   "source": [
    "# Question 01"
   ]
  },
  {
   "cell_type": "code",
   "execution_count": 45,
   "id": "aa0d6fb4-2953-4b9c-a386-963c0050d9a0",
   "metadata": {},
   "outputs": [],
   "source": [
    "def product_of_numbers(nested_list):\n",
    "    # Flatten the nested list into a single list\n",
    "    flat_list = []\n",
    "    for sublist in nested_list:\n",
    "        if isinstance(sublist, list):\n",
    "            flat_list.extend(sublist)\n",
    "        elif isinstance(sublist,dict):\n",
    "            for k,v in sublist.items():\n",
    "                if isinstance(v,(list,tuple)):\n",
    "                    flat_list.extend(v)\n",
    "                else:\n",
    "                \tflat_list.append(k)\n",
    "                \tflat_list.append(v)\n",
    "        elif isinstance(sublist,bool):\n",
    "            pass\n",
    "        else:\n",
    "            flat_list.append(sublist)\n",
    "         \n",
    "\n",
    "    # Calculate the product of all the numbers in the flattened list\n",
    "    product = 1\n",
    "    for num in flat_list:\n",
    "        if isinstance(num, (int, float)):\n",
    "            product *= num\n",
    "\n",
    "    return product\n"
   ]
  },
  {
   "cell_type": "code",
   "execution_count": 47,
   "id": "99063f3c-75a2-45a5-910d-cf7e1c09368d",
   "metadata": {},
   "outputs": [
    {
     "data": {
      "text/plain": [
       "383357121543698125824000"
      ]
     },
     "execution_count": 47,
     "metadata": {},
     "output_type": "execute_result"
    }
   ],
   "source": [
    "list1 = [1,2,3,4, [44,55,66, True], False, (34,56,78,89,34), {1,2,3,3,2,1}, {1:34, \"key2\": [55, 67, 78, 89], 4: (45,\n",
    "22, 61, 34)}, [56, 'data science'], 'Machine Learning']\n",
    "product_of_numbers(list1)\n"
   ]
  },
  {
   "cell_type": "markdown",
   "id": "476d92f6-07c3-4d53-9d85-21eac68c433e",
   "metadata": {},
   "source": [
    "# Question 02"
   ]
  },
  {
   "cell_type": "code",
   "execution_count": 71,
   "id": "be2b420e-2d0b-496d-a6b0-015681506f98",
   "metadata": {},
   "outputs": [],
   "source": [
    "import string\n",
    "\n",
    "def encrypt_text(message):\n",
    "    text = message.lower()\n",
    "    new_text = text.replace(' ','$')\n",
    "    return_list = []\n",
    "    alphabets = list(string.ascii_lowercase)\n",
    "    reverse_alphabets = alphabets[::-1]\n",
    "    for letter in new_text:\n",
    "        if letter in alphabets:\n",
    "            letter_index = alphabets.index(letter)\n",
    "            return_list.append(reverse_alphabets[letter_index])\n",
    "        else:\n",
    "            return_list.append(letter)\n",
    "    encrypted_text = ''.join(return_list)\n",
    "    return encrypted_text\n",
    "            "
   ]
  },
  {
   "cell_type": "code",
   "execution_count": 73,
   "id": "646e2336-90e8-4c3c-b10e-6dde670d5749",
   "metadata": {},
   "outputs": [
    {
     "data": {
      "text/plain": [
       "'r$dzmg$gl$yvxlnv$z$wzgz$hxrvmgrhg'"
      ]
     },
     "execution_count": 73,
     "metadata": {},
     "output_type": "execute_result"
    }
   ],
   "source": [
    "encrypt_text(\"I want to become a Data Scientist\")"
   ]
  },
  {
   "cell_type": "code",
   "execution_count": null,
   "id": "178fda08-026f-4737-a33b-ef9af09e4aee",
   "metadata": {},
   "outputs": [],
   "source": []
  },
  {
   "cell_type": "code",
   "execution_count": null,
   "id": "f7f1743d-34ae-48ef-a36e-ebf514228743",
   "metadata": {},
   "outputs": [],
   "source": []
  }
 ],
 "metadata": {
  "kernelspec": {
   "display_name": "Python 3 (ipykernel)",
   "language": "python",
   "name": "python3"
  },
  "language_info": {
   "codemirror_mode": {
    "name": "ipython",
    "version": 3
   },
   "file_extension": ".py",
   "mimetype": "text/x-python",
   "name": "python",
   "nbconvert_exporter": "python",
   "pygments_lexer": "ipython3",
   "version": "3.10.8"
  }
 },
 "nbformat": 4,
 "nbformat_minor": 5
}
