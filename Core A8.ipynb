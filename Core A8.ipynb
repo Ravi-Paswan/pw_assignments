{
 "cells": [
  {
   "cell_type": "markdown",
   "id": "71307d67-150c-4968-8733-323037c668c9",
   "metadata": {},
   "source": [
    "# LLD"
   ]
  },
  {
   "cell_type": "markdown",
   "id": "6a03c161-19b3-4243-b1d4-89d2b1e5968f",
   "metadata": {},
   "source": [
    "https://drive.google.com/file/d/1VI2qcyyvwdRB3qkiVAE3vo1rLbBp7NtE/view?usp=sharing"
   ]
  },
  {
   "cell_type": "markdown",
   "id": "71f4cf79-0438-4f24-983a-32d9a09d8f5a",
   "metadata": {},
   "source": [
    "# HLD\n"
   ]
  },
  {
   "cell_type": "markdown",
   "id": "e281b744-a187-46fb-8aee-cad3279a341d",
   "metadata": {},
   "source": [
    "https://drive.google.com/file/d/1EHunsC2ikQtEhKk7TPV9dGQgvIfFMhVb/view?usp=sharing"
   ]
  },
  {
   "cell_type": "code",
   "execution_count": null,
   "id": "eab223b2-08e1-41bc-89c6-80b5ee482174",
   "metadata": {},
   "outputs": [],
   "source": []
  }
 ],
 "metadata": {
  "kernelspec": {
   "display_name": "Python 3 (ipykernel)",
   "language": "python",
   "name": "python3"
  },
  "language_info": {
   "codemirror_mode": {
    "name": "ipython",
    "version": 3
   },
   "file_extension": ".py",
   "mimetype": "text/x-python",
   "name": "python",
   "nbconvert_exporter": "python",
   "pygments_lexer": "ipython3",
   "version": "3.10.8"
  }
 },
 "nbformat": 4,
 "nbformat_minor": 5
}
