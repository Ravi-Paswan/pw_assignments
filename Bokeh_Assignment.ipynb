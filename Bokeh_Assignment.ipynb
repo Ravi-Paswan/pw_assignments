{
  "nbformat": 4,
  "nbformat_minor": 0,
  "metadata": {
    "colab": {
      "provenance": []
    },
    "kernelspec": {
      "name": "python3",
      "display_name": "Python 3"
    },
    "language_info": {
      "name": "python"
    }
  },
  "cells": [
    {
      "cell_type": "markdown",
      "source": [
        "# **Question 01**"
      ],
      "metadata": {
        "id": "ft0QOLmFAznW"
      }
    },
    {
      "cell_type": "markdown",
      "source": [
        "To create a Bokeh plot using Python, you can use the Bokeh library, which is a powerful and flexible library for creating interactive visualizations in web browsers. Bokeh provides a wide range of plotting capabilities, including Bokeh plots with bokeh.plotting module.\n",
        "\n",
        "Here's an example of how you can create a simple Bokeh plot with a scatter plot and add bokeh.plotting module:"
      ],
      "metadata": {
        "id": "ElwCEIqCBiBB"
      }
    },
    {
      "cell_type": "code",
      "execution_count": 2,
      "metadata": {
        "id": "QqmR01kkAkHj"
      },
      "outputs": [],
      "source": [
        "from bokeh.plotting import figure, show\n",
        "\n",
        "# Create a Bokeh figure object\n",
        "p = figure(title=\"My Bokeh Scatter Plot\", x_axis_label=\"X Axis Label\", y_axis_label=\"Y Axis Label\")\n",
        "\n",
        "# Generate some example data\n",
        "x = [1, 2, 3, 4, 5]\n",
        "y = [5, 4, 3, 2, 1]\n",
        "\n",
        "# Create a scatter plot\n",
        "p.scatter(x, y, size=10, color=\"blue\", legend_label=\"Scatter Points\")\n",
        "\n",
        "# Show the Bokeh plot\n",
        "show(p)\n"
      ]
    },
    {
      "cell_type": "markdown",
      "source": [
        "This code creates a Bokeh figure object with a title and axis labels, generates some example data for x and y coordinates, and then creates a scatter plot using p.scatter(). The size, color, and legend_label parameters are used to customize the appearance of the scatter plot. Finally, the show() function is called to display the Bokeh plot in a web browser.\n",
        "\n",
        "You can customize your Bokeh plot further by using other Bokeh plotting functions and parameters, such as line(), circle(), rect(), patch(), hbar(), vbar(), image(), text(), and many more, to create a wide variety of interactive visualizations. You can also use Bokeh's built-in tools for zooming, panning, and hovering over data points to add interactivity to your plots."
      ],
      "metadata": {
        "id": "XOV-FXClBtDG"
      }
    },
    {
      "cell_type": "markdown",
      "source": [
        "# **Question 02**"
      ],
      "metadata": {
        "id": "22sY3TEBDTc0"
      }
    },
    {
      "cell_type": "markdown",
      "source": [
        "Glyphs are the basic visual elements in Bokeh that are used to create plots. They represent graphical shapes or markers, such as lines, points, circles, rectangles, etc., which can be added to a Bokeh plot to create visualizations.\n",
        "\n",
        "Here's an example of how you can add glyphs to a Bokeh plot:"
      ],
      "metadata": {
        "id": "K6aLpMSuDbvb"
      }
    },
    {
      "cell_type": "code",
      "source": [
        "from bokeh.plotting import figure, show\n",
        "from bokeh.io import output_notebook\n",
        "\n",
        "# Create a Bokeh figure object\n",
        "p = figure(title=\"Example Glyphs\", x_axis_label=\"X Axis Label\", y_axis_label=\"Y Axis Label\")\n",
        "\n",
        "# Add a line glyph\n",
        "p.line(x=[1, 2, 3, 4, 5], y=[5, 4, 3, 2, 1], line_color=\"blue\", line_width=2, legend_label=\"Line\")\n",
        "\n",
        "# Add a circle glyph\n",
        "p.circle(x=[1, 2, 3, 4, 5], y=[1, 2, 3, 4, 5], size=10, fill_color=\"red\", line_color=\"black\", legend_label=\"Circle\")\n",
        "\n",
        "# Add a rectangle glyph\n",
        "p.rect(x=[2.5], y=[2.5], width=1, height=1, fill_color=\"green\", line_color=\"black\", legend_label=\"Rectangle\")\n",
        "\n",
        "# Add a text glyph\n",
        "p.text(x=[1, 2, 3, 4, 5], y=[5, 4, 3, 2, 1], text=[\"A\", \"B\", \"C\", \"D\", \"E\"], text_font_size=\"18pt\", text_color=\"purple\", legend_label=\"Text\")\n",
        "\n",
        "# Display the Bokeh plot\n",
        "output_notebook()\n",
        "show(p)\n"
      ],
      "metadata": {
        "colab": {
          "base_uri": "https://localhost:8080/",
          "height": 617
        },
        "id": "y0HL9ZKqAqbS",
        "outputId": "bcf36743-3330-43e6-c57b-91ea5e8eeb5a"
      },
      "execution_count": 6,
      "outputs": [
        {
          "output_type": "display_data",
          "data": {
            "application/javascript": [
              "(function(root) {\n",
              "  function now() {\n",
              "    return new Date();\n",
              "  }\n",
              "\n",
              "  const force = true;\n",
              "\n",
              "  if (typeof root._bokeh_onload_callbacks === \"undefined\" || force === true) {\n",
              "    root._bokeh_onload_callbacks = [];\n",
              "    root._bokeh_is_loading = undefined;\n",
              "  }\n",
              "\n",
              "const JS_MIME_TYPE = 'application/javascript';\n",
              "  const HTML_MIME_TYPE = 'text/html';\n",
              "  const EXEC_MIME_TYPE = 'application/vnd.bokehjs_exec.v0+json';\n",
              "  const CLASS_NAME = 'output_bokeh rendered_html';\n",
              "\n",
              "  /**\n",
              "   * Render data to the DOM node\n",
              "   */\n",
              "  function render(props, node) {\n",
              "    const script = document.createElement(\"script\");\n",
              "    node.appendChild(script);\n",
              "  }\n",
              "\n",
              "  /**\n",
              "   * Handle when an output is cleared or removed\n",
              "   */\n",
              "  function handleClearOutput(event, handle) {\n",
              "    const cell = handle.cell;\n",
              "\n",
              "    const id = cell.output_area._bokeh_element_id;\n",
              "    const server_id = cell.output_area._bokeh_server_id;\n",
              "    // Clean up Bokeh references\n",
              "    if (id != null && id in Bokeh.index) {\n",
              "      Bokeh.index[id].model.document.clear();\n",
              "      delete Bokeh.index[id];\n",
              "    }\n",
              "\n",
              "    if (server_id !== undefined) {\n",
              "      // Clean up Bokeh references\n",
              "      const cmd_clean = \"from bokeh.io.state import curstate; print(curstate().uuid_to_server['\" + server_id + \"'].get_sessions()[0].document.roots[0]._id)\";\n",
              "      cell.notebook.kernel.execute(cmd_clean, {\n",
              "        iopub: {\n",
              "          output: function(msg) {\n",
              "            const id = msg.content.text.trim();\n",
              "            if (id in Bokeh.index) {\n",
              "              Bokeh.index[id].model.document.clear();\n",
              "              delete Bokeh.index[id];\n",
              "            }\n",
              "          }\n",
              "        }\n",
              "      });\n",
              "      // Destroy server and session\n",
              "      const cmd_destroy = \"import bokeh.io.notebook as ion; ion.destroy_server('\" + server_id + \"')\";\n",
              "      cell.notebook.kernel.execute(cmd_destroy);\n",
              "    }\n",
              "  }\n",
              "\n",
              "  /**\n",
              "   * Handle when a new output is added\n",
              "   */\n",
              "  function handleAddOutput(event, handle) {\n",
              "    const output_area = handle.output_area;\n",
              "    const output = handle.output;\n",
              "\n",
              "    // limit handleAddOutput to display_data with EXEC_MIME_TYPE content only\n",
              "    if ((output.output_type != \"display_data\") || (!Object.prototype.hasOwnProperty.call(output.data, EXEC_MIME_TYPE))) {\n",
              "      return\n",
              "    }\n",
              "\n",
              "    const toinsert = output_area.element.find(\".\" + CLASS_NAME.split(' ')[0]);\n",
              "\n",
              "    if (output.metadata[EXEC_MIME_TYPE][\"id\"] !== undefined) {\n",
              "      toinsert[toinsert.length - 1].firstChild.textContent = output.data[JS_MIME_TYPE];\n",
              "      // store reference to embed id on output_area\n",
              "      output_area._bokeh_element_id = output.metadata[EXEC_MIME_TYPE][\"id\"];\n",
              "    }\n",
              "    if (output.metadata[EXEC_MIME_TYPE][\"server_id\"] !== undefined) {\n",
              "      const bk_div = document.createElement(\"div\");\n",
              "      bk_div.innerHTML = output.data[HTML_MIME_TYPE];\n",
              "      const script_attrs = bk_div.children[0].attributes;\n",
              "      for (let i = 0; i < script_attrs.length; i++) {\n",
              "        toinsert[toinsert.length - 1].firstChild.setAttribute(script_attrs[i].name, script_attrs[i].value);\n",
              "        toinsert[toinsert.length - 1].firstChild.textContent = bk_div.children[0].textContent\n",
              "      }\n",
              "      // store reference to server id on output_area\n",
              "      output_area._bokeh_server_id = output.metadata[EXEC_MIME_TYPE][\"server_id\"];\n",
              "    }\n",
              "  }\n",
              "\n",
              "  function register_renderer(events, OutputArea) {\n",
              "\n",
              "    function append_mime(data, metadata, element) {\n",
              "      // create a DOM node to render to\n",
              "      const toinsert = this.create_output_subarea(\n",
              "        metadata,\n",
              "        CLASS_NAME,\n",
              "        EXEC_MIME_TYPE\n",
              "      );\n",
              "      this.keyboard_manager.register_events(toinsert);\n",
              "      // Render to node\n",
              "      const props = {data: data, metadata: metadata[EXEC_MIME_TYPE]};\n",
              "      render(props, toinsert[toinsert.length - 1]);\n",
              "      element.append(toinsert);\n",
              "      return toinsert\n",
              "    }\n",
              "\n",
              "    /* Handle when an output is cleared or removed */\n",
              "    events.on('clear_output.CodeCell', handleClearOutput);\n",
              "    events.on('delete.Cell', handleClearOutput);\n",
              "\n",
              "    /* Handle when a new output is added */\n",
              "    events.on('output_added.OutputArea', handleAddOutput);\n",
              "\n",
              "    /**\n",
              "     * Register the mime type and append_mime function with output_area\n",
              "     */\n",
              "    OutputArea.prototype.register_mime_type(EXEC_MIME_TYPE, append_mime, {\n",
              "      /* Is output safe? */\n",
              "      safe: true,\n",
              "      /* Index of renderer in `output_area.display_order` */\n",
              "      index: 0\n",
              "    });\n",
              "  }\n",
              "\n",
              "  // register the mime type if in Jupyter Notebook environment and previously unregistered\n",
              "  if (root.Jupyter !== undefined) {\n",
              "    const events = require('base/js/events');\n",
              "    const OutputArea = require('notebook/js/outputarea').OutputArea;\n",
              "\n",
              "    if (OutputArea.prototype.mime_types().indexOf(EXEC_MIME_TYPE) == -1) {\n",
              "      register_renderer(events, OutputArea);\n",
              "    }\n",
              "  }\n",
              "  if (typeof (root._bokeh_timeout) === \"undefined\" || force === true) {\n",
              "    root._bokeh_timeout = Date.now() + 5000;\n",
              "    root._bokeh_failed_load = false;\n",
              "  }\n",
              "\n",
              "  const NB_LOAD_WARNING = {'data': {'text/html':\n",
              "     \"<div style='background-color: #fdd'>\\n\"+\n",
              "     \"<p>\\n\"+\n",
              "     \"BokehJS does not appear to have successfully loaded. If loading BokehJS from CDN, this \\n\"+\n",
              "     \"may be due to a slow or bad network connection. Possible fixes:\\n\"+\n",
              "     \"</p>\\n\"+\n",
              "     \"<ul>\\n\"+\n",
              "     \"<li>re-rerun `output_notebook()` to attempt to load from CDN again, or</li>\\n\"+\n",
              "     \"<li>use INLINE resources instead, as so:</li>\\n\"+\n",
              "     \"</ul>\\n\"+\n",
              "     \"<code>\\n\"+\n",
              "     \"from bokeh.resources import INLINE\\n\"+\n",
              "     \"output_notebook(resources=INLINE)\\n\"+\n",
              "     \"</code>\\n\"+\n",
              "     \"</div>\"}};\n",
              "\n",
              "  function display_loaded() {\n",
              "    const el = document.getElementById(null);\n",
              "    if (el != null) {\n",
              "      el.textContent = \"BokehJS is loading...\";\n",
              "    }\n",
              "    if (root.Bokeh !== undefined) {\n",
              "      if (el != null) {\n",
              "        el.textContent = \"BokehJS \" + root.Bokeh.version + \" successfully loaded.\";\n",
              "      }\n",
              "    } else if (Date.now() < root._bokeh_timeout) {\n",
              "      setTimeout(display_loaded, 100)\n",
              "    }\n",
              "  }\n",
              "\n",
              "  function run_callbacks() {\n",
              "    try {\n",
              "      root._bokeh_onload_callbacks.forEach(function(callback) {\n",
              "        if (callback != null)\n",
              "          callback();\n",
              "      });\n",
              "    } finally {\n",
              "      delete root._bokeh_onload_callbacks\n",
              "    }\n",
              "    console.debug(\"Bokeh: all callbacks have finished\");\n",
              "  }\n",
              "\n",
              "  function load_libs(css_urls, js_urls, callback) {\n",
              "    if (css_urls == null) css_urls = [];\n",
              "    if (js_urls == null) js_urls = [];\n",
              "\n",
              "    root._bokeh_onload_callbacks.push(callback);\n",
              "    if (root._bokeh_is_loading > 0) {\n",
              "      console.debug(\"Bokeh: BokehJS is being loaded, scheduling callback at\", now());\n",
              "      return null;\n",
              "    }\n",
              "    if (js_urls == null || js_urls.length === 0) {\n",
              "      run_callbacks();\n",
              "      return null;\n",
              "    }\n",
              "    console.debug(\"Bokeh: BokehJS not loaded, scheduling load and callback at\", now());\n",
              "    root._bokeh_is_loading = css_urls.length + js_urls.length;\n",
              "\n",
              "    function on_load() {\n",
              "      root._bokeh_is_loading--;\n",
              "      if (root._bokeh_is_loading === 0) {\n",
              "        console.debug(\"Bokeh: all BokehJS libraries/stylesheets loaded\");\n",
              "        run_callbacks()\n",
              "      }\n",
              "    }\n",
              "\n",
              "    function on_error(url) {\n",
              "      console.error(\"failed to load \" + url);\n",
              "    }\n",
              "\n",
              "    for (let i = 0; i < css_urls.length; i++) {\n",
              "      const url = css_urls[i];\n",
              "      const element = document.createElement(\"link\");\n",
              "      element.onload = on_load;\n",
              "      element.onerror = on_error.bind(null, url);\n",
              "      element.rel = \"stylesheet\";\n",
              "      element.type = \"text/css\";\n",
              "      element.href = url;\n",
              "      console.debug(\"Bokeh: injecting link tag for BokehJS stylesheet: \", url);\n",
              "      document.body.appendChild(element);\n",
              "    }\n",
              "\n",
              "    for (let i = 0; i < js_urls.length; i++) {\n",
              "      const url = js_urls[i];\n",
              "      const element = document.createElement('script');\n",
              "      element.onload = on_load;\n",
              "      element.onerror = on_error.bind(null, url);\n",
              "      element.async = false;\n",
              "      element.src = url;\n",
              "      console.debug(\"Bokeh: injecting script tag for BokehJS library: \", url);\n",
              "      document.head.appendChild(element);\n",
              "    }\n",
              "  };\n",
              "\n",
              "  function inject_raw_css(css) {\n",
              "    const element = document.createElement(\"style\");\n",
              "    element.appendChild(document.createTextNode(css));\n",
              "    document.body.appendChild(element);\n",
              "  }\n",
              "\n",
              "  const js_urls = [\"https://cdn.bokeh.org/bokeh/release/bokeh-2.4.3.min.js\", \"https://cdn.bokeh.org/bokeh/release/bokeh-gl-2.4.3.min.js\", \"https://cdn.bokeh.org/bokeh/release/bokeh-widgets-2.4.3.min.js\", \"https://cdn.bokeh.org/bokeh/release/bokeh-tables-2.4.3.min.js\", \"https://cdn.bokeh.org/bokeh/release/bokeh-mathjax-2.4.3.min.js\"];\n",
              "  const css_urls = [];\n",
              "\n",
              "  const inline_js = [    function(Bokeh) {\n",
              "      Bokeh.set_log_level(\"info\");\n",
              "    },\n",
              "function(Bokeh) {\n",
              "    }\n",
              "  ];\n",
              "\n",
              "  function run_inline_js() {\n",
              "    if (root.Bokeh !== undefined || force === true) {\n",
              "          for (let i = 0; i < inline_js.length; i++) {\n",
              "      inline_js[i].call(root, root.Bokeh);\n",
              "    }\n",
              "} else if (Date.now() < root._bokeh_timeout) {\n",
              "      setTimeout(run_inline_js, 100);\n",
              "    } else if (!root._bokeh_failed_load) {\n",
              "      console.log(\"Bokeh: BokehJS failed to load within specified timeout.\");\n",
              "      root._bokeh_failed_load = true;\n",
              "    } else if (force !== true) {\n",
              "      const cell = $(document.getElementById(null)).parents('.cell').data().cell;\n",
              "      cell.output_area.append_execute_result(NB_LOAD_WARNING)\n",
              "    }\n",
              "  }\n",
              "\n",
              "  if (root._bokeh_is_loading === 0) {\n",
              "    console.debug(\"Bokeh: BokehJS loaded, going straight to plotting\");\n",
              "    run_inline_js();\n",
              "  } else {\n",
              "    load_libs(css_urls, js_urls, function() {\n",
              "      console.debug(\"Bokeh: BokehJS plotting callback run at\", now());\n",
              "      run_inline_js();\n",
              "    });\n",
              "  }\n",
              "}(window));"
            ],
            "application/vnd.bokehjs_load.v0+json": "(function(root) {\n  function now() {\n    return new Date();\n  }\n\n  const force = true;\n\n  if (typeof root._bokeh_onload_callbacks === \"undefined\" || force === true) {\n    root._bokeh_onload_callbacks = [];\n    root._bokeh_is_loading = undefined;\n  }\n\n\n  if (typeof (root._bokeh_timeout) === \"undefined\" || force === true) {\n    root._bokeh_timeout = Date.now() + 5000;\n    root._bokeh_failed_load = false;\n  }\n\n  const NB_LOAD_WARNING = {'data': {'text/html':\n     \"<div style='background-color: #fdd'>\\n\"+\n     \"<p>\\n\"+\n     \"BokehJS does not appear to have successfully loaded. If loading BokehJS from CDN, this \\n\"+\n     \"may be due to a slow or bad network connection. Possible fixes:\\n\"+\n     \"</p>\\n\"+\n     \"<ul>\\n\"+\n     \"<li>re-rerun `output_notebook()` to attempt to load from CDN again, or</li>\\n\"+\n     \"<li>use INLINE resources instead, as so:</li>\\n\"+\n     \"</ul>\\n\"+\n     \"<code>\\n\"+\n     \"from bokeh.resources import INLINE\\n\"+\n     \"output_notebook(resources=INLINE)\\n\"+\n     \"</code>\\n\"+\n     \"</div>\"}};\n\n  function display_loaded() {\n    const el = document.getElementById(null);\n    if (el != null) {\n      el.textContent = \"BokehJS is loading...\";\n    }\n    if (root.Bokeh !== undefined) {\n      if (el != null) {\n        el.textContent = \"BokehJS \" + root.Bokeh.version + \" successfully loaded.\";\n      }\n    } else if (Date.now() < root._bokeh_timeout) {\n      setTimeout(display_loaded, 100)\n    }\n  }\n\n  function run_callbacks() {\n    try {\n      root._bokeh_onload_callbacks.forEach(function(callback) {\n        if (callback != null)\n          callback();\n      });\n    } finally {\n      delete root._bokeh_onload_callbacks\n    }\n    console.debug(\"Bokeh: all callbacks have finished\");\n  }\n\n  function load_libs(css_urls, js_urls, callback) {\n    if (css_urls == null) css_urls = [];\n    if (js_urls == null) js_urls = [];\n\n    root._bokeh_onload_callbacks.push(callback);\n    if (root._bokeh_is_loading > 0) {\n      console.debug(\"Bokeh: BokehJS is being loaded, scheduling callback at\", now());\n      return null;\n    }\n    if (js_urls == null || js_urls.length === 0) {\n      run_callbacks();\n      return null;\n    }\n    console.debug(\"Bokeh: BokehJS not loaded, scheduling load and callback at\", now());\n    root._bokeh_is_loading = css_urls.length + js_urls.length;\n\n    function on_load() {\n      root._bokeh_is_loading--;\n      if (root._bokeh_is_loading === 0) {\n        console.debug(\"Bokeh: all BokehJS libraries/stylesheets loaded\");\n        run_callbacks()\n      }\n    }\n\n    function on_error(url) {\n      console.error(\"failed to load \" + url);\n    }\n\n    for (let i = 0; i < css_urls.length; i++) {\n      const url = css_urls[i];\n      const element = document.createElement(\"link\");\n      element.onload = on_load;\n      element.onerror = on_error.bind(null, url);\n      element.rel = \"stylesheet\";\n      element.type = \"text/css\";\n      element.href = url;\n      console.debug(\"Bokeh: injecting link tag for BokehJS stylesheet: \", url);\n      document.body.appendChild(element);\n    }\n\n    for (let i = 0; i < js_urls.length; i++) {\n      const url = js_urls[i];\n      const element = document.createElement('script');\n      element.onload = on_load;\n      element.onerror = on_error.bind(null, url);\n      element.async = false;\n      element.src = url;\n      console.debug(\"Bokeh: injecting script tag for BokehJS library: \", url);\n      document.head.appendChild(element);\n    }\n  };\n\n  function inject_raw_css(css) {\n    const element = document.createElement(\"style\");\n    element.appendChild(document.createTextNode(css));\n    document.body.appendChild(element);\n  }\n\n  const js_urls = [\"https://cdn.bokeh.org/bokeh/release/bokeh-2.4.3.min.js\", \"https://cdn.bokeh.org/bokeh/release/bokeh-gl-2.4.3.min.js\", \"https://cdn.bokeh.org/bokeh/release/bokeh-widgets-2.4.3.min.js\", \"https://cdn.bokeh.org/bokeh/release/bokeh-tables-2.4.3.min.js\", \"https://cdn.bokeh.org/bokeh/release/bokeh-mathjax-2.4.3.min.js\"];\n  const css_urls = [];\n\n  const inline_js = [    function(Bokeh) {\n      Bokeh.set_log_level(\"info\");\n    },\nfunction(Bokeh) {\n    }\n  ];\n\n  function run_inline_js() {\n    if (root.Bokeh !== undefined || force === true) {\n          for (let i = 0; i < inline_js.length; i++) {\n      inline_js[i].call(root, root.Bokeh);\n    }\n} else if (Date.now() < root._bokeh_timeout) {\n      setTimeout(run_inline_js, 100);\n    } else if (!root._bokeh_failed_load) {\n      console.log(\"Bokeh: BokehJS failed to load within specified timeout.\");\n      root._bokeh_failed_load = true;\n    } else if (force !== true) {\n      const cell = $(document.getElementById(null)).parents('.cell').data().cell;\n      cell.output_area.append_execute_result(NB_LOAD_WARNING)\n    }\n  }\n\n  if (root._bokeh_is_loading === 0) {\n    console.debug(\"Bokeh: BokehJS loaded, going straight to plotting\");\n    run_inline_js();\n  } else {\n    load_libs(css_urls, js_urls, function() {\n      console.debug(\"Bokeh: BokehJS plotting callback run at\", now());\n      run_inline_js();\n    });\n  }\n}(window));"
          },
          "metadata": {}
        },
        {
          "output_type": "display_data",
          "data": {
            "text/html": [
              "\n",
              "  <div class=\"bk-root\" id=\"7aa59706-b23c-4ad4-b330-301b6b1c666f\" data-root-id=\"1429\"></div>\n"
            ]
          },
          "metadata": {}
        },
        {
          "output_type": "display_data",
          "data": {
            "application/javascript": [
              "(function(root) {\n",
              "  function embed_document(root) {\n",
              "  const docs_json = {\"5d425e9a-440c-4936-b1e9-30db7b782a51\":{\"defs\":[],\"roots\":{\"references\":[{\"attributes\":{\"below\":[{\"id\":\"1440\"}],\"center\":[{\"id\":\"1443\"},{\"id\":\"1447\"},{\"id\":\"1478\"}],\"left\":[{\"id\":\"1444\"}],\"renderers\":[{\"id\":\"1466\"},{\"id\":\"1484\"},{\"id\":\"1503\"},{\"id\":\"1524\"}],\"title\":{\"id\":\"1430\"},\"toolbar\":{\"id\":\"1455\"},\"x_range\":{\"id\":\"1432\"},\"x_scale\":{\"id\":\"1436\"},\"y_range\":{\"id\":\"1434\"},\"y_scale\":{\"id\":\"1438\"}},\"id\":\"1429\",\"subtype\":\"Figure\",\"type\":\"Plot\"},{\"attributes\":{},\"id\":\"1516\",\"type\":\"UnionRenderers\"},{\"attributes\":{\"text_color\":{\"value\":\"purple\"},\"text_font_size\":{\"value\":\"18pt\"},\"x\":{\"field\":\"x\"},\"y\":{\"field\":\"y\"}},\"id\":\"1521\",\"type\":\"Text\"},{\"attributes\":{\"source\":{\"id\":\"1480\"}},\"id\":\"1485\",\"type\":\"CDSView\"},{\"attributes\":{},\"id\":\"1539\",\"type\":\"UnionRenderers\"},{\"attributes\":{},\"id\":\"1540\",\"type\":\"Selection\"},{\"attributes\":{},\"id\":\"1452\",\"type\":\"ResetTool\"},{\"attributes\":{\"axis_label\":\"X Axis Label\",\"coordinates\":null,\"formatter\":{\"id\":\"1473\"},\"group\":null,\"major_label_policy\":{\"id\":\"1474\"},\"ticker\":{\"id\":\"1441\"}},\"id\":\"1440\",\"type\":\"LinearAxis\"},{\"attributes\":{},\"id\":\"1453\",\"type\":\"HelpTool\"},{\"attributes\":{\"data\":{\"x\":[1,2,3,4,5],\"y\":[1,2,3,4,5]},\"selected\":{\"id\":\"1496\"},\"selection_policy\":{\"id\":\"1495\"}},\"id\":\"1480\",\"type\":\"ColumnDataSource\"},{\"attributes\":{\"coordinates\":null,\"data_source\":{\"id\":\"1480\"},\"glyph\":{\"id\":\"1481\"},\"group\":null,\"hover_glyph\":null,\"muted_glyph\":{\"id\":\"1483\"},\"nonselection_glyph\":{\"id\":\"1482\"},\"view\":{\"id\":\"1485\"}},\"id\":\"1484\",\"type\":\"GlyphRenderer\"},{\"attributes\":{\"overlay\":{\"id\":\"1454\"}},\"id\":\"1450\",\"type\":\"BoxZoomTool\"},{\"attributes\":{},\"id\":\"1436\",\"type\":\"LinearScale\"},{\"attributes\":{},\"id\":\"1470\",\"type\":\"BasicTickFormatter\"},{\"attributes\":{},\"id\":\"1432\",\"type\":\"DataRange1d\"},{\"attributes\":{},\"id\":\"1471\",\"type\":\"AllLabels\"},{\"attributes\":{\"data\":{\"x\":[2.5],\"y\":[2.5]},\"selected\":{\"id\":\"1517\"},\"selection_policy\":{\"id\":\"1516\"}},\"id\":\"1499\",\"type\":\"ColumnDataSource\"},{\"attributes\":{\"source\":{\"id\":\"1520\"}},\"id\":\"1525\",\"type\":\"CDSView\"},{\"attributes\":{},\"id\":\"1449\",\"type\":\"WheelZoomTool\"},{\"attributes\":{},\"id\":\"1473\",\"type\":\"BasicTickFormatter\"},{\"attributes\":{\"fill_alpha\":{\"value\":0.1},\"fill_color\":{\"value\":\"red\"},\"hatch_alpha\":{\"value\":0.1},\"line_alpha\":{\"value\":0.1},\"size\":{\"value\":10},\"x\":{\"field\":\"x\"},\"y\":{\"field\":\"y\"}},\"id\":\"1482\",\"type\":\"Circle\"},{\"attributes\":{},\"id\":\"1438\",\"type\":\"LinearScale\"},{\"attributes\":{\"label\":{\"value\":\"Text\"},\"renderers\":[{\"id\":\"1524\"}]},\"id\":\"1542\",\"type\":\"LegendItem\"},{\"attributes\":{\"bottom_units\":\"screen\",\"coordinates\":null,\"fill_alpha\":0.5,\"fill_color\":\"lightgrey\",\"group\":null,\"left_units\":\"screen\",\"level\":\"overlay\",\"line_alpha\":1.0,\"line_color\":\"black\",\"line_dash\":[4,4],\"line_width\":2,\"right_units\":\"screen\",\"syncable\":false,\"top_units\":\"screen\"},\"id\":\"1454\",\"type\":\"BoxAnnotation\"},{\"attributes\":{\"line_alpha\":0.1,\"line_color\":\"blue\",\"line_width\":2,\"x\":{\"field\":\"x\"},\"y\":{\"field\":\"y\"}},\"id\":\"1464\",\"type\":\"Line\"},{\"attributes\":{},\"id\":\"1445\",\"type\":\"BasicTicker\"},{\"attributes\":{\"fill_color\":{\"value\":\"green\"},\"height\":{\"value\":1},\"width\":{\"value\":1},\"x\":{\"field\":\"x\"},\"y\":{\"field\":\"y\"}},\"id\":\"1500\",\"type\":\"Rect\"},{\"attributes\":{\"tools\":[{\"id\":\"1448\"},{\"id\":\"1449\"},{\"id\":\"1450\"},{\"id\":\"1451\"},{\"id\":\"1452\"},{\"id\":\"1453\"}]},\"id\":\"1455\",\"type\":\"Toolbar\"},{\"attributes\":{\"source\":{\"id\":\"1462\"}},\"id\":\"1467\",\"type\":\"CDSView\"},{\"attributes\":{\"coordinates\":null,\"data_source\":{\"id\":\"1520\"},\"glyph\":{\"id\":\"1521\"},\"group\":null,\"hover_glyph\":null,\"muted_glyph\":{\"id\":\"1523\"},\"nonselection_glyph\":{\"id\":\"1522\"},\"view\":{\"id\":\"1525\"}},\"id\":\"1524\",\"type\":\"GlyphRenderer\"},{\"attributes\":{\"fill_alpha\":{\"value\":0.2},\"fill_color\":{\"value\":\"red\"},\"hatch_alpha\":{\"value\":0.2},\"line_alpha\":{\"value\":0.2},\"size\":{\"value\":10},\"x\":{\"field\":\"x\"},\"y\":{\"field\":\"y\"}},\"id\":\"1483\",\"type\":\"Circle\"},{\"attributes\":{},\"id\":\"1476\",\"type\":\"Selection\"},{\"attributes\":{},\"id\":\"1496\",\"type\":\"Selection\"},{\"attributes\":{},\"id\":\"1517\",\"type\":\"Selection\"},{\"attributes\":{\"coordinates\":null,\"group\":null,\"items\":[{\"id\":\"1479\"},{\"id\":\"1498\"},{\"id\":\"1519\"},{\"id\":\"1542\"}]},\"id\":\"1478\",\"type\":\"Legend\"},{\"attributes\":{},\"id\":\"1474\",\"type\":\"AllLabels\"},{\"attributes\":{\"line_alpha\":0.2,\"line_color\":\"blue\",\"line_width\":2,\"x\":{\"field\":\"x\"},\"y\":{\"field\":\"y\"}},\"id\":\"1465\",\"type\":\"Line\"},{\"attributes\":{\"label\":{\"value\":\"Circle\"},\"renderers\":[{\"id\":\"1484\"}]},\"id\":\"1498\",\"type\":\"LegendItem\"},{\"attributes\":{},\"id\":\"1475\",\"type\":\"UnionRenderers\"},{\"attributes\":{},\"id\":\"1451\",\"type\":\"SaveTool\"},{\"attributes\":{\"coordinates\":null,\"data_source\":{\"id\":\"1499\"},\"glyph\":{\"id\":\"1500\"},\"group\":null,\"hover_glyph\":null,\"muted_glyph\":{\"id\":\"1502\"},\"nonselection_glyph\":{\"id\":\"1501\"},\"view\":{\"id\":\"1504\"}},\"id\":\"1503\",\"type\":\"GlyphRenderer\"},{\"attributes\":{\"coordinates\":null,\"data_source\":{\"id\":\"1462\"},\"glyph\":{\"id\":\"1463\"},\"group\":null,\"hover_glyph\":null,\"muted_glyph\":{\"id\":\"1465\"},\"nonselection_glyph\":{\"id\":\"1464\"},\"view\":{\"id\":\"1467\"}},\"id\":\"1466\",\"type\":\"GlyphRenderer\"},{\"attributes\":{},\"id\":\"1441\",\"type\":\"BasicTicker\"},{\"attributes\":{\"data\":{\"text\":[\"A\",\"B\",\"C\",\"D\",\"E\"],\"x\":[1,2,3,4,5],\"y\":[5,4,3,2,1]},\"selected\":{\"id\":\"1540\"},\"selection_policy\":{\"id\":\"1539\"}},\"id\":\"1520\",\"type\":\"ColumnDataSource\"},{\"attributes\":{\"axis\":{\"id\":\"1440\"},\"coordinates\":null,\"group\":null,\"ticker\":null},\"id\":\"1443\",\"type\":\"Grid\"},{\"attributes\":{\"line_color\":\"blue\",\"line_width\":2,\"x\":{\"field\":\"x\"},\"y\":{\"field\":\"y\"}},\"id\":\"1463\",\"type\":\"Line\"},{\"attributes\":{\"source\":{\"id\":\"1499\"}},\"id\":\"1504\",\"type\":\"CDSView\"},{\"attributes\":{\"label\":{\"value\":\"Line\"},\"renderers\":[{\"id\":\"1466\"}]},\"id\":\"1479\",\"type\":\"LegendItem\"},{\"attributes\":{\"label\":{\"value\":\"Rectangle\"},\"renderers\":[{\"id\":\"1503\"}]},\"id\":\"1519\",\"type\":\"LegendItem\"},{\"attributes\":{},\"id\":\"1434\",\"type\":\"DataRange1d\"},{\"attributes\":{\"fill_color\":{\"value\":\"red\"},\"size\":{\"value\":10},\"x\":{\"field\":\"x\"},\"y\":{\"field\":\"y\"}},\"id\":\"1481\",\"type\":\"Circle\"},{\"attributes\":{\"fill_alpha\":{\"value\":0.2},\"fill_color\":{\"value\":\"green\"},\"hatch_alpha\":{\"value\":0.2},\"height\":{\"value\":1},\"line_alpha\":{\"value\":0.2},\"width\":{\"value\":1},\"x\":{\"field\":\"x\"},\"y\":{\"field\":\"y\"}},\"id\":\"1502\",\"type\":\"Rect\"},{\"attributes\":{\"coordinates\":null,\"group\":null,\"text\":\"Example Glyphs\"},\"id\":\"1430\",\"type\":\"Title\"},{\"attributes\":{\"text_alpha\":{\"value\":0.1},\"text_color\":{\"value\":\"purple\"},\"text_font_size\":{\"value\":\"18pt\"},\"x\":{\"field\":\"x\"},\"y\":{\"field\":\"y\"}},\"id\":\"1522\",\"type\":\"Text\"},{\"attributes\":{\"fill_alpha\":{\"value\":0.1},\"fill_color\":{\"value\":\"green\"},\"hatch_alpha\":{\"value\":0.1},\"height\":{\"value\":1},\"line_alpha\":{\"value\":0.1},\"width\":{\"value\":1},\"x\":{\"field\":\"x\"},\"y\":{\"field\":\"y\"}},\"id\":\"1501\",\"type\":\"Rect\"},{\"attributes\":{},\"id\":\"1448\",\"type\":\"PanTool\"},{\"attributes\":{\"axis_label\":\"Y Axis Label\",\"coordinates\":null,\"formatter\":{\"id\":\"1470\"},\"group\":null,\"major_label_policy\":{\"id\":\"1471\"},\"ticker\":{\"id\":\"1445\"}},\"id\":\"1444\",\"type\":\"LinearAxis\"},{\"attributes\":{\"text_alpha\":{\"value\":0.2},\"text_color\":{\"value\":\"purple\"},\"text_font_size\":{\"value\":\"18pt\"},\"x\":{\"field\":\"x\"},\"y\":{\"field\":\"y\"}},\"id\":\"1523\",\"type\":\"Text\"},{\"attributes\":{\"axis\":{\"id\":\"1444\"},\"coordinates\":null,\"dimension\":1,\"group\":null,\"ticker\":null},\"id\":\"1447\",\"type\":\"Grid\"},{\"attributes\":{\"data\":{\"x\":[1,2,3,4,5],\"y\":[5,4,3,2,1]},\"selected\":{\"id\":\"1476\"},\"selection_policy\":{\"id\":\"1475\"}},\"id\":\"1462\",\"type\":\"ColumnDataSource\"},{\"attributes\":{},\"id\":\"1495\",\"type\":\"UnionRenderers\"}],\"root_ids\":[\"1429\"]},\"title\":\"Bokeh Application\",\"version\":\"2.4.3\"}};\n",
              "  const render_items = [{\"docid\":\"5d425e9a-440c-4936-b1e9-30db7b782a51\",\"root_ids\":[\"1429\"],\"roots\":{\"1429\":\"7aa59706-b23c-4ad4-b330-301b6b1c666f\"}}];\n",
              "  root.Bokeh.embed.embed_items_notebook(docs_json, render_items);\n",
              "  }\n",
              "  if (root.Bokeh !== undefined) {\n",
              "    embed_document(root);\n",
              "  } else {\n",
              "    let attempts = 0;\n",
              "    const timer = setInterval(function(root) {\n",
              "      if (root.Bokeh !== undefined) {\n",
              "        clearInterval(timer);\n",
              "        embed_document(root);\n",
              "      } else {\n",
              "        attempts++;\n",
              "        if (attempts > 100) {\n",
              "          clearInterval(timer);\n",
              "          console.log(\"Bokeh: ERROR: Unable to run BokehJS code because BokehJS library is missing\");\n",
              "        }\n",
              "      }\n",
              "    }, 10, root)\n",
              "  }\n",
              "})(window);"
            ],
            "application/vnd.bokehjs_exec.v0+json": ""
          },
          "metadata": {
            "application/vnd.bokehjs_exec.v0+json": {
              "id": "1429"
            }
          }
        }
      ]
    },
    {
      "cell_type": "markdown",
      "source": [
        "In this example, we create a Bokeh figure object (p) and use various glyph functions, such as line(), circle(), rect(), and text(), to add different glyphs to the plot. We customize the appearance of the glyphs using the available parameters, such as line_color, line_width, size, fill_color, text_font_size, text_color, etc. Finally, we use the show() function to display the Bokeh plot in a Jupyter Notebook output cell. The legend_label parameter is used to provide a label for each glyph in the legend of the plot.\n",
        "\n",
        "\n",
        "\n"
      ],
      "metadata": {
        "id": "2yC-kh9_DpV3"
      }
    },
    {
      "cell_type": "markdown",
      "source": [
        "# **Question 03**"
      ],
      "metadata": {
        "id": "3Bek-ULqB1hR"
      }
    },
    {
      "cell_type": "markdown",
      "source": [
        "Bokeh provides various customization options to modify the appearance of a plot, including axes, title, and legend. Here are some examples:\n",
        "\n",
        "Customizing Axes:\n",
        "You can customize the appearance of the axes in a Bokeh plot using the axis properties of the figure object (p in this example). For example:\n"
      ],
      "metadata": {
        "id": "sVGPeE4HEpuU"
      }
    },
    {
      "cell_type": "code",
      "source": [
        "p.title.text = \"My Custom Title\"  # Update plot title\n",
        "p.title.text_color = \"blue\"       # Update title text color\n",
        "p.title.text_font_size = \"20pt\"   # Update title text font size\n",
        "\n",
        "p.xaxis.axis_label = \"X Axis Label\"  # Update x-axis label\n",
        "p.xaxis.axis_label_text_color = \"green\"  # Update x-axis label text color\n",
        "p.xaxis.axis_label_text_font_style = \"italic\"  # Update x-axis label text font style\n",
        "\n",
        "p.yaxis.axis_label = \"Y Axis Label\"  # Update y-axis label\n",
        "p.yaxis.axis_label_text_color = \"red\"  # Update y-axis label text color\n",
        "p.yaxis.axis_label_text_font_style = \"bold\"  # Update y-axis label text font style\n",
        "\n",
        "p.xaxis.major_label_text_color = \"purple\"  # Update x-axis tick label text color\n",
        "p.yaxis.major_label_text_color = \"orange\"  # Update y-axis tick label text color\n",
        "\n",
        "p.xaxis.major_tick_line_color = \"black\"  # Update x-axis tick line color\n",
        "p.yaxis.major_tick_line_color = \"black\"  # Update y-axis tick line color\n",
        "\n",
        "p.xaxis.minor_tick_line_color = \"gray\"  # Update x-axis minor tick line color\n",
        "p.yaxis.minor_tick_line_color = \"gray\"  # Update y-axis minor tick line color\n",
        "\n",
        "p.xaxis.major_tick_line_width = 2  # Update x-axis tick line width\n",
        "p.yaxis.major_tick_line_width = 2  # Update y-axis tick line width\n",
        "\n",
        "p.xaxis.minor_tick_line_width = 1  # Update x-axis minor tick line width\n",
        "p.yaxis.minor_tick_line_width = 1  # Update y-axis minor tick line width\n",
        "\n",
        "p.xaxis.major_tick_in = 5  # Update x-axis tick length inside the plot\n",
        "p.yaxis.major_tick_in = 5  # Update y-axis tick length inside the plot\n",
        "\n",
        "p.xaxis.major_tick_out = 10  # Update x-axis tick length outside the plot\n",
        "p.yaxis.major_tick_out = 10  # Update y-axis tick length outside the plot\n",
        "\n",
        "p.xaxis.major_label_orientation = \"vertical\"  # Update x-axis tick label orientation\n",
        "p.yaxis.major_label_orientation = \"horizontal\"  # Update y-axis tick label orientation\n"
      ],
      "metadata": {
        "id": "6mKK9OJJEwk2"
      },
      "execution_count": 7,
      "outputs": []
    },
    {
      "cell_type": "markdown",
      "source": [
        "Customizing Title:\n",
        "You can customize the appearance of the plot title using the title property of the figure object (p in this example). For example:"
      ],
      "metadata": {
        "id": "x-B7dMrbEyVX"
      }
    },
    {
      "cell_type": "code",
      "source": [
        "p.title.text = \"My Custom Title\"  # Update plot title\n",
        "p.title.text_color = \"blue\"       # Update title text color\n",
        "p.title.text_font_size = \"20pt\"   # Update title text font size\n"
      ],
      "metadata": {
        "id": "wRN_FUPaE3c7"
      },
      "execution_count": 8,
      "outputs": []
    },
    {
      "cell_type": "markdown",
      "source": [
        "Customizing Legend:\n",
        "You can customize the appearance of the legend in a Bokeh plot using the legend property of the figure object (p in this example). For example:"
      ],
      "metadata": {
        "id": "CuG_G07bE5Le"
      }
    },
    {
      "cell_type": "code",
      "source": [
        "p.legend.title = \"My Legend\"  # Update legend title\n",
        "p.legend.title_text_font_size = \"16pt\"  # Update legend title text font size\n",
        "p.legend.title_text_color = \"green\"  # Update legend title text color\n",
        "\n",
        "p.legend.label_text_font_size = \"12pt\"  # Update legend label text font size\n",
        "p.legend.label_text_color = \"purple\"   # Update legend label\n"
      ],
      "metadata": {
        "id": "DZcvsvbfFFCo"
      },
      "execution_count": 9,
      "outputs": []
    },
    {
      "cell_type": "markdown",
      "source": [
        "# **Question 04**"
      ],
      "metadata": {
        "id": "wqRnb9aHFHhg"
      }
    },
    {
      "cell_type": "markdown",
      "source": [
        "Bokeh server is a component of the Bokeh library in Python that allows you to create interactive plots that can be updated in real time. It allows for the creation of dynamic, data-driven web applications with interactive visualizations.\n",
        "\n",
        "To use Bokeh server, you would typically follow these steps:\n",
        "\n",
        "Define the data: First, you need to define the data that you want to visualize in your Bokeh plot. This could be in the form of a Pandas DataFrame, a NumPy array, or any other data structure that can be used to create Bokeh plots.\n",
        "\n",
        "Create a Bokeh plot: Next, you create a Bokeh plot using the Bokeh plotting API. You can specify various visual properties such as glyphs, axes, title, and legend to customize the appearance of the plot.\n",
        "\n",
        "Add interactivity: Bokeh server allows you to add interactivity to your plots by defining callback functions that are triggered by user interactions, such as button clicks or selection events. You can use these callback functions to update the data or visual properties of the plot dynamically.\n",
        "\n",
        "Define Bokeh server application: Once you have created your Bokeh plot, you can define a Bokeh server application that encapsulates the plot and its associated callback functions. This is done using the bokeh.application module in Bokeh.\n",
        "\n",
        "Run Bokeh server: Finally, you can run the Bokeh server using the bokeh serve command in your Python environment, passing in the path to your Bokeh server application. This starts the Bokeh server and makes your interactive plot accessible through a web browser.\n",
        "\n",
        "Here's an example of how you can use Bokeh server to create an interactive plot that can be updated in real time:"
      ],
      "metadata": {
        "id": "xhLPcNqkFOYZ"
      }
    },
    {
      "cell_type": "code",
      "source": [
        "from bokeh.io import curdoc\n",
        "from bokeh.plotting import figure\n",
        "from bokeh.models import ColumnDataSource\n",
        "from bokeh.layouts import column\n",
        "from bokeh.models.widgets import Button\n",
        "\n",
        "# Define the data\n",
        "source = ColumnDataSource(data=dict(x=[1, 2, 3, 4], y=[1, 4, 9, 16]))\n",
        "\n",
        "# Create a Bokeh plot\n",
        "plot = figure(title=\"Real-time Plot\")\n",
        "plot.line('x', 'y', source=source)\n",
        "\n",
        "# Define callback function\n",
        "def update_data():\n",
        "    source.data['y'] = [i**2 for i in source.data['x']]  # Update y-values of the data source\n",
        "\n",
        "# Create a Button widget and add callback function to it\n",
        "button = Button(label=\"Update Data\")\n",
        "button.on_click(update_data)\n",
        "\n",
        "# Create a layout for the plot and the button\n",
        "layout = column(plot, button)\n",
        "\n",
        "# Create a Bokeh server application\n",
        "curdoc().add_root(layout)\n",
        "\n"
      ],
      "metadata": {
        "id": "iW1umOZZFm8t"
      },
      "execution_count": 11,
      "outputs": []
    },
    {
      "cell_type": "markdown",
      "source": [
        "In this example, we define a simple quadratic function as the data source, create a plot with a line glyph, and add a Button widget with a callback function that updates the y-values of the data source. When we run the Bokeh server, we can view the plot in a web browser and click the button to update the plot in real time."
      ],
      "metadata": {
        "id": "3L5FGfD4Fp98"
      }
    },
    {
      "cell_type": "markdown",
      "source": [
        "# **Question 05**"
      ],
      "metadata": {
        "id": "EjYZ5NiTFuwy"
      }
    },
    {
      "cell_type": "markdown",
      "source": [
        "Bokeh plots can be embedded into web pages or dashboards built using popular Python web frameworks such as Flask or Django. Here's an outline of the steps you would typically follow to embed a Bokeh plot into a web page or dashboard:\n",
        "\n",
        "Create a Bokeh plot: First, you would create a Bokeh plot using the Bokeh plotting API, specifying the visual properties, glyphs, and data that you want to display in the plot.\n",
        "\n",
        "Convert the Bokeh plot to HTML: Once the Bokeh plot is created, you can convert it to an HTML representation using the bokeh.embed module in Bokeh. This module provides functions such as components() and file_html() that allow you to generate HTML code for the plot.\n",
        "\n",
        "Integrate the Bokeh plot into Flask or Django: In a Flask or Django web application, you can use the HTML code generated in the previous step to embed the Bokeh plot into a template or view. You can render the HTML code in the appropriate location in your web page or dashboard.\n",
        "\n",
        "Here's an example of how you can embed a Bokeh plot into a Flask web application:"
      ],
      "metadata": {
        "id": "TTOX3yvpF6zq"
      }
    },
    {
      "cell_type": "code",
      "source": [
        "from flask import Flask, render_template\n",
        "from bokeh.plotting import figure\n",
        "from bokeh.embed import components\n",
        "\n",
        "app = Flask(__name__)\n",
        "\n",
        "# Define route to display Bokeh plot\n",
        "@app.route('/plot')\n",
        "def plot():\n",
        "    # Create a Bokeh plot\n",
        "    plot = figure(title=\"Embedded Bokeh Plot\")\n",
        "    plot.line([1, 2, 3, 4], [1, 4, 9, 16])\n",
        "\n",
        "    # Convert Bokeh plot to HTML components\n",
        "    script, div = components(plot)\n",
        "\n",
        "    # Render the plot in a template\n",
        "    return render_template('plot.html', script=script, div=div)\n",
        "\n",
        "if __name__ == '__main__':\n",
        "    app.run(debug=True)\n",
        "\n"
      ],
      "metadata": {
        "colab": {
          "base_uri": "https://localhost:8080/"
        },
        "id": "FQIc9d-JF_ov",
        "outputId": "559c468e-d772-4538-8092-8b9c893484fd"
      },
      "execution_count": 13,
      "outputs": [
        {
          "output_type": "stream",
          "name": "stdout",
          "text": [
            " * Serving Flask app '__main__'\n",
            " * Debug mode: on\n"
          ]
        },
        {
          "output_type": "stream",
          "name": "stderr",
          "text": [
            "INFO:werkzeug:\u001b[31m\u001b[1mWARNING: This is a development server. Do not use it in a production deployment. Use a production WSGI server instead.\u001b[0m\n",
            " * Running on http://127.0.0.1:5000\n",
            "INFO:werkzeug:\u001b[33mPress CTRL+C to quit\u001b[0m\n",
            "INFO:werkzeug: * Restarting with stat\n"
          ]
        }
      ]
    },
    {
      "cell_type": "markdown",
      "source": [
        "In this example, we define a Flask web application with a single route /plot that renders a Bokeh plot. We create a Bokeh plot with a line glyph, convert it to HTML components using the components() function, and pass the resulting script and div components to a template called plot.html using the render_template() function. In the template, we use the script and div variables to embed the Bokeh plot into the HTML code that will be sent to the browser. The debug=True parameter in the app.run() function enables debug mode for the Flask application, which allows for automatic reloading of the web page during development."
      ],
      "metadata": {
        "id": "hdMk1ukGGBhR"
      }
    },
    {
      "cell_type": "code",
      "source": [],
      "metadata": {
        "id": "E5pBZFYhGRjc"
      },
      "execution_count": null,
      "outputs": []
    }
  ]
}