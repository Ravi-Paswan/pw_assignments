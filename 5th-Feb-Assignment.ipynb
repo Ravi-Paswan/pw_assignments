{
 "cells": [
  {
   "cell_type": "markdown",
   "id": "b852206a-e7e4-4302-b5d3-8a593997cd08",
   "metadata": {},
   "source": [
    "# Question 01"
   ]
  },
  {
   "cell_type": "markdown",
   "id": "9946d7e3-b561-4ee0-b19e-3d029785c8e3",
   "metadata": {},
   "source": [
    "In object-oriented programming (OOP), a class is a blueprint for creating objects that encapsulate data and behavior. It defines the attributes (data) and methods (functions) that an object will have. Objects are instances of a class, and they have their own unique state and behavior based on the class definition.\n",
    "\n",
    "In Python, a class is defined using the class keyword, followed by the class name and a colon. The attributes and methods of the class are defined within the class block using methods, which are functions defined within a class. Here's an example of a simple Python class:"
   ]
  },
  {
   "cell_type": "code",
   "execution_count": 1,
   "id": "d12a3f72-39ea-4a74-8d7b-8bc7a5cbff3e",
   "metadata": {},
   "outputs": [],
   "source": [
    "class Dog:\n",
    "    def __init__(self, name, age):\n",
    "        self.name = name\n",
    "        self.age = age\n",
    "\n",
    "    def bark(self):\n",
    "        print(\"Woof!\")\n"
   ]
  },
  {
   "cell_type": "markdown",
   "id": "19b84dae-edf7-4998-b284-c3ee2fa5b5c3",
   "metadata": {},
   "source": [
    "This class, called Dog, has two attributes (name and age) and one method (bark). The __init__ method is a special method that is called when a new object is created, and it initializes the object's attributes.\n",
    "\n",
    "To create an instance of the Dog class, you can simply call the class as if it were a function, passing in the required arguments:"
   ]
  },
  {
   "cell_type": "code",
   "execution_count": 2,
   "id": "c4656901-8969-4f5d-9400-afddaadf6b41",
   "metadata": {},
   "outputs": [],
   "source": [
    "my_dog = Dog(\"Fido\", 3)\n"
   ]
  },
  {
   "cell_type": "markdown",
   "id": "92971731-a5f8-4101-88eb-2060fe72a0e5",
   "metadata": {},
   "source": [
    "This creates a new object of type Dog with the name \"Fido\" and age 3. You can access the object's attributes using dot notation:"
   ]
  },
  {
   "cell_type": "code",
   "execution_count": 3,
   "id": "7eeb68d6-d24a-4389-b5aa-40a85cc0b9a7",
   "metadata": {},
   "outputs": [
    {
     "name": "stdout",
     "output_type": "stream",
     "text": [
      "Fido\n",
      "3\n"
     ]
    }
   ],
   "source": [
    "print(my_dog.name)  # output: Fido\n",
    "print(my_dog.age)   # output: 3\n"
   ]
  },
  {
   "cell_type": "markdown",
   "id": "0463b15b-74b8-4a4c-9307-1db69bf02998",
   "metadata": {},
   "source": [
    "You can also call the object's methods using dot notation:"
   ]
  },
  {
   "cell_type": "code",
   "execution_count": 5,
   "id": "6aa0c127-c48c-4d5a-85c7-8ad67739cab0",
   "metadata": {},
   "outputs": [
    {
     "name": "stdout",
     "output_type": "stream",
     "text": [
      "Woof!\n"
     ]
    }
   ],
   "source": [
    "my_dog.bark()  # output: Woof!\n"
   ]
  },
  {
   "cell_type": "markdown",
   "id": "dc4bddb7-bdea-4516-8062-2e7164972784",
   "metadata": {},
   "source": [
    "# Question 02"
   ]
  },
  {
   "cell_type": "markdown",
   "id": "69512c2a-47b2-492b-9cd3-ff80bcf1a840",
   "metadata": {},
   "source": [
    "* Encapsulation\n",
    "* Inheritance\n",
    "* Polymorphism\n",
    "* Abstraction"
   ]
  },
  {
   "cell_type": "markdown",
   "id": "1eac902b-cf7e-4ce3-af69-2d3b2bad3835",
   "metadata": {},
   "source": [
    "# Question 03"
   ]
  },
  {
   "cell_type": "markdown",
   "id": "b4bf93a4-33ef-45b7-9798-28034ec405cf",
   "metadata": {},
   "source": [
    "In Python, the __init__() function is a special method that is called automatically when an object of a class is created. It is used to initialize the attributes of the object and perform any necessary setup or configuration for the object.\n",
    "\n",
    "The __init__() method takes at least one parameter, self, which refers to the instance of the class being created. Other parameters can also be included to allow for the initialization of specific attributes of the object.\n",
    "\n",
    "Here's an example of a class that uses the __init__() method to initialize the attributes of an object:"
   ]
  },
  {
   "cell_type": "code",
   "execution_count": 6,
   "id": "d21749da-bb2a-476b-86ff-3d79ba15ad8f",
   "metadata": {},
   "outputs": [
    {
     "name": "stdout",
     "output_type": "stream",
     "text": [
      "Hello, my name is Alice and I am 30 years old.\n"
     ]
    }
   ],
   "source": [
    "class Person:\n",
    "    def __init__(self, name, age):\n",
    "        self.name = name\n",
    "        self.age = age\n",
    "\n",
    "    def say_hello(self):\n",
    "        print(f\"Hello, my name is {self.name} and I am {self.age} years old.\")\n",
    "\n",
    "person1 = Person(\"Alice\", 30)\n",
    "person1.say_hello()  # output: Hello, my name is Alice and I am 30 years old.\n"
   ]
  },
  {
   "cell_type": "markdown",
   "id": "f7f72119-fdb0-4e26-980b-3c518de61058",
   "metadata": {},
   "source": [
    "In this example, the Person class has an __init__() method that takes two parameters, name and age, which are used to initialize the object's name and age attributes. The say_hello() method is also defined to print a greeting message that includes the person's name and age.\n",
    "\n",
    "When an instance of the Person class is created using the Person(\"Alice\", 30) syntax, the __init__() method is automatically called with self set to the newly created object, and name and age set to the values passed in. This initializes the name and age attributes of the object to \"Alice\" and 30, respectively.\n",
    "\n",
    "The say_hello() method can then be called on the person1 object to print a greeting message that includes the person's name and age. The output in this case is \"Hello, my name is Alice and I am 30 years old.\""
   ]
  },
  {
   "cell_type": "markdown",
   "id": "0a9cf44c-04a2-46c5-bc51-a658fd87660b",
   "metadata": {},
   "source": [
    "# Question 04"
   ]
  },
  {
   "cell_type": "markdown",
   "id": "00c2ce54-2bfc-4b6c-bcaf-41a92198d425",
   "metadata": {},
   "source": [
    "In object-oriented programming (OOP), self is a reference to the instance of a class that is currently being operated on. It is a way for a method within a class to access the attributes and methods of the same instance of the class, and differentiate it from other instances of the same class.\n",
    "\n",
    "When a method is called on an object, Python automatically passes the object instance as the first argument to the method, and this is conventionally called self. This allows the method to access and modify the object's attributes and call its methods."
   ]
  },
  {
   "cell_type": "markdown",
   "id": "366968ff-6d55-4e46-892a-0750b4612035",
   "metadata": {},
   "source": [
    "# Question 05"
   ]
  },
  {
   "cell_type": "markdown",
   "id": "f0463fc6-d06e-4caa-8adc-808590175db4",
   "metadata": {},
   "source": [
    "In Python, inheritance is a mechanism that allows a class to inherit the attributes and methods of another class, called the parent or superclass. This enables code reuse and allows for the creation of hierarchical class structures.\n",
    "\n",
    "There are three types of inheritance in Python: single inheritance, multiple inheritance, and multilevel inheritance.\n",
    "\n",
    "Single Inheritance:\n",
    "In single inheritance, a class inherits from only one parent class. This is the simplest and most common form of inheritance. Here's an example:"
   ]
  },
  {
   "cell_type": "code",
   "execution_count": 9,
   "id": "eaacbc63-d83b-4254-a165-2e6e24511469",
   "metadata": {},
   "outputs": [
    {
     "name": "stdout",
     "output_type": "stream",
     "text": [
      "Animal is eating...\n",
      "Dog is barking...\n"
     ]
    }
   ],
   "source": [
    "class Animal:\n",
    "    def eat(self):\n",
    "        print(\"Animal is eating...\")\n",
    "\n",
    "class Dog(Animal):\n",
    "    def bark(self):\n",
    "        print(\"Dog is barking...\")\n",
    "\n",
    "dog1 = Dog()\n",
    "dog1.eat()  # output: Animal is eating...\n",
    "dog1.bark()  # output: Dog is barking...\n"
   ]
  },
  {
   "cell_type": "markdown",
   "id": "0abbc00f-02ed-4916-ae49-0ba344d6002b",
   "metadata": {},
   "source": [
    "In this example, the Dog class inherits from the Animal class using the syntax class Dog(Animal):. This means that the Dog class has access to the eat() method defined in the Animal class, which is called on the dog1 object using dog1.eat(). The Dog class also defines its own method bark(), which is called on dog1 using dog1.bark().\n",
    "\n",
    "Multiple Inheritance:\n",
    "In multiple inheritance, a class inherits from multiple parent classes. This allows for the combination of attributes and methods from multiple classes. Here's an example:"
   ]
  },
  {
   "cell_type": "code",
   "execution_count": 10,
   "id": "7eae3f7b-2a81-434a-aac4-0bd568dd86ed",
   "metadata": {},
   "outputs": [
    {
     "name": "stdout",
     "output_type": "stream",
     "text": [
      "Method A\n",
      "Method B\n",
      "Method C\n"
     ]
    }
   ],
   "source": [
    "class A:\n",
    "    def method_a(self):\n",
    "        print(\"Method A\")\n",
    "\n",
    "class B:\n",
    "    def method_b(self):\n",
    "        print(\"Method B\")\n",
    "\n",
    "class C(A, B):\n",
    "    def method_c(self):\n",
    "        print(\"Method C\")\n",
    "\n",
    "c1 = C()\n",
    "c1.method_a()  # output: Method A\n",
    "c1.method_b()  # output: Method B\n",
    "c1.method_c()  # output: Method C\n"
   ]
  },
  {
   "cell_type": "markdown",
   "id": "b4b59d61-c9ec-4eb3-bbf9-f064775a22af",
   "metadata": {},
   "source": [
    "In this example, the C class inherits from both the A and B classes using the syntax class C(A, B):. This means that the C class has access to the methods defined in both A and B, which are called on c1 using c1.method_a() and c1.method_b(). The C class also defines its own method method_c(), which is called on c1 using c1.method_c().\n",
    "\n",
    "Multilevel Inheritance:\n",
    "In multilevel inheritance, a class inherits from a parent class, which in turn inherits from another parent class. Here's an example:"
   ]
  },
  {
   "cell_type": "code",
   "execution_count": 11,
   "id": "aee46622-34e7-47ef-af76-99f6ceb074a8",
   "metadata": {},
   "outputs": [
    {
     "name": "stdout",
     "output_type": "stream",
     "text": [
      "Driving vehicle...\n",
      "Car is honking...\n",
      "Sports car is speeding...\n"
     ]
    }
   ],
   "source": [
    "class Vehicle:\n",
    "    def drive(self):\n",
    "        print(\"Driving vehicle...\")\n",
    "\n",
    "class Car(Vehicle):\n",
    "    def honk(self):\n",
    "        print(\"Car is honking...\")\n",
    "\n",
    "class SportsCar(Car):\n",
    "    def speed(self):\n",
    "        print(\"Sports car is speeding...\")\n",
    "\n",
    "car1 = SportsCar()\n",
    "car1.drive()  # output: Driving vehicle...\n",
    "car1.honk()  # output: Car is honking...\n",
    "car1.speed()  # output: Sports car is speeding...\n"
   ]
  },
  {
   "cell_type": "markdown",
   "id": "18133ec0-f046-4fe3-8c20-7fdd7cecfb23",
   "metadata": {},
   "source": [
    "In this example, the SportsCar class inherits from the Car class, which in turn inherits from the Vehicle class. This means that the SportsCar class has access to the methods defined in both Car and Vehicle, which are called on car1 using car1.drive() and car1.honk(). The SportsCar class also defines its own method speed(), which is called on car1 using car1.speed()."
   ]
  },
  {
   "cell_type": "code",
   "execution_count": null,
   "id": "024b1fd2-518c-4b54-b49a-659010cadc71",
   "metadata": {},
   "outputs": [],
   "source": []
  }
 ],
 "metadata": {
  "kernelspec": {
   "display_name": "Python 3 (ipykernel)",
   "language": "python",
   "name": "python3"
  },
  "language_info": {
   "codemirror_mode": {
    "name": "ipython",
    "version": 3
   },
   "file_extension": ".py",
   "mimetype": "text/x-python",
   "name": "python",
   "nbconvert_exporter": "python",
   "pygments_lexer": "ipython3",
   "version": "3.10.8"
  }
 },
 "nbformat": 4,
 "nbformat_minor": 5
}
