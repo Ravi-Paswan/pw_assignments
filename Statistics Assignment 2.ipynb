{
 "cells": [
  {
   "cell_type": "markdown",
   "id": "f1aa69f4-1e1c-41c6-a773-68488550e172",
   "metadata": {},
   "source": [
    "# Qo 1"
   ]
  },
  {
   "cell_type": "markdown",
   "id": "7235b2d8-ed08-439e-9e93-170e26d2229f",
   "metadata": {},
   "source": [
    "### What are the three measures of central tendency?"
   ]
  },
  {
   "cell_type": "markdown",
   "id": "82616dc5-7966-467f-87dd-7f89467495ff",
   "metadata": {},
   "source": [
    "The Three Measures of Central Tendency are following\n",
    "* Mean : The average value of the data\n",
    "* Median : The Value at the Center index when data is Sorted in Ascending/Descending Order\n",
    "* Mode : The Value with the most Frequency "
   ]
  },
  {
   "cell_type": "markdown",
   "id": "5db73a87-7631-4ad1-b15b-621ecf2e8880",
   "metadata": {},
   "source": [
    "# Qo 2"
   ]
  },
  {
   "cell_type": "markdown",
   "id": "c49b2fe6-b53e-417f-933f-84e441923091",
   "metadata": {},
   "source": [
    "### What is the difference between the mean, median, and mode? How are they used to measure the central tendency of a dataset?"
   ]
  },
  {
   "cell_type": "markdown",
   "id": "f66d32dd-f39c-4707-879b-6a9f0a372216",
   "metadata": {},
   "source": [
    "The mean, median, and mode are three measures used to understand the central tendency or average of a dataset. Each measure provides different insights about the distribution of the data. Here's a breakdown of each measure and their uses:\n",
    "\n",
    "* Mean: The mean, also known as the average, is calculated by summing up all the values in a dataset and dividing the sum by the number of values. It considers every value in the dataset and is influenced by outliers. The formula for calculating the mean is:\n",
    "\n",
    "   Mean = (Sum of all values) / (Number of values)\n",
    "\n",
    "   The mean is commonly used when the data is normally distributed or does not contain extreme outliers. For example, it can be used to find the average height of a group of people.\n",
    "\n",
    "* Median: The median is the middle value in a dataset when it is arranged in ascending or descending order. If the dataset has an odd number of values, the median is the value at the center. If the dataset has an even number of values, the median is the average of the two middle values. The median is not affected by extreme values or outliers.\n",
    "\n",
    "   The median is useful when the dataset contains outliers or is skewed. It represents the \"typical\" value that separates the dataset into two equal halves. For example, the median income is often used to describe the income level of a population because it is less influenced by extremely high or low incomes.\n",
    "\n",
    "* Mode: The mode is the value that appears most frequently in a dataset. It represents the most common observation or category in the data. A dataset can have multiple modes if multiple values have the same highest frequency, making it multimodal.\n",
    "\n",
    "   The mode is useful for categorical or discrete data. For example, it can be used to determine the most popular car color in a survey.\n",
    "\n",
    "By considering the mean, median, and mode, you can gain different insights into the central tendency of a dataset. The choice of which measure to use depends on the type of data and the characteristics of the distribution."
   ]
  },
  {
   "cell_type": "markdown",
   "id": "c85e733c-fa4f-454d-93ac-cf2a6d4b22a9",
   "metadata": {},
   "source": [
    "# Qo3"
   ]
  },
  {
   "cell_type": "markdown",
   "id": "460eb528-1989-4da0-92e1-c4a76858a8d7",
   "metadata": {},
   "source": [
    "### Measure the three measures of central tendency for the given height data:"
   ]
  },
  {
   "cell_type": "code",
   "execution_count": 7,
   "id": "468f757a-a8db-4708-a8fa-af7aa87b2cf3",
   "metadata": {},
   "outputs": [
    {
     "name": "stdout",
     "output_type": "stream",
     "text": [
      "Mean = 177.01875\n",
      "Median = 177.0\n",
      "Mean = ModeResult(mode=array([177.]), count=array([3]))\n"
     ]
    },
    {
     "name": "stderr",
     "output_type": "stream",
     "text": [
      "/tmp/ipykernel_77/2819460024.py:6: FutureWarning: Unlike other reduction functions (e.g. `skew`, `kurtosis`), the default behavior of `mode` typically preserves the axis it acts along. In SciPy 1.11.0, this behavior will change: the default value of `keepdims` will become False, the `axis` over which the statistic is taken will be eliminated, and the value None will no longer be accepted. Set `keepdims` to True or False to avoid this warning.\n",
      "  print(f\"Mean = {st.mode(data_1)}\")\n"
     ]
    }
   ],
   "source": [
    "import numpy as np\n",
    "from scipy import stats as st\n",
    "data_1 = [178,177,176,177,178.2,178,175,179,180,175,178.9,176.2,177,172.5,178,176.5]\n",
    "print(f\"Mean = {np.mean(data_1)}\")\n",
    "print(f\"Median = {np.median(data_1)}\")\n",
    "print(f\"Mean = {st.mode(data_1)}\")"
   ]
  },
  {
   "cell_type": "markdown",
   "id": "5303d9e7-1b4b-415b-bf8e-0c884d425907",
   "metadata": {},
   "source": [
    "# Qo 4"
   ]
  },
  {
   "cell_type": "markdown",
   "id": "26244ec1-e35e-4ede-8d31-a4848a13e465",
   "metadata": {},
   "source": [
    "### Find the standard deviation for the given data:"
   ]
  },
  {
   "cell_type": "code",
   "execution_count": 14,
   "id": "9a9963ff-5bfd-45b4-83df-a8e753fa4d87",
   "metadata": {},
   "outputs": [
    {
     "name": "stdout",
     "output_type": "stream",
     "text": [
      "Standard Deviation = 1.789\n"
     ]
    }
   ],
   "source": [
    "data_2 = [178,177,176,177,178.2,178,175,179,180,175,178.9,176.2,177,172.5,178,176.5]\n",
    "print(f\"Standard Deviation = {round(np.std(data_2),3)}\")"
   ]
  },
  {
   "cell_type": "markdown",
   "id": "2b445e2f-30c6-4466-bd6c-eba2e99536f8",
   "metadata": {},
   "source": [
    "# Qo 5 "
   ]
  },
  {
   "cell_type": "markdown",
   "id": "6564e6fd-5e79-4608-b1df-7a3b1cd69562",
   "metadata": {},
   "source": [
    "### How are measures of dispersion such as range, variance, and standard deviation used to describe the spread of a dataset? Provide an example."
   ]
  },
  {
   "cell_type": "markdown",
   "id": "c11737aa-c83a-4a84-8004-3b8829846bae",
   "metadata": {},
   "source": [
    "Measures of dispersion, such as range, variance, and standard deviation, provide information about the spread or variability of a dataset. They quantify how the values in the dataset are dispersed or distributed around the central tendency. Here's how each measure is used:\n",
    "\n",
    "1. Range: The range is the simplest measure of dispersion and represents the difference between the maximum and minimum values in a dataset. It provides a rough estimate of the spread, but it does not take into account the distribution of values between the minimum and maximum.\n",
    "\n",
    "   For example, let's consider the ages of individuals in a sample of a population: 20, 22, 25, 28, 30. The range would be calculated as the difference between the maximum age (30) and the minimum age (20), which is 30 - 20 = 10. Thus, the range in this case is 10 years.\n",
    "\n",
    "2. Variance: The variance is a measure that quantifies the average squared deviation from the mean of a dataset. It considers every value and provides a more comprehensive measure of spread. The formula for calculating the variance is:\n",
    "\n",
    "   Variance = (Sum of squared deviations from the mean) / (Number of values)\n",
    "\n",
    "   However, the variance is not directly interpretable because it is in squared units.\n",
    "\n",
    "   For example, consider the following dataset representing the incomes of individuals in a sample: $40,000, $45,000, $50,000, $55,000. To calculate the variance, you would first calculate the mean (sum of all incomes divided by the number of incomes) and then calculate the squared deviation from the mean for each income. Finally, you would average the squared deviations to obtain the variance.\n",
    "\n",
    "3. Standard Deviation: The standard deviation is the square root of the variance and is a widely used measure of dispersion. It has the advantage of being in the same units as the original data, making it more interpretable. The formula for calculating the standard deviation is:\n",
    "\n",
    "   Standard Deviation = Square root of Variance\n",
    "\n",
    "   The standard deviation indicates the average amount by which values in the dataset deviate from the mean. A larger standard deviation indicates a wider spread, while a smaller standard deviation indicates a narrower spread.\n",
    "\n",
    "   Continuing with the income example, once you calculate the variance, you can obtain the standard deviation by taking the square root of the variance.\n",
    "\n",
    "In summary, measures of dispersion provide insights into the spread of data around the central tendency. The range gives a simple estimate of the spread, while the variance and standard deviation provide more detailed information about how the values are distributed."
   ]
  },
  {
   "cell_type": "markdown",
   "id": "414839bb-8bbc-4f8b-b9d8-6e4b4c55e557",
   "metadata": {},
   "source": [
    "# Qo 6"
   ]
  },
  {
   "cell_type": "markdown",
   "id": "d01b6dd1-eda1-4d44-a729-3924719534a7",
   "metadata": {},
   "source": [
    "### What is a Venn diagram?"
   ]
  },
  {
   "cell_type": "markdown",
   "id": "53b3e676-4015-4025-8f12-da05aebc30e9",
   "metadata": {},
   "source": [
    "\n",
    "A Venn diagram is a visual representation that uses overlapping circles or other shapes to show the relationships between different sets or groups of objects, elements, or concepts. It was introduced by the mathematician John Venn in the late 19th century.\n",
    "\n",
    "In a Venn diagram, each circle represents a set, and the overlapping areas indicate the elements that are common to multiple sets. The diagram can also include regions that represent elements unique to a particular set.\n",
    "\n",
    "The primary purpose of a Venn diagram is to illustrate the relationships between sets, including the intersections and differences between them. The diagram helps in visualizing the concepts of union, intersection, and complement of sets.\n",
    "\n",
    "Venn diagrams are often used in various fields, including mathematics, logic, statistics, computer science, and problem-solving. They can aid in understanding set theory, logic operations, data analysis, and decision-making processes."
   ]
  },
  {
   "cell_type": "markdown",
   "id": "97524d0e-9731-4297-9e6d-06b6619766f1",
   "metadata": {},
   "source": [
    "# Qo 7"
   ]
  },
  {
   "cell_type": "markdown",
   "id": "d356a371-bc3d-442b-a7a8-2fd056d0bffc",
   "metadata": {},
   "source": [
    "### For the two given sets A = (2,3,4,5,6,7) & B = (0,2,6,8,10)."
   ]
  },
  {
   "cell_type": "markdown",
   "id": "6862c79d-4902-43ad-9b4e-0054cdd9cf30",
   "metadata": {},
   "source": [
    "* A intersection B = (2,6)\n",
    "* A Union B = (0,2,3,4,5,6,7,8,10)"
   ]
  },
  {
   "cell_type": "markdown",
   "id": "90d5fd29-c76c-46a5-9e41-f2d903e0aade",
   "metadata": {},
   "source": [
    "# Qo 8"
   ]
  },
  {
   "cell_type": "markdown",
   "id": "ba0944bb-b135-46a6-a1f9-600a1e93f1e3",
   "metadata": {},
   "source": [
    "### What do you understand about skewness in data?"
   ]
  },
  {
   "cell_type": "markdown",
   "id": "6318261a-43ae-453a-8f65-e37fd222042b",
   "metadata": {},
   "source": [
    "Skewness in data refers to the measure of the asymmetry or lack of symmetry in the distribution of values within a dataset. It helps in understanding the shape of the distribution and the direction in which the data is skewed.\n",
    "\n",
    "Skewness is typically measured using a statistical parameter called the skewness coefficient or skewness index. This coefficient quantifies the extent and direction of skewness. There are different formulas to calculate skewness, but the most commonly used one is Pearson's first coefficient of skewness.\n",
    "\n",
    "The skewness coefficient can have three possible outcomes:\n",
    "\n",
    "1. Positive Skewness: If the skewness coefficient is positive, it indicates that the distribution is skewed to the right. In a positively skewed distribution, the tail on the right side is longer or more stretched compared to the left side. This means that the majority of the values in the dataset are concentrated on the left side, and there are few extreme values on the right side.\n",
    "\n",
    "2. Negative Skewness: If the skewness coefficient is negative, it indicates that the distribution is skewed to the left. In a negatively skewed distribution, the tail on the left side is longer or more stretched compared to the right side. This means that the majority of the values in the dataset are concentrated on the right side, and there are few extreme values on the left side.\n",
    "\n",
    "3. Zero Skewness: If the skewness coefficient is zero, it indicates that the distribution is symmetric. In a symmetric distribution, the values are evenly distributed around the mean, and the tails on both sides of the distribution are of equal length.\n",
    "\n",
    "Understanding the skewness of data is important because it provides insights into the underlying characteristics and patterns of the dataset. Skewness affects various statistical analyses and can impact the interpretation of results. For example, skewed data may require specific data transformations or different modeling approaches to account for the asymmetry and maintain the validity of statistical tests.\n",
    "\n",
    "Analyzing skewness helps in identifying whether the data is positively or negatively skewed, and this information can guide decision-making, hypothesis testing, and selecting appropriate statistical techniques for further analysis."
   ]
  },
  {
   "cell_type": "markdown",
   "id": "5a616ff9-54d0-42d0-8c90-59500b20e0ea",
   "metadata": {},
   "source": [
    "# Qo 9"
   ]
  },
  {
   "cell_type": "markdown",
   "id": "c502d7a8-63f4-4884-b3b6-a9d96b2ae43b",
   "metadata": {},
   "source": [
    "### If a data is right skewed then what will be the position of median with respect to mean?"
   ]
  },
  {
   "cell_type": "markdown",
   "id": "24e87848-4333-4c92-a2f0-cd1c0461e253",
   "metadata": {},
   "source": [
    "For right Skewed Data the mean > Meadin > Mode"
   ]
  },
  {
   "cell_type": "markdown",
   "id": "63d80b21-917c-4a44-8654-b2e29b6d3928",
   "metadata": {},
   "source": [
    "# Qo 10"
   ]
  },
  {
   "cell_type": "markdown",
   "id": "ca30a0c7-6c93-4f9c-ba0c-9f1673e1e9f6",
   "metadata": {},
   "source": [
    "### Explain the difference between covariance and correlation. How are these measures used in statistical analysis?"
   ]
  },
  {
   "cell_type": "markdown",
   "id": "aa921d0a-3dc8-4e5d-8b5c-09b5502b976b",
   "metadata": {},
   "source": [
    "Covariance and correlation are two statistical measures used to describe the relationship between two variables. While they both provide insights into the association between variables, they differ in their interpretation and properties.\n",
    "\n",
    "1. Covariance:\n",
    "   Covariance measures the direction and magnitude of the linear relationship between two variables. It determines how changes in one variable correspond to changes in the other. The formula for calculating covariance between two variables X and Y, based on a sample, is:\n",
    "\n",
    "   Cov(X, Y) = Σ((Xᵢ - X̄)(Yᵢ - Ȳ)) / (n - 1)\n",
    "\n",
    "   Here, Xᵢ and Yᵢ represent the individual values of X and Y, X̄ and Ȳ represent their respective sample means, and n is the sample size.\n",
    "\n",
    "   Covariance can take positive or negative values. A positive covariance indicates a direct or positive relationship, meaning that as one variable increases, the other tends to increase as well. A negative covariance indicates an inverse or negative relationship, where as one variable increases, the other tends to decrease.\n",
    "\n",
    "   However, the magnitude of covariance is not standardized and depends on the units of the variables. Hence, it is challenging to compare covariances between different pairs of variables or across datasets.\n",
    "\n",
    "   In statistical analysis, covariance is useful in determining the direction of the relationship between variables. However, its interpretation is limited due to the lack of standardization.\n",
    "\n",
    "2. Correlation:\n",
    "   Correlation measures the strength and direction of the linear relationship between two variables. It provides a standardized measure of association that ranges from -1 to 1, making it easier to compare and interpret across different datasets. The most commonly used correlation coefficient is the Pearson correlation coefficient.\n",
    "\n",
    "   The formula for calculating the Pearson correlation coefficient between two variables X and Y is:\n",
    "\n",
    "   Corr(X, Y) = Cov(X, Y) / (σₓ * σᵧ)\n",
    "\n",
    "   Here, Cov(X, Y) is the covariance between X and Y, and σₓ and σᵧ represent the standard deviations of X and Y, respectively.\n",
    "\n",
    "   The correlation coefficient ranges from -1 to 1. A value of 1 indicates a perfect positive correlation, where the variables move in perfect alignment. A value of -1 indicates a perfect negative correlation, where the variables move in opposite directions. A value of 0 indicates no linear correlation between the variables.\n",
    "\n",
    "   Correlation is widely used in statistical analysis to examine the strength and direction of the relationship between variables. It helps in understanding dependencies, making predictions, selecting relevant features in regression models, identifying multicollinearity, and assessing the significance of relationships.\n",
    "\n",
    "   Unlike covariance, correlation is not affected by the scale or units of measurement, making it a more reliable measure for comparing relationships across different datasets.\n",
    "\n",
    "In summary, covariance measures the direction and magnitude of the linear relationship between variables, while correlation provides a standardized measure of the strength and direction of the linear relationship. Correlation is preferred in statistical analysis due to its standardized interpretation, making it more suitable for comparisons and generalizations.`"
   ]
  },
  {
   "cell_type": "markdown",
   "id": "99424217-4ed8-4536-a515-f0dcb0302456",
   "metadata": {},
   "source": [
    "# Qo 11"
   ]
  },
  {
   "cell_type": "markdown",
   "id": "19debc58-dc84-49fb-8694-1cbf598761be",
   "metadata": {},
   "source": [
    "### What is the formula for calculating the sample mean? Provide an example calculation for a dataset."
   ]
  },
  {
   "cell_type": "markdown",
   "id": "f127d905-796f-4645-b1d1-35a154eda95d",
   "metadata": {},
   "source": [
    "The formula for calculating the sample mean is:\n",
    "\n",
    "Sample Mean = (Sum of all data points) / (Number of data points - 1)\n",
    "\n",
    "To provide an example calculation, let's consider the following dataset of exam scores:\n",
    "\n",
    "{85, 90, 78, 92, 88}\n",
    "\n",
    "To calculate the sample mean, we add up all the data points and divide the sum by the total number of data points:\n",
    "\n",
    "Sample Mean = (85 + 90 + 78 + 92 + 88) / 4\n",
    "\n",
    "Sample Mean = 433 / 4\n",
    "\n",
    "Sample Mean ≈ 108.25\n",
    "\n",
    "Therefore, the sample mean for this dataset is approximately 108.25.\n",
    "\n",
    "\n",
    "\n",
    "\n"
   ]
  },
  {
   "cell_type": "markdown",
   "id": "93e80f63-32bd-40b5-bba5-125f8bddb72c",
   "metadata": {},
   "source": [
    "# Qo 12"
   ]
  },
  {
   "cell_type": "markdown",
   "id": "0cfe8d07-d23a-4149-9120-304c68a8a9d9",
   "metadata": {},
   "source": [
    "### For a normal distribution data what is the relationship between its measure of central tendency?"
   ]
  },
  {
   "cell_type": "markdown",
   "id": "4dd72cd3-dcaf-4214-848f-5361b37da979",
   "metadata": {},
   "source": [
    "for Normal distribution : Mean = Median = Mode"
   ]
  },
  {
   "cell_type": "markdown",
   "id": "1c43be9f-9865-4513-9670-bafdd0e52745",
   "metadata": {},
   "source": [
    "# Qo 13"
   ]
  },
  {
   "cell_type": "markdown",
   "id": "7c1de483-2312-4ab5-b72e-14a82dc38c30",
   "metadata": {},
   "source": [
    "### How is covariance different from correlation?"
   ]
  },
  {
   "cell_type": "markdown",
   "id": "c189539d-fb0b-4e81-8496-d781b79e56fe",
   "metadata": {},
   "source": [
    "Covariance and correlation are both measures of the relationship between two variables, but they differ in their interpretation and scale.\n",
    "\n",
    "Covariance measures how two variables vary together. It calculates the average of the product of the deviations of each variable from their respective means. The formula for covariance is:\n",
    "\n",
    "Cov(X, Y) = Σ[(X - μX) * (Y - μY)] / (n - 1)\n",
    "\n",
    "where X and Y are the variables, μX and μY are their respective means, and n is the number of data points. Covariance can take any value, positive or negative, depending on the direction of the relationship. A positive covariance indicates that as one variable increases, the other tends to increase as well, while a negative covariance indicates an inverse relationship.\n",
    "\n",
    "Correlation, on the other hand, standardizes the covariance by dividing it by the product of the standard deviations of the two variables. It measures the strength and direction of the linear relationship between the variables, ranging from -1 to 1. The formula for correlation is:\n",
    "\n",
    "Corr(X, Y) = Cov(X, Y) / (σX * σY)\n",
    "\n",
    "where Cov(X, Y) is the covariance, σX is the standard deviation of X, and σY is the standard deviation of Y. A correlation of 1 indicates a perfect positive linear relationship, -1 indicates a perfect negative linear relationship, and 0 indicates no linear relationship.\n",
    "\n",
    "In summary, covariance measures the direction and magnitude of the relationship between variables, while correlation measures the strength and direction of the linear relationship, standardized between -1 and 1."
   ]
  },
  {
   "cell_type": "markdown",
   "id": "1c06b7da-416f-44a1-a664-825458e46828",
   "metadata": {},
   "source": [
    "# Qo 14"
   ]
  },
  {
   "cell_type": "markdown",
   "id": "3b689bd6-3b21-46e4-8a30-f872724b3aa8",
   "metadata": {},
   "source": [
    "### How do outliers affect measures of central tendency and dispersion? Provide an example."
   ]
  },
  {
   "cell_type": "markdown",
   "id": "69bc781a-e77d-4201-9f60-871a9acd3fdb",
   "metadata": {},
   "source": [
    "Outliers can significantly impact measures of central tendency (such as the mean, median, and mode) and measures of dispersion (such as the range, variance, and standard deviation). Their effect depends on the magnitude and direction of the outliers.\n",
    "\n",
    "1. Measures of Central Tendency:\n",
    "   - Mean: Outliers can heavily skew the mean because it takes into account the value of each data point. If there are extreme outliers, the mean can be pulled towards those values, resulting in a misleading representation of the central value.\n",
    "   - Median: The median is less affected by outliers since it only considers the middle value(s) in the sorted data. It is a more robust measure of central tendency in the presence of outliers.\n",
    "   - Mode: Outliers usually have no effect on the mode since it represents the most frequently occurring value(s) in the data. However, if the outliers occur frequently, they can create multiple modes or shift the mode to an unexpected value.\n",
    "\n",
    "2. Measures of Dispersion:\n",
    "   - Range: Outliers can significantly affect the range as it considers the difference between the maximum and minimum values. If there are extreme outliers, the range can be inflated and may not accurately represent the spread of the majority of the data.\n",
    "   - Variance and Standard Deviation: Outliers can have a substantial impact on both the variance and standard deviation because they are influenced by the deviation of each data point from the mean. Outliers with large deviations can increase the variability, leading to higher values of variance and standard deviation.\n",
    "   - Interquartile Range (IQR): The IQR is less sensitive to outliers compared to the range, as it focuses on the middle 50% of the data. Therefore, outliers have less impact on the IQR.\n",
    "\n",
    "Example:\n",
    "Consider a dataset of exam scores: {85, 90, 78, 92, 150}. Here, 150 is an outlier.\n",
    "- Mean: The presence of the outlier (150) would significantly increase the mean, pulling it towards the higher end of the distribution.\n",
    "- Median: The median would remain unaffected by the outlier since it only considers the middle value(s), which are 90 in this case.\n",
    "- Mode: The mode would still be unaffected as there are no repeated values in the dataset.\n",
    "- Range: The presence of the outlier would increase the range from 72 (78-150) to 72 (78-150).\n",
    "- Variance and Standard Deviation: The outlier would contribute to a larger variance and standard deviation due to its substantial deviation from the mean.\n",
    "- Interquartile Range (IQR): The IQR would be unaffected by the outlier since it focuses on the middle 50% of the data, which excludes the outlier."
   ]
  },
  {
   "cell_type": "code",
   "execution_count": null,
   "id": "a671cdeb-f576-4706-9a53-f7dbe6e5e18d",
   "metadata": {},
   "outputs": [],
   "source": []
  }
 ],
 "metadata": {
  "kernelspec": {
   "display_name": "Python 3 (ipykernel)",
   "language": "python",
   "name": "python3"
  },
  "language_info": {
   "codemirror_mode": {
    "name": "ipython",
    "version": 3
   },
   "file_extension": ".py",
   "mimetype": "text/x-python",
   "name": "python",
   "nbconvert_exporter": "python",
   "pygments_lexer": "ipython3",
   "version": "3.10.8"
  }
 },
 "nbformat": 4,
 "nbformat_minor": 5
}
