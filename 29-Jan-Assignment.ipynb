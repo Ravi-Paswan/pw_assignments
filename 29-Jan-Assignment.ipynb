{
 "cells": [
  {
   "cell_type": "markdown",
   "id": "d0bc3f1b-4884-4f44-ba78-5d954b350b3d",
   "metadata": {},
   "source": [
    "# Question 01"
   ]
  },
  {
   "cell_type": "markdown",
   "id": "cadc4fdc-1311-407e-9d4b-e710cda5a1e8",
   "metadata": {},
   "source": [
    "* Guido van Rossum"
   ]
  },
  {
   "cell_type": "markdown",
   "id": "d0c34869-9912-4e72-88c8-ec1418c3e245",
   "metadata": {},
   "source": [
    "# Question 02"
   ]
  },
  {
   "cell_type": "markdown",
   "id": "cfce44ab-c9d1-4c2d-a0e4-b7788ad7c33b",
   "metadata": {},
   "source": [
    "Python supports several programming paradigms, including:\n",
    "\n",
    "Procedural programming: In procedural programming, a program is made up of one or more procedures or functions, which are sequences of statements that perform a specific task. Python supports procedural programming through functions.\n",
    "\n",
    "Object-oriented programming (OOP): In OOP, a program is made up of objects that interact with each other through methods. Python supports OOP through classes and objects.\n",
    "\n",
    "Functional programming: In functional programming, a program is made up of functions that take inputs and produce outputs, without any side effects. Python supports functional programming through lambda functions and the built-in map, reduce, and filter functions.\n",
    "\n",
    "Imperative programming: In imperative programming, a program is made up of a sequence of statements that change the program state. Python supports imperative programming through loops, conditionals, and assignment statements.\n",
    "\n",
    "Event-driven programming: In event-driven programming, a program is made up of event handlers that respond to user input or other events. Python supports event-driven programming through libraries such as Tkinter and Pygame.\n",
    "\n",
    "Python's support for multiple programming paradigms makes it a versatile and flexible language that can be used in a wide range of applications."
   ]
  },
  {
   "cell_type": "markdown",
   "id": "dd41837b-ecf9-4953-acd6-d4aee5e9154a",
   "metadata": {},
   "source": [
    "# Question 03"
   ]
  },
  {
   "cell_type": "markdown",
   "id": "689285ff-def0-4865-b3ff-54804b22b32c",
   "metadata": {},
   "source": [
    "Yes"
   ]
  },
  {
   "cell_type": "markdown",
   "id": "738c906a-744b-4ca1-8bd5-e8a6ae9506e4",
   "metadata": {},
   "source": [
    "# Question 04"
   ]
  },
  {
   "cell_type": "markdown",
   "id": "27843e0e-ab58-4418-9992-28a4792246b7",
   "metadata": {},
   "source": [
    ".py"
   ]
  },
  {
   "cell_type": "markdown",
   "id": "e6931f6b-3478-4609-b8ab-25486880cbbc",
   "metadata": {},
   "source": [
    "# Question 05"
   ]
  },
  {
   "cell_type": "markdown",
   "id": "e3b841ce-f245-4fe8-bd95-46a531ab04ec",
   "metadata": {},
   "source": [
    "Python code is interpreted"
   ]
  },
  {
   "cell_type": "markdown",
   "id": "9f36ad24-8a26-4c67-9268-8d3fc41a0122",
   "metadata": {},
   "source": [
    "# Question 06"
   ]
  },
  {
   "cell_type": "markdown",
   "id": "f6af130d-ba05-4658-8ca5-59bb33bb6dfe",
   "metadata": {},
   "source": [
    "* Functions\n",
    "* Conditional statements\n",
    "* Loops\n",
    "* Class\n"
   ]
  },
  {
   "cell_type": "markdown",
   "id": "e0d165a8-1068-4c85-8a4e-4f9f4f2bc1b1",
   "metadata": {},
   "source": [
    "# Question 07"
   ]
  },
  {
   "cell_type": "markdown",
   "id": "37bd0afb-1064-45ba-8654-ae359acf2147",
   "metadata": {},
   "source": [
    "'#'"
   ]
  },
  {
   "cell_type": "markdown",
   "id": "d5fc1a28-8466-4ad7-b07b-a14dec92be63",
   "metadata": {},
   "source": [
    "# Question 08"
   ]
  },
  {
   "cell_type": "code",
   "execution_count": 5,
   "id": "6fd930b7-5f23-48f7-937a-7cb93b0d8f1a",
   "metadata": {},
   "outputs": [
    {
     "name": "stdout",
     "output_type": "stream",
     "text": [
      "3.10.8 | packaged by conda-forge | (main, Nov 22 2022, 08:26:04) [GCC 10.4.0]\n"
     ]
    }
   ],
   "source": [
    "import sys\n",
    "print(sys.version)\n"
   ]
  },
  {
   "cell_type": "markdown",
   "id": "de5a3912-3328-476b-b66e-78b6c8b69a2c",
   "metadata": {},
   "source": [
    "# Question 09"
   ]
  },
  {
   "cell_type": "markdown",
   "id": "b756d912-5c88-4988-8823-3853b9e6471b",
   "metadata": {},
   "source": [
    "'lambda'"
   ]
  },
  {
   "cell_type": "markdown",
   "id": "019e9efc-f9a4-4a88-ba7b-a568f3c4b2d3",
   "metadata": {},
   "source": [
    "# Question 10"
   ]
  },
  {
   "cell_type": "markdown",
   "id": "7fdbeb22-cd6e-48c2-87be-eff7cf0f7521",
   "metadata": {},
   "source": [
    "PiP stands for PIP Install packages"
   ]
  },
  {
   "cell_type": "markdown",
   "id": "da833377-1eda-41bc-8a0f-3469073680ce",
   "metadata": {},
   "source": [
    "# Question 11"
   ]
  },
  {
   "cell_type": "markdown",
   "id": "c7523dfb-d3a3-42c1-8d83-58b245ef4a2b",
   "metadata": {},
   "source": [
    "* Print\n",
    "* Type\n",
    "* input\n",
    "* sum\n",
    "* list\n"
   ]
  },
  {
   "cell_type": "markdown",
   "id": "09b52c79-978c-49ff-bfaf-fe517213a0bc",
   "metadata": {},
   "source": [
    "# Question 12"
   ]
  },
  {
   "cell_type": "markdown",
   "id": "ebd9cf2c-4427-46da-a0d7-79acadde9d4a",
   "metadata": {},
   "source": [
    "In Python, the maximum length of an identifier (variable, function, class, module, etc.) is not explicitly defined. However, it is recommended to keep identifiers reasonably short and descriptive, typically between 1 and 79 characters in length, to improve code readability and maintainability.\n",
    "\n",
    "According to the Python style guide, PEP 8, identifiers should be descriptive and not too long, and if necessary, they can be split across multiple lines using the backslash character to improve readability. It is also recommended to use lowercase letters for variable and function names, and to separate multiple words in an identifier using underscores, also known as snake_case naming convention.\n",
    "\n",
    "While there is no specific maximum length limit for identifiers in Python, it is important to keep in mind that longer names can be harder to read and can make the code more difficult to understand, especially if the names are not well chosen. Therefore, it is a good practice to keep the length of identifiers reasonable and concise."
   ]
  },
  {
   "cell_type": "markdown",
   "id": "57708d9a-0b3e-4c71-aa32-50f05ae19366",
   "metadata": {},
   "source": [
    "# Question 13"
   ]
  },
  {
   "cell_type": "markdown",
   "id": "8cd25b9e-c168-412c-b252-bb782a563734",
   "metadata": {},
   "source": [
    "Python is a popular programming language that has many benefits and is used in a wide range of applications. Here are some of the benefits of using Python:\n",
    "\n",
    "Easy to learn and use: Python has a simple and intuitive syntax, making it easy to learn and use, even for beginners. It has a large and active community that provides support and resources to help users learn and develop with the language.\n",
    "\n",
    "Versatile and flexible: Python is a versatile and flexible language that can be used for a wide range of applications, from web development to data analysis, scientific computing, artificial intelligence, machine learning, and more. Its versatility and flexibility make it a popular choice for many industries and applications.\n",
    "\n",
    "Large and active community: Python has a large and active community of developers, which has created a rich ecosystem of libraries and tools that can be used to streamline and simplify development. The community also provides support and resources for users, making it easier to learn and use Python.\n",
    "\n",
    "Cross-platform compatibility: Python is a cross-platform language, which means that it can run on different operating systems, such as Windows, macOS, and Linux, without any modifications to the code. This makes it easy to develop and deploy Python applications on different platforms.\n",
    "\n",
    "Rapid prototyping: Python is a great language for rapid prototyping and development, allowing developers to quickly create and test ideas and concepts. Its high-level syntax and dynamic typing make it easy to write and modify code quickly.\n",
    "\n",
    "Strong support for data analysis: Python has strong support for data analysis and scientific computing, with libraries like NumPy, Pandas, and Matplotlib that make it easy to work with data and create visualizations.\n",
    "\n",
    "Large library ecosystem: Python has a large and diverse library ecosystem, with thousands of libraries available that can be used for a wide range of applications, from web development to scientific computing to machine learning and more.\n",
    "\n",
    "Overall, Python's simplicity, versatility, and flexibility, combined with its large and active community and rich library ecosystem, make it a great choice for a wide range of applications and industries."
   ]
  },
  {
   "cell_type": "markdown",
   "id": "765de989-91f5-4e15-af72-770024cf58dc",
   "metadata": {},
   "source": [
    "# Question 14"
   ]
  },
  {
   "cell_type": "markdown",
   "id": "e36730b8-63e1-4d3e-91bf-0198a250ee39",
   "metadata": {},
   "source": [
    "In Python, memory is managed using a combination of techniques, including automatic memory management, reference counting, and garbage collection.\n",
    "\n",
    "Automatic Memory Management: Python uses automatic memory management to allocate and deallocate memory for objects dynamically. This means that Python manages the memory automatically, and the developer does not have to explicitly allocate or deallocate memory for objects.\n",
    "\n",
    "Reference Counting: Python uses reference counting to keep track of the number of references to an object. When an object is created, Python assigns a reference count to it, which is incremented every time the object is referred to and decremented every time a reference to the object is deleted. When the reference count of an object reaches zero, the object is automatically deallocated.\n",
    "\n",
    "Garbage Collection: Python also uses garbage collection to reclaim memory that is no longer needed. Garbage collection is used to find and free up memory that is not being used by any objects. Python uses a cycle detector to find and free up circular references, which are references between objects that form a cycle, preventing them from being garbage collected by reference counting.\n",
    "\n",
    "Python's memory management system is designed to be efficient and effective, allowing developers to focus on writing code rather than managing memory. The automatic memory management, reference counting, and garbage collection techniques used by Python make it easy for developers to create applications that are both fast and memory-efficient."
   ]
  },
  {
   "cell_type": "markdown",
   "id": "f2ebf3ec-7147-4449-824b-0e51319216b0",
   "metadata": {},
   "source": [
    "# Question 15"
   ]
  },
  {
   "cell_type": "markdown",
   "id": "43a6b97c-10c9-49d1-a107-f6aedc9aa5da",
   "metadata": {},
   "source": [
    "..."
   ]
  },
  {
   "cell_type": "code",
   "execution_count": null,
   "id": "22e6d382-9f0c-4dc8-9e92-d1e3dfac82af",
   "metadata": {},
   "outputs": [],
   "source": [
    "#Q"
   ]
  }
 ],
 "metadata": {
  "kernelspec": {
   "display_name": "Python 3 (ipykernel)",
   "language": "python",
   "name": "python3"
  },
  "language_info": {
   "codemirror_mode": {
    "name": "ipython",
    "version": 3
   },
   "file_extension": ".py",
   "mimetype": "text/x-python",
   "name": "python",
   "nbconvert_exporter": "python",
   "pygments_lexer": "ipython3",
   "version": "3.10.8"
  }
 },
 "nbformat": 4,
 "nbformat_minor": 5
}
