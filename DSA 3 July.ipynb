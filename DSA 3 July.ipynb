{
 "cells": [
  {
   "cell_type": "markdown",
   "id": "d24b3a56-ebc0-4491-8118-462e3ced3b3f",
   "metadata": {},
   "source": [
    "# Qo 01"
   ]
  },
  {
   "cell_type": "code",
   "execution_count": 1,
   "id": "14bf736d-f69d-4492-a71e-638799345fea",
   "metadata": {},
   "outputs": [
    {
     "name": "stdout",
     "output_type": "stream",
     "text": [
      "True\n",
      "False\n"
     ]
    }
   ],
   "source": [
    "def isIsomorphic(s, t):\n",
    "    if len(s) != len(t):\n",
    "        return False\n",
    "\n",
    "    s_to_t = {}\n",
    "    t_to_s = {}\n",
    "\n",
    "    for i in range(len(s)):\n",
    "        s_char = s[i]\n",
    "        t_char = t[i]\n",
    "\n",
    "        if s_char in s_to_t:\n",
    "            if s_to_t[s_char] != t_char:\n",
    "                return False\n",
    "        else:\n",
    "            s_to_t[s_char] = t_char\n",
    "\n",
    "        if t_char in t_to_s:\n",
    "            if t_to_s[t_char] != s_char:\n",
    "                return False\n",
    "        else:\n",
    "            t_to_s[t_char] = s_char\n",
    "\n",
    "    return True\n",
    "\n",
    "s = \"egg\"\n",
    "t = \"add\"\n",
    "print(isIsomorphic(s, t))  # Output: True\n",
    "\n",
    "s = \"foo\"\n",
    "t = \"bar\"\n",
    "print(isIsomorphic(s, t))  # Output: False\n"
   ]
  },
  {
   "cell_type": "markdown",
   "id": "000efc9d-4e9f-4e17-bb1a-53afcf7d64ec",
   "metadata": {},
   "source": [
    "# Qo 02"
   ]
  },
  {
   "cell_type": "code",
   "execution_count": 2,
   "id": "cdc1f043-d50f-4696-b7e4-c38161fe2452",
   "metadata": {},
   "outputs": [
    {
     "name": "stdout",
     "output_type": "stream",
     "text": [
      "True\n",
      "True\n",
      "False\n"
     ]
    }
   ],
   "source": [
    "def isStrobogrammatic(num):\n",
    "    mapping = {\n",
    "        \"0\": \"0\",\n",
    "        \"1\": \"1\",\n",
    "        \"6\": \"9\",\n",
    "        \"8\": \"8\",\n",
    "        \"9\": \"6\"\n",
    "    }\n",
    "    \n",
    "    left = 0\n",
    "    right = len(num) - 1\n",
    "    \n",
    "    while left <= right:\n",
    "        if num[left] in mapping:\n",
    "            if num[right] != mapping[num[left]]:\n",
    "                return False\n",
    "        else:\n",
    "            return False\n",
    "        \n",
    "        left += 1\n",
    "        right -= 1\n",
    "    \n",
    "    return True\n",
    "\n",
    "num = \"69\"\n",
    "print(isStrobogrammatic(num))  # Output: True\n",
    "\n",
    "num = \"88\"\n",
    "print(isStrobogrammatic(num))  # Output: True\n",
    "\n",
    "num = \"962\"\n",
    "print(isStrobogrammatic(num))  # Output: False\n"
   ]
  },
  {
   "cell_type": "markdown",
   "id": "99d096a9-b6b7-42fd-93ff-45f4b0762bd0",
   "metadata": {},
   "source": [
    "# Qo 03"
   ]
  },
  {
   "cell_type": "code",
   "execution_count": 3,
   "id": "2ff03b51-6229-4fd9-b19c-290820071d7c",
   "metadata": {},
   "outputs": [
    {
     "name": "stdout",
     "output_type": "stream",
     "text": [
      "579\n",
      "1000\n"
     ]
    }
   ],
   "source": [
    "def addStrings(num1, num2):\n",
    "    i = len(num1) - 1\n",
    "    j = len(num2) - 1\n",
    "    carry = 0\n",
    "    result = \"\"\n",
    "\n",
    "    while i >= 0 or j >= 0:\n",
    "        digit1 = int(num1[i]) if i >= 0 else 0\n",
    "        digit2 = int(num2[j]) if j >= 0 else 0\n",
    "\n",
    "        current_sum = digit1 + digit2 + carry\n",
    "        carry = current_sum // 10\n",
    "        result = str(current_sum % 10) + result\n",
    "\n",
    "        i -= 1\n",
    "        j -= 1\n",
    "\n",
    "    if carry > 0:\n",
    "        result = str(carry) + result\n",
    "\n",
    "    return result\n",
    "\n",
    "num1 = \"123\"\n",
    "num2 = \"456\"\n",
    "print(addStrings(num1, num2))  # Output: \"579\"\n",
    "\n",
    "num1 = \"999\"\n",
    "num2 = \"1\"\n",
    "print(addStrings(num1, num2))  # Output: \"1000\"\n"
   ]
  },
  {
   "cell_type": "markdown",
   "id": "85cb00de-e746-4129-ae30-d17bbad4b529",
   "metadata": {},
   "source": [
    "# Qo 04"
   ]
  },
  {
   "cell_type": "code",
   "execution_count": 4,
   "id": "b60dc57c-f6ad-4677-ad7a-c9aefb49c89b",
   "metadata": {},
   "outputs": [
    {
     "name": "stdout",
     "output_type": "stream",
     "text": [
      "olleH dlroW\n",
      "ehT kciuq nworb xof\n"
     ]
    }
   ],
   "source": [
    "def reverseWords(s):\n",
    "    words = s.split()\n",
    "    reversed_words = []\n",
    "\n",
    "    for word in words:\n",
    "        reversed_word = word[::-1]\n",
    "        reversed_words.append(reversed_word)\n",
    "\n",
    "    result = \" \".join(reversed_words)\n",
    "    return result\n",
    "\n",
    "s = \"Hello World\"\n",
    "print(reverseWords(s))  # Output: \"olleH dlroW\"\n",
    "\n",
    "s = \"The quick brown fox\"\n",
    "print(reverseWords(s))  # Output: \"ehT kciuq nworb xof\"\n"
   ]
  },
  {
   "cell_type": "markdown",
   "id": "ffd99f52-b972-435c-8710-d65e1d8d7a2d",
   "metadata": {},
   "source": [
    "# Qo 05"
   ]
  },
  {
   "cell_type": "code",
   "execution_count": 5,
   "id": "ce38791a-459a-485c-9540-98dd0c674127",
   "metadata": {},
   "outputs": [
    {
     "name": "stdout",
     "output_type": "stream",
     "text": [
      "bacdfeg\n",
      "cbadefg\n"
     ]
    }
   ],
   "source": [
    "def reverseStr(s, k):\n",
    "    result = \"\"\n",
    "\n",
    "    for i in range(0, len(s), 2*k):\n",
    "        reversed_substring = s[i:i+k][::-1]\n",
    "        result += reversed_substring + s[i+k:i+2*k]\n",
    "\n",
    "    return result\n",
    "\n",
    "s = \"abcdefg\"\n",
    "k = 2\n",
    "print(reverseStr(s, k))  # Output: \"bacdfeg\"\n",
    "\n",
    "s = \"abcdefg\"\n",
    "k = 3\n",
    "print(reverseStr(s, k))  # Output: \"cbadefg\"\n"
   ]
  },
  {
   "cell_type": "markdown",
   "id": "ebaa2816-58fb-4fab-bbbe-77fbf4b8e21c",
   "metadata": {},
   "source": [
    "# Qo 06"
   ]
  },
  {
   "cell_type": "code",
   "execution_count": 6,
   "id": "e66cdb56-abba-432a-98e4-fa5063918fb0",
   "metadata": {},
   "outputs": [
    {
     "name": "stdout",
     "output_type": "stream",
     "text": [
      "True\n",
      "True\n",
      "True\n",
      "False\n"
     ]
    }
   ],
   "source": [
    "def canConvertString(s, goal):\n",
    "    if len(s) != len(goal):\n",
    "        return False\n",
    "\n",
    "    concatenated = s + s\n",
    "\n",
    "    return goal in concatenated\n",
    "\n",
    "s = \"abcde\"\n",
    "goal = \"bcdea\"\n",
    "print(canConvertString(s, goal))  # Output: True\n",
    "\n",
    "s = \"abcde\"\n",
    "goal = \"abcde\"\n",
    "print(canConvertString(s, goal))  # Output: False\n",
    "\n",
    "s = \"abcde\"\n",
    "goal = \"cdeab\"\n",
    "print(canConvertString(s, goal))  # Output: True\n",
    "\n",
    "s = \"abcde\"\n",
    "goal = \"edcba\"\n",
    "print(canConvertString(s, goal))  # Output: False\n"
   ]
  },
  {
   "cell_type": "markdown",
   "id": "b1497fe8-eed5-4084-8e19-4557d1db61cd",
   "metadata": {},
   "source": [
    "# Qo 07"
   ]
  },
  {
   "cell_type": "code",
   "execution_count": 7,
   "id": "633698d9-0d75-4c40-af8c-53f535cdf42e",
   "metadata": {},
   "outputs": [
    {
     "name": "stdout",
     "output_type": "stream",
     "text": [
      "True\n",
      "True\n",
      "True\n",
      "False\n"
     ]
    }
   ],
   "source": [
    "def backspaceCompare(s, t):\n",
    "    stack_s = []\n",
    "    stack_t = []\n",
    "\n",
    "    for char in s:\n",
    "        if char != '#':\n",
    "            stack_s.append(char)\n",
    "        elif stack_s:\n",
    "            stack_s.pop()\n",
    "\n",
    "    for char in t:\n",
    "        if char != '#':\n",
    "            stack_t.append(char)\n",
    "        elif stack_t:\n",
    "            stack_t.pop()\n",
    "\n",
    "    return stack_s == stack_t\n",
    "\n",
    "s = \"ab#c\"\n",
    "t = \"ad#c\"\n",
    "print(backspaceCompare(s, t))  # Output: True\n",
    "\n",
    "s = \"ab##\"\n",
    "t = \"c#d#\"\n",
    "print(backspaceCompare(s, t))  # Output: True\n",
    "\n",
    "s = \"a##c\"\n",
    "t = \"#a#c\"\n",
    "print(backspaceCompare(s, t))  # Output: True\n",
    "\n",
    "s = \"a#c\"\n",
    "t = \"b\"\n",
    "print(backspaceCompare(s, t))  # Output: False\n"
   ]
  },
  {
   "cell_type": "markdown",
   "id": "37d3d968-420b-4d13-9bd0-d587d7405528",
   "metadata": {},
   "source": [
    "# Qo 08"
   ]
  },
  {
   "cell_type": "code",
   "execution_count": 8,
   "id": "d3fe011f-d55e-43f6-b247-d9ad5832dd19",
   "metadata": {},
   "outputs": [
    {
     "name": "stdout",
     "output_type": "stream",
     "text": [
      "True\n",
      "False\n"
     ]
    }
   ],
   "source": [
    "def checkStraightLine(coordinates):\n",
    "    if len(coordinates) <= 2:\n",
    "        return True\n",
    "\n",
    "    x1, y1 = coordinates[0]\n",
    "    x2, y2 = coordinates[1]\n",
    "    slope = (y2 - y1) / (x2 - x1) if x2 - x1 != 0 else float('inf')\n",
    "\n",
    "    for i in range(2, len(coordinates)):\n",
    "        x, y = coordinates[i]\n",
    "        new_slope = (y - y1) / (x - x1) if x - x1 != 0 else float('inf')\n",
    "        if slope != new_slope:\n",
    "            return False\n",
    "\n",
    "    return True\n",
    "\n",
    "coordinates = [[1, 2], [2, 3], [3, 4], [4, 5], [5, 6], [6, 7]]\n",
    "print(checkStraightLine(coordinates))  # Output: True\n",
    "\n",
    "coordinates = [[1, 1], [2, 2], [3, 4], [4, 5], [5, 6], [7, 7]]\n",
    "print(checkStraightLine(coordinates))  # Output: False\n"
   ]
  },
  {
   "cell_type": "code",
   "execution_count": null,
   "id": "8bdd5c43-375e-482d-81a2-b78985998baf",
   "metadata": {},
   "outputs": [],
   "source": []
  }
 ],
 "metadata": {
  "kernelspec": {
   "display_name": "Python 3 (ipykernel)",
   "language": "python",
   "name": "python3"
  },
  "language_info": {
   "codemirror_mode": {
    "name": "ipython",
    "version": 3
   },
   "file_extension": ".py",
   "mimetype": "text/x-python",
   "name": "python",
   "nbconvert_exporter": "python",
   "pygments_lexer": "ipython3",
   "version": "3.10.8"
  }
 },
 "nbformat": 4,
 "nbformat_minor": 5
}
