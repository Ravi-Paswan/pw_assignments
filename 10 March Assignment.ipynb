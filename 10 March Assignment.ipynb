{
 "cells": [
  {
   "cell_type": "markdown",
   "id": "2e81dd1b-9533-4648-8c78-cbe7ae86eedf",
   "metadata": {},
   "source": [
    "# Qo 01"
   ]
  },
  {
   "cell_type": "markdown",
   "id": "65cdf28f-2ea9-4475-b756-b56e0e9135dc",
   "metadata": {},
   "source": [
    "### What is Estimation Statistics? Explain point estimate and interval estimate."
   ]
  },
  {
   "cell_type": "markdown",
   "id": "4f1bf043-3d8b-4327-9cfb-f9517b0a9c8a",
   "metadata": {},
   "source": [
    "Estimation statistics is a branch of statistics that focuses on estimating population parameters based on sample data. It involves using sample statistics to make inferences or predictions about the population parameters.\n",
    "\n",
    "Point Estimate:\n",
    "A point estimate is a single value that is used to estimate an unknown population parameter. It is obtained by calculating a sample statistic, such as the sample mean or sample proportion, and using it as an estimate of the corresponding population parameter. For example, if you want to estimate the population mean height of adults, you can calculate the sample mean height of a group of individuals and use it as a point estimate of the population mean.\n",
    "\n",
    "Interval Estimate:\n",
    "An interval estimate, also known as a confidence interval, provides a range of values within which the population parameter is likely to fall. Unlike a point estimate, an interval estimate provides a measure of uncertainty associated with the estimation. It consists of two values, an upper limit and a lower limit, and is typically expressed as a range. The confidence level associated with the interval estimate represents the probability that the true population parameter lies within the interval. For example, a 95% confidence interval for the population mean height of adults would provide a range of values within which we can be 95% confident that the true population mean falls.\n",
    "\n",
    "Interval estimates are usually calculated using the sample statistic and the standard error of the statistic, along with critical values from the appropriate probability distribution (e.g., t-distribution or normal distribution). The width of the interval estimate is influenced by the desired confidence level. A wider interval will provide a higher level of confidence, but it will also be less precise in pinpointing the true value of the population parameter. Conversely, a narrower interval will offer higher precision but at the expense of a lower confidence level.,"
   ]
  },
  {
   "cell_type": "markdown",
   "id": "3ae8be69-97cf-46eb-8c73-83c03cc0b86c",
   "metadata": {},
   "source": [
    "# Qo 02"
   ]
  },
  {
   "cell_type": "markdown",
   "id": "6e3730b4-f714-406e-84af-1f0078c52bad",
   "metadata": {},
   "source": [
    "### Write a Python function to estimate the population mean using a sample mean and standard deviation."
   ]
  },
  {
   "cell_type": "code",
   "execution_count": null,
   "id": "00cc3379-03bb-4090-a5b6-925fa3cb1bfb",
   "metadata": {},
   "outputs": [],
   "source": []
  },
  {
   "cell_type": "markdown",
   "id": "fd79d6ce-4205-4b32-84d2-d736c199734f",
   "metadata": {},
   "source": [
    "# Qo 03"
   ]
  },
  {
   "cell_type": "markdown",
   "id": "618c940a-d1b3-46f5-9b86-6d5fdd58b859",
   "metadata": {},
   "source": [
    "### What is hypothesis testing? Why it is used? State importance of hypothesis testing."
   ]
  },
  {
   "cell_type": "markdown",
   "id": "c548d51a-f402-4397-b891-14be9d8c4d83",
   "metadata": {},
   "source": [
    "Hypothesis testing is a statistical method used to make inferences about a population based on sample data. It involves formulating two competing hypotheses, the null hypothesis (H0) and the alternative hypothesis (H1), and using statistical techniques to determine which hypothesis is supported by the evidence.\n",
    "\n",
    "The main purpose of hypothesis testing is to evaluate the validity of a claim or assertion about a population parameter. It helps researchers and analysts make data-driven decisions by providing a structured framework for testing hypotheses and drawing conclusions.\n",
    "\n",
    "Importance of Hypothesis Testing:\n",
    "1. Decision Making: Hypothesis testing provides a systematic approach to make informed decisions based on evidence. It helps determine whether there is enough statistical evidence to support a particular claim or hypothesis, allowing individuals to make well-founded decisions.\n",
    "\n",
    "2. Scientific Research: Hypothesis testing is a fundamental tool in scientific research, allowing researchers to test theories and evaluate the significance of research findings. It helps validate or refute scientific hypotheses, contributing to the advancement of knowledge in various fields.\n",
    "\n",
    "3. Quality Control and Process Improvement: Hypothesis testing is widely used in quality control and process improvement efforts. It allows organizations to assess whether changes made to a process or system have resulted in a significant improvement or not, thereby guiding decisions on process optimization.\n",
    "\n",
    "4. Risk Assessment: Hypothesis testing helps in assessing risks and making predictions. By formulating and testing hypotheses, analysts can evaluate the likelihood of certain events or outcomes, aiding in risk management and decision-making processes.\n",
    "\n",
    "5. Statistical Inference: Hypothesis testing is an essential component of statistical inference. It enables researchers to draw conclusions about the entire population based on a smaller sample, providing a mechanism to generalize findings beyond the observed data.\n",
    "\n",
    "6. Objectivity and Rigor: Hypothesis testing provides a rigorous framework for evaluating claims objectively. By using statistical methods, it helps minimize subjective biases and provides a standardized approach to analyze and interpret data.\n",
    "\n",
    "Overall, hypothesis testing plays a crucial role in scientific research, decision-making, quality control, risk assessment, and statistical inference. It provides a structured and objective approach to draw conclusions based on empirical evidence, enhancing the reliability and credibility of data analysis."
   ]
  },
  {
   "cell_type": "markdown",
   "id": "b6f9cacb-dbfc-4fee-87ab-7aa9d6b5b832",
   "metadata": {},
   "source": [
    "# Qo 04"
   ]
  },
  {
   "cell_type": "markdown",
   "id": "e6c12b07-1d34-4d24-b624-2f5ef126fb9a",
   "metadata": {},
   "source": [
    "### Create a hypothesis that states whether the average weight of male college students is greater than the average weight of female college students."
   ]
  },
  {
   "cell_type": "markdown",
   "id": "35dc59af-2d57-44e9-87a9-3b919fa0fa20",
   "metadata": {},
   "source": [
    "Hypothesis: The average weight of male college students is greater than the average weight of female college students.\n",
    "\n",
    "Null Hypothesis (H0): The average weight of male college students is equal to or less than the average weight of female college students. (μ_male <= μ_female)\n",
    "\n",
    "Alternative Hypothesis (H1): The average weight of male college students is greater than the average weight of female college students. (μ_male > μ_female)\n",
    "\n",
    "In this hypothesis, we are testing whether there is a significant difference in the average weight between male and female college students. The null hypothesis assumes that the average weights are equal or that males have equal or lower weights compared to females. The alternative hypothesis suggests that males have a higher average weight than females."
   ]
  },
  {
   "cell_type": "markdown",
   "id": "79eec25b-1166-4c9c-8d38-28d2dcd66c5e",
   "metadata": {},
   "source": [
    "# Qo 05"
   ]
  },
  {
   "cell_type": "markdown",
   "id": "bc69d667-d262-4af4-800a-6f232878c937",
   "metadata": {},
   "source": [
    "### Write a Python script to conduct a hypothesis test on the difference between two population means,given a sample from each population."
   ]
  },
  {
   "cell_type": "code",
   "execution_count": 14,
   "id": "872b1805-f57d-47d6-8492-1a80b26c9e5a",
   "metadata": {},
   "outputs": [],
   "source": [
    "import numpy as np\n",
    "# Generate a random sample data of size 100 from a normal distribution\n",
    "mean = np.random.randint(10,20)  # Mean of the distribution\n",
    "std_dev =  np.random.randint(1,5) # Standard deviation of the distribution\n",
    "sample_size = 100\n",
    "\n",
    "sample_data_1 = np.random.normal(mean, std_dev, sample_size) \n"
   ]
  },
  {
   "cell_type": "code",
   "execution_count": 16,
   "id": "b6af07b5-880a-4c9f-8466-0c383eddf69a",
   "metadata": {},
   "outputs": [],
   "source": [
    "import numpy as np\n",
    "# Generate a random sample data of size 100 from a normal distribution\n",
    "mean = np.random.randint(10,20)  # Mean of the distribution\n",
    "std_dev =  np.random.randint(1,5) # Standard deviation of the distribution\n",
    "sample_size = 100\n",
    "\n",
    "sample_data_2 = np.random.normal(mean, std_dev, sample_size) \n"
   ]
  },
  {
   "cell_type": "markdown",
   "id": "8bd60108-a515-44d1-8f26-68c2d6113663",
   "metadata": {},
   "source": [
    "## Now we set our hypothesis testing\n",
    "* Null Hypotheis : Mean of both the sample data are same\n",
    "* Alternate Hypothesis : Mean of both the samples are not same"
   ]
  },
  {
   "cell_type": "code",
   "execution_count": 17,
   "id": "b9b05f52-fbfd-4c67-af77-122457d88e6e",
   "metadata": {},
   "outputs": [
    {
     "name": "stdout",
     "output_type": "stream",
     "text": [
      "We Reject the null hypothesis\n"
     ]
    }
   ],
   "source": [
    "if np.mean(sample_data_1) == np.mean(sample_data_2):\n",
    "    print(\"We Fail to reject the null hypothesis\")\n",
    "else:\n",
    "    print(\"We Reject the null hypothesis\")"
   ]
  },
  {
   "cell_type": "markdown",
   "id": "6630890f-5b3d-4cee-9836-f295e616cfdf",
   "metadata": {},
   "source": [
    "# Qo 06"
   ]
  },
  {
   "cell_type": "markdown",
   "id": "3542bbb4-b727-403f-b2c8-1e05f5f7648f",
   "metadata": {},
   "source": [
    "### What is a null and alternative hypothesis? Give some examples."
   ]
  },
  {
   "cell_type": "markdown",
   "id": "44998288-24c3-44cb-9fb4-fe76515ff3be",
   "metadata": {},
   "source": [
    "In hypothesis testing, the null hypothesis (H0) and the alternative hypothesis (H1 or Ha) are two competing statements that are used to make inferences about a population based on sample data. Here are some examples of null and alternative hypotheses:\n",
    "\n",
    "1. Example: Testing the effectiveness of a new drug\n",
    "\n",
    "Null Hypothesis (H0): The new drug has no effect or is equally effective as the existing drug.\n",
    "Alternative Hypothesis (H1): The new drug is more effective than the existing drug.\n",
    "\n",
    "In this example, the null hypothesis assumes that there is no difference in effectiveness between the new and existing drugs, while the alternative hypothesis suggests that the new drug is superior in terms of efficacy.\n",
    "\n",
    "2. Example: Comparing two groups\n",
    "\n",
    "Null Hypothesis (H0): There is no difference between Group A and Group B.\n",
    "Alternative Hypothesis (H1): There is a significant difference between Group A and Group B.\n",
    "\n",
    "This example could apply to various scenarios, such as comparing the mean scores of two groups, the proportions of success in two groups, or any other measurable variable. The null hypothesis states that there is no difference between the groups, while the alternative hypothesis asserts that there is a significant difference.\n",
    "\n",
    "3. Example: Evaluating a process change\n",
    "\n",
    "Null Hypothesis (H0): The process change has no effect or is equally effective as the current process.\n",
    "Alternative Hypothesis (H1): The process change leads to a significant improvement in the outcome.\n",
    "\n",
    "Here, the null hypothesis assumes that the process change has no impact or is not better than the current process, while the alternative hypothesis suggests that the process change results in a meaningful improvement.\n",
    "\n",
    "In hypothesis testing, the goal is to collect and analyze sample data to determine whether the evidence supports rejecting the null hypothesis in favor of the alternative hypothesis. The decision is based on the level of significance, the chosen statistical test, and the observed test statistic or p-value."
   ]
  },
  {
   "cell_type": "markdown",
   "id": "3b92f058-10fb-4b4e-bfdb-2e940199b297",
   "metadata": {},
   "source": [
    "# Qo 07"
   ]
  },
  {
   "cell_type": "markdown",
   "id": "854d21c5-3d40-48c0-aeb7-24fb5d5fe914",
   "metadata": {},
   "source": [
    "### Write down the steps involved in hypothesis testing."
   ]
  },
  {
   "cell_type": "markdown",
   "id": "fbb7abf4-f6f3-404b-8b33-f194884b511b",
   "metadata": {},
   "source": [
    "Hypothesis testing involves a series of steps to assess the validity of a claim or hypothesis about a population parameter. Here are the general steps involved in hypothesis testing:\n",
    "\n",
    "1. Formulate the Null and Alternative Hypotheses:\n",
    "   - Define the null hypothesis (H0) that represents the status quo or no effect.\n",
    "   - Formulate the alternative hypothesis (H1 or Ha) that contradicts the null hypothesis and represents the effect or difference you want to investigate.\n",
    "\n",
    "2. Choose the Significance Level (α):\n",
    "   - Determine the significance level, denoted by α, which represents the maximum probability of making a Type I error (rejecting the null hypothesis when it is true). Commonly used significance levels are 0.05 (5%) and 0.01 (1%).\n",
    "\n",
    "3. Select the Test Statistic and Test Distribution:\n",
    "   - Identify the appropriate test statistic based on the type of data and the hypothesis being tested (e.g., t-test, z-test, chi-square test).\n",
    "   - Determine the appropriate probability distribution for the test statistic (e.g., t-distribution, normal distribution) depending on sample size and assumptions.\n",
    "\n",
    "4. Set the Decision Rule:\n",
    "   - Specify the critical region or rejection region based on the significance level (α) and the test distribution.\n",
    "   - Determine the critical values or the cutoff points that separate the critical region from the acceptance region.\n",
    "\n",
    "5. Collect Sample Data:\n",
    "   - Gather relevant data from a representative sample according to the requirements of the hypothesis test.\n",
    "   - Ensure the sample is collected randomly and meets any assumptions necessary for the selected test.\n",
    "\n",
    "6. Compute the Test Statistic:\n",
    "   - Calculate the test statistic based on the collected sample data and the chosen test formula.\n",
    "   - The test statistic quantifies the difference between the sample data and what is expected under the null hypothesis.\n",
    "\n",
    "7. Make a Decision:\n",
    "   - Compare the calculated test statistic with the critical values or use the p-value (the probability of obtaining a test statistic as extreme as or more extreme than the observed data, assuming the null hypothesis is true) to make a decision.\n",
    "   - If the test statistic falls within the critical region or the p-value is less than the significance level (α), reject the null hypothesis. Otherwise, fail to reject the null hypothesis.\n",
    "\n",
    "8. Draw Conclusions:\n",
    "   - Summarize the results of the hypothesis test in the context of the problem.\n",
    "   - State whether there is sufficient evidence to support the alternative hypothesis or if there is not enough evidence to reject the null hypothesis.\n",
    "\n",
    "It's important to note that these steps provide a general framework for hypothesis testing, and the specific procedures may vary depending on the type of hypothesis test and the statistical techniques employed."
   ]
  },
  {
   "cell_type": "markdown",
   "id": "e099989d-a62b-457e-8c7b-291031f41f5c",
   "metadata": {},
   "source": [
    "# Qo 08"
   ]
  },
  {
   "cell_type": "markdown",
   "id": "16a433fd-2b8e-4a97-91fc-9629c321a515",
   "metadata": {},
   "source": [
    "### Define p-Value and explain its significance in hypothesis testing"
   ]
  },
  {
   "cell_type": "markdown",
   "id": "1cec8075-e6ba-4b00-8122-8f5619ac93b8",
   "metadata": {},
   "source": [
    "The p-value is a statistical measure that quantifies the strength of evidence against the null hypothesis in hypothesis testing. It represents the probability of observing a test statistic as extreme as or more extreme than the one calculated from the sample data, assuming that the null hypothesis is true.\n",
    "\n",
    "The significance of the p-value in hypothesis testing can be understood as follows:\n",
    "\n",
    "1. Assessing the Strength of Evidence: The p-value provides a quantitative measure of the strength of evidence against the null hypothesis. A small p-value suggests strong evidence against the null hypothesis, indicating that the observed data is unlikely to have occurred if the null hypothesis were true. Conversely, a large p-value indicates weak evidence against the null hypothesis, suggesting that the observed data is reasonably likely to occur even if the null hypothesis is true.\n",
    "\n",
    "2. Decision Making: The p-value helps in making decisions about rejecting or failing to reject the null hypothesis. By comparing the p-value to the pre-determined significance level (α), typically set at 0.05 or 0.01, researchers can decide whether to reject the null hypothesis. If the p-value is less than the significance level, the evidence is considered statistically significant, and the null hypothesis is rejected in favor of the alternative hypothesis. If the p-value is greater than the significance level, there is insufficient evidence to reject the null hypothesis.\n",
    "\n",
    "3. Interpretation: The p-value allows researchers to interpret the results of hypothesis testing. A small p-value suggests that the observed data is unlikely to occur by chance alone and provides support for the alternative hypothesis. On the other hand, a large p-value implies that the observed data is reasonably likely to happen even if the null hypothesis is true, indicating a lack of strong evidence for the alternative hypothesis.\n",
    "\n",
    "4. Reporting Results: The p-value is commonly reported in research papers and publications to provide transparency and allow readers to assess the strength of the evidence. It helps in communicating the findings of the hypothesis test and the statistical significance of the results.\n",
    "\n",
    "It is important to note that the p-value is not a direct measure of the size of an effect or the practical significance of a result. It only quantifies the statistical evidence against the null hypothesis. Other considerations, such as effect size and practical implications, should be taken into account when interpreting the practical significance of the results."
   ]
  },
  {
   "cell_type": "markdown",
   "id": "0d3c34e2-1660-43a6-9414-fd613bd40a0f",
   "metadata": {},
   "source": [
    "# Qo 09"
   ]
  },
  {
   "cell_type": "markdown",
   "id": "f4ecd11d-0194-42ed-92ae-e7863e790c18",
   "metadata": {},
   "source": [
    "### Generate a Student's t-distribution plot using Python's matplotlib library, with the degrees of freedom parameter set to 10."
   ]
  },
  {
   "cell_type": "code",
   "execution_count": 4,
   "id": "9d54cc62-991d-4088-844f-4cccf6344b6d",
   "metadata": {},
   "outputs": [
    {
     "data": {
      "image/png": "[encoded data removed]",
      "text/plain": [
       "<Figure size 640x480 with 1 Axes>"
      ]
     },
     "metadata": {},
     "output_type": "display_data"
    }
   ],
   "source": [
    "import numpy as np\n",
    "import matplotlib.pyplot as plt\n",
    "from scipy.stats import t\n",
    "\n",
    "# Define the degrees of freedom\n",
    "df = 10\n",
    "\n",
    "# Generate x values for the plot\n",
    "x = np.linspace(-4, 4, 100)\n",
    "\n",
    "# Calculate the probability density function (PDF) at each x value\n",
    "pdf = t.pdf(x, df)\n",
    "\n",
    "# Create the plot\n",
    "plt.plot(x, pdf, label='Degrees of Freedom: {}'.format(df))\n",
    "plt.title(\"Student's t-distribution\")\n",
    "plt.xlabel('x')\n",
    "plt.ylabel('PDF')\n",
    "plt.legend()\n",
    "plt.grid(True)\n",
    "\n",
    "# Display the plot\n",
    "plt.show()\n"
   ]
  },
  {
   "cell_type": "markdown",
   "id": "04c8e4c2-4dd0-42ff-be1e-d2d291b191b2",
   "metadata": {},
   "source": [
    "# Qo 10"
   ]
  },
  {
   "cell_type": "markdown",
   "id": "5ced59b2-0de4-411b-b69d-cf5fce2a2e3e",
   "metadata": {},
   "source": [
    "### Write a Python program to calculate the two-sample t-test for independent samples, given two random samples of equal size and a null hypothesis that the population means are equal."
   ]
  },
  {
   "cell_type": "code",
   "execution_count": 27,
   "id": "8a47c1cb-e6af-413e-acb4-0dd594cc797b",
   "metadata": {},
   "outputs": [
    {
     "name": "stdout",
     "output_type": "stream",
     "text": [
      "We Fail to reject the null hypothesis\n",
      "11.12 8.76 0.15479832114982395\n"
     ]
    }
   ],
   "source": [
    "import numpy as np\n",
    "import random\n",
    "import scipy.stats as t\n",
    "significance_value = 0.05\n",
    "data_1 = np.random.randint(1,20,size = 25)\n",
    "data_2 = np.random.randint(1,20,size = 25)\n",
    "# Null hypothesis (Ho) : The means of both the data are same\n",
    "# Alternate hypothesis (Ha) : The means of both the data are not same\n",
    "t_stat,p_Value = t.ttest_ind(a =data_1, b = data_2)\n",
    "if p_Value > significance_value:\n",
    "    print(\"We Fail to reject the null hypothesis\")\n",
    "else:\n",
    "\tprint(\"We reject the null hyppothesis\")\n",
    "print(np.mean(data_1),np.mean(data_2),p_Value)     "
   ]
  },
  {
   "cell_type": "markdown",
   "id": "475e79d2-4168-40b5-af06-a3fddeb681e6",
   "metadata": {},
   "source": [
    "# Qo 11"
   ]
  },
  {
   "cell_type": "markdown",
   "id": "820c4958-af07-447e-956e-bae5ade33420",
   "metadata": {},
   "source": [
    "### What is student's t distribution? When to use the t-distribution."
   ]
  },
  {
   "cell_type": "markdown",
   "id": "bea310ed-b303-4397-a66b-44fa97b076cb",
   "metadata": {},
   "source": [
    "The Student's t-distribution, often referred to as the t-distribution, is a probability distribution that is widely used in statistics. It is used when working with small sample sizes or when the population standard deviation is unknown. The t-distribution is similar to the standard normal distribution (Z-distribution) but has fatter tails, which accounts for the increased uncertainty when dealing with smaller samples.\n",
    "\n",
    "The t-distribution is characterized by its degrees of freedom (df), which determine its shape. The degrees of freedom are typically associated with the sample size minus 1 (n-1) for sample data. As the degrees of freedom increase, the t-distribution approaches the shape of the standard normal distribution.\n",
    "\n",
    "The t-distribution is often used in hypothesis testing, confidence interval estimation, and performing t-tests. It provides a way to quantify the uncertainty associated with estimates and test statistics when working with limited data.\n",
    "\n",
    "In summary, the Student's t-distribution is a probability distribution used to account for uncertainty when working with small sample sizes or unknown population standard deviations. It is a fundamental tool in statistical analysis and inference.\n",
    "\n",
    "Student t distribution test is used in following cases\n",
    "* When the population standard deviation and unknown\n",
    "* When the sample size is less than 30"
   ]
  },
  {
   "cell_type": "markdown",
   "id": "072f21cd-d302-43cc-ae8a-4a4e0c1a44b0",
   "metadata": {},
   "source": [
    "# Qo 12"
   ]
  },
  {
   "cell_type": "markdown",
   "id": "aacc4d6b-ec9e-4b86-95cb-ba598ad7a72c",
   "metadata": {},
   "source": [
    "### What is t-static?State the formula of t-static"
   ]
  },
  {
   "cell_type": "markdown",
   "id": "7f8f50c6-fd5c-4da0-b29f-98be7d2c74ce",
   "metadata": {},
   "source": [
    "The t-statistic is a statistical measure that is commonly used in hypothesis testing and determining the significance of a sample mean difference.\n",
    "\n",
    "The formula for the t-statistic depends on the context in which it is used. I will provide the general formula for the t-statistic when comparing two sample means:\n",
    "\n",
    "t = (x₁ - x₂) / (s_p √((1/n₁) + (1/n₂)))\n",
    "\n",
    "Where:\n",
    "- t is the t-statistic\n",
    "- x₁ and x₂ are the sample means of the two groups being compared\n",
    "- n₁ and n₂ are the sample sizes of the two groups\n",
    "- s_p is the pooled standard deviation, given by s_p = √(((n₁ - 1)s₁² + (n₂ - 1)s₂²) / (n₁ + n₂ - 2))\n",
    "- s₁ and s₂ are the standard deviations of the two groups\n",
    "\n",
    "It's important to note that the t-statistic formula can vary depending on the specific statistical test being performed, such as a t-test for independent samples, paired samples, or one-sample t-test. The formula provided here is for an independent samples t-test assuming equal variances. Other variations of the t-statistic formula exist for different scenarios."
   ]
  },
  {
   "cell_type": "markdown",
   "id": "0b3cd60e-1d2f-404c-9285-b0e87224ebd6",
   "metadata": {},
   "source": [
    "# Qo 13"
   ]
  },
  {
   "cell_type": "markdown",
   "id": "73e54762-d57b-4275-aeec-275e696396a9",
   "metadata": {},
   "source": [
    "#### A coffee shop owner wants to estimate the average daily revenue for their shop. They take a random sample of 50 days and find the sample mean revenue to be $500 with a standard deviation of $50.Estimate the population mean revenue with a 95% confidence interval."
   ]
  },
  {
   "cell_type": "code",
   "execution_count": 25,
   "id": "727bb398-89a8-4a93-8c2f-172b8e9b526a",
   "metadata": {},
   "outputs": [
    {
     "name": "stdout",
     "output_type": "stream",
     "text": [
      "We fail to reject the null hypothesis\n"
     ]
    }
   ],
   "source": [
    "import numpy as np\n",
    "import scipy.stats as stat\n",
    "# Null Hypothesis(Ho) : Average Daily Revenue is $500\n",
    "# Alternate hypothesis (Ha) : Average daily sales is not %500\n",
    "smp_mean = 500\n",
    "smp_std = 50\n",
    "sample_size = 50\n",
    "t_data_set = np.random.standard_t(df=sample_size-1, size=sample_size) * smp_std + smp_mean\n",
    "stats, p_Value = stat.ttest_1samp(t_data_set,500)\n",
    "if p_Value < 0.05:\n",
    "    print(\"We Reject the Null hypothesis\")\n",
    "else:\n",
    "    print(\"We fail to reject the null hypothesis\")"
   ]
  },
  {
   "cell_type": "code",
   "execution_count": 26,
   "id": "bb78e081-d6ed-44ca-b90b-395c8010ace9",
   "metadata": {},
   "outputs": [
    {
     "data": {
      "text/plain": [
       "0.9622700360198533"
      ]
     },
     "execution_count": 26,
     "metadata": {},
     "output_type": "execute_result"
    }
   ],
   "source": [
    "p_Value"
   ]
  },
  {
   "cell_type": "markdown",
   "id": "111bfdd9-5ff2-4e2d-87f0-bedf3c1b4421",
   "metadata": {},
   "source": [
    "# Qo 14"
   ]
  },
  {
   "cell_type": "markdown",
   "id": "dd972239-ae2a-42a1-a168-94d350199d0c",
   "metadata": {},
   "source": [
    "### A researcher hypothesizes that a new drug will decrease blood pressure by 10 mmHg. They conduct a clinical trial with 100 patients and find that the sample mean decrease in blood pressure is 8 mmHg with a standard deviation of 3 mmHg. Test the hypothesis with a significance level of 0.05."
   ]
  },
  {
   "cell_type": "code",
   "execution_count": 42,
   "id": "b98036a7-fdad-4be6-aef0-b38a4a431c02",
   "metadata": {},
   "outputs": [
    {
     "name": "stdout",
     "output_type": "stream",
     "text": [
      "1.938150767441288e-06\n",
      "We Reject the Null hypothesis\n"
     ]
    }
   ],
   "source": [
    "import numpy as np\n",
    "import scipy.stats as stat\n",
    "# Null Hypothesis(Ho) : Average blood pressure decreases by 10mmHg \n",
    "# Alternate hypothesis (Ha) : Average blood pressure dereases by less tha 10mmHg\n",
    "smp_mean = 8\n",
    "smp_std = 3\n",
    "sample_size = 100\n",
    "t_data_set = np.random.standard_t(df=sample_size-1, size=sample_size) * smp_std + smp_mean\n",
    "stats, p_Value = stat.ttest_1samp(t_data_set,10)\n",
    "print(p_Value)\n",
    "if p_Value < 0.05:\n",
    "    print(\"We Reject the Null hypothesis\")\n",
    "else:\n",
    "    print(\"We fail to reject the null hypothesis\")"
   ]
  },
  {
   "cell_type": "markdown",
   "id": "62dba5d6-03d6-4f5d-b427-95121740ad3e",
   "metadata": {},
   "source": [
    "# Qo 15"
   ]
  },
  {
   "cell_type": "markdown",
   "id": "46ea6a1d-cf6e-4e67-9cd2-4a84efd67574",
   "metadata": {},
   "source": [
    "### An electronics company produces a certain type of product with a mean weight of 5 pounds and a standard deviation of 0.5 pounds. A random sample of 25 products is taken, and the sample mean weight is found to be 4.8 pounds. Test the hypothesis that the true mean weight of the products is less than 5 pounds with a significance level of 0.01."
   ]
  },
  {
   "cell_type": "code",
   "execution_count": 10,
   "id": "1c972185-8b97-422c-9fef-ec521630b87b",
   "metadata": {},
   "outputs": [
    {
     "name": "stdout",
     "output_type": "stream",
     "text": [
      "0.32662375707535385\n",
      "We fail to reject the null hypothesis\n"
     ]
    }
   ],
   "source": [
    "import numpy as np\n",
    "import scipy.stats as stat\n",
    "# Null Hypothesis(Ho) : Average weight is 5 pounds\n",
    "# Alternate hypothesis (Ha) : Average weight is npt 5 pounds\n",
    "smp_mean = 4.8\n",
    "smp_std = 0.5\n",
    "sample_size = 25\n",
    "t_data_set = np.random.standard_t(df=sample_size-1, size=sample_size) * smp_std + smp_mean\n",
    "stats, p_Value = stat.ttest_1samp(t_data_set,5)\n",
    "print(p_Value)\n",
    "if p_Value < 0.01:\n",
    "    print(\"We Reject the Null hypothesis\")\n",
    "else:\n",
    "    print(\"We fail to reject the null hypothesis\")"
   ]
  },
  {
   "cell_type": "markdown",
   "id": "f045f216-4089-4756-84ad-9863d80793d3",
   "metadata": {},
   "source": [
    "# Qo 16"
   ]
  },
  {
   "cell_type": "markdown",
   "id": "ac2b9ee9-a980-4211-981d-a54b8f4989e4",
   "metadata": {},
   "source": [
    "### Two groups of students are given different study materials to prepare for a test. The first group (n1 = 30) has a mean score of 80 with a standard deviation of 10, and the second group (n2 = 40) has a mean score of 75 with a standard deviation of 8. Test the hypothesis that the population means for the two groups are equal with a significance level of 0.01."
   ]
  },
  {
   "cell_type": "code",
   "execution_count": 13,
   "id": "b493b5f9-0d1e-42ca-88d8-5b2e649dfbdc",
   "metadata": {},
   "outputs": [
    {
     "name": "stdout",
     "output_type": "stream",
     "text": [
      "Fail to reject the null hypothesis. There is no significant difference between the population means.\n"
     ]
    }
   ],
   "source": [
    "import scipy.stats as stats\n",
    "\n",
    "def perform_ttest(sample1_mean, sample1_stddev, sample1_size, sample2_mean, sample2_stddev, sample2_size, alpha):\n",
    "    # Calculate the t-score\n",
    "    standard_error = math.sqrt((sample1_stddev**2 / sample1_size) + (sample2_stddev**2 / sample2_size))\n",
    "    t_score = (sample1_mean - sample2_mean) / standard_error\n",
    "\n",
    "    # Calculate the degrees of freedom\n",
    "    degrees_of_freedom = sample1_size + sample2_size - 2\n",
    "\n",
    "    # Calculate the critical t-value for the given alpha and degrees of freedom\n",
    "    critical_t_value = stats.t.ppf(1 - (alpha / 2), degrees_of_freedom)\n",
    "\n",
    "    # Perform the t-test and determine if the null hypothesis should be rejected\n",
    "    if abs(t_score) > critical_t_value:\n",
    "        print(\"Reject the null hypothesis. There is a significant difference between the population means.\")\n",
    "    else:\n",
    "        print(\"Fail to reject the null hypothesis. There is no significant difference between the population means.\")\n",
    "\n",
    "# Example usage\n",
    "sample1_mean = 80\n",
    "sample1_stddev = 10\n",
    "sample1_size = 30\n",
    "sample2_mean = 75\n",
    "sample2_stddev = 8\n",
    "sample2_size = 40\n",
    "alpha = 0.01\n",
    "\n",
    "perform_ttest(sample1_mean, sample1_stddev, sample1_size, sample2_mean, sample2_stddev, sample2_size, alpha)\n"
   ]
  },
  {
   "cell_type": "markdown",
   "id": "b2b3322c-7456-4a2b-8ad2-b494f970d4f2",
   "metadata": {},
   "source": [
    "# Qo 17"
   ]
  },
  {
   "cell_type": "markdown",
   "id": "89a07857-d08a-4bf4-84f1-a41a63282127",
   "metadata": {},
   "source": [
    "### A marketing company wants to estimate the average number of ads watched by viewers during a TV program. They take a random sample of 50 viewers and find that the sample mean is 4 with a standard deviation of 1.5. Estimate the population mean with a 99% confidence interval."
   ]
  },
  {
   "cell_type": "code",
   "execution_count": 14,
   "id": "ee5528c7-4fca-4b41-9aee-4de18c03b5dc",
   "metadata": {},
   "outputs": [
    {
     "name": "stdout",
     "output_type": "stream",
     "text": [
      "Confidence interval: [3.431, 4.569]\n"
     ]
    }
   ],
   "source": [
    "import scipy.stats as stats\n",
    "\n",
    "def calculate_confidence_interval(sample_mean, sample_stddev, sample_size, confidence_level):\n",
    "    # Calculate the standard error\n",
    "    standard_error = sample_stddev / (sample_size ** 0.5)\n",
    "\n",
    "    # Calculate the critical t-value\n",
    "    degrees_of_freedom = sample_size - 1\n",
    "    critical_t_value = stats.t.ppf(1 - (1 - confidence_level) / 2, degrees_of_freedom)\n",
    "\n",
    "    # Calculate the margin of error\n",
    "    margin_of_error = critical_t_value * standard_error\n",
    "\n",
    "    # Calculate the lower and upper bounds of the confidence interval\n",
    "    lower_bound = sample_mean - margin_of_error\n",
    "    upper_bound = sample_mean + margin_of_error\n",
    "\n",
    "    return lower_bound, upper_bound\n",
    "\n",
    "# Example usage\n",
    "sample_mean = 4\n",
    "sample_stddev = 1.5\n",
    "sample_size = 50\n",
    "confidence_level = 0.99\n",
    "\n",
    "lower_bound, upper_bound = calculate_confidence_interval(sample_mean, sample_stddev, sample_size, confidence_level)\n",
    "print(\"Confidence interval: [{:.3f}, {:.3f}]\".format(lower_bound, upper_bound))\n"
   ]
  },
  {
   "cell_type": "code",
   "execution_count": null,
   "id": "db4d1203-205b-464a-b2dd-ea506debeb01",
   "metadata": {},
   "outputs": [],
   "source": []
  }
 ],
 "metadata": {
  "kernelspec": {
   "display_name": "Python 3 (ipykernel)",
   "language": "python",
   "name": "python3"
  },
  "language_info": {
   "codemirror_mode": {
    "name": "ipython",
    "version": 3
   },
   "file_extension": ".py",
   "mimetype": "text/x-python",
   "name": "python",
   "nbconvert_exporter": "python",
   "pygments_lexer": "ipython3",
   "version": "3.10.8"
  }
 },
 "nbformat": 4,
 "nbformat_minor": 5
}
