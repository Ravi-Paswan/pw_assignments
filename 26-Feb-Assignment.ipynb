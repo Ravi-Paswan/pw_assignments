{
 "cells": [
  {
   "cell_type": "code",
   "execution_count": 11,
   "id": "7c28d64a-a5e8-44ed-9f7e-0e8ee748b659",
   "metadata": {},
   "outputs": [],
   "source": [
    "import numpy as np\n",
    "list_1 = ['1','2','3','4','5']\n",
    "array_list = np.array(object = list_1)"
   ]
  },
  {
   "cell_type": "markdown",
   "id": "6f9d590e-8f54-4faa-bb74-48f679146205",
   "metadata": {},
   "source": [
    "# Question 01"
   ]
  },
  {
   "cell_type": "code",
   "execution_count": 4,
   "id": "00b22a7f-e769-4bfb-80c4-458465a4321b",
   "metadata": {},
   "outputs": [
    {
     "name": "stdout",
     "output_type": "stream",
     "text": [
      "<class 'list'> <class 'numpy.ndarray'>\n"
     ]
    }
   ],
   "source": [
    "print(type(list_1),type(array_list))"
   ]
  },
  {
   "cell_type": "markdown",
   "id": "622e389d-6fd9-410c-ad08-4b86730e034e",
   "metadata": {},
   "source": [
    "# Question 02"
   ]
  },
  {
   "cell_type": "code",
   "execution_count": 6,
   "id": "8e967542-5fb8-4a23-8bcb-0d107ecb2d2a",
   "metadata": {},
   "outputs": [
    {
     "name": "stdout",
     "output_type": "stream",
     "text": [
      "*** FOR list_1 ***\n",
      "<class 'str'>\n",
      "<class 'str'>\n",
      "<class 'str'>\n",
      "<class 'str'>\n",
      "<class 'str'>\n",
      "*** FOR array_list ***\n",
      "<class 'numpy.str_'>\n",
      "<class 'numpy.str_'>\n",
      "<class 'numpy.str_'>\n",
      "<class 'numpy.str_'>\n",
      "<class 'numpy.str_'>\n"
     ]
    }
   ],
   "source": [
    "print(\"*** FOR list_1 ***\")\n",
    "for i in list_1:\n",
    "    print(type(i))\n",
    "\n",
    "print(\"*** FOR array_list ***\")\n",
    "for j in array_list:\n",
    "    print(type(j))"
   ]
  },
  {
   "cell_type": "code",
   "execution_count": 17,
   "id": "84ec8103-904e-4291-859b-8ae89f256b78",
   "metadata": {},
   "outputs": [],
   "source": [
    "array_list = np.array(object = list_1, dtype = int)"
   ]
  },
  {
   "cell_type": "markdown",
   "id": "0753155e-6225-4b86-b940-b4f9f7c11fce",
   "metadata": {},
   "source": [
    "# Qustion 03"
   ]
  },
  {
   "cell_type": "markdown",
   "id": "b881aca2-9fd4-4458-b036-c58d4470196c",
   "metadata": {},
   "source": [
    "* No there will be no difference"
   ]
  },
  {
   "cell_type": "code",
   "execution_count": 19,
   "id": "cb5d4368-238d-49d4-8455-56bebdfc853e",
   "metadata": {},
   "outputs": [],
   "source": [
    "import numpy as np\n",
    "num_list = [ [ 1 , 2 , 3 ] , [ 4 , 5 , 6 ] ]\n",
    "num_array = np.array(object = num_list)"
   ]
  },
  {
   "cell_type": "markdown",
   "id": "06b8bb14-54a1-4c98-9e5a-dc89f53b4564",
   "metadata": {},
   "source": [
    "# Question 04"
   ]
  },
  {
   "cell_type": "code",
   "execution_count": 23,
   "id": "2de1a73e-6116-471f-99b7-5d24c89c148f",
   "metadata": {},
   "outputs": [
    {
     "name": "stdout",
     "output_type": "stream",
     "text": [
      "(2, 3) 6\n"
     ]
    }
   ],
   "source": [
    "print(num_array.shape,num_array.size)"
   ]
  },
  {
   "cell_type": "markdown",
   "id": "bc8a1fca-6ee4-4443-a424-47d72cc382e8",
   "metadata": {},
   "source": [
    "# Question 05"
   ]
  },
  {
   "cell_type": "code",
   "execution_count": 25,
   "id": "a7ab0a1b-be1b-4c34-b6a8-61383a63d7a2",
   "metadata": {},
   "outputs": [
    {
     "data": {
      "text/plain": [
       "array([[0., 0., 0.],\n",
       "       [0., 0., 0.],\n",
       "       [0., 0., 0.]])"
      ]
     },
     "execution_count": 25,
     "metadata": {},
     "output_type": "execute_result"
    }
   ],
   "source": [
    "new_array = np.zeros((3,3))\n",
    "new_array"
   ]
  },
  {
   "cell_type": "markdown",
   "id": "a4e1bc4a-c996-47f1-8fe0-ac56a275100c",
   "metadata": {},
   "source": [
    "# Question 06"
   ]
  },
  {
   "cell_type": "code",
   "execution_count": 26,
   "id": "72d2d9e5-b384-4bcf-9dce-e2c6226d7b88",
   "metadata": {},
   "outputs": [
    {
     "data": {
      "text/plain": [
       "array([[1., 0., 0., 0., 0.],\n",
       "       [0., 1., 0., 0., 0.],\n",
       "       [0., 0., 1., 0., 0.],\n",
       "       [0., 0., 0., 1., 0.],\n",
       "       [0., 0., 0., 0., 1.]])"
      ]
     },
     "execution_count": 26,
     "metadata": {},
     "output_type": "execute_result"
    }
   ],
   "source": [
    "new_array_2 = np.eye(5)\n",
    "new_array_2"
   ]
  },
  {
   "cell_type": "code",
   "execution_count": null,
   "id": "3d49e7a8-a0c7-41c9-bbe4-169d023a228d",
   "metadata": {},
   "outputs": [],
   "source": []
  }
 ],
 "metadata": {
  "kernelspec": {
   "display_name": "Python 3 (ipykernel)",
   "language": "python",
   "name": "python3"
  },
  "language_info": {
   "codemirror_mode": {
    "name": "ipython",
    "version": 3
   },
   "file_extension": ".py",
   "mimetype": "text/x-python",
   "name": "python",
   "nbconvert_exporter": "python",
   "pygments_lexer": "ipython3",
   "version": "3.10.8"
  }
 },
 "nbformat": 4,
 "nbformat_minor": 5
}
