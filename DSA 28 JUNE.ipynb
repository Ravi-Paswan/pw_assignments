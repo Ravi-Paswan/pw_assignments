{
 "cells": [
  {
   "cell_type": "markdown",
   "id": "5a8454dd-4ac1-4ab1-87f1-bbb1cbd41726",
   "metadata": {},
   "source": [
    "# Qo 01"
   ]
  },
  {
   "cell_type": "code",
   "execution_count": 10,
   "id": "a4e70c25-ddfe-44f4-876a-f6a04f324bc7",
   "metadata": {},
   "outputs": [
    {
     "data": {
      "text/plain": [
       "2"
      ]
     },
     "execution_count": 10,
     "metadata": {},
     "output_type": "execute_result"
    }
   ],
   "source": [
    "def threeSumClosest(nums, target):\n",
    "    nums.sort()  # Sort the array in ascending order\n",
    "    n = len(nums)\n",
    "    closestSum = float('inf')\n",
    "\n",
    "    for i in range(n-2):\n",
    "        left = i + 1\n",
    "        right = n - 1\n",
    "\n",
    "        while left < right:\n",
    "            currentSum = nums[i] + nums[left] + nums[right]\n",
    "            if abs(currentSum - target) < abs(closestSum - target):\n",
    "                closestSum = currentSum\n",
    "\n",
    "            if currentSum < target:\n",
    "                left += 1\n",
    "            elif currentSum > target:\n",
    "                right -= 1\n",
    "            else:\n",
    "                return target\n",
    "\n",
    "    return closestSum\n",
    "\n",
    "nums = [-1,2,1,-4]\n",
    "target = 1\n",
    "threeSumClosest(nums,target)"
   ]
  },
  {
   "cell_type": "markdown",
   "id": "17e32a4e-7cc8-4d11-83ef-cdd44ed0e51e",
   "metadata": {},
   "source": [
    "# Qo 02"
   ]
  },
  {
   "cell_type": "code",
   "execution_count": 11,
   "id": "6f6a2a39-ddb6-4563-be09-4196f6463eff",
   "metadata": {},
   "outputs": [
    {
     "data": {
      "text/plain": [
       "[[-2, -1, 1, 2], [-2, 0, 0, 2], [-1, 0, 0, 1]]"
      ]
     },
     "execution_count": 11,
     "metadata": {},
     "output_type": "execute_result"
    }
   ],
   "source": [
    "def fourSum(nums, target):\n",
    "    nums.sort()  # Sort the array in ascending order\n",
    "    n = len(nums)\n",
    "    result = []\n",
    "\n",
    "    for a in range(n-3):\n",
    "        if a > 0 and nums[a] == nums[a-1]:\n",
    "            continue\n",
    "\n",
    "        for b in range(a+1, n-2):\n",
    "            if b > a+1 and nums[b] == nums[b-1]:\n",
    "                continue\n",
    "\n",
    "            left = b + 1\n",
    "            right = n - 1\n",
    "\n",
    "            while left < right:\n",
    "                currentSum = nums[a] + nums[b] + nums[left] + nums[right]\n",
    "                if currentSum == target:\n",
    "                    result.append([nums[a], nums[b], nums[left], nums[right]])\n",
    "                    left += 1\n",
    "                    right -= 1\n",
    "                    while left < right and nums[left] == nums[left-1]:\n",
    "                        left += 1\n",
    "                    while left < right and nums[right] == nums[right+1]:\n",
    "                        right -= 1\n",
    "                elif currentSum < target:\n",
    "                    left += 1\n",
    "                else:\n",
    "                    right -= 1\n",
    "\n",
    "    return result\n",
    "\n",
    "nums = [1,0,-1,0,-2,2]\n",
    "target = 0\n",
    "fourSum(nums,target)"
   ]
  },
  {
   "cell_type": "markdown",
   "id": "32f4567a-52dc-4430-976b-01626246b848",
   "metadata": {},
   "source": [
    "# Qo 03"
   ]
  },
  {
   "cell_type": "code",
   "execution_count": 12,
   "id": "10bd0e99-ce63-4010-805a-8071d658ffbc",
   "metadata": {},
   "outputs": [],
   "source": [
    "def nextPermutation(nums):\n",
    "    n = len(nums)\n",
    "    i = n - 2\n",
    "\n",
    "    # Find the first pair (i, j) where nums[i] < nums[j]\n",
    "    while i >= 0 and nums[i] >= nums[i + 1]:\n",
    "        i -= 1\n",
    "\n",
    "    if i >= 0:\n",
    "        j = n - 1\n",
    "        # Find the first element in the suffix greater than nums[i]\n",
    "        while j >= 0 and nums[j] <= nums[i]:\n",
    "            j -= 1\n",
    "        # Swap nums[i] and nums[j]\n",
    "        nums[i], nums[j] = nums[j], nums[i]\n",
    "\n",
    "    # Reverse the suffix\n",
    "    left = i + 1\n",
    "    right = n - 1\n",
    "    while left < right:\n",
    "        nums[left], nums[right] = nums[right], nums[left]\n",
    "        left += 1\n",
    "        right -= 1\n",
    "\n",
    "        \n",
    "nums = [1,2,3]\n",
    "nextPermutation(nums)"
   ]
  },
  {
   "cell_type": "markdown",
   "id": "3454d1ae-ed59-4f1e-9c45-8bb3260d620c",
   "metadata": {},
   "source": [
    "# Qo 04"
   ]
  },
  {
   "cell_type": "code",
   "execution_count": 13,
   "id": "8799469d-88e7-4126-954c-01378d4a7b67",
   "metadata": {},
   "outputs": [
    {
     "data": {
      "text/plain": [
       "1"
      ]
     },
     "execution_count": 13,
     "metadata": {},
     "output_type": "execute_result"
    }
   ],
   "source": [
    "def searchInsert(nums, target):\n",
    "    left = 0\n",
    "    right = len(nums) - 1\n",
    "\n",
    "    while left <= right:\n",
    "        mid = (left + right) // 2\n",
    "\n",
    "        if nums[mid] == target:\n",
    "            return mid\n",
    "        elif nums[mid] < target:\n",
    "            left = mid + 1\n",
    "        else:\n",
    "            right = mid - 1\n",
    "\n",
    "    return left\n",
    "\n",
    "nums = [1,3,5,6]\n",
    "target = 2\n",
    "searchInsert(nums,target)"
   ]
  },
  {
   "cell_type": "markdown",
   "id": "9111d366-0acd-46f4-8329-4318dc37ea53",
   "metadata": {},
   "source": [
    "# Qo 05"
   ]
  },
  {
   "cell_type": "code",
   "execution_count": 14,
   "id": "1797f43b-7fd4-4d7e-997d-8dc2ed120e55",
   "metadata": {},
   "outputs": [
    {
     "data": {
      "text/plain": [
       "[1, 2, 4]"
      ]
     },
     "execution_count": 14,
     "metadata": {},
     "output_type": "execute_result"
    }
   ],
   "source": [
    "def plusOne(digits):\n",
    "    n = len(digits)\n",
    "    for i in range(n - 1, -1, -1):\n",
    "        if digits[i] != 9:\n",
    "            digits[i] += 1\n",
    "            break\n",
    "        else:\n",
    "            digits[i] = 0\n",
    "            if i == 0:\n",
    "                digits = [1] + digits\n",
    "\n",
    "    return digits\n",
    "\n",
    "digits = [1,2,3]\n",
    "plusOne(digits)\n"
   ]
  },
  {
   "cell_type": "markdown",
   "id": "c37e27b2-8d5f-44b4-8d08-fc0f25992389",
   "metadata": {},
   "source": [
    "# Qo 06"
   ]
  },
  {
   "cell_type": "code",
   "execution_count": 15,
   "id": "da37e379-1a60-443d-8b2c-afdb40a5f0d7",
   "metadata": {},
   "outputs": [
    {
     "data": {
      "text/plain": [
       "1"
      ]
     },
     "execution_count": 15,
     "metadata": {},
     "output_type": "execute_result"
    }
   ],
   "source": [
    "def singleNumber(nums):\n",
    "    result = 0\n",
    "    for num in nums:\n",
    "        result ^= num\n",
    "    return result\n",
    "nums = [2,2,1]\n",
    "singleNumber(nums)"
   ]
  },
  {
   "cell_type": "markdown",
   "id": "c6aa9dde-49a6-47ff-8c5f-1a6df903eb5b",
   "metadata": {},
   "source": [
    "# Qo 07"
   ]
  },
  {
   "cell_type": "code",
   "execution_count": 18,
   "id": "823c5700-28f8-46d5-98f1-877c5980a553",
   "metadata": {},
   "outputs": [
    {
     "data": {
      "text/plain": [
       "['2', '4->49', '51->74', '76->99']"
      ]
     },
     "execution_count": 18,
     "metadata": {},
     "output_type": "execute_result"
    }
   ],
   "source": [
    "def findMissingRanges(nums, lower, upper):\n",
    "    result = []\n",
    "    start = lower\n",
    "\n",
    "    for num in nums:\n",
    "        if num > start:\n",
    "            if num - 1 == start:\n",
    "                result.append(str(start))\n",
    "            else:\n",
    "                result.append(str(start) + '->' + str(num - 1))\n",
    "        start = num + 1\n",
    "\n",
    "    if start <= upper:\n",
    "        if start == upper:\n",
    "            result.append(str(start))\n",
    "        else:\n",
    "            result.append(str(start) + '->' + str(upper))\n",
    "\n",
    "    return result\n",
    "\n",
    "\n",
    "nums = [0,1,3,50,75]\n",
    "lower = 0\n",
    "upper = 99\n",
    "findMissingRanges(nums,lower,upper)"
   ]
  },
  {
   "cell_type": "markdown",
   "id": "a19a381c-9394-4d01-b38e-004e96789925",
   "metadata": {},
   "source": [
    "# Qo 08"
   ]
  },
  {
   "cell_type": "code",
   "execution_count": 21,
   "id": "8161c733-139f-4602-a451-cd48dd88faf3",
   "metadata": {},
   "outputs": [
    {
     "ename": "TypeError",
     "evalue": "'int' object is not subscriptable",
     "output_type": "error",
     "traceback": [
      "\u001b[0;31m---------------------------------------------------------------------------\u001b[0m",
      "\u001b[0;31mTypeError\u001b[0m                                 Traceback (most recent call last)",
      "Cell \u001b[0;32mIn[21], line 11\u001b[0m\n\u001b[1;32m      8\u001b[0m     \u001b[38;5;28;01mreturn\u001b[39;00m \u001b[38;5;28;01mTrue\u001b[39;00m\n\u001b[1;32m     10\u001b[0m intervals \u001b[38;5;241m=\u001b[39m [[\u001b[38;5;241m0\u001b[39m,\u001b[38;5;241m30\u001b[39m],[\u001b[38;5;241m5\u001b[39m,\u001b[38;5;241m10\u001b[39m],[\u001b[38;5;241m15\u001b[39m,\u001b[38;5;241m20\u001b[39m]]\n\u001b[0;32m---> 11\u001b[0m \u001b[43mcanAttendMeetings\u001b[49m\u001b[43m(\u001b[49m\u001b[43mnums\u001b[49m\u001b[43m)\u001b[49m\n",
      "Cell \u001b[0;32mIn[21], line 5\u001b[0m, in \u001b[0;36mcanAttendMeetings\u001b[0;34m(intervals)\u001b[0m\n\u001b[1;32m      2\u001b[0m intervals\u001b[38;5;241m.\u001b[39msort()  \u001b[38;5;66;03m# Sort intervals based on start time\u001b[39;00m\n\u001b[1;32m      4\u001b[0m \u001b[38;5;28;01mfor\u001b[39;00m i \u001b[38;5;129;01min\u001b[39;00m \u001b[38;5;28mrange\u001b[39m(\u001b[38;5;241m1\u001b[39m, \u001b[38;5;28mlen\u001b[39m(intervals)):\n\u001b[0;32m----> 5\u001b[0m     \u001b[38;5;28;01mif\u001b[39;00m \u001b[43mintervals\u001b[49m\u001b[43m[\u001b[49m\u001b[43mi\u001b[49m\u001b[43m]\u001b[49m\u001b[43m[\u001b[49m\u001b[38;5;241;43m0\u001b[39;49m\u001b[43m]\u001b[49m \u001b[38;5;241m<\u001b[39m intervals[i\u001b[38;5;241m-\u001b[39m\u001b[38;5;241m1\u001b[39m][\u001b[38;5;241m1\u001b[39m]:\n\u001b[1;32m      6\u001b[0m         \u001b[38;5;28;01mreturn\u001b[39;00m \u001b[38;5;28;01mFalse\u001b[39;00m\n\u001b[1;32m      8\u001b[0m \u001b[38;5;28;01mreturn\u001b[39;00m \u001b[38;5;28;01mTrue\u001b[39;00m\n",
      "\u001b[0;31mTypeError\u001b[0m: 'int' object is not subscriptable"
     ]
    }
   ],
   "source": [
    "def canAttendMeetings(intervals):\n",
    "    intervals.sort()  # Sort intervals based on start time\n",
    "\n",
    "    for i in range(1, len(intervals)):\n",
    "        if intervals[i][0] < intervals[i-1][1]:\n",
    "            return False\n",
    "\n",
    "    return True\n",
    "\n",
    "intervals = [[0,30],[5,10],[15,20]]\n",
    "canAttendMeetings(nums)"
   ]
  },
  {
   "cell_type": "code",
   "execution_count": null,
   "id": "7ea976be-fda0-4e1d-bc3e-fcfe7d949b33",
   "metadata": {},
   "outputs": [],
   "source": []
  }
 ],
 "metadata": {
  "kernelspec": {
   "display_name": "Python 3 (ipykernel)",
   "language": "python",
   "name": "python3"
  },
  "language_info": {
   "codemirror_mode": {
    "name": "ipython",
    "version": 3
   },
   "file_extension": ".py",
   "mimetype": "text/x-python",
   "name": "python",
   "nbconvert_exporter": "python",
   "pygments_lexer": "ipython3",
   "version": "3.10.8"
  }
 },
 "nbformat": 4,
 "nbformat_minor": 5
}
