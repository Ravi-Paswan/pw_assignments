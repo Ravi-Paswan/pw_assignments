{
 "cells": [
  {
   "cell_type": "markdown",
   "id": "e76d7e62-9e59-418f-b7bf-51cc196a5b25",
   "metadata": {},
   "source": [
    "# Qo 01"
   ]
  },
  {
   "cell_type": "markdown",
   "id": "9e2dac3f-b776-4d80-a375-2a3eb8d2097d",
   "metadata": {},
   "source": [
    "### What is Probability density function"
   ]
  },
  {
   "cell_type": "markdown",
   "id": "f60357d0-4093-4673-8def-278b193f0503",
   "metadata": {},
   "source": [
    "Probability density function (PDF) is a concept used in probability theory and statistics to describe the probability distribution of a continuous random variable. Unlike discrete random variables, which take on a finite or countable number of possible values, continuous random variables can take on any value within a certain range or interval.\n",
    "\n",
    "The PDF represents the relative likelihood of different outcomes occurring for a continuous random variable. It gives the probability per unit of the variable being within a specific range. The integral of the PDF over a given interval gives the probability that the variable falls within that interval.\n",
    "\n",
    "Mathematically, the PDF is typically denoted as f(x) or p(x), where x represents the value of the random variable. The PDF satisfies the following properties:\n",
    "\n",
    "1. Non-negativity: The PDF is always non-negative, meaning f(x) ≥ 0 for all x.\n",
    "\n",
    "2. Normalization: The integral of the PDF over the entire range of the variable is equal to 1. This ensures that the total probability of all possible outcomes is unity: ∫f(x)dx = 1.\n",
    "\n",
    "3. Probability interpretation: The probability that the random variable falls within a specific interval [a, b] can be calculated by integrating the PDF over that interval: P(a ≤ X ≤ b) = ∫[a,b]f(x)dx.\n",
    "\n",
    "The shape of the PDF determines the probability distribution of the random variable. Common examples of probability distributions with well-known PDFs include the normal distribution, uniform distribution, exponential distribution, and many others. These distributions have distinct shapes and properties that make them useful for modeling various real-world phenomena."
   ]
  },
  {
   "cell_type": "markdown",
   "id": "943cf21e-d0da-4622-8c04-2f5e91a4b295",
   "metadata": {},
   "source": [
    "# Qo 02"
   ]
  },
  {
   "cell_type": "markdown",
   "id": "c0afe0ff-d6ff-4760-bf3f-ebdc7f070551",
   "metadata": {},
   "source": [
    "### What are the types of Probability distribution?"
   ]
  },
  {
   "cell_type": "markdown",
   "id": "f386e7a1-d4b6-4b9a-a5be-9d55a2a1d439",
   "metadata": {},
   "source": [
    "There are several types of probability distributions, each with its own characteristics and applications. Here are some commonly encountered probability distributions:\n",
    "\n",
    "1. Uniform Distribution: In a uniform distribution, every outcome in the range has an equal probability of occurring. The PDF is a constant within the range and zero outside it.\n",
    "\n",
    "2. Normal Distribution (Gaussian Distribution): The normal distribution is a continuous probability distribution characterized by its bell-shaped curve. It is widely used due to its mathematical properties and the occurrence of many natural phenomena that follow this distribution.\n",
    "\n",
    "3. Exponential Distribution: The exponential distribution describes the time between events in a Poisson process, where events occur continuously and independently at a constant average rate. It is often used to model the lifespan of objects or the time between arrivals in queuing systems.\n",
    "\n",
    "4. Poisson Distribution: The Poisson distribution models the number of events that occur within a fixed interval of time or space, given a known average rate. It is used for situations where events happen independently and at a constant average rate, such as the number of phone calls received at a call center in a given time period.\n",
    "\n",
    "5. Binomial Distribution: The binomial distribution represents the number of successes in a fixed number of independent Bernoulli trials, where each trial has only two possible outcomes (success or failure). It is commonly used to model situations such as coin flips, where there are two possible outcomes with a fixed probability of success.\n",
    "\n",
    "6. Geometric Distribution: The geometric distribution models the number of trials needed to achieve the first success in a sequence of independent Bernoulli trials. It is often used to model the number of failures before the first success.\n",
    "\n",
    "7. Beta Distribution: The beta distribution is a continuous probability distribution defined on the interval [0, 1]. It is commonly used as a prior distribution in Bayesian inference and to model random variables that represent proportions or probabilities.\n",
    "\n",
    "8. Gamma Distribution: The gamma distribution is a continuous probability distribution that generalizes the exponential distribution and is used to model waiting times or survival times. It is also used in various fields such as reliability engineering, queuing theory, and finance.\n",
    "\n",
    "These are just a few examples of probability distributions, and there are many more distributions with different shapes and characteristics that are used to model specific types of data and phenomena."
   ]
  },
  {
   "cell_type": "markdown",
   "id": "7b140471-a61e-47cd-827e-4b30cbce95ce",
   "metadata": {},
   "source": [
    "# Qo 03"
   ]
  },
  {
   "cell_type": "markdown",
   "id": "00656338-cf91-4747-b872-b5eb33746b3b",
   "metadata": {},
   "source": [
    "### Write a Python function to calculate the probability density function of a normal distribution with given mean and standard deviation at a given point."
   ]
  },
  {
   "cell_type": "markdown",
   "id": "9d71d41b-8bf6-4f0a-a670-5ad55d82aee8",
   "metadata": {},
   "source": [
    "Certainly! Here's a Python function that calculates the probability density function (PDF) of a normal distribution at a given point using the mean and standard deviation:\n",
    "\n",
    "```python\n",
    "import math\n",
    "\n",
    "def normal_pdf(x, mean, std_dev):\n",
    "    coefficient = 1 / (std_dev * math.sqrt(2 * math.pi))\n",
    "    exponent = -((x - mean) ** 2) / (2 * (std_dev ** 2))\n",
    "    pdf = coefficient * math.exp(exponent)\n",
    "    return pdf\n",
    "```\n",
    "\n",
    "In this function, `x` represents the point at which you want to calculate the PDF, `mean` is the mean of the normal distribution, and `std_dev` is the standard deviation.\n",
    "\n",
    "To use this function, simply pass the desired values for `x`, `mean`, and `std_dev`. Here's an example:\n",
    "\n",
    "```python\n",
    "x = 2.5\n",
    "mean = 0\n",
    "std_dev = 1.5\n",
    "pdf_value = normal_pdf(x, mean, std_dev)\n",
    "print(f\"The PDF of the normal distribution at x={x} is: {pdf_value}\")\n",
    "```\n",
    "\n",
    "This will output the PDF value at the given point `x`."
   ]
  },
  {
   "cell_type": "markdown",
   "id": "da039f35-5e9f-4823-96b9-5480d23a45bd",
   "metadata": {},
   "source": [
    "# Qo 04"
   ]
  },
  {
   "cell_type": "markdown",
   "id": "7c0c7347-36c3-4a00-bceb-07b812630ad5",
   "metadata": {},
   "source": [
    "### What are the properties of Binomial distribution? Give two examples of events where binomial distribution can be applied."
   ]
  },
  {
   "cell_type": "markdown",
   "id": "0afb8581-8d5c-4558-96d9-236bdd2e4e49",
   "metadata": {},
   "source": [
    "The binomial distribution has several properties that make it useful in modeling various phenomena. Here are the properties of the binomial distribution:\n",
    "\n",
    "1. Fixed Number of Trials: The binomial distribution represents a fixed number, denoted as n, of independent Bernoulli trials.\n",
    "\n",
    "2. Two Possible Outcomes: Each trial in the binomial distribution has only two possible outcomes, often labeled as success and failure.\n",
    "\n",
    "3. Independent Trials: The trials in the binomial distribution are assumed to be independent of each other, meaning the outcome of one trial does not affect the outcome of subsequent trials.\n",
    "\n",
    "4. Constant Probability of Success: The probability of success, denoted as p, remains constant for each trial. The probability of failure, denoted as q, is equal to 1 minus the probability of success (q = 1 - p).\n",
    "\n",
    "5. Discrete Probability Distribution: The binomial distribution is a discrete probability distribution, meaning it describes the probabilities of different numbers of successes in a fixed number of trials.\n",
    "\n",
    "Examples of events where the binomial distribution can be applied:\n",
    "\n",
    "1. Coin Flips: Consider a fair coin being flipped 10 times. Each flip has two possible outcomes, heads or tails, with a probability of success (getting heads) being 0.5. The binomial distribution can be used to calculate the probabilities of obtaining a certain number of heads out of the 10 flips.\n",
    "\n",
    "2. Quality Control: Suppose a manufacturing process produces a large number of items, and each item has a probability of being defective, denoted as p. To analyze the quality of the process, a sample of n items is randomly selected and checked for defects. The binomial distribution can be used to determine the probabilities of finding a specific number of defective items in the sample.\n",
    "\n",
    "In both examples, we have a fixed number of independent trials (coin flips or checking items) with two possible outcomes (success or failure). The binomial distribution allows us to calculate the probabilities of obtaining different numbers of successes (heads or defective items) based on the fixed probability of success (probability of getting heads or probability of an item being defective) in each trial."
   ]
  },
  {
   "cell_type": "markdown",
   "id": "7c4d80de-b68f-419d-b464-f054cf5061c7",
   "metadata": {},
   "source": [
    "# Qo 05"
   ]
  },
  {
   "cell_type": "markdown",
   "id": "a04f935d-5e4b-4c63-8b64-2d0c01a91cdf",
   "metadata": {},
   "source": [
    "### Generate a random sample of size 1000 from a binomial distribution with probability of success 0.4 and plot a histogram of the results using matplotlib."
   ]
  },
  {
   "cell_type": "code",
   "execution_count": 11,
   "id": "24fb2078-4e38-4fbd-93e0-61d9f95fd185",
   "metadata": {},
   "outputs": [
    {
     "data": {
      "image/png": "[encoded data removed]",
      "text/plain": [
       "<Figure size 640x480 with 1 Axes>"
      ]
     },
     "metadata": {},
     "output_type": "display_data"
    }
   ],
   "source": [
    "import numpy as np\n",
    "import matplotlib.pyplot as plt\n",
    "\n",
    "sample_size = 1000\n",
    "probability_of_success = 0.4\n",
    "\n",
    "random_sample = np.random.binomial(1, probability_of_success, sample_size)\n",
    "\n",
    "# Plotting the histogram\n",
    "plt.hist(random_sample, bins=2, edgecolor='black')\n",
    "plt.xlabel('Success/Failure')\n",
    "plt.ylabel('Frequency')\n",
    "plt.title('Binomial Distribution')\n",
    "plt.xticks([0, 1], ['Failure', 'Success'])\n",
    "\n",
    "plt.show()\n"
   ]
  },
  {
   "cell_type": "markdown",
   "id": "2ea35263-3ca5-44c0-a135-3992813252e6",
   "metadata": {},
   "source": [
    "# Qo 06"
   ]
  },
  {
   "cell_type": "markdown",
   "id": "b5f2e4d9-66c7-42df-adfc-441675eb8d2a",
   "metadata": {},
   "source": [
    "### Write a Python function to calculate the cumulative distribution function of a Poisson distribution with given mean at a given point."
   ]
  },
  {
   "cell_type": "code",
   "execution_count": 12,
   "id": "15ea72c8-d18b-4b2d-b8a7-d54b44d60f95",
   "metadata": {},
   "outputs": [],
   "source": [
    "import math\n",
    "\n",
    "def poisson_cdf(k, mean):\n",
    "    cdf = 0.0\n",
    "    for i in range(k + 1):\n",
    "        cdf += math.exp(-mean) * (mean ** i) / math.factorial(i)\n",
    "    return cdf\n"
   ]
  },
  {
   "cell_type": "code",
   "execution_count": 14,
   "id": "37dff95a-5946-43c8-aa75-e0eb055e7b25",
   "metadata": {},
   "outputs": [
    {
     "name": "stdout",
     "output_type": "stream",
     "text": [
      "The CDF of the Poisson distribution at k=3 is: 0.7575761331330659\n"
     ]
    }
   ],
   "source": [
    "k = 3\n",
    "mean = 2.5\n",
    "cdf_value = poisson_cdf(k, mean)\n",
    "print(f\"The CDF of the Poisson distribution at k={k} is: {cdf_value}\")\n"
   ]
  },
  {
   "cell_type": "code",
   "execution_count": 15,
   "id": "4abf860b-e57e-4fe6-876d-fec51f865a72",
   "metadata": {},
   "outputs": [
    {
     "name": "stdout",
     "output_type": "stream",
     "text": [
      "The CDF of the Poisson distribution at k=30 is: 0.9999999999999998\n"
     ]
    }
   ],
   "source": [
    "k = 30\n",
    "mean = 2.5\n",
    "cdf_value = poisson_cdf(k, mean)\n",
    "print(f\"The CDF of the Poisson distribution at k={k} is: {cdf_value}\")\n"
   ]
  },
  {
   "cell_type": "markdown",
   "id": "4f60c690-743b-4d6e-9f38-cedd6e45e25a",
   "metadata": {},
   "source": [
    "# Qo 07"
   ]
  },
  {
   "cell_type": "markdown",
   "id": "80bb433b-bc03-4506-954a-7f05cfed522b",
   "metadata": {},
   "source": [
    "### How Binomial distribution different from Poisson distribution?"
   ]
  },
  {
   "cell_type": "markdown",
   "id": "205d15d2-01b5-416b-a97f-26b29c05037b",
   "metadata": {},
   "source": [
    "The binomial distribution and Poisson distribution are both probability distributions used to model the number of events or successes. However, they differ in several key aspects:\n",
    "\n",
    "1. Definition:\n",
    "   - Binomial Distribution: The binomial distribution describes the number of successes in a fixed number of independent Bernoulli trials, where each trial has only two possible outcomes (success or failure).\n",
    "   - Poisson Distribution: The Poisson distribution describes the number of events that occur within a fixed interval of time or space, given a known average rate, under the assumption of a rare occurrence.\n",
    "\n",
    "2. Number of Trials/Events:\n",
    "   - Binomial Distribution: The binomial distribution requires a fixed number of trials (n) or events.\n",
    "   - Poisson Distribution: The Poisson distribution does not have a fixed number of events or trials but rather focuses on the rate of events within a specific interval.\n",
    "\n",
    "3. Nature of Outcomes:\n",
    "   - Binomial Distribution: The binomial distribution deals with discrete outcomes (success or failure).\n",
    "   - Poisson Distribution: The Poisson distribution deals with discrete outcomes (number of events or occurrences).\n",
    "\n",
    "4. Assumptions:\n",
    "   - Binomial Distribution: The binomial distribution assumes that the trials are independent and that the probability of success remains constant throughout the trials.\n",
    "   - Poisson Distribution: The Poisson distribution assumes that events occur independently in time or space, and the average rate of events is constant.\n",
    "\n",
    "5. Parameters:\n",
    "   - Binomial Distribution: The binomial distribution is characterized by two parameters: the number of trials (n) and the probability of success in each trial (p).\n",
    "   - Poisson Distribution: The Poisson distribution is characterized by a single parameter: the average rate or intensity of events (λ).\n",
    "\n",
    "6. Range of Values:\n",
    "   - Binomial Distribution: The binomial distribution is defined for a discrete range of values from 0 to n (number of trials).\n",
    "   - Poisson Distribution: The Poisson distribution is defined for a discrete range of non-negative integer values (0, 1, 2, 3, ...) with no upper limit.\n",
    "\n",
    "In summary, the binomial distribution focuses on a fixed number of trials or events with a binary outcome (success or failure), while the Poisson distribution focuses on the rate of events occurring within a specific interval, without specifying a fixed number of trials."
   ]
  },
  {
   "cell_type": "markdown",
   "id": "241b9cce-c436-4cc9-b45f-5396ba08f447",
   "metadata": {},
   "source": [
    "# Qo 08"
   ]
  },
  {
   "cell_type": "markdown",
   "id": "c1ae27ac-67dd-4c9f-88c5-7cc44bba451c",
   "metadata": {},
   "source": [
    "### Generate a random sample of size 1000 from a Poisson distribution with mean 5 and calculate the sample mean and variance."
   ]
  },
  {
   "cell_type": "code",
   "execution_count": 23,
   "id": "69737c26-884e-4a87-911e-58fa2360b30e",
   "metadata": {},
   "outputs": [],
   "source": [
    "import numpy as np\n",
    "random_sample = np.random.poisson(5,1000)"
   ]
  },
  {
   "cell_type": "code",
   "execution_count": 25,
   "id": "52cf89a7-b2d1-47df-8632-04c320f12a12",
   "metadata": {},
   "outputs": [
    {
     "data": {
      "text/plain": [
       "5.1233189999999995"
      ]
     },
     "execution_count": 25,
     "metadata": {},
     "output_type": "execute_result"
    }
   ],
   "source": [
    "np.var(random_sample)"
   ]
  },
  {
   "cell_type": "code",
   "execution_count": 26,
   "id": "6977f883-7711-4aaa-b569-5211516e6388",
   "metadata": {},
   "outputs": [
    {
     "data": {
      "text/plain": [
       "5.041"
      ]
     },
     "execution_count": 26,
     "metadata": {},
     "output_type": "execute_result"
    }
   ],
   "source": [
    "np.mean(random_sample)"
   ]
  },
  {
   "cell_type": "code",
   "execution_count": 31,
   "id": "cda0b3c3-be74-43f1-8784-5bee96b759c0",
   "metadata": {},
   "outputs": [
    {
     "data": {
      "text/plain": [
       "(array([  8.,   0.,   0.,  35.,   0.,   0.,   0.,  86.,   0.,   0., 132.,\n",
       "          0.,   0.,   0., 170.,   0.,   0., 169.,   0.,   0.,   0., 156.,\n",
       "          0.,   0., 102.,   0.,   0.,   0.,  68.,   0.,   0.,   0.,  39.,\n",
       "          0.,   0.,  23.,   0.,   0.,   0.,   9.,   0.,   0.,   1.,   0.,\n",
       "          0.,   0.,   1.,   0.,   0.,   1.]),\n",
       " array([ 0.  ,  0.28,  0.56,  0.84,  1.12,  1.4 ,  1.68,  1.96,  2.24,\n",
       "         2.52,  2.8 ,  3.08,  3.36,  3.64,  3.92,  4.2 ,  4.48,  4.76,\n",
       "         5.04,  5.32,  5.6 ,  5.88,  6.16,  6.44,  6.72,  7.  ,  7.28,\n",
       "         7.56,  7.84,  8.12,  8.4 ,  8.68,  8.96,  9.24,  9.52,  9.8 ,\n",
       "        10.08, 10.36, 10.64, 10.92, 11.2 , 11.48, 11.76, 12.04, 12.32,\n",
       "        12.6 , 12.88, 13.16, 13.44, 13.72, 14.  ]),\n",
       " <BarContainer object of 50 artists>)"
      ]
     },
     "execution_count": 31,
     "metadata": {},
     "output_type": "execute_result"
    },
    {
     "data": {
      "image/png": "[encoded data removed]",
      "text/plain": [
       "<Figure size 640x480 with 1 Axes>"
      ]
     },
     "metadata": {},
     "output_type": "display_data"
    }
   ],
   "source": [
    "plt.hist(random_sample,bins=50)"
   ]
  },
  {
   "cell_type": "markdown",
   "id": "116dc2a4-e315-4c8c-a1f5-3e91a7a7ebc6",
   "metadata": {},
   "source": [
    "# Qo 09"
   ]
  },
  {
   "cell_type": "markdown",
   "id": "708eeaee-5f98-4491-a5d5-088b08b2c47f",
   "metadata": {},
   "source": [
    "### How mean and variance are related in Binomial distribution and Poisson distribution?"
   ]
  },
  {
   "cell_type": "markdown",
   "id": "18e679ed-a02a-44c2-9033-07102e6c3444",
   "metadata": {},
   "source": [
    "In both the binomial distribution and the Poisson distribution, the mean and variance are related, but the nature of the relationship differs between the two distributions.\n",
    "\n",
    "In the binomial distribution:\n",
    "- Mean: The mean of a binomial distribution is given by the product of the number of trials (n) and the probability of success (p). Mathematically, the mean (μ) is equal to μ = n * p.\n",
    "- Variance: The variance of a binomial distribution is given by the product of the number of trials (n), the probability of success (p), and the probability of failure (q = 1 - p). Mathematically, the variance (σ^2) is equal to σ^2 = n * p * q.\n",
    "\n",
    "Therefore, in the binomial distribution, the variance is directly proportional to the number of trials (n) and the probability of success (p), while the mean is solely determined by the number of trials (n) and the probability of success (p).\n",
    "\n",
    "In the Poisson distribution:\n",
    "- Mean: The mean of a Poisson distribution is equal to the average rate or intensity of events (λ).\n",
    "- Variance: The variance of a Poisson distribution is also equal to the average rate or intensity of events (λ).\n",
    "\n",
    "In the Poisson distribution, both the mean and variance are equal to the average rate of events (λ). This property is often referred to as equidispersion. It means that in a Poisson distribution, the spread of the data is equal to its mean.\n",
    "\n",
    "To summarize:\n",
    "- In the binomial distribution, the variance is influenced by both the number of trials (n) and the probability of success (p), while the mean is determined solely by the number of trials (n) and the probability of success (p).\n",
    "- In the Poisson distribution, the variance is equal to the mean, and both are determined by the average rate or intensity of events (λ)."
   ]
  },
  {
   "cell_type": "markdown",
   "id": "2419f39e-ddb2-4ab2-8e7e-d174c64d72f4",
   "metadata": {},
   "source": [
    "# Qo 10"
   ]
  },
  {
   "cell_type": "markdown",
   "id": "ab830821-855c-41b3-87dd-833d1335f938",
   "metadata": {},
   "source": [
    "### In normal distribution with respect to mean position, where does the least frequent data appear?"
   ]
  },
  {
   "cell_type": "markdown",
   "id": "086245bc-b23e-49da-a62a-02ce443ef584",
   "metadata": {},
   "source": [
    "In a normal distribution, the least frequent data appears in the tails of the distribution, farthest from the mean position. The normal distribution is symmetric, meaning that it is evenly distributed around its mean.\n",
    "\n",
    "The normal distribution follows the bell-shaped curve, with the highest frequency of data points occurring near the mean and gradually decreasing as we move away from the mean in both directions. As we move towards the tails of the distribution, the data becomes less frequent.\n",
    "\n",
    "Specifically, the tails of the normal distribution extend infinitely in both directions, but the probability density decreases rapidly as we move away from the mean. The least frequent data points are found in the extreme tails of the distribution, located at the far ends, where the probability density is significantly lower compared to the central region around the mean.\n",
    "\n",
    "It's important to note that the exact position of the least frequent data points in the tails depends on the standard deviation of the distribution. The larger the standard deviation, the wider the distribution, and the farther the tails extend from the mean."
   ]
  },
  {
   "cell_type": "code",
   "execution_count": null,
   "id": "0fbc8362-721b-4df5-b5d7-75fe2de7a436",
   "metadata": {},
   "outputs": [],
   "source": []
  }
 ],
 "metadata": {
  "kernelspec": {
   "display_name": "Python 3 (ipykernel)",
   "language": "python",
   "name": "python3"
  },
  "language_info": {
   "codemirror_mode": {
    "name": "ipython",
    "version": 3
   },
   "file_extension": ".py",
   "mimetype": "text/x-python",
   "name": "python",
   "nbconvert_exporter": "python",
   "pygments_lexer": "ipython3",
   "version": "3.10.8"
  }
 },
 "nbformat": 4,
 "nbformat_minor": 5
}
