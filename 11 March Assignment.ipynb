{
 "cells": [
  {
   "cell_type": "markdown",
   "id": "5ca012b4-7bfe-4fe0-9392-a7d8f2606913",
   "metadata": {},
   "source": [
    "# Qo 01 "
   ]
  },
  {
   "cell_type": "markdown",
   "id": "b129f5fc-6b6b-4f91-9d60-ec3e31ae95f5",
   "metadata": {},
   "source": [
    "### What is the difference between a t-test and a z-test? Provide an example scenario where you would use each type of test."
   ]
  },
  {
   "cell_type": "markdown",
   "id": "ce7971ba-7eed-4d00-b237-2744d2a2aba3",
   "metadata": {},
   "source": [
    "A t-test and a z-test are both statistical tests used to make inferences about population parameters based on sample data. However, they differ in their assumptions and the situations in which they are applied.\n",
    "\n",
    "1. T-test:\n",
    "A t-test is used when the population standard deviation is unknown and needs to be estimated from the sample data. It is typically employed when working with small sample sizes (typically less than 30) and when the population follows a normal distribution. The t-test uses the t-distribution to calculate the test statistic and determine the p-value.\n",
    "\n",
    "Example scenario: Suppose you want to determine if there is a significant difference in the mean heights of two different groups of individuals, such as males and females. You collect a sample of heights from each group (e.g., 20 males and 20 females) and want to compare the means. In this case, you would use a t-test to assess whether the difference in means is statistically significant.\n",
    "\n",
    "2. Z-test:\n",
    "A z-test is used when the population standard deviation is known, or when the sample size is large (typically greater than 30). It assumes that the population follows a normal distribution. The z-test utilizes the standard normal distribution to calculate the test statistic and determine the p-value.\n",
    "\n",
    "Example scenario: Let's say you have a large dataset containing the ages of all registered voters in a particular state (e.g., 100,000 voters). You want to determine if the average age of the voters is significantly different from a given value, such as the national average age. In this situation, a z-test can be employed because you have a large sample size and can assume that the population standard deviation is known or can be estimated accurately.\n",
    "\n",
    "In summary, the choice between a t-test and a z-test depends on the sample size, knowledge of the population standard deviation, and assumptions about the population distribution. A t-test is used when the population standard deviation is unknown or when dealing with small sample sizes, while a z-test is suitable for large sample sizes or when the population standard deviation is known."
   ]
  },
  {
   "cell_type": "markdown",
   "id": "ae36f9a1-9ef4-4a46-b91c-b9d2d91c614f",
   "metadata": {},
   "source": [
    "# Qo 02"
   ]
  },
  {
   "cell_type": "markdown",
   "id": "144045a9-88cb-4269-bd43-22451cbfb16e",
   "metadata": {},
   "source": [
    "### Differentiate between one-tailed and two-tailed tests."
   ]
  },
  {
   "cell_type": "markdown",
   "id": "bf08f845-5641-4689-a4fc-6b998b74066d",
   "metadata": {},
   "source": [
    "One-Tailed Test:\n",
    "A one-tailed test, also known as a directional test, is a statistical hypothesis test where the alternative hypothesis is stated in only one direction. It is used to determine if a sample statistic is significantly greater than or significantly less than a certain value, without considering the possibility of a significant difference in the opposite direction.\n",
    "\n",
    "Example:\n",
    "Let's say a researcher wants to test if a new drug improves the average response time of participants. The null hypothesis (H0) would state that the drug has no effect, while the alternative hypothesis (Ha) would state that the drug decreases response time. In this case, a one-tailed test would be appropriate because the researcher is only interested in determining if the drug has a significant positive effect on response time.\n",
    "\n",
    "Two-Tailed Test:\n",
    "A two-tailed test, also known as a non-directional test, is a statistical hypothesis test where the alternative hypothesis is stated in both directions. It is used to determine if a sample statistic is significantly different from a certain value, without specifying the direction of the difference.\n",
    "\n",
    "Example:\n",
    "Suppose a researcher wants to test if there is a difference in average intelligence scores between two groups. The null hypothesis (H0) would state that there is no difference between the groups, while the alternative hypothesis (Ha) would state that there is a significant difference, either higher or lower. In this case, a two-tailed test would be appropriate because the researcher wants to determine if there is any significant difference between the groups, regardless of the direction (higher or lower).\n",
    "\n",
    "In summary, the main difference between one-tailed and two-tailed tests lies in the alternative hypothesis. One-tailed tests are used when you are specifically interested in one direction of difference, while two-tailed tests are used when you want to detect any significant difference, regardless of the direction. The choice between the two depends on the research question and the specific hypothesis being tested."
   ]
  },
  {
   "cell_type": "markdown",
   "id": "7118c8d5-d5f0-4b89-ac39-aceaf63f644f",
   "metadata": {},
   "source": [
    "# Qo 03"
   ]
  },
  {
   "cell_type": "markdown",
   "id": "87d749c8-2a8a-409c-845f-e08915860353",
   "metadata": {},
   "source": [
    "### Explain the concept of Type 1 and Type 2 errors in hypothesis testing. Provide an example scenario for each type of error."
   ]
  },
  {
   "cell_type": "markdown",
   "id": "fd815e15-baef-48d3-b6c3-03f9de3a6875",
   "metadata": {},
   "source": [
    "In hypothesis testing, Type 1 and Type 2 errors are two types of mistakes that can occur when making conclusions based on statistical tests.\n",
    "\n",
    "1. Type 1 Error (False Positive):\n",
    "A Type 1 error occurs when the null hypothesis (H0) is incorrectly rejected when it is actually true. In other words, it is the error of concluding that there is a significant effect or relationship when, in reality, there is no such effect or relationship. It represents a false positive result.\n",
    "\n",
    "Example scenario:\n",
    "Suppose a pharmaceutical company is testing a new drug for its effectiveness in treating a specific condition. The null hypothesis states that the drug has no effect, while the alternative hypothesis suggests that the drug is effective. If the company incorrectly rejects the null hypothesis and concludes that the drug is effective, but in reality, it has no therapeutic benefit, this would be a Type 1 error.\n",
    "\n",
    "2. Type 2 Error (False Negative):\n",
    "A Type 2 error occurs when the null hypothesis (H0) is incorrectly accepted when it is actually false. In other words, it is the error of failing to reject the null hypothesis when there is a true effect or relationship present. It represents a false negative result.\n",
    "\n",
    "Example scenario:\n",
    "Continuing with the previous example, let's say the drug being tested is indeed effective in treating the condition, but the study fails to detect this effectiveness. If the pharmaceutical company fails to reject the null hypothesis, concluding that the drug has no effect, when it actually does, this would be a Type 2 error.\n",
    "\n",
    "It's important to note that Type 1 and Type 2 errors are inversely related. Reducing the probability of one type of error often increases the probability of the other. This trade-off can be managed by setting an appropriate level of significance (alpha) and determining the desired power of the test (1 - beta).\n",
    "\n",
    "In summary, Type 1 errors involve falsely rejecting a true null hypothesis, while Type 2 errors involve falsely accepting a false null hypothesis. These errors highlight the inherent uncertainties in hypothesis testing and the importance of carefully interpreting the results in light of potential errors."
   ]
  },
  {
   "cell_type": "markdown",
   "id": "721510de-ebfb-4452-8eb7-f31b253f6417",
   "metadata": {},
   "source": [
    "# Qo 04"
   ]
  },
  {
   "cell_type": "markdown",
   "id": "dd5784ac-92c0-478e-86bf-d483413b06cb",
   "metadata": {},
   "source": [
    "### Explain Bayes's theorem with an example."
   ]
  },
  {
   "cell_type": "markdown",
   "id": "9319ffb6-d31f-412a-90b7-42513f5d6bfa",
   "metadata": {},
   "source": [
    "Bayes's theorem is a fundamental concept in probability theory and statistics. It allows us to update our beliefs or probability estimates about an event based on new evidence or information. The theorem is named after the English mathematician and Presbyterian minister Thomas Bayes.\n",
    "\n",
    "The formula for Bayes's theorem is as follows:\n",
    "\n",
    "P(A|B) = (P(B|A) * P(A)) / P(B)\n",
    "\n",
    "where:\n",
    "- P(A|B) represents the probability of event A occurring given that event B has occurred.\n",
    "- P(B|A) represents the probability of event B occurring given that event A has occurred.\n",
    "- P(A) and P(B) represent the probabilities of events A and B occurring independently.\n",
    "\n",
    "To illustrate Bayes's theorem, let's consider a medical diagnosis scenario:\n",
    "\n",
    "Suppose a certain medical condition affects 1% of the population. A diagnostic test for this condition is available, and it correctly identifies the condition 95% of the time (true positive rate) and produces a false positive result 10% of the time (false positive rate).\n",
    "\n",
    "Given this information, let's calculate the probability that a person has the medical condition if they test positive for it.\n",
    "\n",
    "Let's define the events:\n",
    "A: The person has the medical condition.\n",
    "B: The person tests positive for the condition.\n",
    "\n",
    "We know:\n",
    "P(A) = 0.01 (prevalence of the condition in the population)\n",
    "P(B|A) = 0.95 (probability of testing positive given the person has the condition)\n",
    "P(B|not A) = 0.10 (probability of testing positive given the person does not have the condition)\n",
    "\n",
    "We want to find:\n",
    "P(A|B) (probability of having the condition given a positive test result)\n",
    "\n",
    "Using Bayes's theorem:\n",
    "\n",
    "P(A|B) = (P(B|A) * P(A)) / P(B)\n",
    "\n",
    "P(A|B) = (0.95 * 0.01) / P(B)\n",
    "\n",
    "To calculate P(B), we need to consider both true positive and false positive cases:\n",
    "P(B) = P(B|A) * P(A) + P(B|not A) * P(not A)\n",
    "       = (0.95 * 0.01) + (0.10 * 0.99)\n",
    "\n",
    "Now we can substitute the values and calculate:\n",
    "\n",
    "P(A|B) = (0.95 * 0.01) / [(0.95 * 0.01) + (0.10 * 0.99)]\n",
    "       = 0.087 / 0.1878\n",
    "       ≈ 0.4636\n",
    "\n",
    "Therefore, if a person tests positive for the medical condition, the probability that they actually have the condition is approximately 0.4636 or 46.36%.\n",
    "\n",
    "Bayes's theorem shows how new evidence, in this case, the positive test result, can update our prior beliefs or probabilities about a particular event, in this case, having the medical condition. It highlights the importance of considering both the sensitivity (true positive rate) and specificity (true negative rate) of a test when interpreting its results."
   ]
  },
  {
   "cell_type": "markdown",
   "id": "05f3e470-ca7a-40aa-b492-06e2ca65db8a",
   "metadata": {},
   "source": [
    "# Qo 05"
   ]
  },
  {
   "cell_type": "markdown",
   "id": "5778b734-96e5-47fe-9723-6a8171ada8cd",
   "metadata": {},
   "source": [
    "### What is a confidence interval? How to calculate the confidence interval, explain with an example."
   ]
  },
  {
   "cell_type": "markdown",
   "id": "a004ace7-562b-4869-a11e-a66d74c3752e",
   "metadata": {},
   "source": [
    "A confidence interval is a range of values that provides an estimated range of plausible values for an unknown population parameter. It is often used in statistics to quantify the uncertainty or variability associated with a sample statistic, such as a mean or proportion, based on a given level of confidence.\n",
    "\n",
    "To calculate a confidence interval, the following information is required:\n",
    "1. Sample data: A representative sample from the population of interest.\n",
    "2. Confidence level: The desired level of confidence, typically expressed as a percentage. Common choices include 90%, 95%, and 99%.\n",
    "\n",
    "Here's an example to illustrate the calculation of a confidence interval for a population mean:\n",
    "\n",
    "Suppose a researcher wants to estimate the average height of a certain plant species in a particular region. The researcher collects a random sample of 50 plants from the population and measures their heights. The sample mean height is found to be 30 cm, with a standard deviation of 2 cm.\n",
    "\n",
    "To calculate a 95% confidence interval for the population mean height, we follow these steps:\n",
    "\n",
    "1. Determine the critical value:\n",
    "   The critical value corresponds to the desired level of confidence and the sample size. For a 95% confidence level, the critical value for a two-tailed test is typically 1.96 (for a large sample size).\n",
    "\n",
    "2. Calculate the standard error:\n",
    "   The standard error estimates the variability of the sample mean. It is calculated by dividing the sample standard deviation by the square root of the sample size. In this example, the standard error is 2 cm / √50 ≈ 0.28 cm.\n",
    "\n",
    "3. Calculate the margin of error:\n",
    "   The margin of error represents the maximum likely difference between the sample mean and the true population mean. It is calculated by multiplying the critical value by the standard error. In this case, the margin of error is 1.96 * 0.28 ≈ 0.55 cm.\n",
    "\n",
    "4. Calculate the confidence interval:\n",
    "   The confidence interval is constructed by adding and subtracting the margin of error from the sample mean. In this example, the confidence interval is (30 - 0.55, 30 + 0.55) or approximately (29.45 cm, 30.55 cm).\n",
    "\n",
    "Interpretation:\n",
    "We can say with 95% confidence that the true average height of the plant species in the region lies between 29.45 cm and 30.55 cm.\n",
    "\n",
    "The confidence interval provides a range of values within which the true population parameter is likely to fall. The larger the sample size and the higher the confidence level, the narrower the confidence interval becomes, indicating greater precision in our estimate."
   ]
  },
  {
   "cell_type": "markdown",
   "id": "a40b19d3-bf99-4d49-ba4e-8e3e8d862e7a",
   "metadata": {},
   "source": [
    "# Qo 06"
   ]
  },
  {
   "cell_type": "markdown",
   "id": "454853e1-4119-404f-821a-dd4306d32932",
   "metadata": {},
   "source": [
    "### Use Bayes' Theorem to calculate the probability of an event occurring given prior knowledge of the event's probability and new evidence. Provide a sample problem and solution."
   ]
  },
  {
   "cell_type": "markdown",
   "id": "fd0b606f-9126-4c4d-9755-f789cecca35b",
   "metadata": {},
   "source": [
    "Certainly! Let's consider a sample problem to demonstrate the application of Bayes' Theorem.\n",
    "\n",
    "Problem:\n",
    "Suppose a factory produces two types of products: Product A and Product B. It is known that 20% of the factory's output is Product A and the remaining 80% is Product B. Quality control tests have been conducted, and it is found that 90% of Product A passes the test, while only 70% of Product B passes the test. If a randomly selected product from the factory passes the quality control test, what is the probability that it is Product A?\n",
    "\n",
    "Solution:\n",
    "Let's define the events:\n",
    "A: The product is Product A.\n",
    "B: The product passes the quality control test.\n",
    "\n",
    "We are given:\n",
    "P(A) = 0.20 (probability of selecting Product A)\n",
    "P(B|A) = 0.90 (probability of passing the test given the product is Product A)\n",
    "P(B|not A) = 0.70 (probability of passing the test given the product is not Product A)\n",
    "\n",
    "We want to find:\n",
    "P(A|B) (probability of the product being Product A given it passes the test)\n",
    "\n",
    "Using Bayes' Theorem:\n",
    "P(A|B) = (P(B|A) * P(A)) / P(B)\n",
    "\n",
    "To calculate P(B), we need to consider both cases: Product A passing the test and Product B passing the test.\n",
    "P(B) = P(B|A) * P(A) + P(B|not A) * P(not A)\n",
    "       = (0.90 * 0.20) + (0.70 * 0.80)\n",
    "\n",
    "Now we can substitute the values and calculate:\n",
    "\n",
    "P(A|B) = (0.90 * 0.20) / [(0.90 * 0.20) + (0.70 * 0.80)]\n",
    "       ≈ 0.2571\n",
    "\n",
    "Therefore, if a randomly selected product from the factory passes the quality control test, the probability that it is Product A is approximately 0.2571 or 25.71%.\n",
    "\n",
    "Bayes' Theorem allows us to update our probability estimates based on new evidence or information. In this example, the initial probability of selecting Product A (prior knowledge) is adjusted based on the test results (new evidence), giving us the posterior probability that the product is indeed Product A."
   ]
  },
  {
   "cell_type": "markdown",
   "id": "22357234-ec63-4203-8a9a-5a7e61e07525",
   "metadata": {},
   "source": [
    "# Qo 07"
   ]
  },
  {
   "cell_type": "markdown",
   "id": "adc76c7b-2f9e-456d-a10b-ca4a7b1324a7",
   "metadata": {},
   "source": [
    "### Calculate the 95% confidence interval for a sample of data with a mean of 50 and a standard deviation of 5. Interpret the results."
   ]
  },
  {
   "cell_type": "markdown",
   "id": "aa942c2f-b1ba-4954-844e-42f0482ebaed",
   "metadata": {},
   "source": [
    "To calculate the 95% confidence interval for a sample with a mean of 50 and a standard deviation of 5, we need to consider the sample size and the desired level of confidence.\n",
    "\n",
    "Since the sample size is not given in the question, let's assume a large sample size, which allows us to use the z-distribution for the calculation.\n",
    "\n",
    "The formula to calculate the confidence interval for the mean is:\n",
    "\n",
    "Confidence Interval = Mean ± (Z * (Standard Deviation / √n))\n",
    "\n",
    "where Z is the critical value for the desired confidence level, and n is the sample size.\n",
    "\n",
    "For a 95% confidence level, the critical value (Z) is approximately 1.96.\n",
    "\n",
    "Assuming a large sample size (which means the Central Limit Theorem holds), we can use the formula:\n",
    "\n",
    "Confidence Interval = 50 ± (1.96 * (5 / √n))\n",
    "\n",
    "Since the sample size (n) is not provided, we cannot calculate the precise confidence interval without that information. However, we can interpret the concept of a confidence interval in general terms.\n",
    "\n",
    "Interpretation:\n",
    "If we have a large sample size and assuming the data is normally distributed, a 95% confidence interval for a sample mean of 50 with a standard deviation of 5 would mean that we are 95% confident that the true population mean lies within the range defined by 50 ± (1.96 * (5 / √n)).\n",
    "\n",
    "For example, if we have a sample size of 100 (n = 100), the confidence interval would be:\n",
    "\n",
    "Confidence Interval = 50 ± (1.96 * (5 / √100))\n",
    "                   = 50 ± (1.96 * 0.5)\n",
    "                   = 50 ± 0.98\n",
    "                   = (49.02, 50.98)\n",
    "\n",
    "This interpretation suggests that we are 95% confident that the true population mean is between 49.02 and 50.98.\n",
    "\n",
    "In summary, a 95% confidence interval provides a range of values within which we are reasonably confident that the true population parameter (in this case, the mean) falls. The wider the interval, the lower the precision of our estimate, and the narrower the interval, the higher the precision."
   ]
  },
  {
   "cell_type": "markdown",
   "id": "b68cc427-a819-4102-8210-30f463457881",
   "metadata": {},
   "source": [
    "# Qo 08"
   ]
  },
  {
   "cell_type": "markdown",
   "id": "32083d41-32f8-4016-af28-8b7258b34d57",
   "metadata": {},
   "source": [
    "### What is the margin of error in a confidence interval? How does sample size affect the margin of error? Provide an example of a scenario where a larger sample size would result in a smaller margin of error."
   ]
  },
  {
   "cell_type": "markdown",
   "id": "e6d78f5f-4e31-4cd8-8880-ae26f8e2824f",
   "metadata": {},
   "source": [
    "The margin of error in a confidence interval is a measure of the uncertainty or variability associated with the estimation of a population parameter, such as a mean or proportion. It represents the maximum likely difference between the sample statistic (e.g., sample mean or proportion) and the true population parameter.\n",
    "\n",
    "A larger margin of error indicates a wider confidence interval, which implies greater uncertainty in the estimate. Conversely, a smaller margin of error corresponds to a narrower confidence interval, indicating higher precision in the estimate.\n",
    "\n",
    "The margin of error is influenced by several factors, including the desired level of confidence, the variability of the data (measured by the standard deviation), and the sample size. The relationship between the sample size and the margin of error is inverse: as the sample size increases, the margin of error decreases.\n",
    "\n",
    "To illustrate this, consider the following scenario:\n",
    "\n",
    "Scenario:\n",
    "A polling company wants to estimate the proportion of voters in a city who support a particular candidate. The company collects a sample of 200 voters and finds that 140 of them support the candidate.\n",
    "\n",
    "Case 1: Sample size of 200\n",
    "Using this sample, the polling company calculates the proportion of voters supporting the candidate as 140/200 = 0.70 or 70%.\n",
    "\n",
    "Case 2: Sample size of 1000\n",
    "Now, let's imagine that the polling company decides to increase the sample size to 1000 voters. With the larger sample, they find that 700 voters support the candidate.\n",
    "\n",
    "In both cases, the observed proportions are the same (0.70 or 70%), representing the point estimate of the population proportion. However, the margin of error will differ due to the difference in sample size.\n",
    "\n",
    "The margin of error is inversely proportional to the square root of the sample size. Therefore, with a larger sample size, the margin of error decreases. In this scenario, the margin of error for the larger sample size of 1000 will be smaller than the margin of error for the smaller sample size of 200.\n",
    "\n",
    "A smaller margin of error indicates greater precision and increased confidence in the estimate of the population proportion. Thus, with a larger sample size, we can obtain a more precise estimate with less uncertainty."
   ]
  },
  {
   "cell_type": "markdown",
   "id": "9d0828b9-fc98-4863-8ee9-8b4ee2de3da5",
   "metadata": {},
   "source": [
    "# Qo 09"
   ]
  },
  {
   "cell_type": "markdown",
   "id": "6dbda6db-7d99-4494-93bc-76dd5c90438e",
   "metadata": {},
   "source": [
    "### Calculate the z-score for a data point with a value of 75, a population mean of 70, and a population standard deviation of 5. Interpret the results."
   ]
  },
  {
   "cell_type": "markdown",
   "id": "8e7ee126-e7fd-4b19-a67f-3858e6c8fdbb",
   "metadata": {},
   "source": [
    "To calculate the z-score for a data point, we use the formula:\n",
    "\n",
    "z = (x - μ) / σ\n",
    "\n",
    "where:\n",
    "- x is the value of the data point\n",
    "- μ is the population mean\n",
    "- σ is the population standard deviation\n",
    "\n",
    "In this case, the data point value (x) is 75, the population mean (μ) is 70, and the population standard deviation (σ) is 5. Let's calculate the z-score:\n",
    "\n",
    "z = (75 - 70) / 5\n",
    "  = 5 / 5\n",
    "  = 1\n",
    "\n",
    "The z-score for the data point with a value of 75 is 1.\n",
    "\n",
    "Interpretation:\n",
    "The z-score measures the number of standard deviations a data point is away from the population mean. In this case, a z-score of 1 indicates that the data point with a value of 75 is 1 standard deviation above the population mean.\n",
    "\n",
    "This means that the data point is higher than the average value (mean) by one standard deviation. It helps provide context and allows us to compare the data point to the overall distribution of the population. The positive z-score indicates that the data point is above the mean."
   ]
  },
  {
   "cell_type": "markdown",
   "id": "a7db00f6-8a92-4873-b76a-88dc902cd43b",
   "metadata": {},
   "source": [
    "# Qo 10"
   ]
  },
  {
   "cell_type": "markdown",
   "id": "9173afd5-45aa-4052-9d01-676e3ed98639",
   "metadata": {},
   "source": [
    "### In a study of the effectiveness of a new weight loss drug, a sample of 50 participants lost an average of 6 pounds with a standard deviation of 2.5 pounds. Conduct a hypothesis test to determine if the drug is significantly effective at a 95% confidence level using a t-test."
   ]
  },
  {
   "cell_type": "code",
   "execution_count": 1,
   "id": "589fb5ae-3794-4c31-a944-6e806634e8e7",
   "metadata": {},
   "outputs": [
    {
     "name": "stdout",
     "output_type": "stream",
     "text": [
      "We fail to reject the null hypothesis\n"
     ]
    }
   ],
   "source": [
    "import numpy as np\n",
    "import scipy.stats as stat\n",
    "# Null Hypothesis(Ho) : Average Daily Revenue is $500\n",
    "# Alternate hypothesis (Ha) : Average daily sales is not %500\n",
    "smp_mean = 6\n",
    "smp_std = 2.5\n",
    "sample_size = 50\n",
    "t_data_set = np.random.standard_t(df=sample_size-1, size=sample_size) * smp_std + smp_mean\n",
    "stats, p_Value = stat.ttest_1samp(t_data_set,6)\n",
    "if p_Value < 0.05:\n",
    "    print(\"We Reject the Null hypothesis\")\n",
    "else:\n",
    "    print(\"We fail to reject the null hypothesis\")"
   ]
  },
  {
   "cell_type": "markdown",
   "id": "6b59504b-cec4-4683-a6c0-ac45dfa2901f",
   "metadata": {},
   "source": [
    "# Qo 11"
   ]
  },
  {
   "cell_type": "markdown",
   "id": "8bd36ccc-5557-4910-bb4c-53d10a3c6384",
   "metadata": {},
   "source": [
    "### In a survey of 500 people, 65% reported being satisfied with their current job. Calculate the 95% confidence interval for the true proportion of people who are satisfied with their job."
   ]
  },
  {
   "cell_type": "markdown",
   "id": "7947fc9b-f302-41eb-9379-f0ff68079db0",
   "metadata": {},
   "source": [
    "To calculate the 95% confidence interval for the true proportion of people who are satisfied with their job, we can use the following formula:\n",
    "\n",
    "CI = p̂ ± Z * √(p̂(1-p̂)/n)\n",
    "\n",
    "Where:\n",
    "- CI is the confidence interval\n",
    "- p̂ is the sample proportion (65% or 0.65)\n",
    "- Z is the z-score corresponding to the desired confidence level (95% corresponds to a z-score of 1.96)\n",
    "- n is the sample size (500)\n",
    "\n",
    "Let's substitute the values into the formula:\n",
    "\n",
    "CI = 0.65 ± 1.96 * √((0.65 * 0.35) / 500)\n",
    "\n",
    "CI = 0.65 ± 1.96 * √(0.2275 / 500)\n",
    "\n",
    "CI = 0.65 ± 1.96 * √0.000455\n",
    "\n",
    "CI = 0.65 ± 1.96 * 0.02134\n",
    "\n",
    "CI = 0.65 ± 0.04184\n",
    "\n",
    "Now we can calculate the lower and upper bounds of the confidence interval:\n",
    "\n",
    "Lower bound = 0.65 - 0.04184 = 0.60816\n",
    "Upper bound = 0.65 + 0.04184 = 0.69184\n",
    "\n",
    "Therefore, the 95% confidence interval for the true proportion of people satisfied with their job is approximately 0.608 to 0.692."
   ]
  },
  {
   "cell_type": "markdown",
   "id": "715908e3-3d02-42a5-97e6-50257080c71f",
   "metadata": {},
   "source": [
    "# Qo 12"
   ]
  },
  {
   "cell_type": "markdown",
   "id": "fe0819fb-aa7a-4b09-ad37-9858dc3f6c11",
   "metadata": {},
   "source": [
    "### A researcher is testing the effectiveness of two different teaching methods on student performance. Sample A has a mean score of 85 with a standard deviation of 6, while sample B has a mean score of 82 with a standard deviation of 5. Conduct a hypothesis test to determine if the two teaching methods have a significant difference in student performance using a t-test with a significance level of 0.01."
   ]
  },
  {
   "cell_type": "code",
   "execution_count": 6,
   "id": "3a3c9ff1-b5a1-476b-a288-3e2cc6f7ced4",
   "metadata": {},
   "outputs": [
    {
     "name": "stdout",
     "output_type": "stream",
     "text": [
      "Reject the null hypothesis. There is a significant difference between the teaching methods.\n"
     ]
    }
   ],
   "source": [
    "import scipy.stats as stats\n",
    "\n",
    "# Sample A\n",
    "mean_A = 85\n",
    "std_dev_A = 6\n",
    "sample_size_A = 100 # assuming\n",
    "\n",
    "# Sample B\n",
    "mean_B = 82\n",
    "std_dev_B = 5\n",
    "sample_size_B = 100 # assuming\n",
    "\n",
    "# Significance level\n",
    "alpha = 0.01\n",
    "\n",
    "# Calculate the t-statistic and p-value\n",
    "t_stat, p_value = stats.ttest_ind_from_stats(mean_A, std_dev_A, sample_size_A, mean_B, std_dev_B, sample_size_B)\n",
    "\n",
    "# Compare the p-value to the significance level\n",
    "if p_value < alpha:\n",
    "    print(\"Reject the null hypothesis. There is a significant difference between the teaching methods.\")\n",
    "else:\n",
    "    print(\"Fail to reject the null hypothesis. There is no significant difference between the teaching methods.\")\n"
   ]
  },
  {
   "cell_type": "markdown",
   "id": "31987bb1-68da-443f-94e1-a50bcb0d1fe5",
   "metadata": {},
   "source": [
    "# Qo 13"
   ]
  },
  {
   "cell_type": "markdown",
   "id": "525219eb-ebc8-4f66-81d8-a8d65aec9af1",
   "metadata": {},
   "source": [
    "### A population has a mean of 60 and a standard deviation of 8. A sample of 50 observations has a mean of 65. Calculate the 90% confidence interval for the true population mean."
   ]
  },
  {
   "cell_type": "code",
   "execution_count": 7,
   "id": "d0e39fbd-6635-4d81-90c4-c798a2aeaa93",
   "metadata": {},
   "outputs": [
    {
     "name": "stdout",
     "output_type": "stream",
     "text": [
      "The 90.0% confidence interval for the true population mean is: (63.13906055411732, 66.86093944588268)\n"
     ]
    }
   ],
   "source": [
    "import scipy.stats as stats\n",
    "\n",
    "# Sample mean and size\n",
    "sample_mean = 65\n",
    "sample_size = 50\n",
    "\n",
    "# Population mean and standard deviation\n",
    "population_mean = 60\n",
    "population_std_dev = 8\n",
    "\n",
    "# Confidence level\n",
    "confidence_level = 0.90\n",
    "\n",
    "# Calculate the standard error\n",
    "standard_error = population_std_dev / (sample_size ** 0.5)\n",
    "\n",
    "# Calculate the margin of error\n",
    "margin_of_error = stats.norm.ppf((1 + confidence_level) / 2) * standard_error\n",
    "\n",
    "# Calculate the lower and upper bounds of the confidence interval\n",
    "lower_bound = sample_mean - margin_of_error\n",
    "upper_bound = sample_mean + margin_of_error\n",
    "\n",
    "# Print the confidence interval\n",
    "print(f\"The {confidence_level*100}% confidence interval for the true population mean is: ({lower_bound}, {upper_bound})\")\n"
   ]
  },
  {
   "cell_type": "markdown",
   "id": "83bbb941-3815-4982-a0bd-9ddc1b987dc3",
   "metadata": {},
   "source": [
    "# Qo 14"
   ]
  },
  {
   "cell_type": "markdown",
   "id": "e8a1882e-1c7f-416d-b0a7-bf9cf17bbec2",
   "metadata": {},
   "source": [
    "### In a study of the effects of caffeine on reaction time, a sample of 30 participants had an average reaction time of 0.25 seconds with a standard deviation of 0.05 seconds. Conduct a hypothesis test to determine if the caffeine has a significant effect on reaction time at a 90% confidence level using a t-test."
   ]
  },
  {
   "cell_type": "code",
   "execution_count": 9,
   "id": "39d71193-c749-4ebf-b5dd-79579771f4b2",
   "metadata": {},
   "outputs": [
    {
     "name": "stdout",
     "output_type": "stream",
     "text": [
      "Reject the null hypothesis. Caffeine has a significant effect on reaction time.\n"
     ]
    }
   ],
   "source": [
    "import scipy.stats as stats\n",
    "\n",
    "# Sample mean and size\n",
    "sample_mean = 0.25\n",
    "sample_std_dev = 0.05\n",
    "sample_size = 30\n",
    "\n",
    "# Hypothesized population mean\n",
    "hypothesized_mean = 0  # Please provide the hypothesized mean (under the null hypothesis)\n",
    "\n",
    "# Confidence level\n",
    "confidence_level = 0.90\n",
    "\n",
    "# Calculate the t-statistic\n",
    "t_stat = (sample_mean - hypothesized_mean) / (sample_std_dev / (sample_size ** 0.5))\n",
    "\n",
    "# Calculate the degrees of freedom\n",
    "degrees_of_freedom = sample_size - 1\n",
    "\n",
    "# Calculate the critical t-value\n",
    "critical_t = stats.t.ppf((1 + confidence_level) / 2, degrees_of_freedom)\n",
    "\n",
    "# Compare the t-statistic to the critical t-value\n",
    "if abs(t_stat) > critical_t:\n",
    "    print(\"Reject the null hypothesis. Caffeine has a significant effect on reaction time.\")\n",
    "else:\n",
    "    print(\"Fail to reject the null hypothesis. Caffeine does not have a significant effect on reaction time.\")\n"
   ]
  },
  {
   "cell_type": "code",
   "execution_count": null,
   "id": "0896594f-c494-47ea-8d8e-3e8c93166b79",
   "metadata": {},
   "outputs": [],
   "source": []
  }
 ],
 "metadata": {
  "kernelspec": {
   "display_name": "Python 3 (ipykernel)",
   "language": "python",
   "name": "python3"
  },
  "language_info": {
   "codemirror_mode": {
    "name": "ipython",
    "version": 3
   },
   "file_extension": ".py",
   "mimetype": "text/x-python",
   "name": "python",
   "nbconvert_exporter": "python",
   "pygments_lexer": "ipython3",
   "version": "3.10.8"
  }
 },
 "nbformat": 4,
 "nbformat_minor": 5
}
