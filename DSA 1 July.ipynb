{
 "cells": [
  {
   "cell_type": "markdown",
   "id": "64dc5cbb-0501-490e-aace-99fe8625699c",
   "metadata": {},
   "source": [
    "# Qo 01"
   ]
  },
  {
   "cell_type": "code",
   "execution_count": 1,
   "id": "f4191e56-bd46-49d1-8b82-81a4a64d7e34",
   "metadata": {},
   "outputs": [
    {
     "data": {
      "text/plain": [
       "[0, 4, 1, 3, 2]"
      ]
     },
     "execution_count": 1,
     "metadata": {},
     "output_type": "execute_result"
    }
   ],
   "source": [
    "def reconstruct_permutation(s):\n",
    "    n = len(s)\n",
    "    perm = []\n",
    "    low = 0\n",
    "    high = n\n",
    "\n",
    "    for c in s:\n",
    "        if c == 'I':\n",
    "            perm.append(low)\n",
    "            low += 1\n",
    "        elif c == 'D':\n",
    "            perm.append(high)\n",
    "            high -= 1\n",
    "\n",
    "    perm.append(low)  # or perm.append(high), as they are equal at this point\n",
    "    return perm\n",
    "\n",
    "\n",
    "s = \"IDID\"\n",
    "reconstruct_permutation(s)"
   ]
  },
  {
   "cell_type": "markdown",
   "id": "b2c94953-7b49-4863-9033-8af1e99a5050",
   "metadata": {},
   "source": [
    "# Qo 02"
   ]
  },
  {
   "cell_type": "code",
   "execution_count": 2,
   "id": "89f20ee1-f936-458e-bbc1-e716dd4bc8ce",
   "metadata": {},
   "outputs": [
    {
     "data": {
      "text/plain": [
       "True"
      ]
     },
     "execution_count": 2,
     "metadata": {},
     "output_type": "execute_result"
    }
   ],
   "source": [
    "def search_matrix(matrix, target):\n",
    "    m, n = len(matrix), len(matrix[0])\n",
    "    left, right = 0, m * n - 1\n",
    "\n",
    "    while left <= right:\n",
    "        mid = (left + right) // 2\n",
    "        row = mid // n\n",
    "        col = mid % n\n",
    "        if matrix[row][col] == target:\n",
    "            return True\n",
    "        elif matrix[row][col] < target:\n",
    "            left = mid + 1\n",
    "        else:\n",
    "            right = mid - 1\n",
    "\n",
    "    return False\n",
    "\n",
    "matrix = [[1,3,5,7],[10,11,16,20],[23,30,34,60]]\n",
    "target = 3\n",
    "search_matrix(matrix, target)"
   ]
  },
  {
   "cell_type": "markdown",
   "id": "7e0d6da2-9df4-430d-b3bd-333a1ca4f698",
   "metadata": {},
   "source": [
    "# Qo 03\n",
    "\n"
   ]
  },
  {
   "cell_type": "code",
   "execution_count": 5,
   "id": "2c21b485-a94c-4b1f-8e3c-b3faa0f05464",
   "metadata": {},
   "outputs": [
    {
     "data": {
      "text/plain": [
       "False"
      ]
     },
     "execution_count": 5,
     "metadata": {},
     "output_type": "execute_result"
    }
   ],
   "source": [
    "def valid_mountain_array(arr):\n",
    "    if len(arr) < 3:\n",
    "        return False\n",
    "\n",
    "    i = 1\n",
    "    while i < len(arr) and arr[i] > arr[i-1]:\n",
    "        i += 1\n",
    "\n",
    "    if i == 1 or i == len(arr):\n",
    "        return False\n",
    "\n",
    "    while i < len(arr) and arr[i] < arr[i-1]:\n",
    "        i += 1\n",
    "\n",
    "    return i == len(arr)\n",
    "\n",
    "arr = [2,1]\n",
    "valid_mountain_array(arr)\n",
    "\n"
   ]
  },
  {
   "cell_type": "markdown",
   "id": "a3e3ce79-2151-4864-af48-74924bc8c1f8",
   "metadata": {},
   "source": [
    "# Qo 04"
   ]
  },
  {
   "cell_type": "code",
   "execution_count": 7,
   "id": "d866ddbc-ea4e-4f47-bf25-692c848e36e7",
   "metadata": {},
   "outputs": [
    {
     "data": {
      "text/plain": [
       "2"
      ]
     },
     "execution_count": 7,
     "metadata": {},
     "output_type": "execute_result"
    }
   ],
   "source": [
    "def findMaxLength(nums):\n",
    "    count = {0: -1}\n",
    "    max_length = 0\n",
    "    running_sum = 0\n",
    "\n",
    "    for i in range(len(nums)):\n",
    "        if nums[i] == 1:\n",
    "            running_sum += 1\n",
    "        else:\n",
    "            running_sum -= 1\n",
    "\n",
    "        if running_sum in count:\n",
    "            length = i - count[running_sum]\n",
    "            max_length = max(max_length, length)\n",
    "        else:\n",
    "            count[running_sum] = i\n",
    "\n",
    "    return max_length\n",
    "\n",
    "nums = [0,1]\n",
    "findMaxLength(nums)"
   ]
  },
  {
   "cell_type": "markdown",
   "id": "0632b2d9-1924-4980-8971-dbfc64274612",
   "metadata": {},
   "source": [
    "# Qo 05"
   ]
  },
  {
   "cell_type": "code",
   "execution_count": 8,
   "id": "05b2b1da-b3c8-442d-9dc5-a6d1812d678d",
   "metadata": {},
   "outputs": [
    {
     "data": {
      "text/plain": [
       "22"
      ]
     },
     "execution_count": 8,
     "metadata": {},
     "output_type": "execute_result"
    }
   ],
   "source": [
    "def min_product_sum(nums1, nums2):\n",
    "    n = len(nums1)\n",
    "    nums1.sort()\n",
    "    nums2.sort()\n",
    "    left, right = 0, n - 1\n",
    "    min_product_sum = 0\n",
    "\n",
    "    while left <= right:\n",
    "        product = nums1[left] * nums2[right]\n",
    "        min_product_sum += product\n",
    "        left += 1\n",
    "        right -= 1\n",
    "\n",
    "    return min_product_sum\n",
    "\n",
    "nums1 = [5,3,4,2]\n",
    "nums2 = [4,2,2,5]\n",
    "min_product_sum(nums1,nums2)"
   ]
  },
  {
   "cell_type": "markdown",
   "id": "480b1e27-1024-4b0f-b8d2-389a237309c0",
   "metadata": {},
   "source": [
    "# Qo 06"
   ]
  },
  {
   "cell_type": "code",
   "execution_count": 9,
   "id": "61854275-e650-491f-8acd-26755a94bf21",
   "metadata": {},
   "outputs": [
    {
     "data": {
      "text/plain": [
       "[0, 1, 2]"
      ]
     },
     "execution_count": 9,
     "metadata": {},
     "output_type": "execute_result"
    }
   ],
   "source": [
    "from collections import defaultdict\n",
    "\n",
    "def findOriginalArray(changed):\n",
    "    freq = defaultdict(int)\n",
    "    for num in changed:\n",
    "        freq[num] += 1\n",
    "\n",
    "    original = []\n",
    "    for num in changed:\n",
    "        if freq[num] == 0:\n",
    "            continue\n",
    "        if freq[2 * num] == 0:\n",
    "            return []\n",
    "        freq[num] -= 1\n",
    "        freq[2 * num] -= 1\n",
    "        original.append(num // 2)\n",
    "\n",
    "    return original\n",
    "\n",
    "changed = [1,3,4,2,6,8]\n",
    "findOriginalArray(changed)"
   ]
  },
  {
   "cell_type": "markdown",
   "id": "c32985aa-769f-488f-8528-a4dbbfc071e3",
   "metadata": {},
   "source": [
    "# Qo 07"
   ]
  },
  {
   "cell_type": "code",
   "execution_count": 11,
   "id": "310f4a87-52c9-43d5-8e37-27bfa501e0f7",
   "metadata": {},
   "outputs": [
    {
     "data": {
      "text/plain": [
       "[[1, 2, 3, 4], [12, 13, 14, 5], [11, 16, 15, 6], [10, 9, 8, 7]]"
      ]
     },
     "execution_count": 11,
     "metadata": {},
     "output_type": "execute_result"
    }
   ],
   "source": [
    "def generateMatrix(n):\n",
    "    matrix = [[0] * n for _ in range(n)]\n",
    "    row_start, row_end = 0, n - 1\n",
    "    col_start, col_end = 0, n - 1\n",
    "    num = 1\n",
    "\n",
    "    while num <= n * n:\n",
    "        # Fill top row\n",
    "        for j in range(col_start, col_end + 1):\n",
    "            matrix[row_start][j] = num\n",
    "            num += 1\n",
    "        row_start += 1\n",
    "\n",
    "        # Fill right column\n",
    "        for i in range(row_start, row_end + 1):\n",
    "            matrix[i][col_end] = num\n",
    "            num += 1\n",
    "        col_end -= 1\n",
    "\n",
    "        # Fill bottom row\n",
    "        for j in range(col_end, col_start - 1, -1):\n",
    "            matrix[row_end][j] = num\n",
    "            num += 1\n",
    "        row_end -= 1\n",
    "\n",
    "        # Fill left column\n",
    "        for i in range(row_end, row_start - 1, -1):\n",
    "            matrix[i][col_start] = num\n",
    "            num += 1\n",
    "        col_start += 1\n",
    "\n",
    "    return matrix\n",
    "\n",
    "generateMatrix(4)"
   ]
  },
  {
   "cell_type": "markdown",
   "id": "ce739d9b-6369-4e21-90da-d53a8210ddf5",
   "metadata": {},
   "source": [
    "# Qo 08"
   ]
  },
  {
   "cell_type": "code",
   "execution_count": 12,
   "id": "09af7bbe-7160-4fe0-84e9-77015a3d7677",
   "metadata": {},
   "outputs": [
    {
     "data": {
      "text/plain": [
       "[[0, 0, 0], [14, 0, 2]]"
      ]
     },
     "execution_count": 12,
     "metadata": {},
     "output_type": "execute_result"
    }
   ],
   "source": [
    "def multiply(mat1, mat2):\n",
    "    m, k, n = len(mat1), len(mat1[0]), len(mat2[0])\n",
    "    result = [[0] * n for _ in range(m)]\n",
    "    non_zero_entries = {}\n",
    "\n",
    "    for i in range(m):\n",
    "        for j in range(k):\n",
    "            if mat1[i][j] != 0:\n",
    "                non_zero_entries[(i, j)] = mat1[i][j]\n",
    "\n",
    "    for i in range(k):\n",
    "        for j in range(n):\n",
    "            if mat2[i][j] != 0:\n",
    "                for (row, value) in non_zero_entries:\n",
    "                    result[row][j] += value * mat2[i][j]\n",
    "\n",
    "    return result\n",
    "\n",
    "mat1 = [[1,0,0],[-1,0,3]]\n",
    "mat2 = [[7,0,0],[0,0,0],[0,0,1]]\n",
    "multiply(mat1,mat2)"
   ]
  },
  {
   "cell_type": "code",
   "execution_count": null,
   "id": "2e22b827-3c2a-4067-a47b-9c9c1f1896c6",
   "metadata": {},
   "outputs": [],
   "source": []
  }
 ],
 "metadata": {
  "kernelspec": {
   "display_name": "Python 3 (ipykernel)",
   "language": "python",
   "name": "python3"
  },
  "language_info": {
   "codemirror_mode": {
    "name": "ipython",
    "version": 3
   },
   "file_extension": ".py",
   "mimetype": "text/x-python",
   "name": "python",
   "nbconvert_exporter": "python",
   "pygments_lexer": "ipython3",
   "version": "3.10.8"
  }
 },
 "nbformat": 4,
 "nbformat_minor": 5
}
