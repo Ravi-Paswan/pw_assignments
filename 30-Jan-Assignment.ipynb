{
 "cells": [
  {
   "cell_type": "markdown",
   "id": "587357b8-c78e-46c7-a736-3f43c5545d40",
   "metadata": {},
   "source": [
    "# Question 01"
   ]
  },
  {
   "cell_type": "code",
   "execution_count": 2,
   "id": "6aae1466-a170-4b1f-b6e2-e213b6341356",
   "metadata": {},
   "outputs": [
    {
     "name": "stdin",
     "output_type": "stream",
     "text": [
      "Enter your percentage: 90\n"
     ]
    },
    {
     "name": "stdout",
     "output_type": "stream",
     "text": [
      "B\n"
     ]
    }
   ],
   "source": [
    "user_percentage = int(input(\"Enter your percentage:\"))\n",
    "\n",
    "if user_percentage > 90:\n",
    "    print(\"A\")\n",
    "elif user_percentage <= 90 and user_percentage >80:\n",
    "    print(\"B\")\n",
    "elif user_percentage <= 80 and user_percentage >=60:\n",
    "    print(\"C\")\n",
    "else:\n",
    "    print(\"D\")"
   ]
  },
  {
   "cell_type": "markdown",
   "id": "b9d1e69f-22df-4a7d-853b-ad90edc2fb3b",
   "metadata": {},
   "source": [
    "# Question 02"
   ]
  },
  {
   "cell_type": "code",
   "execution_count": 3,
   "id": "f0503759-a567-4860-868a-6f04acba10a2",
   "metadata": {},
   "outputs": [
    {
     "name": "stdin",
     "output_type": "stream",
     "text": [
      "Enter the cost price of bike: 9029320\n"
     ]
    },
    {
     "name": "stdout",
     "output_type": "stream",
     "text": [
      "The road tax to be paid is 1354395\n"
     ]
    }
   ],
   "source": [
    "cost_price = int(input(\"Enter the cost price of bike:\"))\n",
    "\n",
    "if cost_price > 100000:\n",
    "    road_tax_percentage = 15\n",
    "elif cost_price >50000 and cost_price <=100000:\n",
    "    road_tax_percentage = 10\n",
    "else:\n",
    "    road_tax_percentage = 5\n",
    "    \n",
    "road_tax = (cost_price//100)*road_tax_percentage\n",
    "print(f\"The road tax to be paid is {road_tax}\")"
   ]
  },
  {
   "cell_type": "markdown",
   "id": "a9401ace-5826-4518-8404-993a5c8ab110",
   "metadata": {},
   "source": [
    "# Question 03"
   ]
  },
  {
   "cell_type": "code",
   "execution_count": 4,
   "id": "07581f98-e8a1-42ab-bff9-4678a551f713",
   "metadata": {},
   "outputs": [
    {
     "name": "stdin",
     "output_type": "stream",
     "text": [
      "Enter the city: delhi\n"
     ]
    },
    {
     "name": "stdout",
     "output_type": "stream",
     "text": [
      "Red Fort\n"
     ]
    }
   ],
   "source": [
    "city = input(\"Enter the city:\").lower()\n",
    "\n",
    "if city == \"delhi\":\n",
    "    print(\"Red Fort\")\n",
    "elif city == \"agra\":\n",
    "    print(\"Taj Mahal\")\n",
    "elif city == \"jaipur\":\n",
    "    print(\"Jal Mahal\")\n",
    "else:\n",
    "    print(\"Enter valid City\")"
   ]
  },
  {
   "cell_type": "markdown",
   "id": "34340637-130c-4daa-9680-b3dfb9cc8d41",
   "metadata": {},
   "source": [
    "# Question 04"
   ]
  },
  {
   "cell_type": "code",
   "execution_count": 7,
   "id": "571da4b6-bdbd-4a94-b3bb-c75ed12d71fa",
   "metadata": {},
   "outputs": [
    {
     "name": "stdin",
     "output_type": "stream",
     "text": [
      "Enter a number: 90\n"
     ]
    },
    {
     "name": "stdout",
     "output_type": "stream",
     "text": [
      "2\n"
     ]
    }
   ],
   "source": [
    "n = int(input(\"Enter a number:\"))\n",
    "\n",
    "loop_control =  True\n",
    "i = 0\n",
    "while loop_control:\n",
    "    n/=3\n",
    "    i+=1\n",
    "    if n <=10:\n",
    "        loop_control = False\n",
    "        \n",
    "print(i)"
   ]
  },
  {
   "cell_type": "markdown",
   "id": "b8f349c1-cc06-49ed-ab02-3d7d744cfc66",
   "metadata": {},
   "source": [
    "# Question 05"
   ]
  },
  {
   "cell_type": "markdown",
   "id": "9b15734f-cfb7-445a-b228-3edc1bacf94d",
   "metadata": {},
   "source": [
    "In Python, the while loop is used to repeat a block of code as long as a certain condition is true. It is typically used when you do not know the number of iterations you need to perform beforehand.\n",
    "\n",
    "Here are some common scenarios where while loops can be useful:\n",
    "\n",
    "Repeating a set of instructions until a condition is met - For example, you may want to keep asking a user for input until they provide valid input.\n",
    "\n",
    "Iterating through a collection of items - You can use a while loop to go through each item in a list, for example, and perform some operation on it.\n",
    "\n",
    "Performing calculations - Sometimes you may need to perform a set of calculations until a certain condition is met, such as calculating a sum until a certain threshold is reached.\n",
    "\n",
    "It is important to be careful when using while loops, as they can potentially result in infinite loops that never terminate. To prevent this, make sure that your condition will eventually become false, or use a break statement to exit the loop when a certain condition is met."
   ]
  },
  {
   "cell_type": "markdown",
   "id": "42a9e608-111c-4d23-8e70-3b4a46fa5143",
   "metadata": {},
   "source": [
    "# Question 06"
   ]
  },
  {
   "cell_type": "markdown",
   "id": "b344d530-cc53-4cff-848f-44cf7bdba3af",
   "metadata": {},
   "source": [
    "* Pattern 1"
   ]
  },
  {
   "cell_type": "code",
   "execution_count": 8,
   "id": "72d4d2ad-7a64-4076-b76f-98a3df6e4b19",
   "metadata": {},
   "outputs": [
    {
     "name": "stdout",
     "output_type": "stream",
     "text": [
      "1\n",
      "12\n",
      "123\n",
      "1234\n",
      "12345\n"
     ]
    }
   ],
   "source": [
    "n = 5\n",
    "i = 1\n",
    "\n",
    "while i <= n:\n",
    "    j = 1\n",
    "    while j <= i:\n",
    "        print(j, end='')\n",
    "        j += 1\n",
    "    print()\n",
    "    i += 1\n"
   ]
  },
  {
   "cell_type": "markdown",
   "id": "2a1d6d39-5e25-4f94-b357-56a559b62cdd",
   "metadata": {},
   "source": [
    "* Pattern 2"
   ]
  },
  {
   "cell_type": "code",
   "execution_count": 9,
   "id": "719b0096-67b4-453e-afbe-2ffaeaa89452",
   "metadata": {},
   "outputs": [
    {
     "name": "stdout",
     "output_type": "stream",
     "text": [
      "*\n",
      "**\n",
      "***\n",
      "****\n",
      "*****\n"
     ]
    }
   ],
   "source": [
    "n = 5\n",
    "i = 1\n",
    "\n",
    "while i <= n:\n",
    "    j = 1\n",
    "    while j <= i:\n",
    "        print('*', end='')\n",
    "        j += 1\n",
    "    print()\n",
    "    i += 1\n"
   ]
  },
  {
   "cell_type": "markdown",
   "id": "0eaf607d-3806-42ab-b2f7-7c151efe11bf",
   "metadata": {},
   "source": [
    "* Pattern 3"
   ]
  },
  {
   "cell_type": "code",
   "execution_count": 10,
   "id": "a2dd824f-b19e-4ae2-b143-88446aa167e5",
   "metadata": {},
   "outputs": [
    {
     "name": "stdout",
     "output_type": "stream",
     "text": [
      "#####\n",
      "####\n",
      "###\n",
      "##\n",
      "#\n"
     ]
    }
   ],
   "source": [
    "n = 5\n",
    "i = n\n",
    "\n",
    "while i >= 1:\n",
    "    j = 1\n",
    "    while j <= i:\n",
    "        print('#', end='')\n",
    "        j += 1\n",
    "    print()\n",
    "    i -= 1\n"
   ]
  },
  {
   "cell_type": "markdown",
   "id": "27953952-fcff-4b6e-9e63-1522dc90bd57",
   "metadata": {},
   "source": [
    "# Question 07"
   ]
  },
  {
   "cell_type": "code",
   "execution_count": 11,
   "id": "68e0990b-0aba-460a-a1df-ce80d2715d9b",
   "metadata": {},
   "outputs": [
    {
     "name": "stdout",
     "output_type": "stream",
     "text": [
      "10\n",
      "9\n",
      "8\n",
      "7\n",
      "6\n",
      "5\n",
      "4\n",
      "3\n",
      "2\n",
      "1\n"
     ]
    }
   ],
   "source": [
    "i = 10\n",
    "\n",
    "while i >= 1:\n",
    "    print(i)\n",
    "    i -= 1\n"
   ]
  },
  {
   "cell_type": "markdown",
   "id": "e5c83ae5-bb7f-439b-a27a-c51b346b879e",
   "metadata": {},
   "source": [
    "# Question 08"
   ]
  },
  {
   "cell_type": "code",
   "execution_count": null,
   "id": "533a578d-b545-4afd-9dd4-7dec22a255e5",
   "metadata": {},
   "outputs": [],
   "source": []
  }
 ],
 "metadata": {
  "kernelspec": {
   "display_name": "Python 3 (ipykernel)",
   "language": "python",
   "name": "python3"
  },
  "language_info": {
   "codemirror_mode": {
    "name": "ipython",
    "version": 3
   },
   "file_extension": ".py",
   "mimetype": "text/x-python",
   "name": "python",
   "nbconvert_exporter": "python",
   "pygments_lexer": "ipython3",
   "version": "3.10.8"
  }
 },
 "nbformat": 4,
 "nbformat_minor": 5
}
