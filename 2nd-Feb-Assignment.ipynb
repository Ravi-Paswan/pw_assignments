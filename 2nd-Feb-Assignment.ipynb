{
 "cells": [
  {
   "cell_type": "markdown",
   "id": "95ad8a93-c821-4ea9-b106-583a56f28273",
   "metadata": {},
   "source": [
    "# Question 1"
   ]
  },
  {
   "cell_type": "markdown",
   "id": "e954ff66-765c-4e79-8df7-495a89ac8ac0",
   "metadata": {},
   "source": [
    "### For loop\n",
    "We use for loop when we already know the number of iterations required for are problem \n",
    "\n",
    "Example : Write a loop to print the table of 13 \n",
    "here we know the number of iterations will be 10 so we will use for loop\n",
    "the code is below"
   ]
  },
  {
   "cell_type": "code",
   "execution_count": 3,
   "id": "cd2e07f1-d323-4e8f-8a26-26900f8d4f13",
   "metadata": {},
   "outputs": [
    {
     "name": "stdout",
     "output_type": "stream",
     "text": [
      "13\n",
      "26\n",
      "39\n",
      "52\n",
      "65\n",
      "78\n",
      "91\n",
      "104\n",
      "117\n",
      "130\n"
     ]
    }
   ],
   "source": [
    "#Loop for printing table of 13\n",
    "for i in range(1,11):\n",
    "    print(i*13)"
   ]
  },
  {
   "cell_type": "markdown",
   "id": "3ac3e58d-84af-4d42-adf7-9122fbce978a",
   "metadata": {},
   "source": [
    "### While Loops\n",
    "we use while loops when we want to loop till a condition become false , here in most of the cases we don't know the no of iteration before \n",
    "\n",
    "Example: Write a loop to which first no s quare is greater than 13"
   ]
  },
  {
   "cell_type": "code",
   "execution_count": 5,
   "id": "898e8932-1fd2-4442-8fa3-50918fb954d9",
   "metadata": {},
   "outputs": [
    {
     "name": "stdout",
     "output_type": "stream",
     "text": [
      "33\n"
     ]
    }
   ],
   "source": [
    "cond = True\n",
    "i = 0\n",
    "while cond:\n",
    "    rest = i**2\n",
    "    if rest > 1000:\n",
    "        cond = False\n",
    "    i+=1\n",
    "    \n",
    "print(i)"
   ]
  },
  {
   "cell_type": "markdown",
   "id": "9480a3d2-26ea-4e46-ba2f-debcb85511ab",
   "metadata": {},
   "source": [
    "# Question 2"
   ]
  },
  {
   "cell_type": "code",
   "execution_count": 16,
   "id": "270dc995-c880-4c16-91bd-1fb1e050f9af",
   "metadata": {},
   "outputs": [
    {
     "data": {
      "text/plain": [
       "(55, 3628800)"
      ]
     },
     "execution_count": 16,
     "metadata": {},
     "output_type": "execute_result"
    }
   ],
   "source": [
    "## Using for loop\n",
    "sum_=0\n",
    "prod=1\n",
    "for i in range(1,11):\n",
    "    sum_+=i\n",
    "    prod*=i\n",
    "sum_,prod"
   ]
  },
  {
   "cell_type": "code",
   "execution_count": 18,
   "id": "f55e15f2-76fd-4f27-b954-0029743d8ae6",
   "metadata": {},
   "outputs": [
    {
     "data": {
      "text/plain": [
       "(55, 3628800)"
      ]
     },
     "execution_count": 18,
     "metadata": {},
     "output_type": "execute_result"
    }
   ],
   "source": [
    "##Using while loop\n",
    "i = 1\n",
    "sum_ = 0\n",
    "prod = 1\n",
    "while i <11:\n",
    "    sum_+=i\n",
    "    prod*=i\n",
    "    i+=1\n",
    "sum_,prod"
   ]
  },
  {
   "cell_type": "markdown",
   "id": "c8bea105-8629-43f2-a17f-d81f195a476a",
   "metadata": {},
   "source": [
    "# Questtion 3"
   ]
  },
  {
   "cell_type": "code",
   "execution_count": 19,
   "id": "da272aa6-3628-439b-a094-d534620f517f",
   "metadata": {},
   "outputs": [
    {
     "name": "stdin",
     "output_type": "stream",
     "text": [
      "Enter units consumed:  310\n"
     ]
    },
    {
     "name": "stdout",
     "output_type": "stream",
     "text": [
      "Electricity bill: Rs. 2250.0\n"
     ]
    }
   ],
   "source": [
    "units_consumed = int(input(\"Enter units consumed: \"))\n",
    "\n",
    "if units_consumed <= 100:\n",
    "    bill_amount = units_consumed * 4.5\n",
    "elif units_consumed <= 200:\n",
    "    bill_amount = 100 * 4.5 + (units_consumed - 100) * 6\n",
    "elif units_consumed <= 300:\n",
    "    bill_amount = 100 * 4.5 + 100 * 6 + (units_consumed - 200) * 10\n",
    "else:\n",
    "    bill_amount = 100 * 4.5 + 100 * 6 + 100 * 10 + (units_consumed - 300) * 20\n",
    "\n",
    "print(\"Electricity bill: Rs.\", bill_amount)\n"
   ]
  },
  {
   "cell_type": "markdown",
   "id": "d9987744-8b96-41d8-8a71-e8c1df832e59",
   "metadata": {},
   "source": [
    "# Question 4"
   ]
  },
  {
   "cell_type": "code",
   "execution_count": 20,
   "id": "77e7d64c-4b94-4157-8290-658a23cd3568",
   "metadata": {},
   "outputs": [
    {
     "name": "stdout",
     "output_type": "stream",
     "text": [
      "[2, 4, 5, 6, 8, 10, 12, 14, 15, 16, 18, 20, 22, 24, 25, 26, 28, 30, 32, 34, 35, 36, 38, 40, 42, 44, 45, 46, 48, 50, 52, 54, 55, 56, 58, 60, 62, 64, 65, 66, 68, 70, 72, 74, 75, 76, 78, 80, 82, 84, 85, 86, 88, 90, 92, 94, 95, 96, 98, 100]\n",
      "[2, 4, 5, 6, 8, 10, 12, 14, 15, 16, 18, 20, 22, 24, 25, 26, 28, 30, 32, 34, 35, 36, 38, 40, 42, 44, 45, 46, 48, 50, 52, 54, 55, 56, 58, 60, 62, 64, 65, 66, 68, 70, 72, 74, 75, 76, 78, 80, 82, 84, 85, 86, 88, 90, 92, 94, 95, 96, 98, 100, 2, 4, 5, 6, 8, 10, 12, 14, 15, 16, 18, 20, 22, 24, 25, 26, 28, 30, 32, 34, 35, 36, 38, 40, 42, 44, 45, 46, 48, 50, 52, 54, 55, 56, 58, 60, 62, 64, 65, 66, 68, 70, 72, 74, 75, 76, 78, 80, 82, 84, 85, 86, 88, 90, 92, 94, 95, 96, 98, 100]\n"
     ]
    }
   ],
   "source": [
    "numbers = list(range(1, 101))\n",
    "cubes_divisible_by_4_or_5 = []\n",
    "\n",
    "# Using for loop\n",
    "for num in numbers:\n",
    "    cube = num ** 3\n",
    "    if cube % 4 == 0 or cube % 5 == 0:\n",
    "        cubes_divisible_by_4_or_5.append(num)\n",
    "\n",
    "print(cubes_divisible_by_4_or_5)\n",
    "\n",
    "# Using while loop\n",
    "num = 1\n",
    "while num <= 100:\n",
    "    cube = num ** 3\n",
    "    if cube % 4 == 0 or cube % 5 == 0:\n",
    "        cubes_divisible_by_4_or_5.append(num)\n",
    "    num += 1\n",
    "\n",
    "print(cubes_divisible_by_4_or_5)"
   ]
  },
  {
   "cell_type": "markdown",
   "id": "3c2db36f-9e67-423f-b624-d6a9d8d1b089",
   "metadata": {},
   "source": [
    "# Question 5\n"
   ]
  },
  {
   "cell_type": "code",
   "execution_count": 21,
   "id": "1dfb3e81-79ae-47fa-8d3e-0b4d730a7f44",
   "metadata": {},
   "outputs": [
    {
     "name": "stdout",
     "output_type": "stream",
     "text": [
      "Number of vowels in the string: 12\n"
     ]
    }
   ],
   "source": [
    "string = \"I want to become a data scientist\"\n",
    "vowels = 'aeiouAEIOU'\n",
    "vowel_count = 0\n",
    "\n",
    "for char in string:\n",
    "    if char in vowels:\n",
    "        vowel_count += 1\n",
    "\n",
    "print(\"Number of vowels in the string:\", vowel_count)"
   ]
  },
  {
   "cell_type": "code",
   "execution_count": null,
   "id": "752d4119-bf71-49b3-bba9-aee6e7c5cf4d",
   "metadata": {},
   "outputs": [],
   "source": []
  }
 ],
 "metadata": {
  "kernelspec": {
   "display_name": "Python 3 (ipykernel)",
   "language": "python",
   "name": "python3"
  },
  "language_info": {
   "codemirror_mode": {
    "name": "ipython",
    "version": 3
   },
   "file_extension": ".py",
   "mimetype": "text/x-python",
   "name": "python",
   "nbconvert_exporter": "python",
   "pygments_lexer": "ipython3",
   "version": "3.10.8"
  }
 },
 "nbformat": 4,
 "nbformat_minor": 5
}
