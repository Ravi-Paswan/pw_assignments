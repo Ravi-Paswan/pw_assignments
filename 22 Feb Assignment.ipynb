{
 "cells": [
  {
   "cell_type": "code",
   "execution_count": 1,
   "id": "f4a7c167-5781-4cff-9aca-611a9128b582",
   "metadata": {},
   "outputs": [],
   "source": [
    "import pandas as pd"
   ]
  },
  {
   "cell_type": "markdown",
   "id": "66c1fb57-f9fc-488f-b815-3c86cdbb1b9a",
   "metadata": {},
   "source": [
    "# Question 01"
   ]
  },
  {
   "cell_type": "code",
   "execution_count": 2,
   "id": "1f0b371b-b3bd-4745-97b9-6c4ec2d2bd93",
   "metadata": {},
   "outputs": [
    {
     "name": "stdout",
     "output_type": "stream",
     "text": [
      "0     4\n",
      "1     8\n",
      "2    15\n",
      "3    16\n",
      "4    23\n",
      "5    42\n",
      "dtype: int64\n"
     ]
    }
   ],
   "source": [
    "list_1 = [4,8,15,16,23,42]\n",
    "new_series = pd.Series(list_1)\n",
    "print(new_series)"
   ]
  },
  {
   "cell_type": "markdown",
   "id": "e9c141fb-0932-4467-bb59-6f353059b96b",
   "metadata": {},
   "source": [
    "# Question 02"
   ]
  },
  {
   "cell_type": "code",
   "execution_count": 6,
   "id": "37245c51-01c5-4a2b-9b2d-8ae98dc994fa",
   "metadata": {},
   "outputs": [
    {
     "name": "stdout",
     "output_type": "stream",
     "text": [
      "0    0\n",
      "1    1\n",
      "2    2\n",
      "3    3\n",
      "4    4\n",
      "5    5\n",
      "6    6\n",
      "7    7\n",
      "8    8\n",
      "9    9\n",
      "dtype: int64\n"
     ]
    }
   ],
   "source": [
    "list_2 = [i for i in range(10)]\n",
    "series_2 = pd.Series(list_2)\n",
    "print(series_2)"
   ]
  },
  {
   "cell_type": "code",
   "execution_count": 5,
   "id": "44fc2cd4-efd0-4373-bd6d-51a784fca0d3",
   "metadata": {},
   "outputs": [
    {
     "data": {
      "text/plain": [
       "10"
      ]
     },
     "execution_count": 5,
     "metadata": {},
     "output_type": "execute_result"
    }
   ],
   "source": [
    "len(list_2)"
   ]
  },
  {
   "cell_type": "markdown",
   "id": "252e3447-1404-43e1-b7a6-d48cad74644a",
   "metadata": {},
   "source": [
    "# Question 03"
   ]
  },
  {
   "cell_type": "code",
   "execution_count": 10,
   "id": "1f5acc7c-03f0-4a90-9b0d-3f5f20904d64",
   "metadata": {},
   "outputs": [
    {
     "name": "stdout",
     "output_type": "stream",
     "text": [
      "    Name  Age   Gender\n",
      "0  Alice   25   Female\n",
      "1    Bob   30     Male\n",
      "2  Clair   27  Femmale\n"
     ]
    }
   ],
   "source": [
    "new_data = {\"Name\":[\"Alice\",\"Bob\",\"Clair\"],\n",
    "             \"Age\":[25,30,27],\n",
    "              \"Gender\":[\"Female\",\"Male\",\"Femmale\"]}\n",
    "new_df = pd.DataFrame(new_data)\n",
    "print(new_df)"
   ]
  },
  {
   "cell_type": "markdown",
   "id": "40e65186-0975-4c55-8c80-31cc6baac7b0",
   "metadata": {},
   "source": [
    "# Question 04"
   ]
  },
  {
   "cell_type": "markdown",
   "id": "908b0409-5510-42e3-a168-7c51adab0bb0",
   "metadata": {},
   "source": [
    "A DataFrame is a 2-dimensional labeled data structure with columns of potentially different types 1. It can be thought of as a table where each row is an observation and each column is a variable. On the other hand, a Series is a 1-dimensional labeled array capable of holding any data type 2. It can be thought of as a single column of data."
   ]
  },
  {
   "cell_type": "code",
   "execution_count": 12,
   "id": "5f6ab062-80dd-4415-a649-c89e256daf5c",
   "metadata": {},
   "outputs": [
    {
     "name": "stdout",
     "output_type": "stream",
     "text": [
      "a    1\n",
      "b    2\n",
      "c    3\n",
      "dtype: int64\n",
      "   A  B\n",
      "0  1  3\n",
      "1  2  4\n"
     ]
    }
   ],
   "source": [
    "import pandas as pd\n",
    "\n",
    "# Creating a Series\n",
    "s = pd.Series([1, 2, 3], index=['a', 'b', 'c'])\n",
    "\n",
    "# Creating a DataFrame\n",
    "data = {'A': [1, 2], 'B': [3, 4]}\n",
    "df = pd.DataFrame(data)\n",
    "\n",
    "print(s)\n",
    "print(df)"
   ]
  },
  {
   "cell_type": "markdown",
   "id": "cf0a3d8b-7ec2-4f90-a7ad-f316870ecd26",
   "metadata": {},
   "source": [
    "This code creates a Series with an index of ['a', 'b', 'c'] and values [1, 2, 3]. It also creates a DataFrame with two columns ('A' and 'B') and two rows."
   ]
  },
  {
   "cell_type": "markdown",
   "id": "32b3bf65-c7cd-4c71-97a5-96beef9cb9f2",
   "metadata": {},
   "source": [
    "# Question 05"
   ]
  },
  {
   "cell_type": "markdown",
   "id": "78f03cdb-d8d0-4562-9c86-c234b7e460d6",
   "metadata": {},
   "source": [
    "There are many functions you can use to manipulate data in a DataFrame. Some common ones include:\n",
    "\n",
    "sort_values: Sorts a DataFrame by one or more columns 1.\n",
    "describe: Generates descriptive statistics of a DataFrame, including central tendency, dispersion and shape of the distribution 1.\n",
    "value_counts: Returns object containing counts of unique values 1.\n",
    "isnull: Detects missing values 1.\n",
    "Here’s an example of when you might use one of these functions:"
   ]
  },
  {
   "cell_type": "code",
   "execution_count": 14,
   "id": "6330e79a-d5d5-4355-a853-45e70f29bacd",
   "metadata": {},
   "outputs": [
    {
     "name": "stdout",
     "output_type": "stream",
     "text": [
      "              A         B\n",
      "count  2.000000  2.000000\n",
      "mean   1.500000  3.500000\n",
      "std    0.707107  0.707107\n",
      "min    1.000000  3.000000\n",
      "25%    1.250000  3.250000\n",
      "50%    1.500000  3.500000\n",
      "75%    1.750000  3.750000\n",
      "max    2.000000  4.000000\n"
     ]
    }
   ],
   "source": [
    "import pandas as pd\n",
    "\n",
    "# Creating a DataFrame\n",
    "data = {'A': [1, 2], 'B': [3, 4]}\n",
    "df = pd.DataFrame(data)\n",
    "\n",
    "# Using describe function\n",
    "print(df.describe())"
   ]
  },
  {
   "cell_type": "markdown",
   "id": "951d8acf-0d6a-4c89-8176-bfd5525c9640",
   "metadata": {},
   "source": [
    "This code creates a DataFrame with two columns ('A' and 'B') and two rows. It then uses the describe function to generate descriptive statistics for each column."
   ]
  },
  {
   "cell_type": "markdown",
   "id": "183e8482-5f30-4715-879d-c84a4f4342cd",
   "metadata": {},
   "source": [
    "# Question 06"
   ]
  },
  {
   "cell_type": "markdown",
   "id": "8fcefb3b-b619-4347-89f4-a6867028fbfc",
   "metadata": {},
   "source": [
    "All three of them - Series, DataFrame, and Panel - are mutable in nature. This means that you can modify their contents after they have been created.\n"
   ]
  },
  {
   "cell_type": "markdown",
   "id": "95211992-35a3-4d5c-a890-9a2cf5ef7330",
   "metadata": {},
   "source": [
    "# Question 07"
   ]
  },
  {
   "cell_type": "markdown",
   "id": "3947dda6-2ea1-448b-aaf8-d7a61f00fa97",
   "metadata": {},
   "source": [
    "You can create a DataFrame from multiple Series by passing a dictionary of Series to the DataFrame constructor. The keys of the dictionary will become the column names and the values of the dictionary will become the data for each column.\n",
    "\n",
    "Here’s an example:"
   ]
  },
  {
   "cell_type": "code",
   "execution_count": 15,
   "id": "1e250a58-015b-49ec-83de-51ac7a544e7b",
   "metadata": {},
   "outputs": [
    {
     "name": "stdout",
     "output_type": "stream",
     "text": [
      "   A  B\n",
      "0  1  3\n",
      "1  2  4\n"
     ]
    }
   ],
   "source": [
    "import pandas as pd\n",
    "\n",
    "# Creating Series\n",
    "s1 = pd.Series([1, 2])\n",
    "s2 = pd.Series([3, 4])\n",
    "\n",
    "# Creating a DataFrame from multiple Series\n",
    "df = pd.DataFrame({'A': s1, 'B': s2})\n",
    "\n",
    "print(df)"
   ]
  },
  {
   "cell_type": "markdown",
   "id": "55c2e51a-6f35-46f3-b4d6-26e0456940a4",
   "metadata": {},
   "source": [
    "This code creates two Series, s1 and s2, with values [1, 2] and [3, 4], respectively. It then creates a DataFrame with two columns ('A' and 'B') using these two Series."
   ]
  },
  {
   "cell_type": "code",
   "execution_count": null,
   "id": "926293eb-03dd-4fdf-a163-9ebcd893c798",
   "metadata": {},
   "outputs": [],
   "source": []
  }
 ],
 "metadata": {
  "kernelspec": {
   "display_name": "Python 3 (ipykernel)",
   "language": "python",
   "name": "python3"
  },
  "language_info": {
   "codemirror_mode": {
    "name": "ipython",
    "version": 3
   },
   "file_extension": ".py",
   "mimetype": "text/x-python",
   "name": "python",
   "nbconvert_exporter": "python",
   "pygments_lexer": "ipython3",
   "version": "3.10.8"
  }
 },
 "nbformat": 4,
 "nbformat_minor": 5
}
