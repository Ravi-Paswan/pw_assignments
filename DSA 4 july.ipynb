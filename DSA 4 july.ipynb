{
 "cells": [
  {
   "cell_type": "markdown",
   "id": "b3e05ee5-e779-41ec-9b7a-a71db14d67fb",
   "metadata": {},
   "source": [
    "# Qo 01"
   ]
  },
  {
   "cell_type": "code",
   "execution_count": 1,
   "id": "8f5cfe29-f03f-4289-8de5-17ca45b991fc",
   "metadata": {},
   "outputs": [
    {
     "name": "stdout",
     "output_type": "stream",
     "text": [
      "231\n"
     ]
    }
   ],
   "source": [
    "def minimumDeleteSum(s1, s2):\n",
    "    m, n = len(s1), len(s2)\n",
    "\n",
    "    # Create a 2D table to store the results of subproblems\n",
    "    dp = [[0] * (n + 1) for _ in range(m + 1)]\n",
    "\n",
    "    # Fill the table starting from the bottom right\n",
    "    for i in range(m - 1, -1, -1):\n",
    "        dp[i][n] = dp[i + 1][n] + ord(s1[i])\n",
    "\n",
    "    for j in range(n - 1, -1, -1):\n",
    "        dp[m][j] = dp[m][j + 1] + ord(s2[j])\n",
    "\n",
    "    for i in range(m - 1, -1, -1):\n",
    "        for j in range(n - 1, -1, -1):\n",
    "            if s1[i] == s2[j]:\n",
    "                dp[i][j] = dp[i + 1][j + 1]\n",
    "            else:\n",
    "                dp[i][j] = min(dp[i + 1][j] + ord(s1[i]), dp[i][j + 1] + ord(s2[j]))\n",
    "\n",
    "    return dp[0][0]\n",
    "\n",
    "s1 = \"sea\"\n",
    "s2 = \"eat\"\n",
    "print(minimumDeleteSum(s1, s2))  # Output: 231\n"
   ]
  },
  {
   "cell_type": "markdown",
   "id": "a2999093-b840-4c18-ac88-393218a2fa5c",
   "metadata": {},
   "source": [
    "# Qo 02"
   ]
  },
  {
   "cell_type": "code",
   "execution_count": 2,
   "id": "aa98d174-5ae6-427d-a7a0-0ffa68b5e727",
   "metadata": {},
   "outputs": [
    {
     "name": "stdout",
     "output_type": "stream",
     "text": [
      "True\n",
      "True\n",
      "True\n",
      "True\n",
      "True\n",
      "True\n",
      "True\n",
      "False\n"
     ]
    }
   ],
   "source": [
    "def checkValidString(s):\n",
    "    stack = []\n",
    "    asterisks = []\n",
    "    \n",
    "    for i, char in enumerate(s):\n",
    "        if char == '(':\n",
    "            stack.append(i)\n",
    "        elif char == '*':\n",
    "            asterisks.append(i)\n",
    "        else:\n",
    "            if stack:\n",
    "                stack.pop()\n",
    "            elif asterisks:\n",
    "                asterisks.pop()\n",
    "            else:\n",
    "                return False\n",
    "    \n",
    "    while stack and asterisks:\n",
    "        if stack[-1] > asterisks[-1]:\n",
    "            return False\n",
    "        stack.pop()\n",
    "        asterisks.pop()\n",
    "    \n",
    "    return len(stack) == 0\n",
    "\n",
    "s1 = \"(*))\"\n",
    "print(checkValidString(s1))  # Output: True\n",
    "\n",
    "s2 = \"((*)\"\n",
    "print(checkValidString(s2))  # Output: True\n",
    "\n",
    "s3 = \"(*))\"\n",
    "print(checkValidString(s3))  # Output: True\n",
    "\n",
    "s4 = \"(*)\"\n",
    "print(checkValidString(s4))  # Output: True\n",
    "\n",
    "s5 = \"(()*\"\n",
    "print(checkValidString(s5))  # Output: True\n",
    "\n",
    "s6 = \"(*))\"\n",
    "print(checkValidString(s6))  # Output: True\n",
    "\n",
    "s7 = \"(((**)))\"\n",
    "print(checkValidString(s7))  # Output: True\n",
    "\n",
    "s8 = \"(())((())()()(*)(*()(())())())()()((()())((()))(*\"\n",
    "print(checkValidString(s8))  # Output: False\n"
   ]
  },
  {
   "cell_type": "markdown",
   "id": "dc3c1d0f-a0ed-454b-bc27-1fa103d1ad73",
   "metadata": {},
   "source": [
    "# Qo 03"
   ]
  },
  {
   "cell_type": "code",
   "execution_count": 3,
   "id": "346378dc-53da-461b-85fb-249ebf46a2d7",
   "metadata": {},
   "outputs": [
    {
     "name": "stdout",
     "output_type": "stream",
     "text": [
      "2\n"
     ]
    }
   ],
   "source": [
    "def minDistance(word1, word2):\n",
    "    m, n = len(word1), len(word2)\n",
    "\n",
    "    # Create a 2D table to store the lengths of the LCS\n",
    "    dp = [[0] * (n + 1) for _ in range(m + 1)]\n",
    "\n",
    "    # Fill the table using dynamic programming\n",
    "    for i in range(1, m + 1):\n",
    "        for j in range(1, n + 1):\n",
    "            if word1[i - 1] == word2[j - 1]:\n",
    "                dp[i][j] = dp[i - 1][j - 1] + 1\n",
    "            else:\n",
    "                dp[i][j] = max(dp[i - 1][j], dp[i][j - 1])\n",
    "\n",
    "    lcs_length = dp[m][n]\n",
    "    return m - lcs_length + n - lcs_length\n",
    "word1 = \"sea\"\n",
    "word2 = \"eat\"\n",
    "print(minDistance(word1, word2))  # Output: 2\n"
   ]
  },
  {
   "cell_type": "markdown",
   "id": "c92b3e55-0df5-4b8b-bce2-2b424cebb4f5",
   "metadata": {},
   "source": [
    "# Qo 04"
   ]
  },
  {
   "cell_type": "code",
   "execution_count": 5,
   "id": "c6e9c9d9-ffa3-4d51-a84f-a1f91b2e6d03",
   "metadata": {},
   "outputs": [
    {
     "ename": "AttributeError",
     "evalue": "'str' object has no attribute 'val'",
     "output_type": "error",
     "traceback": [
      "\u001b[0;31m---------------------------------------------------------------------------\u001b[0m",
      "\u001b[0;31mAttributeError\u001b[0m                            Traceback (most recent call last)",
      "Cell \u001b[0;32mIn[5], line 11\u001b[0m\n\u001b[1;32m      8\u001b[0m         preorder(node\u001b[38;5;241m.\u001b[39mleft)\n\u001b[1;32m      9\u001b[0m         preorder(node\u001b[38;5;241m.\u001b[39mright)\n\u001b[0;32m---> 11\u001b[0m \u001b[43mpreorder\u001b[49m\u001b[43m(\u001b[49m\u001b[43mroot\u001b[49m\u001b[43m)\u001b[49m\n",
      "Cell \u001b[0;32mIn[5], line 7\u001b[0m, in \u001b[0;36mpreorder\u001b[0;34m(node)\u001b[0m\n\u001b[1;32m      5\u001b[0m \u001b[38;5;28;01mdef\u001b[39;00m \u001b[38;5;21mpreorder\u001b[39m(node):\n\u001b[1;32m      6\u001b[0m     \u001b[38;5;28;01mif\u001b[39;00m node:\n\u001b[0;32m----> 7\u001b[0m         \u001b[38;5;28mprint\u001b[39m(\u001b[43mnode\u001b[49m\u001b[38;5;241;43m.\u001b[39;49m\u001b[43mval\u001b[49m, end\u001b[38;5;241m=\u001b[39m\u001b[38;5;124m\"\u001b[39m\u001b[38;5;124m \u001b[39m\u001b[38;5;124m\"\u001b[39m)\n\u001b[1;32m      8\u001b[0m         preorder(node\u001b[38;5;241m.\u001b[39mleft)\n\u001b[1;32m      9\u001b[0m         preorder(node\u001b[38;5;241m.\u001b[39mright)\n",
      "\u001b[0;31mAttributeError\u001b[0m: 'str' object has no attribute 'val'"
     ]
    }
   ],
   "source": [
    "s = \"4(2(3)(1))(6(5))\"\n",
    "root = s\n",
    "\n",
    "# Visualize the constructed binary tree (preorder traversal)\n",
    "def preorder(node):\n",
    "    if node:\n",
    "        print(node.val, end=\" \")\n",
    "        preorder(node.left)\n",
    "        preorder(node.right)\n",
    "\n",
    "preorder(root)\n"
   ]
  },
  {
   "cell_type": "markdown",
   "id": "4c5de993-594f-45da-8d05-cd587d972f74",
   "metadata": {},
   "source": [
    "# Qo 05"
   ]
  },
  {
   "cell_type": "code",
   "execution_count": 6,
   "id": "1d3ae89b-8028-4e6f-9dc4-0760fa834efc",
   "metadata": {},
   "outputs": [
    {
     "name": "stdout",
     "output_type": "stream",
     "text": [
      "6\n",
      "['a', '2', 'b', '2', 'c', '3', 'c']\n",
      "1\n",
      "['a']\n",
      "4\n",
      "['a', 'b', '1', '2', 'b', 'b', 'b', 'b', 'b', 'b', 'b', 'b', 'b']\n"
     ]
    }
   ],
   "source": [
    "def compress(chars):\n",
    "    n = len(chars)\n",
    "    if n == 0:\n",
    "        return 0\n",
    "\n",
    "    write = 0  # pointer to the current position for writing compressed characters\n",
    "    count = 1  # counter for consecutive repeating characters\n",
    "\n",
    "    for read in range(1, n):\n",
    "        if chars[read] == chars[read - 1]:\n",
    "            count += 1\n",
    "        else:\n",
    "            chars[write] = chars[read - 1]\n",
    "            write += 1\n",
    "\n",
    "            if count > 1:\n",
    "                for digit in str(count):\n",
    "                    chars[write] = digit\n",
    "                    write += 1\n",
    "\n",
    "            count = 1\n",
    "\n",
    "    # Write the last character and its count\n",
    "    chars[write] = chars[n - 1]\n",
    "    write += 1\n",
    "\n",
    "    if count > 1:\n",
    "        for digit in str(count):\n",
    "            chars[write] = digit\n",
    "            write += 1\n",
    "\n",
    "    return write\n",
    "\n",
    "\n",
    "chars1 = [\"a\", \"a\", \"b\", \"b\", \"c\", \"c\", \"c\"]\n",
    "print(compress(chars1))  # Output: 6\n",
    "print(chars1)  # Output: ['a', '2', 'b', '2', 'c', '3']\n",
    "\n",
    "chars2 = [\"a\"]\n",
    "print(compress(chars2))  # Output: 1\n",
    "print(chars2)  # Output: ['a']\n",
    "\n",
    "chars3 = [\"a\", \"b\", \"b\", \"b\", \"b\", \"b\", \"b\", \"b\", \"b\", \"b\", \"b\", \"b\", \"b\"]\n",
    "print(compress(chars3))  # Output: 4\n",
    "print(chars3)  # Output: ['a', 'b', '1', '3']\n"
   ]
  },
  {
   "cell_type": "markdown",
   "id": "19d1b6ae-f28f-42e4-96e0-481e78c2fc69",
   "metadata": {},
   "source": [
    "# Qo 06"
   ]
  },
  {
   "cell_type": "code",
   "execution_count": 8,
   "id": "ba473515-21cf-441e-8bd8-27d46a037ab4",
   "metadata": {},
   "outputs": [
    {
     "name": "stdout",
     "output_type": "stream",
     "text": [
      "[0, 6]\n"
     ]
    }
   ],
   "source": [
    "from collections import defaultdict\n",
    "\n",
    "\n",
    "def findAnagrams(s, p):\n",
    "    result = []\n",
    "    if len(p) > len(s):\n",
    "        return result\n",
    "\n",
    "    p_count = defaultdict(int)\n",
    "    s_count = defaultdict(int)\n",
    "\n",
    "    # Count the characters in p\n",
    "    for char in p:\n",
    "        p_count[char] += 1\n",
    "\n",
    "    # Initialize the sliding window\n",
    "    window_start = 0\n",
    "    window_end = 0\n",
    "\n",
    "    while window_end < len(s):\n",
    "        # Expand the sliding window\n",
    "        s_count[s[window_end]] += 1\n",
    "\n",
    "        # Shrink the sliding window if its size is larger than p\n",
    "        if window_end >= len(p):\n",
    "            char_left = s[window_start]\n",
    "            if s_count[char_left] == 1:\n",
    "                del s_count[char_left]\n",
    "            else:\n",
    "                s_count[char_left] -= 1\n",
    "            window_start += 1\n",
    "\n",
    "        # Check if the current window is an anagram of p\n",
    "        if s_count == p_count:\n",
    "            result.append(window_start)\n",
    "\n",
    "        window_end += 1\n",
    "\n",
    "    return result\n",
    "\n",
    "s = \"cbaebabacd\"\n",
    "p = \"abc\"\n",
    "print(findAnagrams(s, p))  # Output: [0, 6]\n"
   ]
  },
  {
   "cell_type": "markdown",
   "id": "3bac2f4c-e340-4c07-897c-c49505d591c7",
   "metadata": {},
   "source": [
    "# Qo 07"
   ]
  },
  {
   "cell_type": "code",
   "execution_count": 9,
   "id": "a83dce05-49ec-4c79-befb-e3b264a77a02",
   "metadata": {},
   "outputs": [
    {
     "name": "stdout",
     "output_type": "stream",
     "text": [
      "aaabcbc\n",
      "accaccacc\n",
      "abcabccdcdcdef\n"
     ]
    }
   ],
   "source": [
    "def decodeString(s):\n",
    "    stack = []\n",
    "    curr_num = 0\n",
    "    curr_str = ''\n",
    "\n",
    "    for char in s:\n",
    "        if char.isdigit():\n",
    "            curr_num = curr_num * 10 + int(char)\n",
    "        elif char == '[':\n",
    "            stack.append((curr_str, curr_num))\n",
    "            curr_str = ''\n",
    "            curr_num = 0\n",
    "        elif char == ']':\n",
    "            prev_str, repeat = stack.pop()\n",
    "            curr_str = prev_str + repeat * curr_str\n",
    "        else:\n",
    "            curr_str += char\n",
    "\n",
    "    return curr_str\n",
    "\n",
    "s1 = \"3[a]2[bc]\"\n",
    "print(decodeString(s1))  # Output: \"aaabcbc\"\n",
    "\n",
    "s2 = \"3[a2[c]]\"\n",
    "print(decodeString(s2))  # Output: \"accaccacc\"\n",
    "\n",
    "s3 = \"2[abc]3[cd]ef\"\n",
    "print(decodeString(s3))  # Output: \"abcabccdcdcdef\"\n"
   ]
  },
  {
   "cell_type": "markdown",
   "id": "d7652767-8969-4eba-8a03-ca80898f93ea",
   "metadata": {},
   "source": [
    "# Qo 08"
   ]
  },
  {
   "cell_type": "code",
   "execution_count": 10,
   "id": "89458063-8456-49a4-9143-371eb6518698",
   "metadata": {},
   "outputs": [
    {
     "name": "stdout",
     "output_type": "stream",
     "text": [
      "True\n",
      "False\n",
      "True\n",
      "True\n",
      "True\n",
      "True\n"
     ]
    }
   ],
   "source": [
    "def buddyStrings(s, goal):\n",
    "    if len(s) != len(goal):\n",
    "        return False\n",
    "\n",
    "    if s == goal:\n",
    "        # Check if there are duplicate characters in s\n",
    "        char_count = {}\n",
    "        for char in s:\n",
    "            if char in char_count and char_count[char] > 0:\n",
    "                return True\n",
    "            char_count[char] = char_count.get(char, 0) + 1\n",
    "        return False\n",
    "\n",
    "    differing_indices = []\n",
    "    for i in range(len(s)):\n",
    "        if s[i] != goal[i]:\n",
    "            differing_indices.append(i)\n",
    "\n",
    "    if len(differing_indices) != 2:\n",
    "        return False\n",
    "\n",
    "    i, j = differing_indices\n",
    "    return s[i] == goal[j] and s[j] == goal[i]\n",
    "\n",
    "s1 = \"ab\"\n",
    "goal1 = \"ba\"\n",
    "print(buddyStrings(s1, goal1))  # Output: True\n",
    "\n",
    "s2 = \"ab\"\n",
    "goal2 = \"ab\"\n",
    "print(buddyStrings(s2, goal2))  # Output: False\n",
    "\n",
    "s3 = \"aa\"\n",
    "goal3 = \"aa\"\n",
    "print(buddyStrings(s3, goal3))  # Output: True\n",
    "\n",
    "s4 = \"aaaaaaabc\"\n",
    "goal4 = \"aaaaaaacb\"\n",
    "print(buddyStrings(s4, goal4))  # Output: True\n",
    "\n",
    "s5 = \"abcd\"\n",
    "goal5 = \"cbad\"\n",
    "print(buddyStrings(s5, goal5))  # Output: True\n",
    "\n",
    "s6 = \"abcd\"\n",
    "goal6 = \"acbd\"\n",
    "print(buddyStrings(s6, goal6))  # Output: False\n",
    "\n"
   ]
  },
  {
   "cell_type": "code",
   "execution_count": null,
   "id": "7460c5e5-6f42-4d7d-b159-c4753f5be9b7",
   "metadata": {},
   "outputs": [],
   "source": []
  }
 ],
 "metadata": {
  "kernelspec": {
   "display_name": "Python 3 (ipykernel)",
   "language": "python",
   "name": "python3"
  },
  "language_info": {
   "codemirror_mode": {
    "name": "ipython",
    "version": 3
   },
   "file_extension": ".py",
   "mimetype": "text/x-python",
   "name": "python",
   "nbconvert_exporter": "python",
   "pygments_lexer": "ipython3",
   "version": "3.10.8"
  }
 },
 "nbformat": 4,
 "nbformat_minor": 5
}
