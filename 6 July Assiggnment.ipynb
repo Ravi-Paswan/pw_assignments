{
 "cells": [
  {
   "cell_type": "markdown",
   "id": "8c596e8e-594d-4c38-b3ab-a47839bef1a0",
   "metadata": {},
   "source": [
    "# Qo 01"
   ]
  },
  {
   "cell_type": "code",
   "execution_count": 2,
   "id": "58864515-8c20-49cb-ad02-041cbab4f346",
   "metadata": {},
   "outputs": [
    {
     "data": {
      "text/plain": [
       "'nawsaP ivaR'"
      ]
     },
     "execution_count": 2,
     "metadata": {},
     "output_type": "execute_result"
    }
   ],
   "source": [
    "def reverseString(string):\n",
    "    return string[::-1]\n",
    "\n",
    "s = \"Ravi Paswan\"\n",
    "reverseString(s)"
   ]
  },
  {
   "cell_type": "markdown",
   "id": "51b238c6-8955-4ec0-b936-9c8a49a675ac",
   "metadata": {},
   "source": [
    "# Qo 02"
   ]
  },
  {
   "cell_type": "code",
   "execution_count": 4,
   "id": "41ac02ce-a62a-47b1-9085-4e63d94c1f91",
   "metadata": {},
   "outputs": [
    {
     "data": {
      "text/plain": [
       "(False, True)"
      ]
     },
     "execution_count": 4,
     "metadata": {},
     "output_type": "execute_result"
    }
   ],
   "source": [
    "def isPalindrome(string):\n",
    "    return string == string[::-1]\n",
    "\n",
    "s = \"ravi\"\n",
    "r = 'arora'\n",
    "isPalindrome(s),isPalindrome(r)"
   ]
  },
  {
   "cell_type": "markdown",
   "id": "ce29ac5e-bd55-4345-9c51-dfb4d7d9f79c",
   "metadata": {},
   "source": [
    "# Qo 03"
   ]
  },
  {
   "cell_type": "code",
   "execution_count": 6,
   "id": "230cccda-3a5d-406c-b6c9-ea67590e319c",
   "metadata": {},
   "outputs": [
    {
     "data": {
      "text/plain": [
       "[99, 6]"
      ]
     },
     "execution_count": 6,
     "metadata": {},
     "output_type": "execute_result"
    }
   ],
   "source": [
    "def maxList(lst):\n",
    "    max_element = lst[0]\n",
    "    max_index = 0\n",
    "    for i in range(len(lst)):\n",
    "        if lst[i] > max_element:\n",
    "            max_element = lst[i]\n",
    "            max_index = i\n",
    "            \n",
    "    return [max_element, max_index]\n",
    "\n",
    "lst = [23,34,21,34,45,76,99,23,12,45]\n",
    "maxList(lst)"
   ]
  },
  {
   "cell_type": "markdown",
   "id": "58bf35d6-2d21-4a7d-8188-bcd5bd2ae58b",
   "metadata": {},
   "source": [
    "# Qo 04"
   ]
  },
  {
   "cell_type": "code",
   "execution_count": 7,
   "id": "9ce058bf-ea24-433c-bd6d-c4a54b12898f",
   "metadata": {},
   "outputs": [
    {
     "name": "stdout",
     "output_type": "stream",
     "text": [
      "{1: 3, 2: 2, 3: 3, 5: 1, 6: 1}\n"
     ]
    }
   ],
   "source": [
    "def count_occurrences(lst):\n",
    "    occurrence_count = {}\n",
    "    for element in lst:\n",
    "        if element in occurrence_count:\n",
    "            occurrence_count[element] += 1\n",
    "        else:\n",
    "            occurrence_count[element] = 1\n",
    "    return occurrence_count\n",
    "\n",
    "lst = [1,2,3,1,2,5,6,3,1,3]\n",
    "print(count_occurrences(lst))"
   ]
  },
  {
   "cell_type": "markdown",
   "id": "bc9921b4-d4be-4b7d-ad8e-b6b87117f0af",
   "metadata": {},
   "source": [
    "# Qo 05"
   ]
  },
  {
   "cell_type": "code",
   "execution_count": 8,
   "id": "1dfc1ed3-7df4-43da-95b5-232d8b34da03",
   "metadata": {},
   "outputs": [
    {
     "data": {
      "text/plain": [
       "8"
      ]
     },
     "execution_count": 8,
     "metadata": {},
     "output_type": "execute_result"
    }
   ],
   "source": [
    "def secmaxList(lst):\n",
    "    max_element = lst[0]\n",
    "    lst1 = []\n",
    "    for i in range(len(lst)):\n",
    "        if lst[i] > max_element:\n",
    "            max_element = lst[i]\n",
    "            lst1.append(max_element)\n",
    "            \n",
    "    return lst1[-2]\n",
    "\n",
    "lst = [5,4,6,2,8,1,9,1]\n",
    "secmaxList(lst)"
   ]
  },
  {
   "cell_type": "markdown",
   "id": "73b77b89-b69a-4987-988d-fa724ca7c799",
   "metadata": {},
   "source": [
    "# Qo 06"
   ]
  },
  {
   "cell_type": "code",
   "execution_count": 10,
   "id": "9da0fc2d-610e-46af-851e-3b2817ac1bbf",
   "metadata": {},
   "outputs": [
    {
     "data": {
      "text/plain": [
       "[1, 2, 3, 5, 6, 4, 7]"
      ]
     },
     "execution_count": 10,
     "metadata": {},
     "output_type": "execute_result"
    }
   ],
   "source": [
    "def remDulicate(lst):\n",
    "    lst1 = []\n",
    "    for i in lst:\n",
    "        if i not in lst1:\n",
    "            lst1.append(i)\n",
    "    return lst1\n",
    "\n",
    "lst = [1,1,2,3,5,6,3,2,3,3,4,1,2,6,7,1,3,2]\n",
    "remDulicate(lst)"
   ]
  },
  {
   "cell_type": "markdown",
   "id": "3b524e48-f809-458b-9a9e-7462fd52c03c",
   "metadata": {},
   "source": [
    "# Qo 07"
   ]
  },
  {
   "cell_type": "code",
   "execution_count": 21,
   "id": "64b15ee5-3e7e-494e-918d-50ef4ce4892e",
   "metadata": {},
   "outputs": [
    {
     "data": {
      "text/plain": [
       "120"
      ]
     },
     "execution_count": 21,
     "metadata": {},
     "output_type": "execute_result"
    }
   ],
   "source": [
    "def fact(n):\n",
    "    if n==0:\n",
    "        return 1\n",
    "    else:\n",
    "        return n*fact(n-1)\n",
    "    \n",
    "fact(5)"
   ]
  },
  {
   "cell_type": "markdown",
   "id": "7947f17a-37d8-4575-97b2-335354809dde",
   "metadata": {},
   "source": [
    "# Qo 08"
   ]
  },
  {
   "cell_type": "code",
   "execution_count": 22,
   "id": "f43e33a3-c793-40f5-9489-c80b30517287",
   "metadata": {},
   "outputs": [
    {
     "data": {
      "text/plain": [
       "True"
      ]
     },
     "execution_count": 22,
     "metadata": {},
     "output_type": "execute_result"
    }
   ],
   "source": [
    "def isPrime(num):\n",
    "    n = num//2\n",
    "    for i in range(2,n):\n",
    "        if math.remainder(num,i) == 0:\n",
    "            return False\n",
    "    return True\n",
    "\n",
    "isPrime(23)"
   ]
  },
  {
   "cell_type": "markdown",
   "id": "380acd86-0fa3-4357-a6e1-8cbde0c483fa",
   "metadata": {},
   "source": [
    "# Qo 09"
   ]
  },
  {
   "cell_type": "code",
   "execution_count": 30,
   "id": "29292aa2-c37d-4c35-9422-fb0c96f015f7",
   "metadata": {},
   "outputs": [
    {
     "data": {
      "text/plain": [
       "[21, 23, 23, 24, 34, 34, 45, 46, 56, 56, 67, 78]"
      ]
     },
     "execution_count": 30,
     "metadata": {},
     "output_type": "execute_result"
    }
   ],
   "source": [
    "def ascSort(arr):\n",
    "    for i in range(len(arr)-1):  # Iterations loop\n",
    "        for j in range(len(arr)-1-i): #Comparisons loops\n",
    "            if arr[j] > arr[j+1]:\n",
    "                (arr[j],arr[j+1]) = (arr[j+1],arr[j])\n",
    "lst = [23,21,34,24,45,56,34,23,46,67,56,78]\n",
    "ascSort(lst)\n",
    "lst"
   ]
  },
  {
   "cell_type": "markdown",
   "id": "1da99f91-7e24-4493-a3dc-46301c7cdcc1",
   "metadata": {},
   "source": [
    "# Qo 10"
   ]
  },
  {
   "cell_type": "code",
   "execution_count": 35,
   "id": "e0c188a7-02eb-46be-860d-6bd0428886ab",
   "metadata": {},
   "outputs": [
    {
     "data": {
      "text/plain": [
       "55"
      ]
     },
     "execution_count": 35,
     "metadata": {},
     "output_type": "execute_result"
    }
   ],
   "source": [
    "def lstSum(lst):\n",
    "    sum = 0\n",
    "    for j in lst:\n",
    "        sum += j\n",
    "    return sum\n",
    "lst = [1,2,3,4,5,6,7,8,9,10]\n",
    "lstSum(lst)"
   ]
  },
  {
   "cell_type": "markdown",
   "id": "4bb64ec8-e470-4459-af64-1f6205d211dc",
   "metadata": {},
   "source": [
    "# Qo 11"
   ]
  },
  {
   "cell_type": "code",
   "execution_count": 38,
   "id": "549dc20a-f651-4b7d-ab73-b3ca1d6d8944",
   "metadata": {},
   "outputs": [
    {
     "name": "stdout",
     "output_type": "stream",
     "text": [
      "[11, 33, 44]\n"
     ]
    }
   ],
   "source": [
    "def find_common_elements(list1, list2):\n",
    "    common_elements = []\n",
    "    for element in list1:\n",
    "        if element in list2:\n",
    "            common_elements.append(element)\n",
    "    return common_elements\n",
    "\n",
    "lst1 = [11,22,33,44,55]\n",
    "lst2 = [33,44,11,65,78]\n",
    "print(find_common_elements(lst1,lst2))"
   ]
  },
  {
   "cell_type": "markdown",
   "id": "0b3174af-d1b0-465a-9d8e-dcac2e2749a7",
   "metadata": {},
   "source": [
    "# Qo 12"
   ]
  },
  {
   "cell_type": "code",
   "execution_count": 40,
   "id": "818aedde-4dfb-46df-83cf-46e641316239",
   "metadata": {},
   "outputs": [
    {
     "data": {
      "text/plain": [
       "True"
      ]
     },
     "execution_count": 40,
     "metadata": {},
     "output_type": "execute_result"
    }
   ],
   "source": [
    "def isAnagram(str1,str2):\n",
    "    str1n = str1.lower()\n",
    "    str2n = str2.lower()\n",
    "    for i in str1n:\n",
    "        if i not in str2n:\n",
    "            return False\n",
    "    return True\n",
    "\n",
    "lst1 = \"ravi\"\n",
    "lst2 = \"viar\"\n",
    "isAnagram(lst1,lst2)"
   ]
  },
  {
   "cell_type": "markdown",
   "id": "8fa1d8a2-dda8-4942-8fff-7133502e5c1f",
   "metadata": {},
   "source": [
    "# Qo 13"
   ]
  },
  {
   "cell_type": "code",
   "execution_count": 43,
   "id": "40d316b3-5ba0-4012-88f4-096676df2acc",
   "metadata": {},
   "outputs": [
    {
     "name": "stdin",
     "output_type": "stream",
     "text": [
      "Enter a string:  ravi\n"
     ]
    },
    {
     "name": "stdout",
     "output_type": "stream",
     "text": [
      "Permutations of ravi :\n",
      "ravi\n",
      "raiv\n",
      "rvai\n",
      "rvia\n",
      "riav\n",
      "riva\n",
      "arvi\n",
      "ariv\n",
      "avri\n",
      "avir\n",
      "airv\n",
      "aivr\n",
      "vrai\n",
      "vria\n",
      "vari\n",
      "vair\n",
      "vira\n",
      "viar\n",
      "irav\n",
      "irva\n",
      "iarv\n",
      "iavr\n",
      "ivra\n",
      "ivar\n"
     ]
    }
   ],
   "source": [
    "def generate_permutations(string):\n",
    "    # Base case: If the string is empty, return an empty list\n",
    "    if len(string) == 0:\n",
    "        return []\n",
    "\n",
    "    # Base case: If the string contains only one character, return the string itself as a single permutation\n",
    "    if len(string) == 1:\n",
    "        return [string]\n",
    "\n",
    "    # Recursive case:\n",
    "    permutations = []  # List to store permutations\n",
    "\n",
    "    for i in range(len(string)):\n",
    "        # Extract the current character\n",
    "        current_char = string[i]\n",
    "\n",
    "        # Generate all permutations of the remaining characters (excluding the current character)\n",
    "        remaining_chars = string[:i] + string[i + 1:]\n",
    "        sub_permutations = generate_permutations(remaining_chars)\n",
    "\n",
    "        # Add the current character to the beginning of each sub-permutation\n",
    "        for permutation in sub_permutations:\n",
    "            permutations.append(current_char + permutation)\n",
    "\n",
    "    return permutations\n",
    "\n",
    "\n",
    "# Test the function\n",
    "input_string = input(\"Enter a string: \")\n",
    "permutations = generate_permutations(input_string)\n",
    "\n",
    "print(\"Permutations of\", input_string, \":\")\n",
    "for permutation in permutations:\n",
    "    print(permutation)\n"
   ]
  },
  {
   "cell_type": "markdown",
   "id": "c4481e3f-080c-48c9-8edb-b7cbfdce9283",
   "metadata": {},
   "source": [
    "# Qo 14"
   ]
  },
  {
   "cell_type": "code",
   "execution_count": 46,
   "id": "586aa27b-a209-4a0d-9a91-937e5ea3255a",
   "metadata": {},
   "outputs": [
    {
     "data": {
      "text/plain": [
       "[0, 1, 1, 2, 3, 5, 8, 13, 21, 34]"
      ]
     },
     "execution_count": 46,
     "metadata": {},
     "output_type": "execute_result"
    }
   ],
   "source": [
    "def fibonaccciSeries(n):\n",
    "    series = [0,1]\n",
    "    pointer = 1\n",
    "    for i in range(n-2):\n",
    "        series.append(series[pointer]+series[pointer-1])\n",
    "        pointer += 1\n",
    "    return series\n",
    "    \n",
    "fibonaccciSeries(10)    "
   ]
  },
  {
   "cell_type": "markdown",
   "id": "523f7e8c-2d17-4ec0-8e33-e3c6b40a258b",
   "metadata": {},
   "source": [
    "# Qo 15"
   ]
  },
  {
   "cell_type": "code",
   "execution_count": 47,
   "id": "c7afbce5-f722-44a6-89af-30284052c018",
   "metadata": {},
   "outputs": [
    {
     "data": {
      "text/plain": [
       "5"
      ]
     },
     "execution_count": 47,
     "metadata": {},
     "output_type": "execute_result"
    }
   ],
   "source": [
    "def median(lst):\n",
    "    ascSort(lst)\n",
    "    mid_indx = len(lst)//2\n",
    "    if len(lst)//2 != 0:\n",
    "        return lst[mid_indx]+1\n",
    "    else:\n",
    "        return [lst[mid_indx],lst[mid_indx+1]]\n",
    "    \n",
    "lst = [3,2,4,1,6,7,2,9]\n",
    "median(lst)"
   ]
  },
  {
   "cell_type": "markdown",
   "id": "e0bdd554-f2ee-43e0-a5aa-ea97727e6eaf",
   "metadata": {},
   "source": [
    "# Qo 16"
   ]
  },
  {
   "cell_type": "code",
   "execution_count": 51,
   "id": "6b1440c4-7f52-4691-b8ac-cf6404bd5e5c",
   "metadata": {},
   "outputs": [
    {
     "data": {
      "text/plain": [
       "False"
      ]
     },
     "execution_count": 51,
     "metadata": {},
     "output_type": "execute_result"
    }
   ],
   "source": [
    "# Non-descendding\n",
    "def isNonDescending(lst):\n",
    "    for i in range(len(lst)-1):\n",
    "        if lst[i+1] < lst[i]:\n",
    "            return False\n",
    "    return True\n",
    "\n",
    "lst = [1,2,3,5,6,1,8]\n",
    "isNonDescending(lst)"
   ]
  },
  {
   "cell_type": "markdown",
   "id": "ba309fd1-58ad-4cda-9b19-06555cf48d2e",
   "metadata": {},
   "source": [
    "# Qo 17"
   ]
  },
  {
   "cell_type": "code",
   "execution_count": 53,
   "id": "62367c03-6016-4f16-b780-fbc666304fdc",
   "metadata": {},
   "outputs": [
    {
     "name": "stdin",
     "output_type": "stream",
     "text": [
      "Enter the elements of the first list, separated by spaces:  2,,3,4,6,1,3,6\n",
      "Enter the elements of the second list, separated by spaces:  7,5,3,6,2,5,4\n"
     ]
    },
    {
     "name": "stdout",
     "output_type": "stream",
     "text": [
      "Intersection: []\n"
     ]
    }
   ],
   "source": [
    "def find_intersection(list1, list2):\n",
    "    # Convert the lists to sets for efficient intersection operation\n",
    "    set1 = set(list1)\n",
    "    set2 = set(list2)\n",
    "\n",
    "    # Find the intersection of the two sets\n",
    "    intersection = set1.intersection(set2)\n",
    "\n",
    "    # Convert the intersection set back to a list\n",
    "    intersection_list = list(intersection)\n",
    "\n",
    "    return intersection_list\n",
    "\n",
    "\n",
    "# Test the function\n",
    "list1 = input(\"Enter the elements of the first list, separated by spaces: \").split()\n",
    "list2 = input(\"Enter the elements of the second list, separated by spaces: \").split()\n",
    "\n",
    "intersection = find_intersection(list1, list2)\n",
    "\n",
    "print(\"Intersection:\", intersection)\n"
   ]
  },
  {
   "cell_type": "markdown",
   "id": "252bb816-e035-4fe2-882f-0dc74fde0a8b",
   "metadata": {},
   "source": [
    "# Qo 18"
   ]
  },
  {
   "cell_type": "code",
   "execution_count": 54,
   "id": "11bd2336-42c0-4497-91ea-a1cfb7a92a96",
   "metadata": {},
   "outputs": [
    {
     "name": "stdin",
     "output_type": "stream",
     "text": [
      "Enter the elements of the list, separated by spaces:  1,4,8,3,2,6,1\n"
     ]
    },
    {
     "ename": "ValueError",
     "evalue": "invalid literal for int() with base 10: '1,4,8,3,2,6,1'",
     "output_type": "error",
     "traceback": [
      "\u001b[0;31m---------------------------------------------------------------------------\u001b[0m",
      "\u001b[0;31mValueError\u001b[0m                                Traceback (most recent call last)",
      "Cell \u001b[0;32mIn[54], line 17\u001b[0m\n\u001b[1;32m     13\u001b[0m     \u001b[38;5;28;01mreturn\u001b[39;00m max_sum\n\u001b[1;32m     16\u001b[0m \u001b[38;5;66;03m# Test the function\u001b[39;00m\n\u001b[0;32m---> 17\u001b[0m nums \u001b[38;5;241m=\u001b[39m \u001b[38;5;28;43mlist\u001b[39;49m\u001b[43m(\u001b[49m\u001b[38;5;28;43mmap\u001b[39;49m\u001b[43m(\u001b[49m\u001b[38;5;28;43mint\u001b[39;49m\u001b[43m,\u001b[49m\u001b[43m \u001b[49m\u001b[38;5;28;43minput\u001b[39;49m\u001b[43m(\u001b[49m\u001b[38;5;124;43m\"\u001b[39;49m\u001b[38;5;124;43mEnter the elements of the list, separated by spaces: \u001b[39;49m\u001b[38;5;124;43m\"\u001b[39;49m\u001b[43m)\u001b[49m\u001b[38;5;241;43m.\u001b[39;49m\u001b[43msplit\u001b[49m\u001b[43m(\u001b[49m\u001b[43m)\u001b[49m\u001b[43m)\u001b[49m\u001b[43m)\u001b[49m\n\u001b[1;32m     19\u001b[0m maximum_sum \u001b[38;5;241m=\u001b[39m find_maximum_subarray_sum(nums)\n\u001b[1;32m     21\u001b[0m \u001b[38;5;28mprint\u001b[39m(\u001b[38;5;124m\"\u001b[39m\u001b[38;5;124mMaximum Subarray Sum:\u001b[39m\u001b[38;5;124m\"\u001b[39m, maximum_sum)\n",
      "\u001b[0;31mValueError\u001b[0m: invalid literal for int() with base 10: '1,4,8,3,2,6,1'"
     ]
    }
   ],
   "source": [
    "def find_maximum_subarray_sum(nums):\n",
    "    current_sum = nums[0]  # Initialize the current sum to the first element\n",
    "    max_sum = nums[0]  # Initialize the maximum sum to the first element\n",
    "\n",
    "    # Iterate through the list starting from the second element\n",
    "    for i in range(1, len(nums)):\n",
    "        # Choose the maximum between the current element and the current element plus the previous sum\n",
    "        current_sum = max(nums[i], current_sum + nums[i])\n",
    "\n",
    "        # Update the maximum sum if the current sum is greater\n",
    "        max_sum = max(max_sum, current_sum)\n",
    "\n",
    "    return max_sum\n",
    "\n",
    "\n",
    "# Test the function\n",
    "nums = list(map(int, input(\"Enter the elements of the list, separated by spaces: \").split()))\n",
    "\n",
    "maximum_sum = find_maximum_subarray_sum(nums)\n",
    "\n",
    "print(\"Maximum Subarray Sum:\", maximum_sum)\n"
   ]
  },
  {
   "cell_type": "markdown",
   "id": "a3ca9811-e79b-462c-8d42-0cc14888c40f",
   "metadata": {},
   "source": [
    "# Qo 19"
   ]
  },
  {
   "cell_type": "code",
   "execution_count": 2,
   "id": "fd68500c-5590-4428-93b8-b91754d6f893",
   "metadata": {},
   "outputs": [
    {
     "data": {
      "text/plain": [
       "'RvPswn'"
      ]
     },
     "execution_count": 2,
     "metadata": {},
     "output_type": "execute_result"
    }
   ],
   "source": [
    "# remove vowels\n",
    "def removeVowels(strng):\n",
    "    str_list = list(strng)\n",
    "    vowels = ['a','e','i','o','u']\n",
    "    for i in str_list:\n",
    "        if i in vowels:\n",
    "            str_list.remove(i)\n",
    "    return ''.join(str_list)\n",
    "    \n",
    "s = \"RaviPaswan\"\n",
    "removeVowels(s)"
   ]
  },
  {
   "cell_type": "markdown",
   "id": "2a0562c8-e2ea-499c-a5ed-0d41fd127f05",
   "metadata": {},
   "source": [
    "# Qo 20"
   ]
  },
  {
   "cell_type": "code",
   "execution_count": 6,
   "id": "6f2cdfe8-29d7-465b-88c0-8681813ab16a",
   "metadata": {},
   "outputs": [
    {
     "name": "stdin",
     "output_type": "stream",
     "text": [
      "Enter a string: My Name is Ravi\n"
     ]
    },
    {
     "data": {
      "text/plain": [
       "'Ravi is Name My'"
      ]
     },
     "execution_count": 6,
     "metadata": {},
     "output_type": "execute_result"
    }
   ],
   "source": [
    "def reverseSentence(sent):\n",
    "    return ' '.join(sent.split(\" \")[::-1])\n",
    "\n",
    "s = input(\"Enter a string:\")\n",
    "reverseSentence(s)"
   ]
  },
  {
   "cell_type": "markdown",
   "id": "96f36a18-9204-4192-934e-48ead39e6bee",
   "metadata": {},
   "source": [
    "# Qo 21"
   ]
  },
  {
   "cell_type": "code",
   "execution_count": 7,
   "id": "b5fb05aa-af3a-4e4c-acf6-fff15d53ee20",
   "metadata": {},
   "outputs": [
    {
     "data": {
      "text/plain": [
       "True"
      ]
     },
     "execution_count": 7,
     "metadata": {},
     "output_type": "execute_result"
    }
   ],
   "source": [
    "def isAnagram(str1,str2):\n",
    "    str1n = str1.lower()\n",
    "    str2n = str2.lower()\n",
    "    for i in str1n:\n",
    "        if i not in str2n:\n",
    "            return False\n",
    "    return True\n",
    "\n",
    "lst1 = \"ravi\"\n",
    "lst2 = \"viar\"\n",
    "isAnagram(lst1,lst2)"
   ]
  },
  {
   "cell_type": "markdown",
   "id": "fc47aa0c-804e-4611-8d97-4b83286e59c4",
   "metadata": {},
   "source": [
    "# Qo 22"
   ]
  },
  {
   "cell_type": "code",
   "execution_count": 9,
   "id": "0c2b252f-131e-416f-9812-9c5dc1858ea8",
   "metadata": {},
   "outputs": [
    {
     "data": {
      "text/plain": [
       "'w'"
      ]
     },
     "execution_count": 9,
     "metadata": {},
     "output_type": "execute_result"
    }
   ],
   "source": [
    "def nonRptChar(s):\n",
    "    char_count = {}\n",
    "    for char in s:\n",
    "        if char in char_count:\n",
    "            char_count[char] += 1\n",
    "        else:\n",
    "            char_count[char] = 1\n",
    "    for char in s:\n",
    "        if char_count[char] == 1:\n",
    "            return char\n",
    "    return None\n",
    "s = \"adsdawcadas\"\n",
    "nonRptChar(s)"
   ]
  },
  {
   "cell_type": "markdown",
   "id": "973d7cd2-a9e2-444d-a1f9-0fc0f4166412",
   "metadata": {},
   "source": [
    "# Qo 23"
   ]
  },
  {
   "cell_type": "code",
   "execution_count": 11,
   "id": "688f247d-59b0-4010-b838-cc374711dc6d",
   "metadata": {},
   "outputs": [
    {
     "name": "stdout",
     "output_type": "stream",
     "text": [
      "[2, 2, 2, 2, 3]\n"
     ]
    }
   ],
   "source": [
    "def prime_factors(number):\n",
    "    factors = []\n",
    "    divisor = 2\n",
    "    \n",
    "    while divisor <= number:\n",
    "        if number % divisor == 0:\n",
    "            factors.append(divisor)\n",
    "            number = number / divisor\n",
    "        else:\n",
    "            divisor += 1\n",
    "    \n",
    "    return factors\n",
    "\n",
    "# Example usage\n",
    "num = 48\n",
    "result = prime_factors(num)\n",
    "print(result)  # Output: [2, 2, 2, 2, 3]\n",
    "\n",
    "\n"
   ]
  },
  {
   "cell_type": "markdown",
   "id": "fd84789b-9e55-4fc4-be57-ca3a620e2969",
   "metadata": {},
   "source": [
    "# Qo 24"
   ]
  },
  {
   "cell_type": "code",
   "execution_count": 12,
   "id": "2278baca-6ca6-4e7b-9355-14f3663eb500",
   "metadata": {},
   "outputs": [
    {
     "name": "stdout",
     "output_type": "stream",
     "text": [
      "True\n"
     ]
    }
   ],
   "source": [
    "def is_power_of_two(number):\n",
    "    if number <= 0:\n",
    "        return False\n",
    "    \n",
    "    while number > 1:\n",
    "        if number % 2 != 0:\n",
    "            return False\n",
    "        number = number / 2\n",
    "    \n",
    "    return True\n",
    "\n",
    "# Example usage\n",
    "num = 16\n",
    "result = is_power_of_two(num)\n",
    "print(result)  # Output: True\n"
   ]
  },
  {
   "cell_type": "markdown",
   "id": "463207f2-32e8-42a2-8650-ede1e39fd796",
   "metadata": {},
   "source": [
    "# Qo 25"
   ]
  },
  {
   "cell_type": "code",
   "execution_count": 14,
   "id": "aef604c4-f566-4821-92e9-25743b4d98a6",
   "metadata": {},
   "outputs": [
    {
     "name": "stdout",
     "output_type": "stream",
     "text": [
      "[1, 2, 3, 4, 5, 6, 7, 8]\n"
     ]
    }
   ],
   "source": [
    "def merge_sorted_lists(list1, list2):\n",
    "    merged_list = []\n",
    "    i = 0\n",
    "    j = 0\n",
    "    \n",
    "    while i < len(list1) and j < len(list2):\n",
    "        if list1[i] < list2[j]:\n",
    "            merged_list.append(list1[i])\n",
    "            i += 1\n",
    "        else:\n",
    "            merged_list.append(list2[j])\n",
    "            j += 1\n",
    "    \n",
    "    while i < len(list1):\n",
    "        merged_list.append(list1[i])\n",
    "        i += 1\n",
    "    \n",
    "    while j < len(list2):\n",
    "        merged_list.append(list2[j])\n",
    "        j += 1\n",
    "    \n",
    "    return merged_list\n",
    "\n",
    "# Example usage\n",
    "list1 = [1, 3, 5, 7]\n",
    "list2 = [2, 4, 6, 8]\n",
    "result = merge_sorted_lists(list1, list2)\n",
    "print(result)  # Output: [1, 2, 3, 4, 5, 6, 7, 8]\n"
   ]
  },
  {
   "cell_type": "markdown",
   "id": "0d37f66b-6d35-4180-9996-51cc853239e7",
   "metadata": {},
   "source": [
    "# Qo 26"
   ]
  },
  {
   "cell_type": "code",
   "execution_count": 15,
   "id": "c0f0dec3-b427-437d-861d-f08944177a7f",
   "metadata": {},
   "outputs": [
    {
     "name": "stdout",
     "output_type": "stream",
     "text": [
      "2\n"
     ]
    }
   ],
   "source": [
    "from collections import Counter\n",
    "\n",
    "def find_mode(numbers):\n",
    "    counts = Counter(numbers)\n",
    "    mode = max(counts, key=counts.get)\n",
    "    return mode\n",
    "\n",
    "# Example usage\n",
    "number_list = [1, 2, 3, 4, 2, 2, 5, 5, 5]\n",
    "result = find_mode(number_list)\n",
    "print(result)  # Output: 2\n"
   ]
  },
  {
   "cell_type": "markdown",
   "id": "1ddde8cd-6814-45cc-bcc8-5089a83b388e",
   "metadata": {},
   "source": [
    "# Qo 27"
   ]
  },
  {
   "cell_type": "code",
   "execution_count": 16,
   "id": "b981b6fe-2a94-486c-9167-a5af16710b74",
   "metadata": {},
   "outputs": [
    {
     "name": "stdout",
     "output_type": "stream",
     "text": [
      "12\n"
     ]
    }
   ],
   "source": [
    "def find_gcd(num1, num2):\n",
    "    while num2 != 0:\n",
    "        temp = num2\n",
    "        num2 = num1 % num2\n",
    "        num1 = temp\n",
    "    return num1\n",
    "\n",
    "# Example usage\n",
    "num1 = 48\n",
    "num2 = 60\n",
    "result = find_gcd(num1, num2)\n",
    "print(result)  # Output: 12\n"
   ]
  },
  {
   "cell_type": "markdown",
   "id": "28fcc707-967e-488c-b65c-abddb5b16925",
   "metadata": {},
   "source": [
    "# Qo 28"
   ]
  },
  {
   "cell_type": "code",
   "execution_count": 21,
   "id": "7fb35815-184d-4718-94c9-7026e9e53b78",
   "metadata": {},
   "outputs": [
    {
     "data": {
      "text/plain": [
       "2.0"
      ]
     },
     "execution_count": 21,
     "metadata": {},
     "output_type": "execute_result"
    }
   ],
   "source": [
    "def square_root(number):\n",
    "    if number < 0:\n",
    "        return None\n",
    "    \n",
    "    if number == 0 or number == 1:\n",
    "        return number\n",
    "    \n",
    "    # Initial guess for the square root\n",
    "    guess = number / 2\n",
    "    while True:\n",
    "        new_guess = (guess + number / guess) / 2\n",
    "        if abs(guess - new_guess) < 0.0001:\n",
    "            return new_guess\n",
    "\n",
    "square_root(4)"
   ]
  },
  {
   "cell_type": "markdown",
   "id": "f6d85c95-29f0-4fa4-ac64-a9db6b1ea901",
   "metadata": {},
   "source": [
    "# Qo 29"
   ]
  },
  {
   "cell_type": "code",
   "execution_count": 22,
   "id": "f103e778-715d-47f5-aa9f-aa89de6e9326",
   "metadata": {},
   "outputs": [
    {
     "name": "stdout",
     "output_type": "stream",
     "text": [
      "True\n"
     ]
    }
   ],
   "source": [
    "import re\n",
    "\n",
    "def is_valid_palindrome(string):\n",
    "    # Remove non-alphanumeric characters and convert to lowercase\n",
    "    clean_string = re.sub(r'[^a-zA-Z0-9]', '', string).lower()\n",
    "    \n",
    "    # Check if the cleaned string is equal to its reverse\n",
    "    return clean_string == clean_string[::-1]\n",
    "\n",
    "# Example usage\n",
    "my_string = \"A man, a plan, a canal: Panama\"\n",
    "result = is_valid_palindrome(my_string)\n",
    "print(result)  # Output: True\n"
   ]
  },
  {
   "cell_type": "markdown",
   "id": "828d3c62-ea43-4ad7-b2a0-4d29b2bc7f7d",
   "metadata": {},
   "source": [
    "# Qo 30"
   ]
  },
  {
   "cell_type": "code",
   "execution_count": 23,
   "id": "7018bf4b-e2c3-4f1a-961b-6e935c70365f",
   "metadata": {},
   "outputs": [
    {
     "name": "stdout",
     "output_type": "stream",
     "text": [
      "0\n"
     ]
    }
   ],
   "source": [
    "def find_minimum_in_rotated_list(nums):\n",
    "    left = 0\n",
    "    right = len(nums) - 1\n",
    "    \n",
    "    while left < right:\n",
    "        mid = left + (right - left) // 2\n",
    "        \n",
    "        # If the middle element is greater than the rightmost element, the minimum is on the right side\n",
    "        if nums[mid] > nums[right]:\n",
    "            left = mid + 1\n",
    "        \n",
    "        # If the middle element is smaller than the rightmost element, the minimum is on the left side or is the middle element\n",
    "        else:\n",
    "            right = mid\n",
    "    \n",
    "    return nums[left]\n",
    "\n",
    "# Example usage\n",
    "rotated_list = [4, 5, 6, 7, 0, 1, 2]\n",
    "result = find_minimum_in_rotated_list(rotated_list)\n",
    "print(result)  # Output: 0\n"
   ]
  },
  {
   "cell_type": "markdown",
   "id": "5912777c-034e-4700-a912-58bbf1fe69cb",
   "metadata": {},
   "source": [
    "# Qo 31"
   ]
  },
  {
   "cell_type": "code",
   "execution_count": 24,
   "id": "8d6fb1a7-f44a-487f-afee-24b06cae2cc3",
   "metadata": {},
   "outputs": [
    {
     "name": "stdout",
     "output_type": "stream",
     "text": [
      "30\n"
     ]
    }
   ],
   "source": [
    "def sum_of_even_numbers(numbers):\n",
    "    return sum(num for num in numbers if num % 2 == 0)\n",
    "\n",
    "# Example usage\n",
    "number_list = [1, 2, 3, 4, 5, 6, 7, 8, 9, 10]\n",
    "result = sum_of_even_numbers(number_list)\n",
    "print(result)  # Output: 30\n"
   ]
  },
  {
   "cell_type": "markdown",
   "id": "04728da8-262f-4237-b450-afdec4166d19",
   "metadata": {},
   "source": [
    "# Qo 32"
   ]
  },
  {
   "cell_type": "code",
   "execution_count": 25,
   "id": "3cc24698-69b9-4e87-bb99-4df046489430",
   "metadata": {},
   "outputs": [
    {
     "name": "stdout",
     "output_type": "stream",
     "text": [
      "8\n"
     ]
    }
   ],
   "source": [
    "def power(base, exponent):\n",
    "    if exponent == 0:\n",
    "        return 1\n",
    "    elif exponent < 0:\n",
    "        return 1 / power(base, -exponent)\n",
    "    else:\n",
    "        return base * power(base, exponent - 1)\n",
    "\n",
    "# Example usage\n",
    "base = 2\n",
    "exponent = 3\n",
    "result = power(base, exponent)\n",
    "print(result)  # Output: 8\n"
   ]
  },
  {
   "cell_type": "markdown",
   "id": "86f601d6-6e8d-4598-b8eb-3308883c7f81",
   "metadata": {},
   "source": [
    "# Qo 33"
   ]
  },
  {
   "cell_type": "code",
   "execution_count": 27,
   "id": "10b97194-ee59-472a-a1c4-4e7a730779f9",
   "metadata": {},
   "outputs": [
    {
     "name": "stdout",
     "output_type": "stream",
     "text": [
      "[1, 2, 3, 4, 5, 6]\n"
     ]
    }
   ],
   "source": [
    "def remove_duplicates_preserve_order(lst):\n",
    "    seen = set()\n",
    "    return [x for x in lst if not (x in seen or seen.add(x))]\n",
    "\n",
    "# Example usage\n",
    "my_list = [1, 2, 3, 2, 4, 1, 5, 6, 5]\n",
    "result = remove_duplicates_preserve_order(my_list)\n",
    "print(result)  # Output: [1, 2, 3, 4, 5, 6]\n"
   ]
  },
  {
   "cell_type": "markdown",
   "id": "eb7d594b-1c84-48b6-b8ad-049825f63cb7",
   "metadata": {},
   "source": [
    "# Qo 34"
   ]
  },
  {
   "cell_type": "code",
   "execution_count": 28,
   "id": "0af6a2fb-a866-44b8-8ac0-c58854d3e6ca",
   "metadata": {},
   "outputs": [],
   "source": [
    "def find_longest_common_prefix(strings):\n",
    "    if not strings:\n",
    "        return \"\"\n",
    "    \n",
    "    shortest = min(strings, key=len)\n",
    "    \n",
    "    for i, char in enumerate(shortest):\n",
    "        for string in strings:\n",
    "            if string[i] != char:\n",
    "                return shortest[:i]\n",
    "    \n",
    "    return shortest\n",
    "\n",
    "# Example usage\n",
    "string_list = [\"flower\", \"flow\", \"flight\"]\n",
    "result = find_longest_common_prefix(string_list)\n"
   ]
  },
  {
   "cell_type": "markdown",
   "id": "c356c494-5b03-4796-9276-48e2fe8e6c93",
   "metadata": {},
   "source": [
    "# Qo 35"
   ]
  },
  {
   "cell_type": "code",
   "execution_count": 29,
   "id": "e500b262-da56-4199-9492-fea48d8ccb3f",
   "metadata": {},
   "outputs": [
    {
     "name": "stdout",
     "output_type": "stream",
     "text": [
      "True\n"
     ]
    }
   ],
   "source": [
    "def is_perfect_square(number):\n",
    "    if number < 0:\n",
    "        return False\n",
    "    \n",
    "    if number == 0 or number == 1:\n",
    "        return True\n",
    "    \n",
    "    # Use binary search to find the square root\n",
    "    left = 1\n",
    "    right = number // 2\n",
    "    \n",
    "    while left <= right:\n",
    "        mid = left + (right - left) // 2\n",
    "        square = mid * mid\n",
    "        \n",
    "        if square == number:\n",
    "            return True\n",
    "        elif square < number:\n",
    "            left = mid + 1\n",
    "        else:\n",
    "            right = mid - 1\n",
    "    \n",
    "    return False\n",
    "\n",
    "# Example usage\n",
    "num = 25\n",
    "result = is_perfect_square(num)\n",
    "print(result)  # Output: True\n"
   ]
  },
  {
   "cell_type": "markdown",
   "id": "ebfc4b22-ec6a-4d13-9826-c6329806650e",
   "metadata": {},
   "source": [
    "# Qo 36"
   ]
  },
  {
   "cell_type": "code",
   "execution_count": 31,
   "id": "8b79193b-47b3-4cfc-bcf4-9b0efeeef5ec",
   "metadata": {},
   "outputs": [
    {
     "name": "stdout",
     "output_type": "stream",
     "text": [
      "120\n"
     ]
    }
   ],
   "source": [
    "from functools import reduce\n",
    "import operator\n",
    "\n",
    "def calculate_product(numbers):\n",
    "    return reduce(operator.mul, numbers, 1)\n",
    "\n",
    "# Example usage\n",
    "number_list = [1, 2, 3, 4, 5]\n",
    "result = calculate_product(number_list)\n",
    "print(result)  # Output: 120\n"
   ]
  },
  {
   "cell_type": "markdown",
   "id": "2bf182f5-43f9-40b7-93d8-44f91c613cde",
   "metadata": {},
   "source": [
    "# Qo 37"
   ]
  },
  {
   "cell_type": "code",
   "execution_count": 32,
   "id": "fa5592b4-9fa3-43bf-a303-8fc169092e60",
   "metadata": {},
   "outputs": [
    {
     "name": "stdout",
     "output_type": "stream",
     "text": [
      "you? are how Hello,\n"
     ]
    }
   ],
   "source": [
    "def reverse_words(sentence):\n",
    "    words = sentence.split()\n",
    "    reversed_sentence = \" \".join(words[::-1])\n",
    "    return reversed_sentence\n",
    "\n",
    "# Example usage\n",
    "my_sentence = \"Hello, how are you?\"\n",
    "result = reverse_words(my_sentence)\n",
    "print(result)  # Output: \"you? are how Hello,\"\n"
   ]
  },
  {
   "cell_type": "markdown",
   "id": "43e4d918-38e8-4bc4-8071-046aa82cc396",
   "metadata": {},
   "source": [
    "# Qo 38"
   ]
  },
  {
   "cell_type": "code",
   "execution_count": 33,
   "id": "da80cc52-f6fc-4c3f-86b5-37b25a78206a",
   "metadata": {},
   "outputs": [
    {
     "name": "stdout",
     "output_type": "stream",
     "text": [
      "3\n"
     ]
    }
   ],
   "source": [
    "def find_missing_number(numbers):\n",
    "    n = len(numbers) + 1\n",
    "    total_sum = n * (n + 1) // 2\n",
    "    actual_sum = sum(numbers)\n",
    "    missing_number = total_sum - actual_sum\n",
    "    return missing_number\n",
    "\n",
    "# Example usage\n",
    "number_list = [1, 2, 4, 5, 6]\n",
    "result = find_missing_number(number_list)\n",
    "print(result)  # Output: 3\n"
   ]
  },
  {
   "cell_type": "markdown",
   "id": "0887b7eb-7f1a-4328-bf9d-f1f9be63bd04",
   "metadata": {},
   "source": [
    "# Qo 39"
   ]
  },
  {
   "cell_type": "code",
   "execution_count": 34,
   "id": "c0639438-4657-4ea9-aaa6-72105522353a",
   "metadata": {},
   "outputs": [
    {
     "name": "stdout",
     "output_type": "stream",
     "text": [
      "15\n"
     ]
    }
   ],
   "source": [
    "def sum_of_digits(number):\n",
    "    digit_sum = 0\n",
    "    while number > 0:\n",
    "        digit = number % 10\n",
    "        digit_sum += digit\n",
    "        number //= 10\n",
    "    return digit_sum\n",
    "\n",
    "# Example usage\n",
    "num = 12345\n",
    "result = sum_of_digits(num)\n",
    "print(result)  # Output: 15\n"
   ]
  },
  {
   "cell_type": "code",
   "execution_count": null,
   "id": "d9416159-b56d-458c-8f68-d79bb8c67919",
   "metadata": {},
   "outputs": [],
   "source": []
  }
 ],
 "metadata": {
  "kernelspec": {
   "display_name": "Python 3 (ipykernel)",
   "language": "python",
   "name": "python3"
  },
  "language_info": {
   "codemirror_mode": {
    "name": "ipython",
    "version": 3
   },
   "file_extension": ".py",
   "mimetype": "text/x-python",
   "name": "python",
   "nbconvert_exporter": "python",
   "pygments_lexer": "ipython3",
   "version": "3.10.8"
  }
 },
 "nbformat": 4,
 "nbformat_minor": 5
}
