{
 "cells": [
  {
   "cell_type": "markdown",
   "id": "97a0ec5f-b8a6-47de-b66f-1d451d667990",
   "metadata": {},
   "source": [
    "# Qo 01"
   ]
  },
  {
   "cell_type": "markdown",
   "id": "92c08e5e-28aa-4dcf-a92e-1e3d9a4c29ae",
   "metadata": {},
   "source": [
    "### Which function is used to open a file? What are the different modes of opening a file? Explain each mode of file opening."
   ]
  },
  {
   "cell_type": "markdown",
   "id": "91f83d9c-f08b-4ecb-a5b1-f259c9bba8d3",
   "metadata": {},
   "source": [
    "The open() function is used to open a file ,it takes two parameters. One is the filename and second is the file mode in which we want to open the file.\n",
    "There are four diffrent modes in which we cam open a file \n",
    "\"r\" - Read - Default value. Opens a file for reading, error if the file does not exist\n",
    "\"a\" - Append - Opens a file for appending, creates the file if it does not   exist\n",
    "\"w\" - Write - Opens a file for writing, creates the file if it does not exist\n",
    "\"x\" - Create - Creates the specified file, returns an error if the file exists"
   ]
  },
  {
   "cell_type": "markdown",
   "id": "8ccc8b70-7a8f-45c8-9805-c8402d58c6c9",
   "metadata": {},
   "source": [
    "# Qo 02"
   ]
  },
  {
   "cell_type": "markdown",
   "id": "e9c3e9f1-5052-4a75-af86-e89e0fdd2ac8",
   "metadata": {},
   "source": [
    "### Why close() function is used? Why is it important to close a file?"
   ]
  },
  {
   "cell_type": "markdown",
   "id": "3045a64d-4182-4291-999c-43a1bdaa44b6",
   "metadata": {},
   "source": [
    "The `close()` function is used to close a file that has been opened in a program. It is important to close a file for several reasons:\n",
    "\n",
    "1. Resource Management: When a file is opened, system resources, such as memory and file descriptors, are allocated to handle the file operations. If the file is not closed properly, these resources may remain allocated, leading to resource leakage and potential resource exhaustion issues. By closing the file, the operating system can reclaim those resources, ensuring efficient resource management.\n",
    "\n",
    "2. Data Integrity: Closing a file ensures that all the data that was intended to be written or read from the file is properly flushed or saved. When you write data to a file, it is often buffered in memory until a certain threshold is reached or until the file is closed. If the file is not closed, the buffered data may not be written to the disk, leading to data loss or incomplete data. Similarly, when you read data from a file, closing it ensures that all the data has been read and that you have finished accessing it.\n",
    "\n",
    "3. File Locks: In some operating systems, when a file is opened, it may be locked by the process that opened it, preventing other processes from modifying or accessing it. By closing the file, the lock is released, allowing other processes to work with the file.\n",
    "\n",
    "4. Preventing File Corruption: If a file is not properly closed and the program terminates abruptly, the file may become corrupted. This can happen if there are pending write operations or if the file structure is not properly finalized. Closing the file ensures that it is left in a consistent state, reducing the risk of file corruption.\n",
    "\n",
    "In summary, closing a file with the `close()` function is important for releasing system resources, ensuring data integrity, allowing other processes to access the file, and preventing file corruption. It is good practice to always close files properly after you have finished working with them in order to avoid potential issues."
   ]
  },
  {
   "cell_type": "markdown",
   "id": "5cbd66e2-b00b-4491-af22-78e1a53a1560",
   "metadata": {},
   "source": [
    "# Qo 03"
   ]
  },
  {
   "cell_type": "markdown",
   "id": "988acd90-1984-44d2-8552-8be2b213cb17",
   "metadata": {},
   "source": [
    "### Write a python program to create a text file. Write ‘I want to become a Data Scientist’ in that file. Then close the file. Open this file and read the content of the file."
   ]
  },
  {
   "cell_type": "code",
   "execution_count": 3,
   "id": "242ea7c9-9c02-486b-8dcb-fd860e92fa1f",
   "metadata": {},
   "outputs": [
    {
     "name": "stdout",
     "output_type": "stream",
     "text": [
      "I want to beccome a Data Scientist\n"
     ]
    }
   ],
   "source": [
    "with open(\"new_file.txt\",'w') as file:\n",
    "\tfile.write(\"I want to beccome a Data Scientist\")\n",
    "    \n",
    "with open(\"new_file.txt\",\"r\") as file:\n",
    "    print(file.read())"
   ]
  },
  {
   "cell_type": "markdown",
   "id": "c1caa9b7-2f0d-41be-a378-6b30bcf02648",
   "metadata": {},
   "source": [
    "# Qo 04"
   ]
  },
  {
   "cell_type": "markdown",
   "id": "ba978a3a-e86e-4976-919b-7265497f9724",
   "metadata": {},
   "source": [
    "### Explain the following with python code: read(), readline() and readlines()."
   ]
  },
  {
   "cell_type": "markdown",
   "id": "9ae4df80-2bb2-44b8-99bc-d4fadb32febe",
   "metadata": {},
   "source": [
    "read(): The read() method is used to read the entire content of a file as a single string. It reads from the current position in the file until the end of the file. \n",
    "\n",
    "readline(): The readline() method is used to read a single line from a file. It reads from the current position in the file until it encounters a newline character ('\\n') or reaches the end of the file\n",
    "\n",
    "readlines(): The readlines() method is used to read all the lines of a file and return them as a list of strings. Each element in the list represents a line from the file"
   ]
  },
  {
   "cell_type": "markdown",
   "id": "efaddb96-3d2c-4edc-a9a8-a36f7b68b0dd",
   "metadata": {},
   "source": [
    "# Qo 05"
   ]
  },
  {
   "cell_type": "markdown",
   "id": "95ada1d6-c6b7-4149-9b2d-77b56e178313",
   "metadata": {},
   "source": [
    "### Explain why with statement is used with open(). What is the advantage of using with statement and open() together?"
   ]
  },
  {
   "cell_type": "markdown",
   "id": "4827e43f-27f9-42ca-adc8-aa1bd458cada",
   "metadata": {},
   "source": [
    "The `with` statement in Python is used in conjunction with the `open()` function to ensure proper management of resources, particularly when working with files. It provides a convenient way to open and automatically close the file, regardless of any exceptions or errors that may occur during the execution of the code.\n",
    "\n",
    "The advantage of using the `with` statement with `open()` includes:\n",
    "\n",
    "1. Automatic Resource Cleanup: When you use the `with` statement, it automatically takes care of closing the file for you. Once the code block inside the `with` statement is executed, whether it completes normally or encounters an exception, the file is guaranteed to be closed. This ensures proper cleanup of system resources, preventing resource leaks and promoting efficient resource management.\n",
    "\n",
    "2. Exception Handling: The `with` statement provides a built-in mechanism for handling exceptions. If an exception occurs within the code block, the `with` statement automatically handles the exception and ensures the file is closed properly. This helps to prevent unhandled exceptions from causing the file to remain open, which could lead to data corruption or other issues.\n",
    "\n",
    "3. Cleaner Code: By using the `with` statement, you can write more concise and readable code. It eliminates the need for explicit `close()` calls and reduces the chances of accidentally forgetting to close the file.\n",
    "\n",
    "Here's an example that demonstrates the usage of `with` statement with `open()`:\n",
    "\n",
    "```python\n",
    "with open(\"example.txt\", \"r\") as file:\n",
    "    content = file.read()\n",
    "    print(content)\n",
    "```\n",
    "\n",
    "In this example, the `with` statement is used with `open()` to open the file \"example.txt\" in read mode. The `file` object represents the opened file, and it is automatically closed when the code block inside the `with` statement is executed.\n",
    "\n",
    "In summary, the `with` statement in combination with `open()` provides a more convenient and safer way to work with files. It ensures proper resource cleanup, handles exceptions effectively, and results in cleaner code that is easier to read and maintain."
   ]
  },
  {
   "cell_type": "code",
   "execution_count": null,
   "id": "d8d8e78f-1893-4da8-83f1-3db95a94e117",
   "metadata": {},
   "outputs": [],
   "source": [
    "# Qo 05"
   ]
  }
 ],
 "metadata": {
  "kernelspec": {
   "display_name": "Python 3 (ipykernel)",
   "language": "python",
   "name": "python3"
  },
  "language_info": {
   "codemirror_mode": {
    "name": "ipython",
    "version": 3
   },
   "file_extension": ".py",
   "mimetype": "text/x-python",
   "name": "python",
   "nbconvert_exporter": "python",
   "pygments_lexer": "ipython3",
   "version": "3.10.8"
  }
 },
 "nbformat": 4,
 "nbformat_minor": 5
}
