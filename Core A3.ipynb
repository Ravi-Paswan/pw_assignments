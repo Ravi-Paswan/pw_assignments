{
 "cells": [
  {
   "cell_type": "markdown",
   "id": "5a78c9fc-651f-41f4-aa0d-36a2aecca589",
   "metadata": {},
   "source": [
    "# Qo 01"
   ]
  },
  {
   "cell_type": "markdown",
   "id": "755fb619-a5ba-4591-8506-2bbcc527a15f",
   "metadata": {},
   "source": [
    "Scenario: A company wants to analyze the sales performance of its products in different regions. They have collected the following data:\n",
    "   Region A: [10, 15, 12, 8, 14]\n",
    "   Region B: [18, 20, 16, 22, 25]\n",
    "   Calculate the mean sales for each region.\n"
   ]
  },
  {
   "cell_type": "code",
   "execution_count": 4,
   "id": "8b0ac618-1e8f-4cbf-88b5-b48d68b6ba28",
   "metadata": {},
   "outputs": [
    {
     "name": "stdout",
     "output_type": "stream",
     "text": [
      "Mean sales for region A: 11.8\n",
      "Mean sales for region B: 20.2\n"
     ]
    }
   ],
   "source": [
    "import numpy as np\n",
    "A = np.array([10,15,12,8,14])\n",
    "B  = np.array([18,20,16,22,25])\n",
    "print(f\"Mean sales for region A: {A.mean()}\")\n",
    "print(f\"Mean sales for region B: {B.mean()}\")"
   ]
  },
  {
   "cell_type": "markdown",
   "id": "31e09d16-5a67-43da-8de6-69667f13b9b1",
   "metadata": {},
   "source": [
    "# Qo 02"
   ]
  },
  {
   "cell_type": "markdown",
   "id": "04f42a62-dc0c-4416-a584-8765bbf12c33",
   "metadata": {},
   "source": [
    " Scenario: A survey is conducted to measure customer satisfaction on a scale of 1 to 5. The data collected is as follows:\n",
    "   [4, 5, 2, 3, 5, 4, 3, 2, 4, 5]\n",
    "   Calculate the mode of the survey responses.\n"
   ]
  },
  {
   "cell_type": "code",
   "execution_count": 6,
   "id": "44f7cc8f-f515-43f1-8227-3ccdc0a3ef54",
   "metadata": {},
   "outputs": [
    {
     "name": "stdout",
     "output_type": "stream",
     "text": [
      "The mode of survey is ModeResult(mode=array([4]), count=array([3]))\n"
     ]
    },
    {
     "name": "stderr",
     "output_type": "stream",
     "text": [
      "/tmp/ipykernel_104/628137423.py:3: FutureWarning: Unlike other reduction functions (e.g. `skew`, `kurtosis`), the default behavior of `mode` typically preserves the axis it acts along. In SciPy 1.11.0, this behavior will change: the default value of `keepdims` will become False, the `axis` over which the statistic is taken will be eliminated, and the value None will no longer be accepted. Set `keepdims` to True or False to avoid this warning.\n",
      "  print(f\"The mode of survey is {stats.mode(surv)}\")\n"
     ]
    }
   ],
   "source": [
    "from scipy import stats\n",
    "surv = np.array([4, 5, 2, 3, 5, 4, 3, 2, 4, 5])\n",
    "print(f\"The mode of survey is {stats.mode(surv)}\")"
   ]
  },
  {
   "cell_type": "markdown",
   "id": "c26f161d-d2d0-4853-b05b-f5168053f050",
   "metadata": {},
   "source": [
    "# Qo 03"
   ]
  },
  {
   "cell_type": "markdown",
   "id": "90faf3ce-000b-420a-b128-f9ca2d410f72",
   "metadata": {},
   "source": [
    "Scenario: A company wants to compare the salaries of two departments. The salary data for Department A and Department B are as follows:\n",
    "*   Department A: [5000, 6000, 5500, 7000]\n",
    "*  Department B: [4500, 5500, 5800, 6000, 5200]\n",
    "* Calculate the median salary for each department.\n"
   ]
  },
  {
   "cell_type": "code",
   "execution_count": 12,
   "id": "8f569833-15d2-4362-928f-3208d7bd96fe",
   "metadata": {},
   "outputs": [
    {
     "name": "stdout",
     "output_type": "stream",
     "text": [
      "The median salary of department A is 5750.0\n",
      "The median salary of department A is 5500\n"
     ]
    }
   ],
   "source": [
    "import statistics as sts\n",
    "dept_a = np.array([5000, 6000, 5500, 7000])\n",
    "dept_b = np.array([4500, 5500, 5800, 6000, 5200])\n",
    "print(f\"The median salary of department A is {sts.median(dept_a)}\")\n",
    "print(f\"The median salary of department A is {sts.median(dept_b)}\")"
   ]
  },
  {
   "cell_type": "markdown",
   "id": "151d6444-941d-4f38-a2ca-8fe7a86e8d83",
   "metadata": {},
   "source": [
    "# Qo 04"
   ]
  },
  {
   "cell_type": "markdown",
   "id": "2b077902-e454-4162-8936-45ca7180245c",
   "metadata": {},
   "source": [
    "Scenario: A data analyst wants to determine the variability in the daily stock prices of a company. The data collected is as follows:\n",
    "*   [25.5, 24.8, 26.1, 25.3, 24.9]\n",
    "*   Calculate the range of the stock prices.\n"
   ]
  },
  {
   "cell_type": "code",
   "execution_count": 17,
   "id": "2c2b64bd-2c20-4c4b-be17-005e9fef2cfa",
   "metadata": {},
   "outputs": [
    {
     "name": "stdout",
     "output_type": "stream",
     "text": [
      "The range of stock prices is 24.8 - 26.1\n"
     ]
    }
   ],
   "source": [
    "price = np.array([25.5, 24.8, 26.1, 25.3, 24.9])\n",
    "print(f\"The range of stock prices is {price.min()} - {price.max()}\")"
   ]
  },
  {
   "cell_type": "markdown",
   "id": "77c6d386-668b-4f56-8859-e147f220c2c2",
   "metadata": {},
   "source": [
    "# Qo 05"
   ]
  },
  {
   "cell_type": "markdown",
   "id": "8b483036-ca27-4f4a-a836-210da4e18bfc",
   "metadata": {},
   "source": [
    "Scenario: A study is conducted to compare the performance of two different teaching methods. The test scores of the students in each group are as follows:\n",
    "*   Group A: [85, 90, 92, 88, 91]\n",
    "*   Group B: [82, 88, 90, 86, 87]\n",
    "*   Perform a t-test to determine if there is a significant difference in the mean scores between the two groups.\n",
    "\n",
    "\n"
   ]
  },
  {
   "cell_type": "code",
   "execution_count": 21,
   "id": "0df2ec79-b70c-4a56-8029-e5c3bde92437",
   "metadata": {},
   "outputs": [
    {
     "name": "stdout",
     "output_type": "stream",
     "text": [
      "we fail to reject the null hypothesis\n",
      "There is no significant change in the mean scores\n"
     ]
    }
   ],
   "source": [
    "#Null Hypothesis : Means are equal\n",
    "#Alternative Hypothesis : Means are not equal\n",
    "\n",
    "import scipy.stats as stats\n",
    " \n",
    "# Creating data groups\n",
    "data_group1 = np.array([85, 90, 92, 88, 91])\n",
    " \n",
    "data_group2 = np.array([82, 88, 90, 86, 87])\n",
    "\n",
    "significant_value = 0.05\n",
    "# Perform the two sample t-test with equal variances\n",
    "stats ,p_value = stats.ttest_ind(a=data_group1, b=data_group2, equal_var=True)\n",
    "\n",
    "if p_value > significant_value:\n",
    "    print(\"we fail to reject the null hypothesis\")\n",
    "    print(\"There is no significant change in the mean scores\")\n",
    "else:\n",
    "    print(\"we reject the null hypotheis\")\n",
    "    print(\"There is a significant change in the mean scores\")"
   ]
  },
  {
   "cell_type": "markdown",
   "id": "a1490fec-c7ca-44a2-9146-0dcde0945ef8",
   "metadata": {},
   "source": [
    "# Qo 06"
   ]
  },
  {
   "cell_type": "markdown",
   "id": "b55fadbe-3995-468a-878e-3fe2194d9262",
   "metadata": {},
   "source": [
    "Scenario: A company wants to analyze the relationship between advertising expenditure and sales. The data collected is as follows:\n",
    "*   Advertising Expenditure (in thousands): [10, 15, 12, 8, 14]\n",
    "*  Sales (in thousands): [25, 30, 28, 20, 26]\n",
    "*  Calculate the correlation coefficient between advertising expenditure and sales.\n"
   ]
  },
  {
   "cell_type": "code",
   "execution_count": 26,
   "id": "490bf69b-7fd5-4240-91a3-84eddf9fbffa",
   "metadata": {},
   "outputs": [
    {
     "data": {
      "text/plain": [
       "0.8757511375750132"
      ]
     },
     "execution_count": 26,
     "metadata": {},
     "output_type": "execute_result"
    }
   ],
   "source": [
    "expd = np.array([10, 15, 12, 8, 14])\n",
    "sales = np.array([25, 30, 28, 20, 26])\n",
    "np.corrcoef(expd,sales)[0,1]"
   ]
  },
  {
   "cell_type": "markdown",
   "id": "8b2ef93e-611f-40e2-8dd9-3c6856f112b4",
   "metadata": {},
   "source": [
    "# Qo 07"
   ]
  },
  {
   "cell_type": "markdown",
   "id": "8e15217a-4875-46e8-b3c2-cc26f58c8666",
   "metadata": {},
   "source": [
    "Scenario: A survey is conducted to measure the heights of a group of people. The data collected is as follows:\n",
    "*   [160, 170, 165, 155, 175, 180, 170]\n",
    "*   Calculate the standard deviation of the heights.\n"
   ]
  },
  {
   "cell_type": "code",
   "execution_count": 29,
   "id": "91bb91ab-b423-48ec-b327-1106459479e3",
   "metadata": {},
   "outputs": [
    {
     "name": "stdout",
     "output_type": "stream",
     "text": [
      "The standard deviation of the heights data is 7.95\n"
     ]
    }
   ],
   "source": [
    "heights = np.array([160, 170, 165, 155, 175, 180, 170])\n",
    "print(f\"The standard deviation of the heights data is {round(heights.std(),2)}\")"
   ]
  },
  {
   "cell_type": "markdown",
   "id": "9d519eb4-ac11-431f-a344-9fba67029c9d",
   "metadata": {},
   "source": [
    "# Qo 08"
   ]
  },
  {
   "cell_type": "markdown",
   "id": "054f18f4-5c58-4987-b1d4-943e4f5f37eb",
   "metadata": {},
   "source": [
    " Scenario: A company wants to analyze the relationship between employee tenure and job satisfaction. The data collected is as follows:\n",
    "*   Employee Tenure (in years): [2, 3, 5, 4, 6, 2, 4]\n",
    "*   Job Satisfaction (on a scale of 1 to 10): [7, 8, 6, 9, 5, 7, 6]\n",
    "*   Perform a linear regression analysis to predict job satisfaction based on employee tenure.\n",
    "        "
   ]
  },
  {
   "cell_type": "code",
   "execution_count": 30,
   "id": "816a8c6d-949b-4a8e-86dc-60dd16d088ce",
   "metadata": {},
   "outputs": [
    {
     "name": "stdout",
     "output_type": "stream",
     "text": [
      "Slope: -0.4680851063829786\n",
      "Intercept: 8.595744680851062\n",
      "Predicted Job Satisfaction: 6.957446808510637\n"
     ]
    }
   ],
   "source": [
    "from sklearn.linear_model import LinearRegression\n",
    "\n",
    "# Employee Tenure (in years)\n",
    "employee_tenure = np.array([2, 3, 5, 4, 6, 2, 4]).reshape(-1, 1)\n",
    "\n",
    "# Job Satisfaction (on a scale of 1 to 10)\n",
    "job_satisfaction = np.array([7, 8, 6, 9, 5, 7, 6])\n",
    "\n",
    "# Create a linear regression model\n",
    "model = LinearRegression()\n",
    "\n",
    "# Fit the model using the employee tenure and job satisfaction data\n",
    "model.fit(employee_tenure, job_satisfaction)\n",
    "\n",
    "# Predict job satisfaction for a given employee tenure\n",
    "new_employee_tenure = np.array([[3.5]])  # Example: predicting job satisfaction for an employee with 3.5 years of tenure\n",
    "predicted_job_satisfaction = model.predict(new_employee_tenure)\n",
    "\n",
    "# Print the coefficients (slope and intercept)\n",
    "slope = model.coef_[0]\n",
    "intercept = model.intercept_\n",
    "print(\"Slope:\", slope)\n",
    "print(\"Intercept:\", intercept)\n",
    "\n",
    "# Print the predicted job satisfaction\n",
    "print(\"Predicted Job Satisfaction:\", predicted_job_satisfaction[0])\n"
   ]
  },
  {
   "cell_type": "markdown",
   "id": "45e42f91-923e-4490-b90b-c16c137c5bf4",
   "metadata": {},
   "source": [
    "# Qo 09"
   ]
  },
  {
   "cell_type": "markdown",
   "id": "c8c6e28a-8410-45af-b7b7-a9c829660a0d",
   "metadata": {},
   "source": [
    "Scenario: A study is conducted to compare the effectiveness of two different medications. The recovery times of the patients in each group are as follows:\n",
    "*   Medication A: [10, 12, 14, 11, 13]\n",
    "*   Medication B: [15, 17, 16, 14, 18]\n",
    "*   Perform an analysis of variance (ANOVA) to determine if there is a significant difference in the mean recovery times between the two medications.\n"
   ]
  },
  {
   "cell_type": "code",
   "execution_count": 32,
   "id": "cadc0e6d-abf6-4c9e-b888-ff51df95bbb7",
   "metadata": {},
   "outputs": [
    {
     "name": "stdout",
     "output_type": "stream",
     "text": [
      "we reject the null hypotheis\n",
      "There is a significant change in the mean scores\n"
     ]
    }
   ],
   "source": [
    "#Null Hypothesis : Means are equal\n",
    "#Alternative Hypothesis : Means are not equal\n",
    "from scipy.stats import f_oneway\n",
    "\n",
    "# Recovery times of patients for Medication A\n",
    "medication_a = [10, 12, 14, 11, 13]\n",
    "\n",
    "# Recovery times of patients for Medication B\n",
    "medication_b = [15, 17, 16, 14, 18]\n",
    "\n",
    "significant_value = 0.05\n",
    "# Perform the ANOVA\n",
    "f_value, p_value = f_oneway(medication_a, medication_b)\n",
    "\n",
    "# Print the results\n",
    "if p_value > significant_value:\n",
    "    print(\"we fail to reject the null hypothesis\")\n",
    "    print(\"There is no significant change in the mean scores\")\n",
    "else:\n",
    "    print(\"we reject the null hypotheis\")\n",
    "    print(\"There is a significant change in the mean scores\")"
   ]
  },
  {
   "cell_type": "markdown",
   "id": "4ed5ad83-ccba-408f-aafe-465bbaab68d9",
   "metadata": {},
   "source": [
    "# Qo 10"
   ]
  },
  {
   "cell_type": "markdown",
   "id": "5db9b93a-2614-496d-a7b5-a38453aae52f",
   "metadata": {},
   "source": [
    "Scenario: A company wants to analyze customer feedback ratings on a scale of 1 to 10. The data collected is as follows:\n",
    "* [8, 9, 7, 6, 8, 10, 9, 8, 7, 8]\n",
    "* Calculate the 75th percentile of the feedback ratings."
   ]
  },
  {
   "cell_type": "code",
   "execution_count": 33,
   "id": "842debb2-332d-4465-89e8-4dadcef13aba",
   "metadata": {},
   "outputs": [
    {
     "name": "stdout",
     "output_type": "stream",
     "text": [
      "75th percentile: 8.75\n"
     ]
    }
   ],
   "source": [
    "import numpy as np\n",
    "\n",
    "# Feedback ratings\n",
    "feedback_ratings = [8, 9, 7, 6, 8, 10, 9, 8, 7, 8]\n",
    "\n",
    "# Calculate the 75th percentile\n",
    "percentile_75 = np.percentile(feedback_ratings, 75)\n",
    "\n",
    "print(\"75th percentile:\", percentile_75)\n"
   ]
  },
  {
   "cell_type": "markdown",
   "id": "24066005-19e8-4eec-8405-f676a93029ca",
   "metadata": {},
   "source": [
    "# Qo 11"
   ]
  },
  {
   "cell_type": "markdown",
   "id": "ba739c5c-e8a7-4e77-86b0-6352f33b66f5",
   "metadata": {},
   "source": [
    "Scenario: A quality control department wants to test the weight consistency of a product. The weights of a sample of products are as follows:\n",
    "*    [10.2, 9.8, 10.0, 10.5, 10.3, 10.1]\n",
    "*    Perform a hypothesis test to determine if the mean weight differs significantly from 10 grams.\n"
   ]
  },
  {
   "cell_type": "code",
   "execution_count": 34,
   "id": "52970a91-87cd-4952-a846-910a71a360fe",
   "metadata": {},
   "outputs": [
    {
     "name": "stdout",
     "output_type": "stream",
     "text": [
      "T-statistic: 1.5126584522688367\n",
      "p-value: 0.19077595151110102\n"
     ]
    }
   ],
   "source": [
    "from scipy.stats import ttest_1samp\n",
    "\n",
    "# Product weights\n",
    "weights = [10.2, 9.8, 10.0, 10.5, 10.3, 10.1]\n",
    "\n",
    "# Perform the one-sample t-test\n",
    "t_statistic, p_value = ttest_1samp(weights, 10)\n",
    "\n",
    "# Print the results\n",
    "print(\"T-statistic:\", t_statistic)\n",
    "print(\"p-value:\", p_value)\n"
   ]
  },
  {
   "cell_type": "markdown",
   "id": "d49009db-4831-4146-849f-77cc6ca620d7",
   "metadata": {},
   "source": [
    "# Qo 12"
   ]
  },
  {
   "cell_type": "markdown",
   "id": "e918670b-506a-4841-b62f-160532a7479a",
   "metadata": {},
   "source": [
    "Scenario: A company wants to analyze the click-through rates of two different website designs. The number of clicks for each design is as follows:\n",
    "*    Design A: [100, 120, 110, 90, 95]\n",
    "*    Design B: [80, 85, 90, 95, 100]\n",
    "*    Perform a chi-square test to determine if there is a significant difference in the click-through rates between the two designs.\n"
   ]
  },
  {
   "cell_type": "code",
   "execution_count": 37,
   "id": "b37f0bdb-d005-41d1-8490-9cedf79b529b",
   "metadata": {},
   "outputs": [
    {
     "name": "stdout",
     "output_type": "stream",
     "text": [
      "Chi-square statistic: 6.110658166925435\n",
      "p-value: 0.19103526314060293\n"
     ]
    }
   ],
   "source": [
    "from scipy.stats import chi2_contingency\n",
    "\n",
    "# Click-through rates for Design A\n",
    "design_a = [100, 120, 110, 90, 95]\n",
    "\n",
    "# Click-through rates for Design B\n",
    "design_b = [80, 85, 90, 95, 100]\n",
    "\n",
    "# Perform the chi-square test\n",
    "chi2, p_value, _, _ = chi2_contingency([design_a, design_b])\n",
    "\n",
    "# Print the results\n",
    "print(\"Chi-square statistic:\", chi2)\n",
    "print(\"p-value:\", p_value)\n"
   ]
  },
  {
   "cell_type": "markdown",
   "id": "3f8d3502-f863-4348-adba-d6730fe15ee0",
   "metadata": {},
   "source": [
    "# Qo 13"
   ]
  },
  {
   "cell_type": "markdown",
   "id": "2df44b96-4687-4c3f-9b96-99fe94921299",
   "metadata": {},
   "source": [
    "Scenario: A survey is conducted to measure customer satisfaction with a product on a scale of 1 to 10. The data collected is as follows:\n",
    "*    [7, 9, 6, 8, 10, 7, 8, 9, 7, 8]\n",
    "*    Calculate the 95% confidence interval for the population mean satisfaction score.\n"
   ]
  },
  {
   "cell_type": "code",
   "execution_count": 38,
   "id": "fa755e6a-e329-440f-8b08-91a08d8b47d9",
   "metadata": {},
   "outputs": [
    {
     "name": "stdout",
     "output_type": "stream",
     "text": [
      "95% Confidence Interval: (7.043561120599888, 8.756438879400113)\n"
     ]
    }
   ],
   "source": [
    "from scipy import stats\n",
    "\n",
    "# Customer satisfaction scores\n",
    "satisfaction_scores = [7, 9, 6, 8, 10, 7, 8, 9, 7, 8]\n",
    "\n",
    "# Calculate the confidence interval\n",
    "confidence_interval = stats.t.interval(0.95, len(satisfaction_scores)-1, loc=np.mean(satisfaction_scores), scale=stats.sem(satisfaction_scores))\n",
    "\n",
    "print(\"95% Confidence Interval:\", confidence_interval)\n"
   ]
  },
  {
   "cell_type": "markdown",
   "id": "07dbf980-eac4-4c80-a27a-90877d7c7a76",
   "metadata": {},
   "source": [
    "# Qo 14"
   ]
  },
  {
   "cell_type": "markdown",
   "id": "9462d7fe-38c3-48ff-83d7-c2510de67593",
   "metadata": {},
   "source": [
    "Scenario: A company wants to analyze the effect of temperature on product performance. The data collected is as follows:\n",
    "*    Temperature (in degrees Celsius): [20, 22, 23, 19, 21]\n",
    "*    Performance (on a scale of 1 to 10): [8, 7, 9, 6, 8]\n",
    "*    Perform a simple linear regression to predict performance based on temperature.\n"
   ]
  },
  {
   "cell_type": "code",
   "execution_count": 39,
   "id": "6c927422-985b-4d00-9af2-9cd9de23a8a1",
   "metadata": {},
   "outputs": [
    {
     "name": "stdout",
     "output_type": "stream",
     "text": [
      "Slope: 0.4999999999999999\n",
      "Intercept: -2.8999999999999986\n",
      "Predicted Performance: 9.099999999999998\n"
     ]
    }
   ],
   "source": [
    "from sklearn.linear_model import LinearRegression\n",
    "import numpy as np\n",
    "\n",
    "# Temperature (in degrees Celsius)\n",
    "temperature = np.array([20, 22, 23, 19, 21]).reshape(-1, 1)\n",
    "\n",
    "# Performance (on a scale of 1 to 10)\n",
    "performance = np.array([8, 7, 9, 6, 8])\n",
    "\n",
    "# Create a linear regression model\n",
    "model = LinearRegression()\n",
    "\n",
    "# Fit the model using the temperature and performance data\n",
    "model.fit(temperature, performance)\n",
    "\n",
    "# Predict performance for a given temperature\n",
    "new_temperature = np.array([[24]])  # Example: predicting performance for a temperature of 24 degrees Celsius\n",
    "predicted_performance = model.predict(new_temperature)\n",
    "\n",
    "# Print the coefficient (slope) and intercept\n",
    "slope = model.coef_[0]\n",
    "intercept = model.intercept_\n",
    "print(\"Slope:\", slope)\n",
    "print(\"Intercept:\", intercept)\n",
    "\n",
    "# Print the predicted performance\n",
    "print(\"Predicted Performance:\", predicted_performance[0])\n"
   ]
  },
  {
   "cell_type": "markdown",
   "id": "980630cb-f723-44e7-b02b-4b4b2ed5c70b",
   "metadata": {},
   "source": [
    "# Qo 15"
   ]
  },
  {
   "cell_type": "markdown",
   "id": "ec7d69fc-0925-4924-9f07-e6904dfada1f",
   "metadata": {},
   "source": [
    "Scenario: A study is conducted to compare the preferences of two groups of participants. The preferences are measured on a Likert scale from 1 to 5. The data collected is as follows:\n",
    "* Group A: [4, 3, 5, 2, 4]\n",
    "* Group B: [3, 2, 4, 3, 3]\n",
    "* Perform a Mann-Whitney U test to determine if there is a significant difference in the median preferences between the two groups"
   ]
  },
  {
   "cell_type": "code",
   "execution_count": 41,
   "id": "76683249-8115-464c-89a1-69700fd633a7",
   "metadata": {},
   "outputs": [
    {
     "name": "stdout",
     "output_type": "stream",
     "text": [
      "Mann-Whitney U statistic: 17.0\n",
      "p-value: 0.380836480306712\n"
     ]
    }
   ],
   "source": [
    "from scipy.stats import mannwhitneyu\n",
    "\n",
    "# Preferences for Group A\n",
    "group_a = [4, 3, 5, 2, 4]\n",
    "\n",
    "# Preferences for Group B\n",
    "group_b = [3, 2, 4, 3, 3]\n",
    "\n",
    "# Perform the Mann-Whitney U test\n",
    "statistic, p_value = mannwhitneyu(group_a, group_b)\n",
    "\n",
    "# Print the results\n",
    "print(\"Mann-Whitney U statistic:\", statistic)\n",
    "print(\"p-value:\", p_value)\n"
   ]
  },
  {
   "cell_type": "markdown",
   "id": "8c15db0b-ecc7-4c41-97f0-7dbc8b14f642",
   "metadata": {},
   "source": [
    "# Qo 16"
   ]
  },
  {
   "cell_type": "markdown",
   "id": "38d9a66c-5221-404d-b676-2e3f8926a782",
   "metadata": {},
   "source": [
    "Scenario: A company wants to analyze the distribution of customer ages. The data collected is as follows:\n",
    "* [25, 30, 35, 40, 45, 50, 55, 60, 65, 70]\n",
    "* Calculate the interquartile range (IQR) of the ages."
   ]
  },
  {
   "cell_type": "code",
   "execution_count": 42,
   "id": "28a82c77-9601-493f-aff1-cf4ef5194ccd",
   "metadata": {},
   "outputs": [
    {
     "name": "stdout",
     "output_type": "stream",
     "text": [
      "Interquartile Range (IQR): 22.5\n"
     ]
    }
   ],
   "source": [
    "import numpy as np\n",
    "\n",
    "# Customer ages\n",
    "ages = [25, 30, 35, 40, 45, 50, 55, 60, 65, 70]\n",
    "\n",
    "# Calculate the interquartile range (IQR)\n",
    "iqr = np.percentile(ages, 75) - np.percentile(ages, 25)\n",
    "\n",
    "print(\"Interquartile Range (IQR):\", iqr)\n"
   ]
  },
  {
   "cell_type": "markdown",
   "id": "e29f4152-374d-4ba9-899d-7dc3545c6a46",
   "metadata": {},
   "source": [
    "# Qo 17"
   ]
  },
  {
   "cell_type": "markdown",
   "id": "18883ff3-d323-4e01-8aa7-5370ede75e17",
   "metadata": {},
   "source": [
    "Scenario: A study is conducted to compare the performance of three different machine learning algorithms. The accuracy scores for each algorithm are as follows:\n",
    "* Algorithm A: [0.85, 0.80, 0.82, 0.87, 0.83]\n",
    "* Algorithm B: [0.78, 0.82, 0.84, 0.80, 0.79]\n",
    "* Algorithm C: [0.90, 0.88, 0.89, 0.86, 0.87]\n",
    "Perform a Kruskal-Wallis test to determine if there is a significant * difference in the median accuracy scores between the algorithms."
   ]
  },
  {
   "cell_type": "code",
   "execution_count": 43,
   "id": "d31594ac-999f-4faf-91e9-727a5666b8b6",
   "metadata": {},
   "outputs": [
    {
     "name": "stdout",
     "output_type": "stream",
     "text": [
      "Kruskal-Wallis statistic: 9.696947935368053\n",
      "p-value: 0.007840333026249539\n"
     ]
    }
   ],
   "source": [
    "from scipy.stats import kruskal\n",
    "\n",
    "# Accuracy scores for Algorithm A\n",
    "algorithm_a = [0.85, 0.80, 0.82, 0.87, 0.83]\n",
    "\n",
    "# Accuracy scores for Algorithm B\n",
    "algorithm_b = [0.78, 0.82, 0.84, 0.80, 0.79]\n",
    "\n",
    "# Accuracy scores for Algorithm C\n",
    "algorithm_c = [0.90, 0.88, 0.89, 0.86, 0.87]\n",
    "\n",
    "# Perform the Kruskal-Wallis test\n",
    "statistic, p_value = kruskal(algorithm_a, algorithm_b, algorithm_c)\n",
    "\n",
    "# Print the results\n",
    "print(\"Kruskal-Wallis statistic:\", statistic)\n",
    "print(\"p-value:\", p_value)\n"
   ]
  },
  {
   "cell_type": "markdown",
   "id": "aa3e138d-030c-4f3a-9e9a-f3aa0fb54a2e",
   "metadata": {},
   "source": [
    "# Qo 18"
   ]
  },
  {
   "cell_type": "markdown",
   "id": "aa7bc2d3-c765-4dea-8613-ab3e14b76995",
   "metadata": {},
   "source": [
    "Scenario: A company wants to analyze the effect of price on sales. The data collected is as follows:\n",
    "* Price (in dollars): [10, 15, 12, 8, 14]\n",
    "* Sales: [100, 80, 90, 110, 95]\n",
    "Perform a simple linear regression to predict sales based on price."
   ]
  },
  {
   "cell_type": "code",
   "execution_count": 44,
   "id": "905e8fb2-57e9-4454-9b08-eb07defb4e95",
   "metadata": {},
   "outputs": [
    {
     "name": "stdout",
     "output_type": "stream",
     "text": [
      "Slope: -3.5060975609756095\n",
      "Intercept: 136.3719512195122\n",
      "Predicted Sales: 90.79268292682927\n"
     ]
    }
   ],
   "source": [
    "from sklearn.linear_model import LinearRegression\n",
    "import numpy as np\n",
    "\n",
    "# Price (in dollars)\n",
    "price = np.array([10, 15, 12, 8, 14]).reshape(-1, 1)\n",
    "\n",
    "# Sales\n",
    "sales = np.array([100, 80, 90, 110, 95])\n",
    "\n",
    "# Create a linear regression model\n",
    "model = LinearRegression()\n",
    "\n",
    "# Fit the model using the price and sales data\n",
    "model.fit(price, sales)\n",
    "\n",
    "# Predict sales for a given price\n",
    "new_price = np.array([[13]])  # Example: predicting sales for a price of 13 dollars\n",
    "predicted_sales = model.predict(new_price)\n",
    "\n",
    "# Print the coefficient (slope) and intercept\n",
    "slope = model.coef_[0]\n",
    "intercept = model.intercept_\n",
    "print(\"Slope:\", slope)\n",
    "print(\"Intercept:\", intercept)\n",
    "\n",
    "# Print the predicted sales\n",
    "print(\"Predicted Sales:\", predicted_sales[0])\n"
   ]
  },
  {
   "cell_type": "markdown",
   "id": "2c0d295e-1cea-427a-be1a-ab9b12253175",
   "metadata": {},
   "source": [
    "# Qo 19"
   ]
  },
  {
   "cell_type": "markdown",
   "id": "7fd60cba-81ae-4838-9fce-a0467eb5d995",
   "metadata": {},
   "source": [
    "Scenario: A survey is conducted to measure the satisfaction levels of customers with a new product. The data collected is as follows:\n",
    "    [7, 8, 9, 6, 8, 7, 9, 7, 8, 7]\n",
    "    Calculate the standard error of the mean satisfaction score.\n"
   ]
  },
  {
   "cell_type": "code",
   "execution_count": 45,
   "id": "f66ae286-6b74-4686-a380-89d6b94a6798",
   "metadata": {},
   "outputs": [
    {
     "name": "stdout",
     "output_type": "stream",
     "text": [
      "Standard Error of the Mean: 0.30550504633038933\n"
     ]
    }
   ],
   "source": [
    "from scipy.stats import sem\n",
    "\n",
    "# Satisfaction scores\n",
    "satisfaction_scores = [7, 8, 9, 6, 8, 7, 9, 7, 8, 7]\n",
    "\n",
    "# Calculate the standard error of the mean\n",
    "standard_error = sem(satisfaction_scores)\n",
    "\n",
    "print(\"Standard Error of the Mean:\", standard_error)\n"
   ]
  },
  {
   "cell_type": "markdown",
   "id": "a4536f57-cb92-464e-ba62-04c5f1567602",
   "metadata": {},
   "source": [
    "# Qo 20"
   ]
  },
  {
   "cell_type": "markdown",
   "id": "cefd3f6d-3d7a-4974-bc16-989f4ecf567c",
   "metadata": {},
   "source": [
    " Scenario: A company wants to analyze the relationship between advertising expenditure and sales. The data collected is as follows:\n",
    "*    Advertising Expenditure (in thousands): [10, 15, 12, 8, 14]\n",
    "*    Sales (in thousands): [25, 30, 28, 20, 26]\n",
    "*    Perform a multiple regression analysis to predict sales based on advertising expenditure.\n"
   ]
  },
  {
   "cell_type": "code",
   "execution_count": 46,
   "id": "0cb1eae5-c963-42d7-91f5-2ef12c00e8a3",
   "metadata": {},
   "outputs": [
    {
     "name": "stdout",
     "output_type": "stream",
     "text": [
      "Slope: 1.152439024390244\n",
      "Intercept: 12.20121951219512\n",
      "Predicted Sales for Advertising Expenditure of 13 thousand dollars: 27.182926829268293\n",
      "Predicted Sales for Advertising Expenditure of 17 thousand dollars: 31.79268292682927\n"
     ]
    }
   ],
   "source": [
    "from sklearn.linear_model import LinearRegression\n",
    "import numpy as np\n",
    "\n",
    "# Advertising Expenditure (in thousands)\n",
    "advertising_expenditure = np.array([10, 15, 12, 8, 14]).reshape(-1, 1)\n",
    "\n",
    "# Sales (in thousands)\n",
    "sales = np.array([25, 30, 28, 20, 26])\n",
    "\n",
    "# Create a linear regression model\n",
    "model = LinearRegression()\n",
    "\n",
    "# Fit the model using the advertising expenditure and sales data\n",
    "model.fit(advertising_expenditure, sales)\n",
    "\n",
    "# Predict sales for new advertising expenditure values\n",
    "new_advertising_expenditure = np.array([[13], [17]])  # Example: predicting sales for advertising expenditure of 13 and 17 thousand dollars\n",
    "predicted_sales = model.predict(new_advertising_expenditure)\n",
    "\n",
    "# Print the coefficients (slope) and intercept\n",
    "slope = model.coef_[0]\n",
    "intercept = model.intercept_\n",
    "print(\"Slope:\", slope)\n",
    "print(\"Intercept:\", intercept)\n",
    "\n",
    "# Print the predicted sales\n",
    "for i in range(len(new_advertising_expenditure)):\n",
    "    print(\"Predicted Sales for Advertising Expenditure of\", new_advertising_expenditure[i][0], \"thousand dollars:\", predicted_sales[i])\n"
   ]
  },
  {
   "cell_type": "code",
   "execution_count": null,
   "id": "4e75e84e-cbbb-4275-a52d-8ec28670556d",
   "metadata": {},
   "outputs": [],
   "source": []
  }
 ],
 "metadata": {
  "kernelspec": {
   "display_name": "Python 3 (ipykernel)",
   "language": "python",
   "name": "python3"
  },
  "language_info": {
   "codemirror_mode": {
    "name": "ipython",
    "version": 3
   },
   "file_extension": ".py",
   "mimetype": "text/x-python",
   "name": "python",
   "nbconvert_exporter": "python",
   "pygments_lexer": "ipython3",
   "version": "3.10.8"
  }
 },
 "nbformat": 4,
 "nbformat_minor": 5
}
