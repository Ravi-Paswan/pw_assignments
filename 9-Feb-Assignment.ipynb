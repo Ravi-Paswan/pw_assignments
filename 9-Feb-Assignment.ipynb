{
 "cells": [
  {
   "cell_type": "markdown",
   "id": "c61f6c46-0f80-489a-a868-e814bdf95e11",
   "metadata": {},
   "source": [
    "# Question 1"
   ]
  },
  {
   "cell_type": "code",
   "execution_count": 2,
   "id": "b8aad210-eb11-44c7-aa80-c85e26b7b472",
   "metadata": {},
   "outputs": [],
   "source": [
    "class Vehicle:\n",
    "    def __init__(self,name,speed,average):\n",
    "        self.name_of_vehicle = name\n",
    "        self.max_speed = speed\n",
    "        self.average_of_vehicle = average\n",
    "    "
   ]
  },
  {
   "cell_type": "code",
   "execution_count": 4,
   "id": "a5371dc9-4b50-4fd0-8511-f1e60f277987",
   "metadata": {},
   "outputs": [],
   "source": [
    "vehicle_obj = Vehicle(\"omni\",110,70)\n"
   ]
  },
  {
   "cell_type": "code",
   "execution_count": 5,
   "id": "a3fb1955-0d90-4280-8e0a-1f207677ede1",
   "metadata": {},
   "outputs": [
    {
     "data": {
      "text/plain": [
       "70"
      ]
     },
     "execution_count": 5,
     "metadata": {},
     "output_type": "execute_result"
    }
   ],
   "source": [
    "vehicle_obj.average_of_vehicle"
   ]
  },
  {
   "cell_type": "code",
   "execution_count": 6,
   "id": "379c6e7f-20fa-4709-9d5f-26223b2d2ce7",
   "metadata": {},
   "outputs": [
    {
     "data": {
      "text/plain": [
       "110"
      ]
     },
     "execution_count": 6,
     "metadata": {},
     "output_type": "execute_result"
    }
   ],
   "source": [
    "vehicle_obj.max_speed"
   ]
  },
  {
   "cell_type": "code",
   "execution_count": 7,
   "id": "f8ec669d-64d4-4d24-b15d-abc3d17ffb93",
   "metadata": {},
   "outputs": [
    {
     "data": {
      "text/plain": [
       "'omni'"
      ]
     },
     "execution_count": 7,
     "metadata": {},
     "output_type": "execute_result"
    }
   ],
   "source": [
    "vehicle_obj.name_of_vehicle"
   ]
  },
  {
   "cell_type": "markdown",
   "id": "64508f0a-4361-477d-9a81-e5fcdf64eccb",
   "metadata": {},
   "source": [
    "# Question 2"
   ]
  },
  {
   "cell_type": "code",
   "execution_count": 10,
   "id": "c196c53c-3935-4b5d-8c6c-e7082c3c76e4",
   "metadata": {},
   "outputs": [],
   "source": [
    "class Car(Vehicle):\n",
    "    def seating_capacity(self,capacity):\n",
    "        return [capacity,self.name_of_vehicle]\n",
    "        "
   ]
  },
  {
   "cell_type": "code",
   "execution_count": 12,
   "id": "3555225e-d683-4c3a-8976-6ea944033d79",
   "metadata": {},
   "outputs": [],
   "source": [
    "car_obj = Car(\"omni\",110,70)"
   ]
  },
  {
   "cell_type": "code",
   "execution_count": 13,
   "id": "b0f71509-4ef9-46be-ac31-ef72432a1bd5",
   "metadata": {},
   "outputs": [
    {
     "data": {
      "text/plain": [
       "[4, 'omni']"
      ]
     },
     "execution_count": 13,
     "metadata": {},
     "output_type": "execute_result"
    }
   ],
   "source": [
    "car_obj.seating_capacity(4)"
   ]
  },
  {
   "cell_type": "markdown",
   "id": "6d86d84f-9779-4701-8cc3-be89e43eeabd",
   "metadata": {},
   "source": [
    "# Question 3"
   ]
  },
  {
   "cell_type": "markdown",
   "id": "ca10602a-1863-4bf5-a07d-dfe6ad6e1821",
   "metadata": {},
   "source": [
    "Multiple inheritance is a feature of object-oriented programming languages that allows a class to inherit from more than one base class. This means that a derived class can inherit properties and methods from multiple parent classes.\n",
    "\n",
    "Here is an example code in Python that demonstrates multiple inheritance:"
   ]
  },
  {
   "cell_type": "code",
   "execution_count": 14,
   "id": "8883af10-99dc-4204-9c8b-e4c3d91f3465",
   "metadata": {},
   "outputs": [
    {
     "name": "stdout",
     "output_type": "stream",
     "text": [
      "Method A\n",
      "Method B\n",
      "Method C\n"
     ]
    }
   ],
   "source": [
    "class A:\n",
    "    def method_a(self):\n",
    "        print(\"Method A\")\n",
    "        \n",
    "class B:\n",
    "    def method_b(self):\n",
    "        print(\"Method B\")\n",
    "        \n",
    "class C(A, B):\n",
    "    def method_c(self):\n",
    "        print(\"Method C\")\n",
    "        \n",
    "obj = C()\n",
    "obj.method_a() # Method A\n",
    "obj.method_b() # Method B\n",
    "obj.method_c() # Method C\n"
   ]
  },
  {
   "cell_type": "markdown",
   "id": "79c6fbee-4214-4532-bc32-598a0c095243",
   "metadata": {},
   "source": [
    "In this example, we have three classes: A, B, and C. A and B are base classes that define some methods, while C is a derived class that inherits from both A and B. This allows the C class to use methods from both A and B.\n",
    "\n",
    "We create an object obj of the C class, and we can see that it can call all the methods from A, B, and C classes."
   ]
  },
  {
   "cell_type": "markdown",
   "id": "976580bc-de36-4dbb-b8a8-c287da858a1c",
   "metadata": {},
   "source": [
    "# Question 4"
   ]
  },
  {
   "cell_type": "markdown",
   "id": "7aba84a1-a8d6-4441-8a18-ecb7a8f7fc3f",
   "metadata": {},
   "source": [
    "In Python, getters and setters are methods that allow us to retrieve and modify the values of private attributes of a class respectively. In Python, we usually use the @property decorator to define getters and setters.\n",
    "\n",
    "Here is an example code in Python that demonstrates a getter and a setter:"
   ]
  },
  {
   "cell_type": "code",
   "execution_count": 16,
   "id": "7ea0d0b2-13a0-4e37-a495-bc180a3e27cc",
   "metadata": {},
   "outputs": [
    {
     "name": "stdout",
     "output_type": "stream",
     "text": [
      "John\n",
      "Mike\n"
     ]
    }
   ],
   "source": [
    "class Person:\n",
    "    def __init__(self, name):\n",
    "        self.__name = name  # private attribute with double underscores\n",
    "    \n",
    "    # Getter method\n",
    "    @property\n",
    "    def name(self):\n",
    "        return self.__name\n",
    "    \n",
    "    # Setter method\n",
    "    @name.setter\n",
    "    def name(self, value):\n",
    "        self.__name = value\n",
    "\n",
    "# Creating an object of the Person class\n",
    "person = Person(\"John\")\n",
    "\n",
    "# Using the getter method to get the name attribute\n",
    "print(person.name)  # Output: John\n",
    "\n",
    "# Using the setter method to set the name attribute\n",
    "person.name = \"Mike\"\n",
    "\n",
    "# Using the getter method again to get the updated name attribute\n",
    "print(person.name)  # Output: Mike\n"
   ]
  },
  {
   "cell_type": "markdown",
   "id": "2f484bb6-05da-440a-a828-b4b99bea68e0",
   "metadata": {},
   "source": [
    "In this example, we define a Person class with a private attribute __name. We use the @property decorator to define a getter method name, which returns the value of the __name attribute, and a setter method name which allows us to set the value of the __name attribute.\n",
    "\n",
    "We create an object person of the Person class, and we can see that we can use the getter method name to retrieve the value of the private attribute __name. We can also use the setter method name to modify the value of the private attribute __name. We then use the getter method again to retrieve the updated value of the __name attribute."
   ]
  },
  {
   "cell_type": "markdown",
   "id": "943ee651-cf50-4b74-b117-0975259d369f",
   "metadata": {},
   "source": [
    "# Question 05"
   ]
  },
  {
   "cell_type": "markdown",
   "id": "910f2a59-6aac-490d-9652-852a538a317b",
   "metadata": {},
   "source": [
    "Method overriding is a feature of object-oriented programming languages that allows a subclass to provide its own implementation of a method that is already defined in its parent class. When a method in a subclass has the same name and parameters as a method in its parent class, the subclass method will override the parent class method.\n",
    "\n",
    "Here is an example code in Python that demonstrates method overriding:"
   ]
  },
  {
   "cell_type": "code",
   "execution_count": 17,
   "id": "51a07c29-d727-41c3-bcaa-e10beb5d304d",
   "metadata": {},
   "outputs": [
    {
     "name": "stdout",
     "output_type": "stream",
     "text": [
      "Bark\n",
      "Meow\n"
     ]
    }
   ],
   "source": [
    "class Animal:\n",
    "    def make_sound(self):\n",
    "        print(\"Generic animal sound\")\n",
    "        \n",
    "class Dog(Animal):\n",
    "    def make_sound(self):\n",
    "        print(\"Bark\")\n",
    "        \n",
    "class Cat(Animal):\n",
    "    def make_sound(self):\n",
    "        print(\"Meow\")\n",
    "        \n",
    "# Creating objects of the Dog and Cat classes\n",
    "dog = Dog()\n",
    "cat = Cat()\n",
    "\n",
    "# Calling the make_sound method for each object\n",
    "dog.make_sound()  # Output: Bark\n",
    "cat.make_sound()  # Output: Meow\n"
   ]
  },
  {
   "cell_type": "markdown",
   "id": "0739b58a-1cd2-4fa4-a660-4fd67aab33da",
   "metadata": {},
   "source": [
    "In this example, we define a base class Animal with a make_sound method. We then define two subclasses, Dog and Cat, both of which inherit from the Animal class. Each subclass provides its own implementation of the make_sound method, which overrides the implementation in the Animal class.\n",
    "\n",
    "We create objects of the Dog and Cat classes, and we can see that when we call the make_sound method for each object, the appropriate implementation of the method is called based on the type of the object. The Dog object calls the make_sound method from the Dog class, which outputs \"Bark\", while the Cat object calls the make_sound method from the Cat class, which outputs \"Meow\". This is an example of method overriding in Python."
   ]
  },
  {
   "cell_type": "code",
   "execution_count": null,
   "id": "ac6edfdd-0f0d-43f6-8bef-7eae89762e47",
   "metadata": {},
   "outputs": [],
   "source": []
  }
 ],
 "metadata": {
  "kernelspec": {
   "display_name": "Python 3 (ipykernel)",
   "language": "python",
   "name": "python3"
  },
  "language_info": {
   "codemirror_mode": {
    "name": "ipython",
    "version": 3
   },
   "file_extension": ".py",
   "mimetype": "text/x-python",
   "name": "python",
   "nbconvert_exporter": "python",
   "pygments_lexer": "ipython3",
   "version": "3.10.8"
  }
 },
 "nbformat": 4,
 "nbformat_minor": 5
}
